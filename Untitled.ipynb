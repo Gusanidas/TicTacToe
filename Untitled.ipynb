{
 "cells": [
  {
   "cell_type": "code",
   "execution_count": 1,
   "id": "5d72e6ff",
   "metadata": {},
   "outputs": [
    {
     "ename": "NameError",
     "evalue": "name 'MinimaxPlayer' is not defined",
     "output_type": "error",
     "traceback": [
      "\u001b[0;31m---------------------------------------------------------------------------\u001b[0m",
      "\u001b[0;31mNameError\u001b[0m                                 Traceback (most recent call last)",
      "\u001b[0;32m<ipython-input-1-6ebd1bf142bd>\u001b[0m in \u001b[0;36m<module>\u001b[0;34m\u001b[0m\n\u001b[1;32m      1\u001b[0m \u001b[0;32mfrom\u001b[0m \u001b[0mboard\u001b[0m \u001b[0;32mimport\u001b[0m \u001b[0mBoard\u001b[0m\u001b[0;34m\u001b[0m\u001b[0;34m\u001b[0m\u001b[0m\n\u001b[0;32m----> 2\u001b[0;31m \u001b[0;32mfrom\u001b[0m \u001b[0mgame\u001b[0m \u001b[0;32mimport\u001b[0m \u001b[0mGame\u001b[0m\u001b[0;34m\u001b[0m\u001b[0;34m\u001b[0m\u001b[0m\n\u001b[0m\u001b[1;32m      3\u001b[0m \u001b[0;32mfrom\u001b[0m \u001b[0mplayers\u001b[0m \u001b[0;32mimport\u001b[0m \u001b[0mHumanPlayer\u001b[0m\u001b[0;34m,\u001b[0m \u001b[0mRandomPlayer\u001b[0m\u001b[0;34m,\u001b[0m \u001b[0mMinMaxPlayer\u001b[0m\u001b[0;34m\u001b[0m\u001b[0;34m\u001b[0m\u001b[0m\n",
      "\u001b[0;32m~/Documents/TicTacToe/game.py\u001b[0m in \u001b[0;36m<module>\u001b[0;34m\u001b[0m\n\u001b[1;32m      1\u001b[0m \u001b[0;32mfrom\u001b[0m \u001b[0mboard\u001b[0m \u001b[0;32mimport\u001b[0m \u001b[0mBoard\u001b[0m\u001b[0;34m\u001b[0m\u001b[0;34m\u001b[0m\u001b[0m\n\u001b[0;32m----> 2\u001b[0;31m \u001b[0;32mfrom\u001b[0m \u001b[0mplayers\u001b[0m \u001b[0;32mimport\u001b[0m \u001b[0mPlayer\u001b[0m\u001b[0;34m\u001b[0m\u001b[0;34m\u001b[0m\u001b[0m\n\u001b[0m\u001b[1;32m      3\u001b[0m \u001b[0;34m\u001b[0m\u001b[0m\n\u001b[1;32m      4\u001b[0m \u001b[0;32mclass\u001b[0m \u001b[0mGame\u001b[0m\u001b[0;34m:\u001b[0m\u001b[0;34m\u001b[0m\u001b[0;34m\u001b[0m\u001b[0m\n\u001b[1;32m      5\u001b[0m \u001b[0;34m\u001b[0m\u001b[0m\n",
      "\u001b[0;32m~/Documents/TicTacToe/players.py\u001b[0m in \u001b[0;36m<module>\u001b[0;34m\u001b[0m\n\u001b[1;32m     47\u001b[0m \u001b[0;34m\u001b[0m\u001b[0m\n\u001b[1;32m     48\u001b[0m \u001b[0;34m\u001b[0m\u001b[0m\n\u001b[0;32m---> 49\u001b[0;31m \u001b[0;32mclass\u001b[0m \u001b[0mMinimaxPlayer\u001b[0m\u001b[0;34m(\u001b[0m\u001b[0mPlayer\u001b[0m\u001b[0;34m)\u001b[0m\u001b[0;34m:\u001b[0m\u001b[0;34m\u001b[0m\u001b[0;34m\u001b[0m\u001b[0m\n\u001b[0m\u001b[1;32m     50\u001b[0m \u001b[0;34m\u001b[0m\u001b[0m\n\u001b[1;32m     51\u001b[0m     \u001b[0;32mclass\u001b[0m \u001b[0mPhase\u001b[0m\u001b[0;34m(\u001b[0m\u001b[0mEnum\u001b[0m\u001b[0;34m)\u001b[0m\u001b[0;34m:\u001b[0m\u001b[0;34m\u001b[0m\u001b[0;34m\u001b[0m\u001b[0m\n",
      "\u001b[0;32m~/Documents/TicTacToe/players.py\u001b[0m in \u001b[0;36mMinimaxPlayer\u001b[0;34m()\u001b[0m\n\u001b[1;32m     74\u001b[0m \u001b[0;34m\u001b[0m\u001b[0m\n\u001b[1;32m     75\u001b[0m \u001b[0;34m\u001b[0m\u001b[0m\n\u001b[0;32m---> 76\u001b[0;31m     \u001b[0;32mdef\u001b[0m \u001b[0m_rate_move\u001b[0m\u001b[0;34m(\u001b[0m\u001b[0mself\u001b[0m\u001b[0;34m,\u001b[0m \u001b[0mboard\u001b[0m\u001b[0;34m:\u001b[0m \u001b[0mlist\u001b[0m\u001b[0;34m[\u001b[0m\u001b[0mstr\u001b[0m\u001b[0;34m]\u001b[0m\u001b[0;34m,\u001b[0m \u001b[0mprune\u001b[0m\u001b[0;34m:\u001b[0m \u001b[0mint\u001b[0m\u001b[0;34m,\u001b[0m \u001b[0mdepth\u001b[0m\u001b[0;34m:\u001b[0m \u001b[0mint\u001b[0m\u001b[0;34m,\u001b[0m \u001b[0mphase\u001b[0m\u001b[0;34m:\u001b[0m \u001b[0mMinimaxPlayer\u001b[0m\u001b[0;34m.\u001b[0m\u001b[0mPhase\u001b[0m\u001b[0;34m)\u001b[0m \u001b[0;34m->\u001b[0m \u001b[0mtuple\u001b[0m\u001b[0;34m[\u001b[0m\u001b[0mint\u001b[0m\u001b[0;34m,\u001b[0m \u001b[0mint\u001b[0m\u001b[0;34m]\u001b[0m\u001b[0;34m:\u001b[0m\u001b[0;34m\u001b[0m\u001b[0;34m\u001b[0m\u001b[0m\n\u001b[0m\u001b[1;32m     77\u001b[0m         \u001b[0;32mif\u001b[0m \u001b[0mself\u001b[0m\u001b[0;34m.\u001b[0m\u001b[0m_is_victory\u001b[0m\u001b[0;34m(\u001b[0m\u001b[0mboard\u001b[0m\u001b[0;34m,\u001b[0m \u001b[0mself\u001b[0m\u001b[0;34m.\u001b[0m\u001b[0msymbol\u001b[0m\u001b[0;34m)\u001b[0m\u001b[0;34m:\u001b[0m\u001b[0;34m\u001b[0m\u001b[0;34m\u001b[0m\u001b[0m\n\u001b[1;32m     78\u001b[0m             \u001b[0;32mreturn\u001b[0m \u001b[0;36m10000\u001b[0m\u001b[0;34m,\u001b[0m \u001b[0;32mNone\u001b[0m\u001b[0;34m\u001b[0m\u001b[0;34m\u001b[0m\u001b[0m\n",
      "\u001b[0;31mNameError\u001b[0m: name 'MinimaxPlayer' is not defined"
     ]
    }
   ],
   "source": [
    "from board import Board\n",
    "from game import Game\n",
    "from players import HumanPlayer, RandomPlayer, MinMaxPlayer"
   ]
  },
  {
   "cell_type": "code",
   "execution_count": null,
   "id": "af77760a",
   "metadata": {},
   "outputs": [],
   "source": [
    "b = Board()"
   ]
  },
  {
   "cell_type": "code",
   "execution_count": null,
   "id": "698842d4",
   "metadata": {},
   "outputs": [],
   "source": [
    "b.print_board(print_positions = True)"
   ]
  },
  {
   "cell_type": "code",
   "execution_count": null,
   "id": "9a119526",
   "metadata": {},
   "outputs": [],
   "source": [
    "b.move(\"O\", 1)\n",
    "b.move(\"X\", 0)\n",
    "b.move(\"O\", 4)\n",
    "b.move(\"X\", 7)\n",
    "b.print_board()"
   ]
  },
  {
   "cell_type": "code",
   "execution_count": null,
   "id": "98edd268",
   "metadata": {
    "scrolled": true
   },
   "outputs": [],
   "source": []
  },
  {
   "cell_type": "code",
   "execution_count": null,
   "id": "3af08fa4",
   "metadata": {},
   "outputs": [],
   "source": [
    "def gamehuman():\n",
    "    game = Game(HumanPlayer(\"X\"), HumanPlayer(\"O\"))\n",
    "    game.start()\n",
    "    \n",
    "def gamerandom():\n",
    "    game = Game(HumanPlayer(\"X\"), RandomPlayer(\"O\"))\n",
    "    game.start()\n",
    "    \n",
    "def gamerandom():\n",
    "    game = Game(MinMaxPlayer(\"O\", \"X\", max_depth = 1), HumanPlayer(\"X\"))\n",
    "    game.start()"
   ]
  },
  {
   "cell_type": "code",
   "execution_count": null,
   "id": "1b1fb567",
   "metadata": {},
   "outputs": [],
   "source": [
    "gamerandom()"
   ]
  },
  {
   "cell_type": "code",
   "execution_count": null,
   "id": "2210654d",
   "metadata": {},
   "outputs": [],
   "source": [
    "p = MinMaxPlayer(\"O\", \"X\", max_depth = 6)"
   ]
  },
  {
   "cell_type": "code",
   "execution_count": null,
   "id": "13773ea2",
   "metadata": {},
   "outputs": [],
   "source": [
    "board = ['X','O', 'X', 'O', 'O', 'X', ' ', 'X', ' ']\n",
    "p._rate_move(board, float(\"Inf\"), 0, MinMaxPlayer.Phase.MAX)"
   ]
  },
  {
   "cell_type": "code",
   "execution_count": null,
   "id": "491cdb99",
   "metadata": {},
   "outputs": [],
   "source": [
    " board = ['X', 'O', 'X', 'O', 'O', 'X', ' ', 'X', 'O']\n",
    "p._rate_move(board, -10000, 0, MinMaxPlayer.Phase.MIN)"
   ]
  },
  {
   "cell_type": "code",
   "execution_count": null,
   "id": "86f5abdc",
   "metadata": {},
   "outputs": [],
   "source": []
  },
  {
   "cell_type": "code",
   "execution_count": null,
   "id": "28d31813",
   "metadata": {},
   "outputs": [],
   "source": []
  }
 ],
 "metadata": {
  "kernelspec": {
   "display_name": "Python 3",
   "language": "python",
   "name": "python3"
  },
  "language_info": {
   "codemirror_mode": {
    "name": "ipython",
    "version": 3
   },
   "file_extension": ".py",
   "mimetype": "text/x-python",
   "name": "python",
   "nbconvert_exporter": "python",
   "pygments_lexer": "ipython3",
   "version": "3.9.1"
  }
 },
 "nbformat": 4,
 "nbformat_minor": 5
}
