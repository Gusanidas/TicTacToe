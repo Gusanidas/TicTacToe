{
 "cells": [
  {
   "cell_type": "code",
   "execution_count": 1,
   "id": "8f1b280c",
   "metadata": {},
   "outputs": [],
   "source": [
    "from board import Board\n",
    "from game import Game\n",
    "from players import HumanPlayer, RandomPlayer, MinMaxPlayer"
   ]
  },
  {
   "cell_type": "code",
   "execution_count": 2,
   "id": "af77760a",
   "metadata": {},
   "outputs": [],
   "source": [
    "b = Board()"
   ]
  },
  {
   "cell_type": "code",
   "execution_count": 3,
   "id": "698842d4",
   "metadata": {},
   "outputs": [
    {
     "name": "stdout",
     "output_type": "stream",
     "text": [
      "*************\n",
      "* 1 | 2 | 3 *\n",
      "*-----------*\n",
      "* 4 | 5 | 6 *\n",
      "*-----------*\n",
      "* 7 | 8 | 9 *\n",
      "*************\n"
     ]
    }
   ],
   "source": [
    "b.print_board(print_positions = True)"
   ]
  },
  {
   "cell_type": "code",
   "execution_count": 4,
   "id": "9a119526",
   "metadata": {},
   "outputs": [
    {
     "name": "stdout",
     "output_type": "stream",
     "text": [
      "*************\n",
      "* X | O |   *\n",
      "*-----------*\n",
      "*   | O |   *\n",
      "*-----------*\n",
      "*   | X |   *\n",
      "*************\n"
     ]
    }
   ],
   "source": [
    "b.move(\"O\", 1)\n",
    "b.move(\"X\", 0)\n",
    "b.move(\"O\", 4)\n",
    "b.move(\"X\", 7)\n",
    "b.print_board()"
   ]
  },
  {
   "cell_type": "code",
   "execution_count": null,
   "id": "98edd268",
   "metadata": {
    "scrolled": true
   },
   "outputs": [],
   "source": []
  },
  {
   "cell_type": "code",
   "execution_count": 5,
   "id": "3af08fa4",
   "metadata": {},
   "outputs": [],
   "source": [
    "def gamehuman():\n",
    "    game = Game(HumanPlayer(\"X\"), HumanPlayer(\"O\"))\n",
    "    game.start()\n",
    "    \n",
    "def gamerandom():\n",
    "    game = Game(HumanPlayer(\"X\"), RandomPlayer(\"O\"))\n",
    "    game.start()\n",
    "    \n",
    "def gamerandom():\n",
    "    game = Game(HumanPlayer(\"X\"), MinMaxPlayer(\"O\", \"X\", max_depth = 6))\n",
    "    game.start()"
   ]
  },
  {
   "cell_type": "code",
   "execution_count": 6,
   "id": "1b1fb567",
   "metadata": {},
   "outputs": [
    {
     "name": "stdout",
     "output_type": "stream",
     "text": [
      "*************\n",
      "* 1 | 2 | 3 *\n",
      "*-----------*\n",
      "* 4 | 5 | 6 *\n",
      "*-----------*\n",
      "* 7 | 8 | 9 *\n",
      "*************\n",
      "Player X turn\n",
      "What is your move? 1\n",
      "*************\n",
      "* X |   |   *\n",
      "*-----------*\n",
      "*   |   |   *\n",
      "*-----------*\n",
      "*   |   |   *\n",
      "*************\n",
      "*************\n",
      "* X |   |   *\n",
      "*-----------*\n",
      "*   | O |   *\n",
      "*-----------*\n",
      "*   |   |   *\n",
      "*************\n",
      "Player X turn\n",
      "What is your move? 3\n",
      "*************\n",
      "* X |   | X *\n",
      "*-----------*\n",
      "*   | O |   *\n",
      "*-----------*\n",
      "*   |   |   *\n",
      "*************\n",
      "*************\n",
      "* X | O | X *\n",
      "*-----------*\n",
      "*   | O |   *\n",
      "*-----------*\n",
      "*   |   |   *\n",
      "*************\n",
      "Player X turn\n",
      "What is your move? 8\n",
      "*************\n",
      "* X | O | X *\n",
      "*-----------*\n",
      "*   | O |   *\n",
      "*-----------*\n",
      "*   | X |   *\n",
      "*************\n",
      "*************\n",
      "* X | O | X *\n",
      "*-----------*\n",
      "* O | O |   *\n",
      "*-----------*\n",
      "*   | X |   *\n",
      "*************\n",
      "Player X turn\n",
      "What is your move? 4\n",
      "That position is already occupied\n",
      "Try again\n",
      "What is your move? 6\n",
      "*************\n",
      "* X | O | X *\n",
      "*-----------*\n",
      "* O | O | X *\n",
      "*-----------*\n",
      "*   | X |   *\n",
      "*************\n",
      "*************\n",
      "* X | O | X *\n",
      "*-----------*\n",
      "* O | O | X *\n",
      "*-----------*\n",
      "* O | X |   *\n",
      "*************\n",
      "Player X turn\n",
      "What is your move? 9\n",
      "*************\n",
      "* X | O | X *\n",
      "*-----------*\n",
      "* O | O | X *\n",
      "*-----------*\n",
      "* O | X | X *\n",
      "*************\n",
      "Victory!! Player X has won in 8 moves\n"
     ]
    }
   ],
   "source": [
    "gamerandom()"
   ]
  },
  {
   "cell_type": "code",
   "execution_count": 7,
   "id": "2210654d",
   "metadata": {},
   "outputs": [],
   "source": [
    "p = MinMaxPlayer(\"O\", \"X\", max_depth = 4)"
   ]
  },
  {
   "cell_type": "code",
   "execution_count": 8,
   "id": "13773ea2",
   "metadata": {},
   "outputs": [
    {
     "data": {
      "text/plain": [
       "(-10000, 1)"
      ]
     },
     "execution_count": 8,
     "metadata": {},
     "output_type": "execute_result"
    }
   ],
   "source": [
    "board = ['X','O', 'X', 'O', 'O', 'X', ' ', 'X', ' ']\n",
    "p._rate_move(board, float(\"Inf\"), 0, MinMaxPlayer.Phase.MAX)"
   ]
  },
  {
   "cell_type": "code",
   "execution_count": 9,
   "id": "7e45ec3c",
   "metadata": {},
   "outputs": [
    {
     "data": {
      "text/plain": [
       "(-10000, 8)"
      ]
     },
     "execution_count": 9,
     "metadata": {},
     "output_type": "execute_result"
    }
   ],
   "source": [
    "board = board = ['X', ' ', 'O', 'O', ' ', ' ', 'X', ' ', ' ']\n",
    "p._rate_move(board, -10000, 0, MinMaxPlayer.Phase.MIN)"
   ]
  },
  {
   "cell_type": "code",
   "execution_count": null,
   "id": "9edc2fd8",
   "metadata": {},
   "outputs": [],
   "source": []
  }
 ],
 "metadata": {
  "kernelspec": {
   "display_name": "Python 3",
   "language": "python",
   "name": "python3"
  },
  "language_info": {
   "codemirror_mode": {
    "name": "ipython",
    "version": 3
   },
   "file_extension": ".py",
   "mimetype": "text/x-python",
   "name": "python",
   "nbconvert_exporter": "python",
   "pygments_lexer": "ipython3",
   "version": "3.9.1"
  }
 },
 "nbformat": 4,
 "nbformat_minor": 5
}
