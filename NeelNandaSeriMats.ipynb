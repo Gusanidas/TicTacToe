{
  "nbformat": 4,
  "nbformat_minor": 0,
  "metadata": {
    "colab": {
      "provenance": [],
      "machine_shape": "hm",
      "gpuType": "T4",
      "authorship_tag": "ABX9TyNu7+3Rh5cUy6TVchPLVU/Q",
      "include_colab_link": true
    },
    "kernelspec": {
      "name": "python3",
      "display_name": "Python 3"
    },
    "language_info": {
      "name": "python"
    },
    "accelerator": "GPU",
    "gpuClass": "standard",
    "widgets": {
      "application/vnd.jupyter.widget-state+json": {
        "68c7b3506d1a44b99c8c84d569b94f5f": {
          "model_module": "@jupyter-widgets/controls",
          "model_name": "HBoxModel",
          "model_module_version": "1.5.0",
          "state": {
            "_dom_classes": [],
            "_model_module": "@jupyter-widgets/controls",
            "_model_module_version": "1.5.0",
            "_model_name": "HBoxModel",
            "_view_count": null,
            "_view_module": "@jupyter-widgets/controls",
            "_view_module_version": "1.5.0",
            "_view_name": "HBoxView",
            "box_style": "",
            "children": [
              "IPY_MODEL_282222722e044770a4f6a09051c03e61",
              "IPY_MODEL_a18a47b9c5784879b079200b39b99217",
              "IPY_MODEL_5b33a6e5123b4cd89da0bfcac1d51a4a"
            ],
            "layout": "IPY_MODEL_deb9a6e696924f4b89475ec51ea8f6bd"
          }
        },
        "282222722e044770a4f6a09051c03e61": {
          "model_module": "@jupyter-widgets/controls",
          "model_name": "HTMLModel",
          "model_module_version": "1.5.0",
          "state": {
            "_dom_classes": [],
            "_model_module": "@jupyter-widgets/controls",
            "_model_module_version": "1.5.0",
            "_model_name": "HTMLModel",
            "_view_count": null,
            "_view_module": "@jupyter-widgets/controls",
            "_view_module_version": "1.5.0",
            "_view_name": "HTMLView",
            "description": "",
            "description_tooltip": null,
            "layout": "IPY_MODEL_7924b2a0a38444fcbff6bc9c52b8ba35",
            "placeholder": "​",
            "style": "IPY_MODEL_8daa48e9ca9a4331bcbd689e030e7396",
            "value": "100%"
          }
        },
        "a18a47b9c5784879b079200b39b99217": {
          "model_module": "@jupyter-widgets/controls",
          "model_name": "FloatProgressModel",
          "model_module_version": "1.5.0",
          "state": {
            "_dom_classes": [],
            "_model_module": "@jupyter-widgets/controls",
            "_model_module_version": "1.5.0",
            "_model_name": "FloatProgressModel",
            "_view_count": null,
            "_view_module": "@jupyter-widgets/controls",
            "_view_module_version": "1.5.0",
            "_view_name": "ProgressView",
            "bar_style": "success",
            "description": "",
            "description_tooltip": null,
            "layout": "IPY_MODEL_e0248c90306f4c4d8d37a7257ccac84d",
            "max": 192,
            "min": 0,
            "orientation": "horizontal",
            "style": "IPY_MODEL_810972bf0af74acf9d48f7dcfb9ee5a3",
            "value": 192
          }
        },
        "5b33a6e5123b4cd89da0bfcac1d51a4a": {
          "model_module": "@jupyter-widgets/controls",
          "model_name": "HTMLModel",
          "model_module_version": "1.5.0",
          "state": {
            "_dom_classes": [],
            "_model_module": "@jupyter-widgets/controls",
            "_model_module_version": "1.5.0",
            "_model_name": "HTMLModel",
            "_view_count": null,
            "_view_module": "@jupyter-widgets/controls",
            "_view_module_version": "1.5.0",
            "_view_name": "HTMLView",
            "description": "",
            "description_tooltip": null,
            "layout": "IPY_MODEL_fad34c46dd474dccb561058ef35477a9",
            "placeholder": "​",
            "style": "IPY_MODEL_a9955a465c734a2c834dc7519f86e33d",
            "value": " 192/192 [00:05&lt;00:00, 31.64it/s]"
          }
        },
        "deb9a6e696924f4b89475ec51ea8f6bd": {
          "model_module": "@jupyter-widgets/base",
          "model_name": "LayoutModel",
          "model_module_version": "1.2.0",
          "state": {
            "_model_module": "@jupyter-widgets/base",
            "_model_module_version": "1.2.0",
            "_model_name": "LayoutModel",
            "_view_count": null,
            "_view_module": "@jupyter-widgets/base",
            "_view_module_version": "1.2.0",
            "_view_name": "LayoutView",
            "align_content": null,
            "align_items": null,
            "align_self": null,
            "border": null,
            "bottom": null,
            "display": null,
            "flex": null,
            "flex_flow": null,
            "grid_area": null,
            "grid_auto_columns": null,
            "grid_auto_flow": null,
            "grid_auto_rows": null,
            "grid_column": null,
            "grid_gap": null,
            "grid_row": null,
            "grid_template_areas": null,
            "grid_template_columns": null,
            "grid_template_rows": null,
            "height": null,
            "justify_content": null,
            "justify_items": null,
            "left": null,
            "margin": null,
            "max_height": null,
            "max_width": null,
            "min_height": null,
            "min_width": null,
            "object_fit": null,
            "object_position": null,
            "order": null,
            "overflow": null,
            "overflow_x": null,
            "overflow_y": null,
            "padding": null,
            "right": null,
            "top": null,
            "visibility": null,
            "width": null
          }
        },
        "7924b2a0a38444fcbff6bc9c52b8ba35": {
          "model_module": "@jupyter-widgets/base",
          "model_name": "LayoutModel",
          "model_module_version": "1.2.0",
          "state": {
            "_model_module": "@jupyter-widgets/base",
            "_model_module_version": "1.2.0",
            "_model_name": "LayoutModel",
            "_view_count": null,
            "_view_module": "@jupyter-widgets/base",
            "_view_module_version": "1.2.0",
            "_view_name": "LayoutView",
            "align_content": null,
            "align_items": null,
            "align_self": null,
            "border": null,
            "bottom": null,
            "display": null,
            "flex": null,
            "flex_flow": null,
            "grid_area": null,
            "grid_auto_columns": null,
            "grid_auto_flow": null,
            "grid_auto_rows": null,
            "grid_column": null,
            "grid_gap": null,
            "grid_row": null,
            "grid_template_areas": null,
            "grid_template_columns": null,
            "grid_template_rows": null,
            "height": null,
            "justify_content": null,
            "justify_items": null,
            "left": null,
            "margin": null,
            "max_height": null,
            "max_width": null,
            "min_height": null,
            "min_width": null,
            "object_fit": null,
            "object_position": null,
            "order": null,
            "overflow": null,
            "overflow_x": null,
            "overflow_y": null,
            "padding": null,
            "right": null,
            "top": null,
            "visibility": null,
            "width": null
          }
        },
        "8daa48e9ca9a4331bcbd689e030e7396": {
          "model_module": "@jupyter-widgets/controls",
          "model_name": "DescriptionStyleModel",
          "model_module_version": "1.5.0",
          "state": {
            "_model_module": "@jupyter-widgets/controls",
            "_model_module_version": "1.5.0",
            "_model_name": "DescriptionStyleModel",
            "_view_count": null,
            "_view_module": "@jupyter-widgets/base",
            "_view_module_version": "1.2.0",
            "_view_name": "StyleView",
            "description_width": ""
          }
        },
        "e0248c90306f4c4d8d37a7257ccac84d": {
          "model_module": "@jupyter-widgets/base",
          "model_name": "LayoutModel",
          "model_module_version": "1.2.0",
          "state": {
            "_model_module": "@jupyter-widgets/base",
            "_model_module_version": "1.2.0",
            "_model_name": "LayoutModel",
            "_view_count": null,
            "_view_module": "@jupyter-widgets/base",
            "_view_module_version": "1.2.0",
            "_view_name": "LayoutView",
            "align_content": null,
            "align_items": null,
            "align_self": null,
            "border": null,
            "bottom": null,
            "display": null,
            "flex": null,
            "flex_flow": null,
            "grid_area": null,
            "grid_auto_columns": null,
            "grid_auto_flow": null,
            "grid_auto_rows": null,
            "grid_column": null,
            "grid_gap": null,
            "grid_row": null,
            "grid_template_areas": null,
            "grid_template_columns": null,
            "grid_template_rows": null,
            "height": null,
            "justify_content": null,
            "justify_items": null,
            "left": null,
            "margin": null,
            "max_height": null,
            "max_width": null,
            "min_height": null,
            "min_width": null,
            "object_fit": null,
            "object_position": null,
            "order": null,
            "overflow": null,
            "overflow_x": null,
            "overflow_y": null,
            "padding": null,
            "right": null,
            "top": null,
            "visibility": null,
            "width": null
          }
        },
        "810972bf0af74acf9d48f7dcfb9ee5a3": {
          "model_module": "@jupyter-widgets/controls",
          "model_name": "ProgressStyleModel",
          "model_module_version": "1.5.0",
          "state": {
            "_model_module": "@jupyter-widgets/controls",
            "_model_module_version": "1.5.0",
            "_model_name": "ProgressStyleModel",
            "_view_count": null,
            "_view_module": "@jupyter-widgets/base",
            "_view_module_version": "1.2.0",
            "_view_name": "StyleView",
            "bar_color": null,
            "description_width": ""
          }
        },
        "fad34c46dd474dccb561058ef35477a9": {
          "model_module": "@jupyter-widgets/base",
          "model_name": "LayoutModel",
          "model_module_version": "1.2.0",
          "state": {
            "_model_module": "@jupyter-widgets/base",
            "_model_module_version": "1.2.0",
            "_model_name": "LayoutModel",
            "_view_count": null,
            "_view_module": "@jupyter-widgets/base",
            "_view_module_version": "1.2.0",
            "_view_name": "LayoutView",
            "align_content": null,
            "align_items": null,
            "align_self": null,
            "border": null,
            "bottom": null,
            "display": null,
            "flex": null,
            "flex_flow": null,
            "grid_area": null,
            "grid_auto_columns": null,
            "grid_auto_flow": null,
            "grid_auto_rows": null,
            "grid_column": null,
            "grid_gap": null,
            "grid_row": null,
            "grid_template_areas": null,
            "grid_template_columns": null,
            "grid_template_rows": null,
            "height": null,
            "justify_content": null,
            "justify_items": null,
            "left": null,
            "margin": null,
            "max_height": null,
            "max_width": null,
            "min_height": null,
            "min_width": null,
            "object_fit": null,
            "object_position": null,
            "order": null,
            "overflow": null,
            "overflow_x": null,
            "overflow_y": null,
            "padding": null,
            "right": null,
            "top": null,
            "visibility": null,
            "width": null
          }
        },
        "a9955a465c734a2c834dc7519f86e33d": {
          "model_module": "@jupyter-widgets/controls",
          "model_name": "DescriptionStyleModel",
          "model_module_version": "1.5.0",
          "state": {
            "_model_module": "@jupyter-widgets/controls",
            "_model_module_version": "1.5.0",
            "_model_name": "DescriptionStyleModel",
            "_view_count": null,
            "_view_module": "@jupyter-widgets/base",
            "_view_module_version": "1.2.0",
            "_view_name": "StyleView",
            "description_width": ""
          }
        },
        "6be24c954ef648d4994fb7d2490b5893": {
          "model_module": "@jupyter-widgets/controls",
          "model_name": "HBoxModel",
          "model_module_version": "1.5.0",
          "state": {
            "_dom_classes": [],
            "_model_module": "@jupyter-widgets/controls",
            "_model_module_version": "1.5.0",
            "_model_name": "HBoxModel",
            "_view_count": null,
            "_view_module": "@jupyter-widgets/controls",
            "_view_module_version": "1.5.0",
            "_view_name": "HBoxView",
            "box_style": "",
            "children": [
              "IPY_MODEL_85cfb7e057f54e2c9e546e7ba95524f5",
              "IPY_MODEL_75589eb5925748f6be526f183a8fbce2",
              "IPY_MODEL_4514e05ca15b49699c43a922fc716d48"
            ],
            "layout": "IPY_MODEL_eacee5df83f848c9b0be350723e4a04e"
          }
        },
        "85cfb7e057f54e2c9e546e7ba95524f5": {
          "model_module": "@jupyter-widgets/controls",
          "model_name": "HTMLModel",
          "model_module_version": "1.5.0",
          "state": {
            "_dom_classes": [],
            "_model_module": "@jupyter-widgets/controls",
            "_model_module_version": "1.5.0",
            "_model_name": "HTMLModel",
            "_view_count": null,
            "_view_module": "@jupyter-widgets/controls",
            "_view_module_version": "1.5.0",
            "_view_name": "HTMLView",
            "description": "",
            "description_tooltip": null,
            "layout": "IPY_MODEL_1e32dcceab7a44378e3684bf4655b253",
            "placeholder": "​",
            "style": "IPY_MODEL_099a986c621547fc9afcbc85a4b66101",
            "value": "100%"
          }
        },
        "75589eb5925748f6be526f183a8fbce2": {
          "model_module": "@jupyter-widgets/controls",
          "model_name": "FloatProgressModel",
          "model_module_version": "1.5.0",
          "state": {
            "_dom_classes": [],
            "_model_module": "@jupyter-widgets/controls",
            "_model_module_version": "1.5.0",
            "_model_name": "FloatProgressModel",
            "_view_count": null,
            "_view_module": "@jupyter-widgets/controls",
            "_view_module_version": "1.5.0",
            "_view_name": "ProgressView",
            "bar_style": "success",
            "description": "",
            "description_tooltip": null,
            "layout": "IPY_MODEL_ffeedbeb935a49c9881b975a4d6a9631",
            "max": 144,
            "min": 0,
            "orientation": "horizontal",
            "style": "IPY_MODEL_c6d40a8afac040c18d9150a74e75dcd0",
            "value": 144
          }
        },
        "4514e05ca15b49699c43a922fc716d48": {
          "model_module": "@jupyter-widgets/controls",
          "model_name": "HTMLModel",
          "model_module_version": "1.5.0",
          "state": {
            "_dom_classes": [],
            "_model_module": "@jupyter-widgets/controls",
            "_model_module_version": "1.5.0",
            "_model_name": "HTMLModel",
            "_view_count": null,
            "_view_module": "@jupyter-widgets/controls",
            "_view_module_version": "1.5.0",
            "_view_name": "HTMLView",
            "description": "",
            "description_tooltip": null,
            "layout": "IPY_MODEL_15da80aa03a9494ea4470eae25934578",
            "placeholder": "​",
            "style": "IPY_MODEL_9efbd1cb4b5a4af5a776f1534503202f",
            "value": " 144/144 [00:04&lt;00:00, 33.37it/s]"
          }
        },
        "eacee5df83f848c9b0be350723e4a04e": {
          "model_module": "@jupyter-widgets/base",
          "model_name": "LayoutModel",
          "model_module_version": "1.2.0",
          "state": {
            "_model_module": "@jupyter-widgets/base",
            "_model_module_version": "1.2.0",
            "_model_name": "LayoutModel",
            "_view_count": null,
            "_view_module": "@jupyter-widgets/base",
            "_view_module_version": "1.2.0",
            "_view_name": "LayoutView",
            "align_content": null,
            "align_items": null,
            "align_self": null,
            "border": null,
            "bottom": null,
            "display": null,
            "flex": null,
            "flex_flow": null,
            "grid_area": null,
            "grid_auto_columns": null,
            "grid_auto_flow": null,
            "grid_auto_rows": null,
            "grid_column": null,
            "grid_gap": null,
            "grid_row": null,
            "grid_template_areas": null,
            "grid_template_columns": null,
            "grid_template_rows": null,
            "height": null,
            "justify_content": null,
            "justify_items": null,
            "left": null,
            "margin": null,
            "max_height": null,
            "max_width": null,
            "min_height": null,
            "min_width": null,
            "object_fit": null,
            "object_position": null,
            "order": null,
            "overflow": null,
            "overflow_x": null,
            "overflow_y": null,
            "padding": null,
            "right": null,
            "top": null,
            "visibility": null,
            "width": null
          }
        },
        "1e32dcceab7a44378e3684bf4655b253": {
          "model_module": "@jupyter-widgets/base",
          "model_name": "LayoutModel",
          "model_module_version": "1.2.0",
          "state": {
            "_model_module": "@jupyter-widgets/base",
            "_model_module_version": "1.2.0",
            "_model_name": "LayoutModel",
            "_view_count": null,
            "_view_module": "@jupyter-widgets/base",
            "_view_module_version": "1.2.0",
            "_view_name": "LayoutView",
            "align_content": null,
            "align_items": null,
            "align_self": null,
            "border": null,
            "bottom": null,
            "display": null,
            "flex": null,
            "flex_flow": null,
            "grid_area": null,
            "grid_auto_columns": null,
            "grid_auto_flow": null,
            "grid_auto_rows": null,
            "grid_column": null,
            "grid_gap": null,
            "grid_row": null,
            "grid_template_areas": null,
            "grid_template_columns": null,
            "grid_template_rows": null,
            "height": null,
            "justify_content": null,
            "justify_items": null,
            "left": null,
            "margin": null,
            "max_height": null,
            "max_width": null,
            "min_height": null,
            "min_width": null,
            "object_fit": null,
            "object_position": null,
            "order": null,
            "overflow": null,
            "overflow_x": null,
            "overflow_y": null,
            "padding": null,
            "right": null,
            "top": null,
            "visibility": null,
            "width": null
          }
        },
        "099a986c621547fc9afcbc85a4b66101": {
          "model_module": "@jupyter-widgets/controls",
          "model_name": "DescriptionStyleModel",
          "model_module_version": "1.5.0",
          "state": {
            "_model_module": "@jupyter-widgets/controls",
            "_model_module_version": "1.5.0",
            "_model_name": "DescriptionStyleModel",
            "_view_count": null,
            "_view_module": "@jupyter-widgets/base",
            "_view_module_version": "1.2.0",
            "_view_name": "StyleView",
            "description_width": ""
          }
        },
        "ffeedbeb935a49c9881b975a4d6a9631": {
          "model_module": "@jupyter-widgets/base",
          "model_name": "LayoutModel",
          "model_module_version": "1.2.0",
          "state": {
            "_model_module": "@jupyter-widgets/base",
            "_model_module_version": "1.2.0",
            "_model_name": "LayoutModel",
            "_view_count": null,
            "_view_module": "@jupyter-widgets/base",
            "_view_module_version": "1.2.0",
            "_view_name": "LayoutView",
            "align_content": null,
            "align_items": null,
            "align_self": null,
            "border": null,
            "bottom": null,
            "display": null,
            "flex": null,
            "flex_flow": null,
            "grid_area": null,
            "grid_auto_columns": null,
            "grid_auto_flow": null,
            "grid_auto_rows": null,
            "grid_column": null,
            "grid_gap": null,
            "grid_row": null,
            "grid_template_areas": null,
            "grid_template_columns": null,
            "grid_template_rows": null,
            "height": null,
            "justify_content": null,
            "justify_items": null,
            "left": null,
            "margin": null,
            "max_height": null,
            "max_width": null,
            "min_height": null,
            "min_width": null,
            "object_fit": null,
            "object_position": null,
            "order": null,
            "overflow": null,
            "overflow_x": null,
            "overflow_y": null,
            "padding": null,
            "right": null,
            "top": null,
            "visibility": null,
            "width": null
          }
        },
        "c6d40a8afac040c18d9150a74e75dcd0": {
          "model_module": "@jupyter-widgets/controls",
          "model_name": "ProgressStyleModel",
          "model_module_version": "1.5.0",
          "state": {
            "_model_module": "@jupyter-widgets/controls",
            "_model_module_version": "1.5.0",
            "_model_name": "ProgressStyleModel",
            "_view_count": null,
            "_view_module": "@jupyter-widgets/base",
            "_view_module_version": "1.2.0",
            "_view_name": "StyleView",
            "bar_color": null,
            "description_width": ""
          }
        },
        "15da80aa03a9494ea4470eae25934578": {
          "model_module": "@jupyter-widgets/base",
          "model_name": "LayoutModel",
          "model_module_version": "1.2.0",
          "state": {
            "_model_module": "@jupyter-widgets/base",
            "_model_module_version": "1.2.0",
            "_model_name": "LayoutModel",
            "_view_count": null,
            "_view_module": "@jupyter-widgets/base",
            "_view_module_version": "1.2.0",
            "_view_name": "LayoutView",
            "align_content": null,
            "align_items": null,
            "align_self": null,
            "border": null,
            "bottom": null,
            "display": null,
            "flex": null,
            "flex_flow": null,
            "grid_area": null,
            "grid_auto_columns": null,
            "grid_auto_flow": null,
            "grid_auto_rows": null,
            "grid_column": null,
            "grid_gap": null,
            "grid_row": null,
            "grid_template_areas": null,
            "grid_template_columns": null,
            "grid_template_rows": null,
            "height": null,
            "justify_content": null,
            "justify_items": null,
            "left": null,
            "margin": null,
            "max_height": null,
            "max_width": null,
            "min_height": null,
            "min_width": null,
            "object_fit": null,
            "object_position": null,
            "order": null,
            "overflow": null,
            "overflow_x": null,
            "overflow_y": null,
            "padding": null,
            "right": null,
            "top": null,
            "visibility": null,
            "width": null
          }
        },
        "9efbd1cb4b5a4af5a776f1534503202f": {
          "model_module": "@jupyter-widgets/controls",
          "model_name": "DescriptionStyleModel",
          "model_module_version": "1.5.0",
          "state": {
            "_model_module": "@jupyter-widgets/controls",
            "_model_module_version": "1.5.0",
            "_model_name": "DescriptionStyleModel",
            "_view_count": null,
            "_view_module": "@jupyter-widgets/base",
            "_view_module_version": "1.2.0",
            "_view_name": "StyleView",
            "description_width": ""
          }
        },
        "3dfd2f5fbd124500a6aba6a120b8c0de": {
          "model_module": "@jupyter-widgets/controls",
          "model_name": "HBoxModel",
          "model_module_version": "1.5.0",
          "state": {
            "_dom_classes": [],
            "_model_module": "@jupyter-widgets/controls",
            "_model_module_version": "1.5.0",
            "_model_name": "HBoxModel",
            "_view_count": null,
            "_view_module": "@jupyter-widgets/controls",
            "_view_module_version": "1.5.0",
            "_view_name": "HBoxView",
            "box_style": "",
            "children": [
              "IPY_MODEL_254f2abe83064b2e87ded7bf28346283",
              "IPY_MODEL_adfaa53b50834e88abfcbb8e604eab2a",
              "IPY_MODEL_6b317eb7276a43ae980425ce00189aaa"
            ],
            "layout": "IPY_MODEL_c62c9366a0664cbca1e9cffe4a4ee21b"
          }
        },
        "254f2abe83064b2e87ded7bf28346283": {
          "model_module": "@jupyter-widgets/controls",
          "model_name": "HTMLModel",
          "model_module_version": "1.5.0",
          "state": {
            "_dom_classes": [],
            "_model_module": "@jupyter-widgets/controls",
            "_model_module_version": "1.5.0",
            "_model_name": "HTMLModel",
            "_view_count": null,
            "_view_module": "@jupyter-widgets/controls",
            "_view_module_version": "1.5.0",
            "_view_name": "HTMLView",
            "description": "",
            "description_tooltip": null,
            "layout": "IPY_MODEL_916f0e58eaea47d2993300b9c83ad2b0",
            "placeholder": "​",
            "style": "IPY_MODEL_ba92ccd643c142bf90c778c156bcdca5",
            "value": "100%"
          }
        },
        "adfaa53b50834e88abfcbb8e604eab2a": {
          "model_module": "@jupyter-widgets/controls",
          "model_name": "FloatProgressModel",
          "model_module_version": "1.5.0",
          "state": {
            "_dom_classes": [],
            "_model_module": "@jupyter-widgets/controls",
            "_model_module_version": "1.5.0",
            "_model_name": "FloatProgressModel",
            "_view_count": null,
            "_view_module": "@jupyter-widgets/controls",
            "_view_module_version": "1.5.0",
            "_view_name": "ProgressView",
            "bar_style": "success",
            "description": "",
            "description_tooltip": null,
            "layout": "IPY_MODEL_48d07f627a1948ebacadeb6cad95b4f7",
            "max": 192,
            "min": 0,
            "orientation": "horizontal",
            "style": "IPY_MODEL_7bd45a8301474165b390ac8200f04a83",
            "value": 192
          }
        },
        "6b317eb7276a43ae980425ce00189aaa": {
          "model_module": "@jupyter-widgets/controls",
          "model_name": "HTMLModel",
          "model_module_version": "1.5.0",
          "state": {
            "_dom_classes": [],
            "_model_module": "@jupyter-widgets/controls",
            "_model_module_version": "1.5.0",
            "_model_name": "HTMLModel",
            "_view_count": null,
            "_view_module": "@jupyter-widgets/controls",
            "_view_module_version": "1.5.0",
            "_view_name": "HTMLView",
            "description": "",
            "description_tooltip": null,
            "layout": "IPY_MODEL_ce761ec719aa4bafa7e3cb2f530d5961",
            "placeholder": "​",
            "style": "IPY_MODEL_1a9765571e504e5da9970c08a59ea559",
            "value": " 192/192 [00:05&lt;00:00, 32.36it/s]"
          }
        },
        "c62c9366a0664cbca1e9cffe4a4ee21b": {
          "model_module": "@jupyter-widgets/base",
          "model_name": "LayoutModel",
          "model_module_version": "1.2.0",
          "state": {
            "_model_module": "@jupyter-widgets/base",
            "_model_module_version": "1.2.0",
            "_model_name": "LayoutModel",
            "_view_count": null,
            "_view_module": "@jupyter-widgets/base",
            "_view_module_version": "1.2.0",
            "_view_name": "LayoutView",
            "align_content": null,
            "align_items": null,
            "align_self": null,
            "border": null,
            "bottom": null,
            "display": null,
            "flex": null,
            "flex_flow": null,
            "grid_area": null,
            "grid_auto_columns": null,
            "grid_auto_flow": null,
            "grid_auto_rows": null,
            "grid_column": null,
            "grid_gap": null,
            "grid_row": null,
            "grid_template_areas": null,
            "grid_template_columns": null,
            "grid_template_rows": null,
            "height": null,
            "justify_content": null,
            "justify_items": null,
            "left": null,
            "margin": null,
            "max_height": null,
            "max_width": null,
            "min_height": null,
            "min_width": null,
            "object_fit": null,
            "object_position": null,
            "order": null,
            "overflow": null,
            "overflow_x": null,
            "overflow_y": null,
            "padding": null,
            "right": null,
            "top": null,
            "visibility": null,
            "width": null
          }
        },
        "916f0e58eaea47d2993300b9c83ad2b0": {
          "model_module": "@jupyter-widgets/base",
          "model_name": "LayoutModel",
          "model_module_version": "1.2.0",
          "state": {
            "_model_module": "@jupyter-widgets/base",
            "_model_module_version": "1.2.0",
            "_model_name": "LayoutModel",
            "_view_count": null,
            "_view_module": "@jupyter-widgets/base",
            "_view_module_version": "1.2.0",
            "_view_name": "LayoutView",
            "align_content": null,
            "align_items": null,
            "align_self": null,
            "border": null,
            "bottom": null,
            "display": null,
            "flex": null,
            "flex_flow": null,
            "grid_area": null,
            "grid_auto_columns": null,
            "grid_auto_flow": null,
            "grid_auto_rows": null,
            "grid_column": null,
            "grid_gap": null,
            "grid_row": null,
            "grid_template_areas": null,
            "grid_template_columns": null,
            "grid_template_rows": null,
            "height": null,
            "justify_content": null,
            "justify_items": null,
            "left": null,
            "margin": null,
            "max_height": null,
            "max_width": null,
            "min_height": null,
            "min_width": null,
            "object_fit": null,
            "object_position": null,
            "order": null,
            "overflow": null,
            "overflow_x": null,
            "overflow_y": null,
            "padding": null,
            "right": null,
            "top": null,
            "visibility": null,
            "width": null
          }
        },
        "ba92ccd643c142bf90c778c156bcdca5": {
          "model_module": "@jupyter-widgets/controls",
          "model_name": "DescriptionStyleModel",
          "model_module_version": "1.5.0",
          "state": {
            "_model_module": "@jupyter-widgets/controls",
            "_model_module_version": "1.5.0",
            "_model_name": "DescriptionStyleModel",
            "_view_count": null,
            "_view_module": "@jupyter-widgets/base",
            "_view_module_version": "1.2.0",
            "_view_name": "StyleView",
            "description_width": ""
          }
        },
        "48d07f627a1948ebacadeb6cad95b4f7": {
          "model_module": "@jupyter-widgets/base",
          "model_name": "LayoutModel",
          "model_module_version": "1.2.0",
          "state": {
            "_model_module": "@jupyter-widgets/base",
            "_model_module_version": "1.2.0",
            "_model_name": "LayoutModel",
            "_view_count": null,
            "_view_module": "@jupyter-widgets/base",
            "_view_module_version": "1.2.0",
            "_view_name": "LayoutView",
            "align_content": null,
            "align_items": null,
            "align_self": null,
            "border": null,
            "bottom": null,
            "display": null,
            "flex": null,
            "flex_flow": null,
            "grid_area": null,
            "grid_auto_columns": null,
            "grid_auto_flow": null,
            "grid_auto_rows": null,
            "grid_column": null,
            "grid_gap": null,
            "grid_row": null,
            "grid_template_areas": null,
            "grid_template_columns": null,
            "grid_template_rows": null,
            "height": null,
            "justify_content": null,
            "justify_items": null,
            "left": null,
            "margin": null,
            "max_height": null,
            "max_width": null,
            "min_height": null,
            "min_width": null,
            "object_fit": null,
            "object_position": null,
            "order": null,
            "overflow": null,
            "overflow_x": null,
            "overflow_y": null,
            "padding": null,
            "right": null,
            "top": null,
            "visibility": null,
            "width": null
          }
        },
        "7bd45a8301474165b390ac8200f04a83": {
          "model_module": "@jupyter-widgets/controls",
          "model_name": "ProgressStyleModel",
          "model_module_version": "1.5.0",
          "state": {
            "_model_module": "@jupyter-widgets/controls",
            "_model_module_version": "1.5.0",
            "_model_name": "ProgressStyleModel",
            "_view_count": null,
            "_view_module": "@jupyter-widgets/base",
            "_view_module_version": "1.2.0",
            "_view_name": "StyleView",
            "bar_color": null,
            "description_width": ""
          }
        },
        "ce761ec719aa4bafa7e3cb2f530d5961": {
          "model_module": "@jupyter-widgets/base",
          "model_name": "LayoutModel",
          "model_module_version": "1.2.0",
          "state": {
            "_model_module": "@jupyter-widgets/base",
            "_model_module_version": "1.2.0",
            "_model_name": "LayoutModel",
            "_view_count": null,
            "_view_module": "@jupyter-widgets/base",
            "_view_module_version": "1.2.0",
            "_view_name": "LayoutView",
            "align_content": null,
            "align_items": null,
            "align_self": null,
            "border": null,
            "bottom": null,
            "display": null,
            "flex": null,
            "flex_flow": null,
            "grid_area": null,
            "grid_auto_columns": null,
            "grid_auto_flow": null,
            "grid_auto_rows": null,
            "grid_column": null,
            "grid_gap": null,
            "grid_row": null,
            "grid_template_areas": null,
            "grid_template_columns": null,
            "grid_template_rows": null,
            "height": null,
            "justify_content": null,
            "justify_items": null,
            "left": null,
            "margin": null,
            "max_height": null,
            "max_width": null,
            "min_height": null,
            "min_width": null,
            "object_fit": null,
            "object_position": null,
            "order": null,
            "overflow": null,
            "overflow_x": null,
            "overflow_y": null,
            "padding": null,
            "right": null,
            "top": null,
            "visibility": null,
            "width": null
          }
        },
        "1a9765571e504e5da9970c08a59ea559": {
          "model_module": "@jupyter-widgets/controls",
          "model_name": "DescriptionStyleModel",
          "model_module_version": "1.5.0",
          "state": {
            "_model_module": "@jupyter-widgets/controls",
            "_model_module_version": "1.5.0",
            "_model_name": "DescriptionStyleModel",
            "_view_count": null,
            "_view_module": "@jupyter-widgets/base",
            "_view_module_version": "1.2.0",
            "_view_name": "StyleView",
            "description_width": ""
          }
        },
        "625a90d6f65a410eb33125e714eb66c3": {
          "model_module": "@jupyter-widgets/controls",
          "model_name": "HBoxModel",
          "model_module_version": "1.5.0",
          "state": {
            "_dom_classes": [],
            "_model_module": "@jupyter-widgets/controls",
            "_model_module_version": "1.5.0",
            "_model_name": "HBoxModel",
            "_view_count": null,
            "_view_module": "@jupyter-widgets/controls",
            "_view_module_version": "1.5.0",
            "_view_name": "HBoxView",
            "box_style": "",
            "children": [
              "IPY_MODEL_d88f23e9b0a847f495d2c055a3bca8ea",
              "IPY_MODEL_ad2d86f7c7b043baaa1b72b374e68aaa",
              "IPY_MODEL_94dc32f0b2324eb2800abab7af03d0dd"
            ],
            "layout": "IPY_MODEL_aad26d765ca045ad923e0929abe7494f"
          }
        },
        "d88f23e9b0a847f495d2c055a3bca8ea": {
          "model_module": "@jupyter-widgets/controls",
          "model_name": "HTMLModel",
          "model_module_version": "1.5.0",
          "state": {
            "_dom_classes": [],
            "_model_module": "@jupyter-widgets/controls",
            "_model_module_version": "1.5.0",
            "_model_name": "HTMLModel",
            "_view_count": null,
            "_view_module": "@jupyter-widgets/controls",
            "_view_module_version": "1.5.0",
            "_view_name": "HTMLView",
            "description": "",
            "description_tooltip": null,
            "layout": "IPY_MODEL_1cd5a2ed1cf74451a7debdcd01ef30b2",
            "placeholder": "​",
            "style": "IPY_MODEL_9e218fa8e7114a7189556f9c0c450d36",
            "value": "100%"
          }
        },
        "ad2d86f7c7b043baaa1b72b374e68aaa": {
          "model_module": "@jupyter-widgets/controls",
          "model_name": "FloatProgressModel",
          "model_module_version": "1.5.0",
          "state": {
            "_dom_classes": [],
            "_model_module": "@jupyter-widgets/controls",
            "_model_module_version": "1.5.0",
            "_model_name": "FloatProgressModel",
            "_view_count": null,
            "_view_module": "@jupyter-widgets/controls",
            "_view_module_version": "1.5.0",
            "_view_name": "ProgressView",
            "bar_style": "success",
            "description": "",
            "description_tooltip": null,
            "layout": "IPY_MODEL_5e64611dd40d412197ce8b45ca1b37f2",
            "max": 144,
            "min": 0,
            "orientation": "horizontal",
            "style": "IPY_MODEL_854188e1bf8141fdbce0f371100c462c",
            "value": 144
          }
        },
        "94dc32f0b2324eb2800abab7af03d0dd": {
          "model_module": "@jupyter-widgets/controls",
          "model_name": "HTMLModel",
          "model_module_version": "1.5.0",
          "state": {
            "_dom_classes": [],
            "_model_module": "@jupyter-widgets/controls",
            "_model_module_version": "1.5.0",
            "_model_name": "HTMLModel",
            "_view_count": null,
            "_view_module": "@jupyter-widgets/controls",
            "_view_module_version": "1.5.0",
            "_view_name": "HTMLView",
            "description": "",
            "description_tooltip": null,
            "layout": "IPY_MODEL_5de2a4c80e8c42d2b7d783dcfdea283f",
            "placeholder": "​",
            "style": "IPY_MODEL_84785ccb660b4a24a7997d778fbd5c2a",
            "value": " 144/144 [00:04&lt;00:00, 31.35it/s]"
          }
        },
        "aad26d765ca045ad923e0929abe7494f": {
          "model_module": "@jupyter-widgets/base",
          "model_name": "LayoutModel",
          "model_module_version": "1.2.0",
          "state": {
            "_model_module": "@jupyter-widgets/base",
            "_model_module_version": "1.2.0",
            "_model_name": "LayoutModel",
            "_view_count": null,
            "_view_module": "@jupyter-widgets/base",
            "_view_module_version": "1.2.0",
            "_view_name": "LayoutView",
            "align_content": null,
            "align_items": null,
            "align_self": null,
            "border": null,
            "bottom": null,
            "display": null,
            "flex": null,
            "flex_flow": null,
            "grid_area": null,
            "grid_auto_columns": null,
            "grid_auto_flow": null,
            "grid_auto_rows": null,
            "grid_column": null,
            "grid_gap": null,
            "grid_row": null,
            "grid_template_areas": null,
            "grid_template_columns": null,
            "grid_template_rows": null,
            "height": null,
            "justify_content": null,
            "justify_items": null,
            "left": null,
            "margin": null,
            "max_height": null,
            "max_width": null,
            "min_height": null,
            "min_width": null,
            "object_fit": null,
            "object_position": null,
            "order": null,
            "overflow": null,
            "overflow_x": null,
            "overflow_y": null,
            "padding": null,
            "right": null,
            "top": null,
            "visibility": null,
            "width": null
          }
        },
        "1cd5a2ed1cf74451a7debdcd01ef30b2": {
          "model_module": "@jupyter-widgets/base",
          "model_name": "LayoutModel",
          "model_module_version": "1.2.0",
          "state": {
            "_model_module": "@jupyter-widgets/base",
            "_model_module_version": "1.2.0",
            "_model_name": "LayoutModel",
            "_view_count": null,
            "_view_module": "@jupyter-widgets/base",
            "_view_module_version": "1.2.0",
            "_view_name": "LayoutView",
            "align_content": null,
            "align_items": null,
            "align_self": null,
            "border": null,
            "bottom": null,
            "display": null,
            "flex": null,
            "flex_flow": null,
            "grid_area": null,
            "grid_auto_columns": null,
            "grid_auto_flow": null,
            "grid_auto_rows": null,
            "grid_column": null,
            "grid_gap": null,
            "grid_row": null,
            "grid_template_areas": null,
            "grid_template_columns": null,
            "grid_template_rows": null,
            "height": null,
            "justify_content": null,
            "justify_items": null,
            "left": null,
            "margin": null,
            "max_height": null,
            "max_width": null,
            "min_height": null,
            "min_width": null,
            "object_fit": null,
            "object_position": null,
            "order": null,
            "overflow": null,
            "overflow_x": null,
            "overflow_y": null,
            "padding": null,
            "right": null,
            "top": null,
            "visibility": null,
            "width": null
          }
        },
        "9e218fa8e7114a7189556f9c0c450d36": {
          "model_module": "@jupyter-widgets/controls",
          "model_name": "DescriptionStyleModel",
          "model_module_version": "1.5.0",
          "state": {
            "_model_module": "@jupyter-widgets/controls",
            "_model_module_version": "1.5.0",
            "_model_name": "DescriptionStyleModel",
            "_view_count": null,
            "_view_module": "@jupyter-widgets/base",
            "_view_module_version": "1.2.0",
            "_view_name": "StyleView",
            "description_width": ""
          }
        },
        "5e64611dd40d412197ce8b45ca1b37f2": {
          "model_module": "@jupyter-widgets/base",
          "model_name": "LayoutModel",
          "model_module_version": "1.2.0",
          "state": {
            "_model_module": "@jupyter-widgets/base",
            "_model_module_version": "1.2.0",
            "_model_name": "LayoutModel",
            "_view_count": null,
            "_view_module": "@jupyter-widgets/base",
            "_view_module_version": "1.2.0",
            "_view_name": "LayoutView",
            "align_content": null,
            "align_items": null,
            "align_self": null,
            "border": null,
            "bottom": null,
            "display": null,
            "flex": null,
            "flex_flow": null,
            "grid_area": null,
            "grid_auto_columns": null,
            "grid_auto_flow": null,
            "grid_auto_rows": null,
            "grid_column": null,
            "grid_gap": null,
            "grid_row": null,
            "grid_template_areas": null,
            "grid_template_columns": null,
            "grid_template_rows": null,
            "height": null,
            "justify_content": null,
            "justify_items": null,
            "left": null,
            "margin": null,
            "max_height": null,
            "max_width": null,
            "min_height": null,
            "min_width": null,
            "object_fit": null,
            "object_position": null,
            "order": null,
            "overflow": null,
            "overflow_x": null,
            "overflow_y": null,
            "padding": null,
            "right": null,
            "top": null,
            "visibility": null,
            "width": null
          }
        },
        "854188e1bf8141fdbce0f371100c462c": {
          "model_module": "@jupyter-widgets/controls",
          "model_name": "ProgressStyleModel",
          "model_module_version": "1.5.0",
          "state": {
            "_model_module": "@jupyter-widgets/controls",
            "_model_module_version": "1.5.0",
            "_model_name": "ProgressStyleModel",
            "_view_count": null,
            "_view_module": "@jupyter-widgets/base",
            "_view_module_version": "1.2.0",
            "_view_name": "StyleView",
            "bar_color": null,
            "description_width": ""
          }
        },
        "5de2a4c80e8c42d2b7d783dcfdea283f": {
          "model_module": "@jupyter-widgets/base",
          "model_name": "LayoutModel",
          "model_module_version": "1.2.0",
          "state": {
            "_model_module": "@jupyter-widgets/base",
            "_model_module_version": "1.2.0",
            "_model_name": "LayoutModel",
            "_view_count": null,
            "_view_module": "@jupyter-widgets/base",
            "_view_module_version": "1.2.0",
            "_view_name": "LayoutView",
            "align_content": null,
            "align_items": null,
            "align_self": null,
            "border": null,
            "bottom": null,
            "display": null,
            "flex": null,
            "flex_flow": null,
            "grid_area": null,
            "grid_auto_columns": null,
            "grid_auto_flow": null,
            "grid_auto_rows": null,
            "grid_column": null,
            "grid_gap": null,
            "grid_row": null,
            "grid_template_areas": null,
            "grid_template_columns": null,
            "grid_template_rows": null,
            "height": null,
            "justify_content": null,
            "justify_items": null,
            "left": null,
            "margin": null,
            "max_height": null,
            "max_width": null,
            "min_height": null,
            "min_width": null,
            "object_fit": null,
            "object_position": null,
            "order": null,
            "overflow": null,
            "overflow_x": null,
            "overflow_y": null,
            "padding": null,
            "right": null,
            "top": null,
            "visibility": null,
            "width": null
          }
        },
        "84785ccb660b4a24a7997d778fbd5c2a": {
          "model_module": "@jupyter-widgets/controls",
          "model_name": "DescriptionStyleModel",
          "model_module_version": "1.5.0",
          "state": {
            "_model_module": "@jupyter-widgets/controls",
            "_model_module_version": "1.5.0",
            "_model_name": "DescriptionStyleModel",
            "_view_count": null,
            "_view_module": "@jupyter-widgets/base",
            "_view_module_version": "1.2.0",
            "_view_name": "StyleView",
            "description_width": ""
          }
        }
      }
    }
  },
  "cells": [
    {
      "cell_type": "markdown",
      "metadata": {
        "id": "view-in-github",
        "colab_type": "text"
      },
      "source": [
        "<a href=\"https://colab.research.google.com/github/Gusanidas/TicTacToe/blob/main/NeelNandaSeriMats.ipynb\" target=\"_parent\"><img src=\"https://colab.research.google.com/assets/colab-badge.svg\" alt=\"Open In Colab\"/></a>"
      ]
    },
    {
      "cell_type": "code",
      "execution_count": null,
      "metadata": {
        "id": "TUPxwQOl8ztB"
      },
      "outputs": [],
      "source": []
    },
    {
      "cell_type": "markdown",
      "source": [
        "# **Neel Nanda SERI MATS Application**, by Alejandro Alvarez.\n",
        "\n",
        "The problem I have decided to study is that of famous pairs of names and context. I thought of it while thinking of Alice and Bob, in computer science and physics problems it is very common to use the names *Alice* and *Bob* when presenting thought experiments. If a LLM reads a sentence involving cryptography and someone named Bob, it may assume the recipient is named Alice.\n",
        "Some questions come to mind:\n",
        "\n",
        "*   Does this actually happen? Will Alice be the most probable name if cryptography (or some other area) and Bob are involved?\n",
        "*   Is the context important? Or are the names of Alice and Bob so commonly written together that they are forever associated.\n",
        "*   Do other examples work similarly? Examples: Adam and Eve, Tom and Jerry, Bonny and Clyde...\n",
        "*   Is there a recognisble circuit involved, and is it the same across sentences and name pairs?\n",
        "\n",
        "I am a bit skeptical of the last question, I am not sure this is going to be computed in a simple circuit. It is a small example of a bigger more general type of mechanism: given some context, some words may be more related to each other.\n",
        "If there is a wizard and the context is fantasy, words like orc or elf can appear more often. If we are talking about physics, and the word \"proton\" is in the sentence, the word \"neutron\" is more probable to happen.\n",
        "However in the case of Alice and Bob I think there are some differences, in the correct context they either appear together or they dont. And the context, if its cryptography, is easy to identify.\n",
        "\n",
        "\n",
        "I will write in a semi stream of conciussnes way, as I dont think I will arrive at any concrete solution, I will just write different explorations to the problem.\n",
        "\n",
        "\n",
        "\n"
      ],
      "metadata": {
        "id": "SXKsjtbh80UX"
      }
    },
    {
      "cell_type": "code",
      "source": [
        "%pip install git+https://github.com/neelnanda-io/TransformerLens.git\n",
        "%pip install circuitsvis"
      ],
      "metadata": {
        "colab": {
          "base_uri": "https://localhost:8080/"
        },
        "id": "4e2xHwPX-7UN",
        "outputId": "052e6c8f-4986-4d1d-db95-34f9bed21c7d"
      },
      "execution_count": null,
      "outputs": [
        {
          "output_type": "stream",
          "name": "stdout",
          "text": [
            "Looking in indexes: https://pypi.org/simple, https://us-python.pkg.dev/colab-wheels/public/simple/\n",
            "Collecting git+https://github.com/neelnanda-io/TransformerLens.git\n",
            "  Cloning https://github.com/neelnanda-io/TransformerLens.git to /tmp/pip-req-build-2l9l5v3z\n",
            "  Running command git clone --filter=blob:none --quiet https://github.com/neelnanda-io/TransformerLens.git /tmp/pip-req-build-2l9l5v3z\n",
            "  Resolved https://github.com/neelnanda-io/TransformerLens.git to commit 036327c59349e07af5ba935bbe92384776680f2b\n",
            "  Installing build dependencies ... \u001b[?25l\u001b[?25hdone\n",
            "  Getting requirements to build wheel ... \u001b[?25l\u001b[?25hdone\n",
            "  Preparing metadata (pyproject.toml) ... \u001b[?25l\u001b[?25hdone\n",
            "Requirement already satisfied: einops>=0.6.0 in /usr/local/lib/python3.10/dist-packages (from transformer-lens==0.0.0) (0.6.1)\n",
            "Requirement already satisfied: pandas>=1.1.5 in /usr/local/lib/python3.10/dist-packages (from transformer-lens==0.0.0) (1.5.3)\n",
            "Requirement already satisfied: fancy-einsum>=0.0.3 in /usr/local/lib/python3.10/dist-packages (from transformer-lens==0.0.0) (0.0.3)\n",
            "Requirement already satisfied: wandb>=0.13.5 in /usr/local/lib/python3.10/dist-packages (from transformer-lens==0.0.0) (0.15.1)\n",
            "Requirement already satisfied: jaxtyping>=0.2.11 in /usr/local/lib/python3.10/dist-packages (from transformer-lens==0.0.0) (0.2.15)\n",
            "Requirement already satisfied: rich>=12.6.0 in /usr/local/lib/python3.10/dist-packages (from transformer-lens==0.0.0) (13.3.4)\n",
            "Requirement already satisfied: tqdm>=4.64.1 in /usr/local/lib/python3.10/dist-packages (from transformer-lens==0.0.0) (4.65.0)\n",
            "Requirement already satisfied: transformers>=4.25.1 in /usr/local/lib/python3.10/dist-packages (from transformer-lens==0.0.0) (4.28.1)\n",
            "Requirement already satisfied: numpy>=1.23 in /usr/local/lib/python3.10/dist-packages (from transformer-lens==0.0.0) (1.24.3)\n",
            "Requirement already satisfied: torch>=1.10 in /usr/local/lib/python3.10/dist-packages (from transformer-lens==0.0.0) (1.13.1)\n",
            "Requirement already satisfied: datasets>=2.7.1 in /usr/local/lib/python3.10/dist-packages (from transformer-lens==0.0.0) (2.12.0)\n",
            "Requirement already satisfied: responses<0.19 in /usr/local/lib/python3.10/dist-packages (from datasets>=2.7.1->transformer-lens==0.0.0) (0.18.0)\n",
            "Requirement already satisfied: pyarrow>=8.0.0 in /usr/local/lib/python3.10/dist-packages (from datasets>=2.7.1->transformer-lens==0.0.0) (9.0.0)\n",
            "Requirement already satisfied: multiprocess in /usr/local/lib/python3.10/dist-packages (from datasets>=2.7.1->transformer-lens==0.0.0) (0.70.14)\n",
            "Requirement already satisfied: pyyaml>=5.1 in /usr/local/lib/python3.10/dist-packages (from datasets>=2.7.1->transformer-lens==0.0.0) (6.0)\n",
            "Requirement already satisfied: xxhash in /usr/local/lib/python3.10/dist-packages (from datasets>=2.7.1->transformer-lens==0.0.0) (3.2.0)\n",
            "Requirement already satisfied: packaging in /usr/local/lib/python3.10/dist-packages (from datasets>=2.7.1->transformer-lens==0.0.0) (23.1)\n",
            "Requirement already satisfied: dill<0.3.7,>=0.3.0 in /usr/local/lib/python3.10/dist-packages (from datasets>=2.7.1->transformer-lens==0.0.0) (0.3.6)\n",
            "Requirement already satisfied: fsspec[http]>=2021.11.1 in /usr/local/lib/python3.10/dist-packages (from datasets>=2.7.1->transformer-lens==0.0.0) (2023.4.0)\n",
            "Requirement already satisfied: aiohttp in /usr/local/lib/python3.10/dist-packages (from datasets>=2.7.1->transformer-lens==0.0.0) (3.8.4)\n",
            "Requirement already satisfied: huggingface-hub<1.0.0,>=0.11.0 in /usr/local/lib/python3.10/dist-packages (from datasets>=2.7.1->transformer-lens==0.0.0) (0.14.1)\n",
            "Requirement already satisfied: requests>=2.19.0 in /usr/local/lib/python3.10/dist-packages (from datasets>=2.7.1->transformer-lens==0.0.0) (2.27.1)\n",
            "Requirement already satisfied: typeguard>=2.13.3 in /usr/local/lib/python3.10/dist-packages (from jaxtyping>=0.2.11->transformer-lens==0.0.0) (3.0.2)\n",
            "Requirement already satisfied: typing-extensions>=3.7.4.1 in /usr/local/lib/python3.10/dist-packages (from jaxtyping>=0.2.11->transformer-lens==0.0.0) (4.5.0)\n",
            "Requirement already satisfied: python-dateutil>=2.8.1 in /usr/local/lib/python3.10/dist-packages (from pandas>=1.1.5->transformer-lens==0.0.0) (2.8.2)\n",
            "Requirement already satisfied: pytz>=2020.1 in /usr/local/lib/python3.10/dist-packages (from pandas>=1.1.5->transformer-lens==0.0.0) (2022.7.1)\n",
            "Requirement already satisfied: markdown-it-py<3.0.0,>=2.2.0 in /usr/local/lib/python3.10/dist-packages (from rich>=12.6.0->transformer-lens==0.0.0) (2.2.0)\n",
            "Requirement already satisfied: pygments<3.0.0,>=2.13.0 in /usr/local/lib/python3.10/dist-packages (from rich>=12.6.0->transformer-lens==0.0.0) (2.14.0)\n",
            "Requirement already satisfied: nvidia-cudnn-cu11==8.5.0.96 in /usr/local/lib/python3.10/dist-packages (from torch>=1.10->transformer-lens==0.0.0) (8.5.0.96)\n",
            "Requirement already satisfied: nvidia-cublas-cu11==11.10.3.66 in /usr/local/lib/python3.10/dist-packages (from torch>=1.10->transformer-lens==0.0.0) (11.10.3.66)\n",
            "Requirement already satisfied: nvidia-cuda-runtime-cu11==11.7.99 in /usr/local/lib/python3.10/dist-packages (from torch>=1.10->transformer-lens==0.0.0) (11.7.99)\n",
            "Requirement already satisfied: nvidia-cuda-nvrtc-cu11==11.7.99 in /usr/local/lib/python3.10/dist-packages (from torch>=1.10->transformer-lens==0.0.0) (11.7.99)\n",
            "Requirement already satisfied: wheel in /usr/local/lib/python3.10/dist-packages (from nvidia-cublas-cu11==11.10.3.66->torch>=1.10->transformer-lens==0.0.0) (0.40.0)\n",
            "Requirement already satisfied: setuptools in /usr/local/lib/python3.10/dist-packages (from nvidia-cublas-cu11==11.10.3.66->torch>=1.10->transformer-lens==0.0.0) (67.7.2)\n",
            "Requirement already satisfied: filelock in /usr/local/lib/python3.10/dist-packages (from transformers>=4.25.1->transformer-lens==0.0.0) (3.12.0)\n",
            "Requirement already satisfied: tokenizers!=0.11.3,<0.14,>=0.11.1 in /usr/local/lib/python3.10/dist-packages (from transformers>=4.25.1->transformer-lens==0.0.0) (0.13.3)\n",
            "Requirement already satisfied: regex!=2019.12.17 in /usr/local/lib/python3.10/dist-packages (from transformers>=4.25.1->transformer-lens==0.0.0) (2022.10.31)\n",
            "Requirement already satisfied: docker-pycreds>=0.4.0 in /usr/local/lib/python3.10/dist-packages (from wandb>=0.13.5->transformer-lens==0.0.0) (0.4.0)\n",
            "Requirement already satisfied: setproctitle in /usr/local/lib/python3.10/dist-packages (from wandb>=0.13.5->transformer-lens==0.0.0) (1.3.2)\n",
            "Requirement already satisfied: appdirs>=1.4.3 in /usr/local/lib/python3.10/dist-packages (from wandb>=0.13.5->transformer-lens==0.0.0) (1.4.4)\n",
            "Requirement already satisfied: GitPython!=3.1.29,>=1.0.0 in /usr/local/lib/python3.10/dist-packages (from wandb>=0.13.5->transformer-lens==0.0.0) (3.1.31)\n",
            "Requirement already satisfied: sentry-sdk>=1.0.0 in /usr/local/lib/python3.10/dist-packages (from wandb>=0.13.5->transformer-lens==0.0.0) (1.21.1)\n",
            "Requirement already satisfied: pathtools in /usr/local/lib/python3.10/dist-packages (from wandb>=0.13.5->transformer-lens==0.0.0) (0.1.2)\n",
            "Requirement already satisfied: Click!=8.0.0,>=7.0 in /usr/local/lib/python3.10/dist-packages (from wandb>=0.13.5->transformer-lens==0.0.0) (8.1.3)\n",
            "Requirement already satisfied: protobuf!=4.21.0,<5,>=3.19.0 in /usr/local/lib/python3.10/dist-packages (from wandb>=0.13.5->transformer-lens==0.0.0) (3.20.3)\n",
            "Requirement already satisfied: psutil>=5.0.0 in /usr/local/lib/python3.10/dist-packages (from wandb>=0.13.5->transformer-lens==0.0.0) (5.9.5)\n",
            "Requirement already satisfied: six>=1.4.0 in /usr/local/lib/python3.10/dist-packages (from docker-pycreds>=0.4.0->wandb>=0.13.5->transformer-lens==0.0.0) (1.16.0)\n",
            "Requirement already satisfied: attrs>=17.3.0 in /usr/local/lib/python3.10/dist-packages (from aiohttp->datasets>=2.7.1->transformer-lens==0.0.0) (23.1.0)\n",
            "Requirement already satisfied: frozenlist>=1.1.1 in /usr/local/lib/python3.10/dist-packages (from aiohttp->datasets>=2.7.1->transformer-lens==0.0.0) (1.3.3)\n",
            "Requirement already satisfied: yarl<2.0,>=1.0 in /usr/local/lib/python3.10/dist-packages (from aiohttp->datasets>=2.7.1->transformer-lens==0.0.0) (1.9.2)\n",
            "Requirement already satisfied: charset-normalizer<4.0,>=2.0 in /usr/local/lib/python3.10/dist-packages (from aiohttp->datasets>=2.7.1->transformer-lens==0.0.0) (2.0.12)\n",
            "Requirement already satisfied: aiosignal>=1.1.2 in /usr/local/lib/python3.10/dist-packages (from aiohttp->datasets>=2.7.1->transformer-lens==0.0.0) (1.3.1)\n",
            "Requirement already satisfied: async-timeout<5.0,>=4.0.0a3 in /usr/local/lib/python3.10/dist-packages (from aiohttp->datasets>=2.7.1->transformer-lens==0.0.0) (4.0.2)\n",
            "Requirement already satisfied: multidict<7.0,>=4.5 in /usr/local/lib/python3.10/dist-packages (from aiohttp->datasets>=2.7.1->transformer-lens==0.0.0) (6.0.4)\n",
            "Requirement already satisfied: gitdb<5,>=4.0.1 in /usr/local/lib/python3.10/dist-packages (from GitPython!=3.1.29,>=1.0.0->wandb>=0.13.5->transformer-lens==0.0.0) (4.0.10)\n",
            "Requirement already satisfied: mdurl~=0.1 in /usr/local/lib/python3.10/dist-packages (from markdown-it-py<3.0.0,>=2.2.0->rich>=12.6.0->transformer-lens==0.0.0) (0.1.2)\n",
            "Requirement already satisfied: urllib3<1.27,>=1.21.1 in /usr/local/lib/python3.10/dist-packages (from requests>=2.19.0->datasets>=2.7.1->transformer-lens==0.0.0) (1.26.15)\n",
            "Requirement already satisfied: idna<4,>=2.5 in /usr/local/lib/python3.10/dist-packages (from requests>=2.19.0->datasets>=2.7.1->transformer-lens==0.0.0) (3.4)\n",
            "Requirement already satisfied: certifi>=2017.4.17 in /usr/local/lib/python3.10/dist-packages (from requests>=2.19.0->datasets>=2.7.1->transformer-lens==0.0.0) (2022.12.7)\n",
            "Requirement already satisfied: smmap<6,>=3.0.1 in /usr/local/lib/python3.10/dist-packages (from gitdb<5,>=4.0.1->GitPython!=3.1.29,>=1.0.0->wandb>=0.13.5->transformer-lens==0.0.0) (5.0.0)\n",
            "Looking in indexes: https://pypi.org/simple, https://us-python.pkg.dev/colab-wheels/public/simple/\n",
            "Requirement already satisfied: circuitsvis in /usr/local/lib/python3.10/dist-packages (1.39.1)\n",
            "Requirement already satisfied: importlib-metadata<6.0.0,>=5.1.0 in /usr/local/lib/python3.10/dist-packages (from circuitsvis) (5.2.0)\n",
            "Requirement already satisfied: numpy<2.0,>=1.23 in /usr/local/lib/python3.10/dist-packages (from circuitsvis) (1.24.3)\n",
            "Requirement already satisfied: torch<2.0,>=1.10 in /usr/local/lib/python3.10/dist-packages (from circuitsvis) (1.13.1)\n",
            "Requirement already satisfied: zipp>=0.5 in /usr/local/lib/python3.10/dist-packages (from importlib-metadata<6.0.0,>=5.1.0->circuitsvis) (3.15.0)\n",
            "Requirement already satisfied: typing-extensions in /usr/local/lib/python3.10/dist-packages (from torch<2.0,>=1.10->circuitsvis) (4.5.0)\n",
            "Requirement already satisfied: nvidia-cuda-nvrtc-cu11==11.7.99 in /usr/local/lib/python3.10/dist-packages (from torch<2.0,>=1.10->circuitsvis) (11.7.99)\n",
            "Requirement already satisfied: nvidia-cuda-runtime-cu11==11.7.99 in /usr/local/lib/python3.10/dist-packages (from torch<2.0,>=1.10->circuitsvis) (11.7.99)\n",
            "Requirement already satisfied: nvidia-cublas-cu11==11.10.3.66 in /usr/local/lib/python3.10/dist-packages (from torch<2.0,>=1.10->circuitsvis) (11.10.3.66)\n",
            "Requirement already satisfied: nvidia-cudnn-cu11==8.5.0.96 in /usr/local/lib/python3.10/dist-packages (from torch<2.0,>=1.10->circuitsvis) (8.5.0.96)\n",
            "Requirement already satisfied: setuptools in /usr/local/lib/python3.10/dist-packages (from nvidia-cublas-cu11==11.10.3.66->torch<2.0,>=1.10->circuitsvis) (67.7.2)\n",
            "Requirement already satisfied: wheel in /usr/local/lib/python3.10/dist-packages (from nvidia-cublas-cu11==11.10.3.66->torch<2.0,>=1.10->circuitsvis) (0.40.0)\n"
          ]
        }
      ]
    },
    {
      "cell_type": "code",
      "source": [],
      "metadata": {
        "id": "RAgrfa-3rCs8"
      },
      "execution_count": null,
      "outputs": []
    },
    {
      "cell_type": "code",
      "source": [
        "# Some imports (probably too many)\n",
        "\n",
        "import circuitsvis as cv\n",
        "import torch\n",
        "import torch.nn as nn\n",
        "import torch.nn.functional as F\n",
        "import torch.optim as optim\n",
        "import numpy as np\n",
        "import einops\n",
        "from fancy_einsum import einsum\n",
        "import tqdm.auto as tqdm\n",
        "import random\n",
        "from pathlib import Path\n",
        "import plotly.express as px\n",
        "from torch.utils.data import DataLoader\n",
        "\n",
        "from jaxtyping import Float, Int\n",
        "from typing import List, Union, Optional\n",
        "from functools import partial\n",
        "import copy\n",
        "\n",
        "import itertools\n",
        "from transformers import AutoModelForCausalLM, AutoConfig, AutoTokenizer\n",
        "import dataclasses\n",
        "import datasets\n",
        "from IPython.display import HTML\n",
        "import transformer_lens\n",
        "import transformer_lens.utils as utils\n",
        "from transformer_lens.hook_points import (\n",
        "    HookedRootModule,\n",
        "    HookPoint,\n",
        ")  # Hooking utilities\n",
        "from transformer_lens import HookedTransformer, HookedTransformerConfig, FactoredMatrix, ActivationCache\n",
        "import time\n",
        "\n",
        "\n",
        "import functools\n",
        "\n",
        "import transformer_lens.patching as patching"
      ],
      "metadata": {
        "id": "-5fm9XjCBoTD"
      },
      "execution_count": null,
      "outputs": []
    },
    {
      "cell_type": "code",
      "source": [
        "# I will use this to import the only attn transformer.\n",
        "\n",
        "from google.colab import drive\n",
        "drive.mount('/content/drive')"
      ],
      "metadata": {
        "colab": {
          "base_uri": "https://localhost:8080/"
        },
        "id": "CrhjD0pICXOb",
        "outputId": "e9075a59-dc31-42ab-cc25-dd4a1e531436"
      },
      "execution_count": null,
      "outputs": [
        {
          "output_type": "stream",
          "name": "stdout",
          "text": [
            "Drive already mounted at /content/drive; to attempt to forcibly remount, call drive.mount(\"/content/drive\", force_remount=True).\n"
          ]
        }
      ]
    },
    {
      "cell_type": "code",
      "source": [
        "torch.set_grad_enabled(False)\n",
        "device = \"cuda\" if torch.cuda.is_available() else \"cpu\"\n"
      ],
      "metadata": {
        "id": "TPbU4yT6B018"
      },
      "execution_count": null,
      "outputs": []
    },
    {
      "cell_type": "code",
      "source": [
        "# The two models I will use gpt2_small and attn_only:\n",
        "\n",
        "gpt2_small = HookedTransformer.from_pretrained(\"gpt2-small\", device=device)\n",
        "\n",
        "weights_path = \"/content/drive/MyDrive/Data/attn_only_2L_half.pth\"\n",
        "\n",
        "cfg = HookedTransformerConfig(\n",
        "        d_model=768,\n",
        "        d_head=64,\n",
        "        n_heads=12,\n",
        "        n_layers=2,\n",
        "        n_ctx=2048,\n",
        "        d_vocab=50278,\n",
        "        attention_dir=\"causal\", # defaults to \"bidirectional\"\n",
        "        attn_only=True, # defaults to False\n",
        "        tokenizer_name=\"EleutherAI/gpt-neox-20b\",\n",
        "        seed=398,\n",
        "        use_attn_result=True,\n",
        "        normalization_type=None, # defaults to \"LN\", i.e. layernorm with weights & biases\n",
        "        positional_embedding_type=\"shortformer\"\n",
        ")\n",
        "\n",
        "attn_only = HookedTransformer(cfg)\n",
        "pretrained_weights = torch.load(weights_path, map_location=device)\n",
        "attn_only.load_state_dict(pretrained_weights)"
      ],
      "metadata": {
        "colab": {
          "base_uri": "https://localhost:8080/"
        },
        "id": "BGUwBMPnB1dG",
        "outputId": "84a804c1-833c-4430-d79f-793c129ba5e1"
      },
      "execution_count": null,
      "outputs": [
        {
          "output_type": "stream",
          "name": "stderr",
          "text": [
            "Using pad_token, but it is not set yet.\n"
          ]
        },
        {
          "output_type": "stream",
          "name": "stdout",
          "text": [
            "Loaded pretrained model gpt2-small into HookedTransformer\n"
          ]
        },
        {
          "output_type": "stream",
          "name": "stderr",
          "text": [
            "Using pad_token, but it is not set yet.\n"
          ]
        },
        {
          "output_type": "execute_result",
          "data": {
            "text/plain": [
              "<All keys matched successfully>"
            ]
          },
          "metadata": {},
          "execution_count": 5
        }
      ]
    },
    {
      "cell_type": "code",
      "source": [
        "# I ll answer the first question by looking at which tokens score highly as the next token.\n",
        "\n",
        "def print_top_k_last_token(model, text, k=10):\n",
        "  str_tokens = model.to_str_tokens(text)\n",
        "  logits = model(text, return_type = \"logits\")\n",
        "\n",
        "  k_logits, k_largest = torch.topk(logits[0,-1,:], k)\n",
        "  for i, logit in enumerate(k_logits):\n",
        "    print(f\"{i+1} | {model.to_string(k_largest[i])} | {logit}\")\n",
        "\n"
      ],
      "metadata": {
        "id": "N9brsXYvCpbf"
      },
      "execution_count": null,
      "outputs": []
    },
    {
      "cell_type": "code",
      "source": [
        "# An easy example:\n",
        "\n",
        "text = \"In cryptography, secure communication is often illustrated using Alice and\"\n",
        "print_top_k_last_token(gpt2_small, text)"
      ],
      "metadata": {
        "colab": {
          "base_uri": "https://localhost:8080/"
        },
        "id": "EE4lEF7gE5sV",
        "outputId": "8b4e4da9-149f-48b6-cc47-059086b81251"
      },
      "execution_count": null,
      "outputs": [
        {
          "output_type": "stream",
          "name": "stdout",
          "text": [
            "1 |  Bob | 22.862083435058594\n",
            "2 |  Bill | 17.67469596862793\n",
            "3 |  Wonderland | 17.009260177612305\n",
            "4 |  Ron | 16.987939834594727\n",
            "5 |  the | 16.929946899414062\n",
            "6 |  Nick | 16.80923080444336\n",
            "7 |  Jacob | 16.568485260009766\n",
            "8 |  Ben | 16.163223266601562\n",
            "9 |  Rob | 16.112186431884766\n",
            "10 |  Jack | 16.059738159179688\n"
          ]
        }
      ]
    },
    {
      "cell_type": "code",
      "source": [
        "text = \"In cryptography, secure communication is often illustrated using Bob and\"\n",
        "print_top_k_last_token(gpt2_small, text)"
      ],
      "metadata": {
        "colab": {
          "base_uri": "https://localhost:8080/"
        },
        "id": "HiTt0hAtHisz",
        "outputId": "9543ea17-be07-42f8-be44-0fec5f94a14f"
      },
      "execution_count": null,
      "outputs": [
        {
          "output_type": "stream",
          "name": "stdout",
          "text": [
            "1 |  Bob | 16.70122528076172\n",
            "2 |  Alice | 16.315021514892578\n",
            "3 |  the | 14.989341735839844\n",
            "4 |  Bill | 14.882482528686523\n",
            "5 |  Ell | 14.282912254333496\n",
            "6 |  Charlie | 14.117244720458984\n",
            "7 |  his | 14.106197357177734\n",
            "8 |  Jerry | 13.459790229797363\n",
            "9 |  Eve | 13.332417488098145\n",
            "10 |  Jack | 13.332345962524414\n"
          ]
        }
      ]
    },
    {
      "cell_type": "markdown",
      "source": [
        "At least there seems to be some correlation between the two names, however in this example they are very close, so it may be that the trigram \"Alice and Bob\" is very common."
      ],
      "metadata": {
        "id": "dlWC4czWGb6c"
      }
    },
    {
      "cell_type": "code",
      "source": [
        "text = \"Lets go over public-key cryptography, lets assume Bob wants to send a secure message to\"\n",
        "print_top_k_last_token(gpt2_small, text)"
      ],
      "metadata": {
        "colab": {
          "base_uri": "https://localhost:8080/"
        },
        "id": "vGHfM6hiFt8Q",
        "outputId": "89c0b1fd-b6aa-45c0-d50d-51921ce1c4f8"
      },
      "execution_count": null,
      "outputs": [
        {
          "output_type": "stream",
          "name": "stdout",
          "text": [
            "1 |  the | 14.01496410369873\n",
            "2 |  a | 13.859108924865723\n",
            "3 |  his | 13.481128692626953\n",
            "4 |  someone | 12.860709190368652\n",
            "5 |  Alice | 12.83881950378418\n",
            "6 |  Bob | 12.267598152160645\n",
            "7 |  an | 12.203741073608398\n",
            "8 |  everyone | 12.10692310333252\n",
            "9 |  Satoshi | 11.7417573928833\n",
            "10 |  some | 11.360934257507324\n"
          ]
        }
      ]
    },
    {
      "cell_type": "code",
      "source": [
        "text = \"In professional soccer, plays are normaly ilustrated using Alice and\"\n",
        "print_top_k_last_token(gpt2_small, text)"
      ],
      "metadata": {
        "colab": {
          "base_uri": "https://localhost:8080/"
        },
        "id": "eqDDLQoOHJde",
        "outputId": "bdcb3cef-d89e-4617-f005-6f969ad06687"
      },
      "execution_count": null,
      "outputs": [
        {
          "output_type": "stream",
          "name": "stdout",
          "text": [
            "1 |  Bob | 13.890080451965332\n",
            "2 |  the | 13.800544738769531\n",
            "3 |  Bill | 12.446436882019043\n",
            "4 |  Alice | 12.242537498474121\n",
            "5 |  Wonderland | 12.05294418334961\n",
            "6 |  Jack | 12.052478790283203\n",
            "7 |  John | 11.858514785766602\n",
            "8 |  her | 11.801490783691406\n",
            "9 |  Dave | 11.691384315490723\n",
            "10 |  Adam | 11.58998966217041\n"
          ]
        }
      ]
    },
    {
      "cell_type": "code",
      "source": [
        "text = \"In professional soccer, plays are normaly ilustrated using Bob and\"\n",
        "print_top_k_last_token(gpt2_small, text)"
      ],
      "metadata": {
        "colab": {
          "base_uri": "https://localhost:8080/"
        },
        "id": "hMospcPrJuSM",
        "outputId": "e0fe74fc-3dc1-4b39-d19c-ec921e8d85b2"
      },
      "execution_count": null,
      "outputs": [
        {
          "output_type": "stream",
          "name": "stdout",
          "text": [
            "1 |  the | 13.082548141479492\n",
            "2 |  his | 12.803836822509766\n",
            "3 |  Bob | 12.440136909484863\n",
            "4 |  Dave | 12.226999282836914\n",
            "5 |  Bill | 11.755409240722656\n",
            "6 |  Jerry | 11.678823471069336\n",
            "7 |  Mike | 11.398613929748535\n",
            "8 |  Jack | 11.354839324951172\n",
            "9 |  I | 11.330429077148438\n",
            "10 |  Joe | 11.306892395019531\n"
          ]
        }
      ]
    },
    {
      "cell_type": "code",
      "source": [
        "text = \"This afternoon, Bob is going to the cinema with\"\n",
        "print_top_k_last_token(gpt2_small, text, k = 20)"
      ],
      "metadata": {
        "colab": {
          "base_uri": "https://localhost:8080/"
        },
        "id": "hZuQ9Y_IHp07",
        "outputId": "2ae9e8af-5845-4a5a-fa83-5acf064a618b"
      },
      "execution_count": null,
      "outputs": [
        {
          "output_type": "stream",
          "name": "stdout",
          "text": [
            "1 |  his | 14.619878768920898\n",
            "2 |  a | 14.229316711425781\n",
            "3 |  the | 13.395949363708496\n",
            "4 |  my | 13.11326789855957\n",
            "5 |  some | 13.030168533325195\n",
            "6 |  me | 12.26167106628418\n",
            "7 |  an | 12.221197128295898\n",
            "8 |  friends | 11.897590637207031\n",
            "9 |  us | 11.554744720458984\n",
            "10 |  our | 11.477663040161133\n",
            "11 |  another | 11.465581893920898\n",
            "12 |  two | 11.315040588378906\n",
            "13 |  one | 11.293984413146973\n",
            "14 |  her | 11.093805313110352\n",
            "15 |  Bob | 10.999310493469238\n",
            "16 |  all | 10.662812232971191\n",
            "17 |  Bill | 10.657220840454102\n",
            "18 |  you | 10.634076118469238\n",
            "19 |  John | 10.62600326538086\n",
            "20 |  The | 10.525693893432617\n"
          ]
        }
      ]
    },
    {
      "cell_type": "markdown",
      "source": [
        "There seems to be always some connection between Alice an Bob, especially when Alice comes first.\n",
        "However the context does seem to have a visible effect, and the names are much more related if the context is cryptography.\n",
        "\n",
        "Lets try with other pairs."
      ],
      "metadata": {
        "id": "qv4cKkgiKJF7"
      }
    },
    {
      "cell_type": "code",
      "source": [
        "#text = 'From the dust of the ground, the Lord God formed Adam, and for his companion, He created'\n",
        "#text = 'From the dust of the ground, the Lord God formed Bob, and for his companion, He created'\n",
        "#text = \"In cryptography, secure communication is often illustrated using Adam and\"\n",
        "#text = \"This afternoon, Adam is going to the cinema with\"\n",
        "#text = \"When the serpent beguiled Eve, she partook of the forbidden fruit and shared it with\"\n",
        "#text = \"When the serpent beguiled Alice, she partook of the forbidden fruit and shared it with\"\n",
        "#text = \"Despite their criminal reputation, Bonnie was fiercely loyal to\"\n",
        "#text = \"Tom constantly devises cunning plans to catch\"\n",
        "text = \"In Hogwarts, Harry wants to send a secure message to\"\n",
        "text = \"In the Garden of Eden, Alice wants to send a message to\"\n",
        "text = \"In the Garden of Eden, if Alice wants to send a secure message to\"\n",
        "\n",
        "print_top_k_last_token(gpt2_small, text, k = 20)"
      ],
      "metadata": {
        "colab": {
          "base_uri": "https://localhost:8080/"
        },
        "id": "7lf61kC6H7_F",
        "outputId": "8408c939-8a15-4d12-b1ee-716c33d73bee"
      },
      "execution_count": null,
      "outputs": [
        {
          "output_type": "stream",
          "name": "stdout",
          "text": [
            "1 |  the | 15.496297836303711\n",
            "2 |  her | 15.360969543457031\n",
            "3 |  God | 14.738523483276367\n",
            "4 |  a | 14.463143348693848\n",
            "5 |  someone | 12.884888648986816\n",
            "6 |  an | 12.837688446044922\n",
            "7 |  Jesus | 12.71864128112793\n",
            "8 |  your | 12.607561111450195\n",
            "9 |  all | 12.55396842956543\n",
            "10 |  Adam | 12.546812057495117\n",
            "11 |  everyone | 12.442309379577637\n",
            "12 |  his | 12.24174690246582\n",
            "13 |  Bob | 12.176631927490234\n",
            "14 |  Abraham | 12.13146686553955\n",
            "15 |  another | 12.063867568969727\n",
            "16 |  one | 11.873207092285156\n",
            "17 |  anyone | 11.858263969421387\n",
            "18 |  Zeus | 11.688714981079102\n",
            "19 |  Alice | 11.67710018157959\n",
            "20 |  David | 11.650980949401855\n"
          ]
        }
      ]
    },
    {
      "cell_type": "markdown",
      "source": [
        "After some very minor exploration it seems that *Adam* and *Eve* behave similarly, often being associated but mainly in a given context. Other name pairs I have tried, like \"Bonnie and Clyde\" and \"Tom and Jerry\", dont seem to be associated enough to appear if there are far away in the sentence.\n",
        "\n",
        "Lets look in the smaller model."
      ],
      "metadata": {
        "id": "Qjq-_G_FQeLn"
      }
    },
    {
      "cell_type": "code",
      "source": [
        "text = 'From the dust of the ground, the Lord God formed Adam, and for his companion, He created'\n",
        "#text = \"Lets go over public-key cryptography, lets assume Bob wants to send a secure message to\"\n",
        "#text = \"In cryptography, secure communication is often illustrated using Alice and\"\n",
        "text = \"Two character of the Lord of the Rings are Adam and\"\n",
        "\n",
        "print_top_k_last_token(attn_only, text, k = 20)"
      ],
      "metadata": {
        "colab": {
          "base_uri": "https://localhost:8080/"
        },
        "id": "zKY5ZZ9qNyM6",
        "outputId": "5802a027-7b83-4ea3-fffc-5895574ee9b0"
      },
      "execution_count": null,
      "outputs": [
        {
          "output_type": "stream",
          "name": "stdout",
          "text": [
            "1 |  Eve | 12.149096488952637\n",
            "2 |  the | 9.916333198547363\n",
            "3 |  his | 9.643230438232422\n",
            "4 |  Adam | 9.612616539001465\n",
            "5 |  I | 8.75866985321045\n",
            "6 |  Jon | 8.377252578735352\n",
            "7 |  Will | 8.364314079284668\n",
            "8 |  David | 8.277421951293945\n",
            "9 |  Mary | 7.792721271514893\n",
            "10 |  Noah | 7.790463447570801\n",
            "11 |  are | 7.593355655670166\n",
            "12 |  Peter | 7.571305751800537\n",
            "13 |  Paul | 7.5581159591674805\n",
            "14 |  Luke | 7.537231922149658\n",
            "15 |  we | 7.3723297119140625\n",
            "16 |  Michael | 7.350755214691162\n",
            "17 |  two | 7.2414116859436035\n",
            "18 |  Lord | 7.241343975067139\n",
            "19 |  Sam | 7.231867790222168\n",
            "20 |  John | 7.219054222106934\n"
          ]
        }
      ]
    },
    {
      "cell_type": "markdown",
      "source": [
        "In the smaller attention only model, the names seem to be associated only if written together, regardless of context. So the behaviour I am looking for is not present. I will be looking at gpt2_small from now on.\n",
        "\n",
        "One first step to probe into the model can be plotting the attention patterns, if only becuase it is an easy step."
      ],
      "metadata": {
        "id": "NjH0wWtKSOQd"
      }
    },
    {
      "cell_type": "code",
      "source": [
        "def display_attn_pattern(model, layer, text):\n",
        "  logits, cache = model.run_with_cache(text, remove_batch_dim=True)\n",
        "\n",
        "  pattern = cache[\"pattern\", layer]\n",
        "  text_str_tokens = model.to_str_tokens(text)\n",
        "  display(cv.attention.attention_patterns(tokens=text_str_tokens, attention=pattern))"
      ],
      "metadata": {
        "id": "rolm_A6LH_Ng"
      },
      "execution_count": null,
      "outputs": []
    },
    {
      "cell_type": "code",
      "source": [
        "text = \"Lets go over public-key cryptography, lets assume Bob wants to send a secure message to\"\n",
        "display_attn_pattern(gpt2_small, 0, text)"
      ],
      "metadata": {
        "colab": {
          "base_uri": "https://localhost:8080/",
          "height": 357
        },
        "id": "rSs29BR-IQe1",
        "outputId": "578679fd-5742-41ed-c602-f5d7510b5bd4"
      },
      "execution_count": null,
      "outputs": [
        {
          "output_type": "display_data",
          "data": {
            "text/plain": [
              "<circuitsvis.utils.render.RenderedHTML at 0x7f7ac0eb4280>"
            ],
            "text/html": [
              "<div id=\"circuits-vis-681dc95a-a3b5\" style=\"margin: 15px 0;\"/>\n",
              "    <script crossorigin type=\"module\">\n",
              "    import { render, AttentionPatterns } from \"https://unpkg.com/circuitsvis@1.39.1/dist/cdn/esm.js\";\n",
              "    render(\n",
              "      \"circuits-vis-681dc95a-a3b5\",\n",
              "      AttentionPatterns,\n",
              "      {\"tokens\": [\"<|endoftext|>\", \"L\", \"ets\", \" go\", \" over\", \" public\", \"-\", \"key\", \" cryptography\", \",\", \" lets\", \" assume\", \" Bob\", \" wants\", \" to\", \" send\", \" a\", \" secure\", \" message\", \" to\"], \"attention\": [[[1.0, 0.0, 0.0, 0.0, 0.0, 0.0, 0.0, 0.0, 0.0, 0.0, 0.0, 0.0, 0.0, 0.0, 0.0, 0.0, 0.0, 0.0, 0.0, 0.0], [0.9632859230041504, 0.03671402856707573, 0.0, 0.0, 0.0, 0.0, 0.0, 0.0, 0.0, 0.0, 0.0, 0.0, 0.0, 0.0, 0.0, 0.0, 0.0, 0.0, 0.0, 0.0], [0.7642192840576172, 0.15439321100711823, 0.08138757944107056, 0.0, 0.0, 0.0, 0.0, 0.0, 0.0, 0.0, 0.0, 0.0, 0.0, 0.0, 0.0, 0.0, 0.0, 0.0, 0.0, 0.0], [0.6739073395729065, 0.15832798182964325, 0.09311114251613617, 0.0746535211801529, 0.0, 0.0, 0.0, 0.0, 0.0, 0.0, 0.0, 0.0, 0.0, 0.0, 0.0, 0.0, 0.0, 0.0, 0.0, 0.0], [0.5925028324127197, 0.08791829645633698, 0.1543916016817093, 0.12255354225635529, 0.04263369366526604, 0.0, 0.0, 0.0, 0.0, 0.0, 0.0, 0.0, 0.0, 0.0, 0.0, 0.0, 0.0, 0.0, 0.0, 0.0], [0.46354228258132935, 0.1004638820886612, 0.11373860388994217, 0.07144330441951752, 0.09292861819267273, 0.15788322687149048, 0.0, 0.0, 0.0, 0.0, 0.0, 0.0, 0.0, 0.0, 0.0, 0.0, 0.0, 0.0, 0.0, 0.0], [0.7169045805931091, 0.03704278543591499, 0.06349071115255356, 0.06407812237739563, 0.04903596639633179, 0.052133750170469284, 0.017314111813902855, 0.0, 0.0, 0.0, 0.0, 0.0, 0.0, 0.0, 0.0, 0.0, 0.0, 0.0, 0.0, 0.0], [0.34382331371307373, 0.05376534163951874, 0.10735190659761429, 0.054197147488594055, 0.05555827543139458, 0.1306426078081131, 0.03140785172581673, 0.2232535034418106, 0.0, 0.0, 0.0, 0.0, 0.0, 0.0, 0.0, 0.0, 0.0, 0.0, 0.0, 0.0], [0.34308916330337524, 0.11270472407341003, 0.048694219440221786, 0.03710836172103882, 0.07858303189277649, 0.03979019448161125, 0.06314034014940262, 0.09472222626209259, 0.18216775357723236, 0.0, 0.0, 0.0, 0.0, 0.0, 0.0, 0.0, 0.0, 0.0, 0.0, 0.0], [0.6179193258285522, 0.03506060317158699, 0.060609832406044006, 0.07599946111440659, 0.025722432881593704, 0.040279820561409, 0.016338281333446503, 0.04396876320242882, 0.07247429341077805, 0.01162711065262556, 0.0, 0.0, 0.0, 0.0, 0.0, 0.0, 0.0, 0.0, 0.0, 0.0], [0.2721824049949646, 0.05268976837396622, 0.039041053503751755, 0.0579848475754261, 0.04706976190209389, 0.07126536220312119, 0.041191216558218, 0.07521858811378479, 0.19425863027572632, 0.041851386427879333, 0.10724696516990662, 0.0, 0.0, 0.0, 0.0, 0.0, 0.0, 0.0, 0.0, 0.0], [0.2575708031654358, 0.03165031224489212, 0.0853167325258255, 0.0217678751796484, 0.038370899856090546, 0.08111121505498886, 0.042207952588796616, 0.09806723892688751, 0.16970306634902954, 0.03695331886410713, 0.044127751141786575, 0.09315282851457596, 0.0, 0.0, 0.0, 0.0, 0.0, 0.0, 0.0, 0.0], [0.21688209474086761, 0.029580606147646904, 0.022268502041697502, 0.014462278224527836, 0.01676931418478489, 0.02980230562388897, 0.037390876561403275, 0.03965450078248978, 0.42662179470062256, 0.06305002421140671, 0.020295143127441406, 0.042221423238515854, 0.04100115969777107, 0.0, 0.0, 0.0, 0.0, 0.0, 0.0, 0.0], [0.29099857807159424, 0.04651149734854698, 0.04141170158982277, 0.0347321592271328, 0.011304198764264584, 0.04347198083996773, 0.028918856754899025, 0.02614300698041916, 0.10354157537221909, 0.03259943798184395, 0.09459381550550461, 0.10009481757879257, 0.09642571955919266, 0.04925262928009033, 0.0, 0.0, 0.0, 0.0, 0.0, 0.0], [0.2639698088169098, 0.02235151268541813, 0.022658376023173332, 0.05291580781340599, 0.013188199140131474, 0.023089375346899033, 0.01819927990436554, 0.04775845259428024, 0.055789291858673096, 0.01953870803117752, 0.12395529448986053, 0.13367697596549988, 0.056968946009874344, 0.13302600383758545, 0.012913987040519714, 0.0, 0.0, 0.0, 0.0, 0.0], [0.14310692250728607, 0.033047500997781754, 0.02004971355199814, 0.056133922189474106, 0.01072212029248476, 0.04277394711971283, 0.018572404980659485, 0.02202088199555874, 0.36356934905052185, 0.025203438475728035, 0.06844628602266312, 0.050158098340034485, 0.023574328050017357, 0.04895048215985298, 0.01490019354969263, 0.05877048149704933, 0.0, 0.0, 0.0, 0.0], [0.3418410122394562, 0.019277984276413918, 0.014204788953065872, 0.02528110146522522, 0.014129546470940113, 0.04704054445028305, 0.014962480403482914, 0.03497833386063576, 0.03736060857772827, 0.013530947268009186, 0.1352970451116562, 0.0782548189163208, 0.05318474397063255, 0.07131614536046982, 0.011289147660136223, 0.0722232460975647, 0.015827519819140434, 0.0, 0.0, 0.0], [0.1497332602739334, 0.032711029052734375, 0.02141370251774788, 0.03270191326737404, 0.0167021956294775, 0.027347249910235405, 0.019010029733181, 0.03418487310409546, 0.19610606133937836, 0.02184228226542473, 0.07650631666183472, 0.06859828531742096, 0.0384729765355587, 0.09025143086910248, 0.018545066937804222, 0.06572616845369339, 0.019117312505841255, 0.0710299089550972, 0.0, 0.0], [0.14498113095760345, 0.014460335485637188, 0.030432669445872307, 0.021621035411953926, 0.009886618703603745, 0.0261679794639349, 0.00810874905437231, 0.024386586621403694, 0.353575199842453, 0.010035981424152851, 0.05242806673049927, 0.07228982448577881, 0.02179768867790699, 0.02955029532313347, 0.012291100807487965, 0.05440182611346245, 0.011571413837373257, 0.06571339815855026, 0.03630011901259422, 0.0], [0.19918674230575562, 0.014747862704098225, 0.014613848179578781, 0.037717435508966446, 0.008773203007876873, 0.015554727986454964, 0.012192883528769016, 0.02980789728462696, 0.0405622199177742, 0.012525632977485657, 0.08773557096719742, 0.09811181575059891, 0.03878506273031235, 0.09259681403636932, 0.008318163454532623, 0.09281367063522339, 0.018535876646637917, 0.10166255384683609, 0.06481840461492538, 0.010939563624560833]], [[1.0, 0.0, 0.0, 0.0, 0.0, 0.0, 0.0, 0.0, 0.0, 0.0, 0.0, 0.0, 0.0, 0.0, 0.0, 0.0, 0.0, 0.0, 0.0, 0.0], [0.00014406877744477242, 0.9998558759689331, 0.0, 0.0, 0.0, 0.0, 0.0, 0.0, 0.0, 0.0, 0.0, 0.0, 0.0, 0.0, 0.0, 0.0, 0.0, 0.0, 0.0, 0.0], [0.0004820447356905788, 0.0020240112207829952, 0.9974939823150635, 0.0, 0.0, 0.0, 0.0, 0.0, 0.0, 0.0, 0.0, 0.0, 0.0, 0.0, 0.0, 0.0, 0.0, 0.0, 0.0, 0.0], [0.0005730059347115457, 0.019101256504654884, 0.0008279655012302101, 0.9794977903366089, 0.0, 0.0, 0.0, 0.0, 0.0, 0.0, 0.0, 0.0, 0.0, 0.0, 0.0, 0.0, 0.0, 0.0, 0.0, 0.0], [0.00020587969629559666, 0.0011746569070965052, 9.830971248447895e-05, 0.0006353441858664155, 0.9978857636451721, 0.0, 0.0, 0.0, 0.0, 0.0, 0.0, 0.0, 0.0, 0.0, 0.0, 0.0, 0.0, 0.0, 0.0, 0.0], [0.0003291142638772726, 0.0013446897501125932, 0.0008241136092692614, 0.00019041713676415384, 0.0008785005193203688, 0.9964332580566406, 0.0, 0.0, 0.0, 0.0, 0.0, 0.0, 0.0, 0.0, 0.0, 0.0, 0.0, 0.0, 0.0, 0.0], [0.001062404946424067, 0.006233875639736652, 0.0015686459373682737, 0.0006464875768870115, 0.0014819417847320437, 0.00011931055632885545, 0.988887369632721, 0.0, 0.0, 0.0, 0.0, 0.0, 0.0, 0.0, 0.0, 0.0, 0.0, 0.0, 0.0, 0.0], [4.373463525553234e-05, 0.004082636442035437, 0.0001987043215194717, 0.0006129227695055306, 0.0001524309627711773, 0.00016398682782892138, 0.00020610792853403836, 0.9945394396781921, 0.0, 0.0, 0.0, 0.0, 0.0, 0.0, 0.0, 0.0, 0.0, 0.0, 0.0, 0.0], [2.7397867597755976e-05, 0.0007899873307906091, 4.1725194023456424e-05, 3.0161001632222906e-05, 6.27742410870269e-05, 0.0009493735851719975, 8.114453521557152e-05, 0.0005963162402622402, 0.9974212646484375, 0.0, 0.0, 0.0, 0.0, 0.0, 0.0, 0.0, 0.0, 0.0, 0.0, 0.0], [0.006898211780935526, 0.0016852110857143998, 0.000264960021013394, 0.00023021927336230874, 0.0005034341011196375, 3.3818374504335225e-05, 0.008063295856118202, 1.1315709343762137e-05, 0.0001632530038477853, 0.9821462035179138, 0.0, 0.0, 0.0, 0.0, 0.0, 0.0, 0.0, 0.0, 0.0, 0.0], [0.0005007029394619167, 0.002837063744664192, 0.0008257499430328608, 0.005653313361108303, 0.0007409047684632242, 0.00023838227207306772, 5.3499639761867e-05, 0.0004464161756914109, 0.0003223150270059705, 0.00010954656318062916, 0.9882721304893494, 0.0, 0.0, 0.0, 0.0, 0.0, 0.0, 0.0, 0.0, 0.0], [0.00013362210302148014, 0.0011502791894599795, 0.0001488126872573048, 0.0008618965512141585, 0.00029570446349680424, 0.00010987524001393467, 0.00035116547951474786, 2.172041786252521e-05, 0.00011016084317816421, 0.00012641148350667208, 0.0020478563383221626, 0.9946424961090088, 0.0, 0.0, 0.0, 0.0, 0.0, 0.0, 0.0, 0.0], [0.0004209543694742024, 0.0062159085646271706, 0.000242058711592108, 0.001613435335457325, 0.00039674891741015017, 0.0005568764754571021, 0.00011143478332087398, 0.0005844208644703031, 0.0012414809316396713, 5.6745524489087984e-05, 0.0004731202498078346, 6.84449923937791e-06, 0.9880799651145935, 0.0, 0.0, 0.0, 0.0, 0.0, 0.0, 0.0], [3.2347928936360404e-05, 0.000742988137062639, 0.00013153805048204958, 0.0015092063695192337, 6.708229193463922e-05, 0.00025178721989504993, 0.00011908715532626957, 0.00043677122448571026, 1.239933590113651e-05, 4.2036754166474566e-05, 0.010013299062848091, 0.0039502158761024475, 8.466163126286119e-05, 0.9826065301895142, 0.0, 0.0, 0.0, 0.0, 0.0, 0.0], [0.002747270744293928, 0.0026296244468539953, 0.00033848691964522004, 0.0009743092814460397, 0.02634735405445099, 4.674071533372626e-05, 0.007425353396683931, 0.0004296741390135139, 4.162295226706192e-05, 0.008657731115818024, 0.0003007107588928193, 5.408832657849416e-05, 0.0004062350490130484, 8.835332846501842e-05, 0.9495125412940979, 0.0, 0.0, 0.0, 0.0, 0.0], [0.0001654340885579586, 0.002546975389122963, 0.0004973776522092521, 0.004430902190506458, 0.00014220824232324958, 0.0004375007702037692, 0.00011344957601977512, 0.00010926957475021482, 0.0001581348042236641, 8.712062845006585e-05, 0.0021083978936076164, 0.0003315787762403488, 0.0008090531337074935, 0.0010081541258841753, 0.00046373382792808115, 0.9865906238555908, 0.0, 0.0, 0.0, 0.0], [0.0025780475698411465, 0.003899881150573492, 1.506247826910112e-05, 0.0005980159621685743, 0.0032099836971610785, 0.0003396902757231146, 0.0007258047698996961, 0.0003655779582913965, 7.599761829624185e-06, 0.000988105428405106, 5.722136120311916e-05, 0.0001341544120805338, 0.0006549927056767046, 3.7639802030753344e-05, 0.006813767831772566, 0.00012001693539787084, 0.9794544577598572, 0.0, 0.0, 0.0], [6.6054290073225275e-06, 7.402941992040724e-05, 8.351307042175904e-05, 4.093571624252945e-05, 0.0012067430652678013, 0.00038608245085924864, 2.1832340280525386e-05, 0.00020462021348066628, 0.0034572568256407976, 1.1628810170805082e-05, 0.001033906708471477, 0.0002083656727336347, 3.1977811886463314e-05, 0.00010952406591968611, 9.634588059270754e-05, 6.401905557140708e-05, 6.854160892544314e-05, 0.9928941130638123, 0.0, 0.0], [9.843098087003455e-05, 0.0006880494765937328, 0.0018461362924426794, 0.00030851326300762594, 9.774501813808456e-05, 0.002437027869746089, 0.0003323867858853191, 0.0010425618384033442, 0.0008951070485636592, 9.339864482171834e-05, 0.0012914856197312474, 0.00010167121217818931, 0.00022061803610995412, 0.0009347759187221527, 0.0007393314153887331, 0.023918570950627327, 6.408050103345886e-05, 0.0001890794956125319, 0.9647010564804077, 0.0], [0.001400214503519237, 0.0008137046825140715, 0.00014776263560634106, 0.00036394575727172196, 0.010953718796372414, 1.8323962649446912e-05, 0.0030985805206000805, 0.0002260135515825823, 1.7748952814145014e-05, 0.00394372409209609, 0.00012688699644058943, 2.156378104700707e-05, 0.00018428912153467536, 3.812411887338385e-05, 0.44124361872673035, 0.0002575028920546174, 0.0005418831715360284, 3.4973945730598643e-05, 5.339587005437352e-05, 0.5365140438079834]], [[1.0, 0.0, 0.0, 0.0, 0.0, 0.0, 0.0, 0.0, 0.0, 0.0, 0.0, 0.0, 0.0, 0.0, 0.0, 0.0, 0.0, 0.0, 0.0, 0.0], [0.9473674297332764, 0.05263252556324005, 0.0, 0.0, 0.0, 0.0, 0.0, 0.0, 0.0, 0.0, 0.0, 0.0, 0.0, 0.0, 0.0, 0.0, 0.0, 0.0, 0.0, 0.0], [0.8207455277442932, 0.1394330859184265, 0.03982141613960266, 0.0, 0.0, 0.0, 0.0, 0.0, 0.0, 0.0, 0.0, 0.0, 0.0, 0.0, 0.0, 0.0, 0.0, 0.0, 0.0, 0.0], [0.7920340299606323, 0.11361280083656311, 0.04323600232601166, 0.0511171892285347, 0.0, 0.0, 0.0, 0.0, 0.0, 0.0, 0.0, 0.0, 0.0, 0.0, 0.0, 0.0, 0.0, 0.0, 0.0, 0.0], [0.645720899105072, 0.11457302421331406, 0.04356646165251732, 0.08898375928401947, 0.10715588182210922, 0.0, 0.0, 0.0, 0.0, 0.0, 0.0, 0.0, 0.0, 0.0, 0.0, 0.0, 0.0, 0.0, 0.0, 0.0], [0.7224553823471069, 0.07308068126440048, 0.04428749531507492, 0.03863707184791565, 0.05049370974302292, 0.07104562968015671, 0.0, 0.0, 0.0, 0.0, 0.0, 0.0, 0.0, 0.0, 0.0, 0.0, 0.0, 0.0, 0.0, 0.0], [0.3521699011325836, 0.05533808097243309, 0.021081073209643364, 0.01666635274887085, 0.03667008876800537, 0.012528247199952602, 0.5055462718009949, 0.0, 0.0, 0.0, 0.0, 0.0, 0.0, 0.0, 0.0, 0.0, 0.0, 0.0, 0.0, 0.0], [0.6236721873283386, 0.07044202834367752, 0.05465666949748993, 0.03440123423933983, 0.06545940041542053, 0.08229327201843262, 0.05790093168616295, 0.011174219660460949, 0.0, 0.0, 0.0, 0.0, 0.0, 0.0, 0.0, 0.0, 0.0, 0.0, 0.0, 0.0], [0.6042718291282654, 0.06832502782344818, 0.04576445370912552, 0.022964831441640854, 0.02307310327887535, 0.04789259657263756, 0.04906323924660683, 0.034357376396656036, 0.10428750514984131, 0.0, 0.0, 0.0, 0.0, 0.0, 0.0, 0.0, 0.0, 0.0, 0.0, 0.0], [0.35736116766929626, 0.05942591652274132, 0.05012571066617966, 0.026100246235728264, 0.02218564599752426, 0.005686632357537746, 0.06557264178991318, 0.01442501787096262, 0.03612342104315758, 0.36299362778663635, 0.0, 0.0, 0.0, 0.0, 0.0, 0.0, 0.0, 0.0, 0.0, 0.0], [0.46436557173728943, 0.04822458699345589, 0.017473114654421806, 0.05515321344137192, 0.05162804201245308, 0.08969071507453918, 0.05428699776530266, 0.08067963272333145, 0.044903285801410675, 0.04329324886202812, 0.05030154064297676, 0.0, 0.0, 0.0, 0.0, 0.0, 0.0, 0.0, 0.0, 0.0], [0.5276231169700623, 0.046827707439661026, 0.034373652189970016, 0.04422605782747269, 0.05365645885467529, 0.066072016954422, 0.042524922639131546, 0.046256694942712784, 0.04276672750711441, 0.03672605752944946, 0.033849991858005524, 0.0250965915620327, 0.0, 0.0, 0.0, 0.0, 0.0, 0.0, 0.0, 0.0], [0.4390776455402374, 0.09075067937374115, 0.020052621141076088, 0.03442410007119179, 0.04955453425645828, 0.04213056340813637, 0.025439245626330376, 0.04372073709964752, 0.0878082811832428, 0.04021834582090378, 0.03252679482102394, 0.028379911556839943, 0.06591658294200897, 0.0, 0.0, 0.0, 0.0, 0.0, 0.0, 0.0], [0.4529377818107605, 0.03931713104248047, 0.029549915343523026, 0.03649019077420235, 0.04485994949936867, 0.03951210156083107, 0.054710328578948975, 0.01806420274078846, 0.04922211542725563, 0.029754716902971268, 0.08235442638397217, 0.05411624163389206, 0.02612616866827011, 0.04298480972647667, 0.0, 0.0, 0.0, 0.0, 0.0, 0.0], [0.29478147625923157, 0.04003964364528656, 0.020289791747927666, 0.04198572784662247, 0.07245446741580963, 0.023801768198609352, 0.05532853677868843, 0.028569171205163002, 0.0219574011862278, 0.05056246370077133, 0.06307462602853775, 0.04281584918498993, 0.0331912524998188, 0.06563010811805725, 0.14551770687103271, 0.0, 0.0, 0.0, 0.0, 0.0], [0.41159000992774963, 0.02747592143714428, 0.02034417912364006, 0.04134071618318558, 0.041340865194797516, 0.039379678666591644, 0.0379239022731781, 0.024752968922257423, 0.045357607305049896, 0.02944052778184414, 0.04125005751848221, 0.04285483807325363, 0.03433670476078987, 0.05426415801048279, 0.06360825151205063, 0.04473955184221268, 0.0, 0.0, 0.0, 0.0], [0.21998535096645355, 0.03030058555305004, 0.01685442216694355, 0.035673581063747406, 0.0746326893568039, 0.027733271941542625, 0.04111398383975029, 0.03971648961305618, 0.025931278243660927, 0.05367504432797432, 0.05572031810879707, 0.04311696067452431, 0.0353098064661026, 0.0849534198641777, 0.15988437831401825, 0.03718537464737892, 0.01821310818195343, 0.0, 0.0, 0.0], [0.3663783371448517, 0.025498704984784126, 0.023656262084841728, 0.020096411928534508, 0.03382100909948349, 0.1102939248085022, 0.030614865943789482, 0.04573081433773041, 0.07624467462301254, 0.01754228211939335, 0.02733430452644825, 0.036934852600097656, 0.02536124549806118, 0.029929006472229958, 0.036505814641714096, 0.0442424938082695, 0.03584940731525421, 0.013965574093163013, 0.0, 0.0], [0.3239862322807312, 0.026477845385670662, 0.01628793589770794, 0.03807046264410019, 0.03619943559169769, 0.06037839874625206, 0.03834165260195732, 0.011803588829934597, 0.033263642340898514, 0.02886827476322651, 0.047021057456731796, 0.04920559376478195, 0.03695545345544815, 0.04467087239027023, 0.048712365329265594, 0.043444301933050156, 0.06488565355539322, 0.009532378986477852, 0.041894782334566116, 0.0], [0.22258031368255615, 0.027743952348828316, 0.014053470455110073, 0.031818196177482605, 0.054511621594429016, 0.017366085201501846, 0.040338605642318726, 0.02319457195699215, 0.018155355006456375, 0.03773082047700882, 0.0498688668012619, 0.03455980122089386, 0.027886638417840004, 0.05225411057472229, 0.10916727036237717, 0.0406760536134243, 0.017241116613149643, 0.02335243485867977, 0.032314494252204895, 0.12518620491027832]], [[1.0, 0.0, 0.0, 0.0, 0.0, 0.0, 0.0, 0.0, 0.0, 0.0, 0.0, 0.0, 0.0, 0.0, 0.0, 0.0, 0.0, 0.0, 0.0, 0.0], [0.18087682127952576, 0.8191232085227966, 0.0, 0.0, 0.0, 0.0, 0.0, 0.0, 0.0, 0.0, 0.0, 0.0, 0.0, 0.0, 0.0, 0.0, 0.0, 0.0, 0.0, 0.0], [0.013740502297878265, 0.04320527985692024, 0.9430542588233948, 0.0, 0.0, 0.0, 0.0, 0.0, 0.0, 0.0, 0.0, 0.0, 0.0, 0.0, 0.0, 0.0, 0.0, 0.0, 0.0, 0.0], [0.023466037586331367, 0.0022064971271902323, 0.0018719513900578022, 0.9724554419517517, 0.0, 0.0, 0.0, 0.0, 0.0, 0.0, 0.0, 0.0, 0.0, 0.0, 0.0, 0.0, 0.0, 0.0, 0.0, 0.0], [0.0031544677913188934, 0.004327260889112949, 0.0029182028956711292, 0.0632205381989479, 0.9263795018196106, 0.0, 0.0, 0.0, 0.0, 0.0, 0.0, 0.0, 0.0, 0.0, 0.0, 0.0, 0.0, 0.0, 0.0, 0.0], [0.01292534451931715, 0.0005266504012979567, 0.00023253615654539317, 0.003562801517546177, 0.005344628356397152, 0.9774079918861389, 0.0, 0.0, 0.0, 0.0, 0.0, 0.0, 0.0, 0.0, 0.0, 0.0, 0.0, 0.0, 0.0, 0.0], [0.028001803904771805, 0.003917734604328871, 0.005426212679594755, 0.028135638684034348, 0.14455097913742065, 0.22684694826602936, 0.5631206631660461, 0.0, 0.0, 0.0, 0.0, 0.0, 0.0, 0.0, 0.0, 0.0, 0.0, 0.0, 0.0, 0.0], [0.013094770722091198, 0.0016824709018692374, 0.0013042989885434508, 0.005978265777230263, 0.008059087209403515, 0.007219304796308279, 0.00623468728736043, 0.9564272165298462, 0.0, 0.0, 0.0, 0.0, 0.0, 0.0, 0.0, 0.0, 0.0, 0.0, 0.0, 0.0], [0.0002537980326451361, 1.4027157249074662e-06, 1.1768742297135759e-05, 1.1518925020936877e-05, 6.053478955436731e-06, 0.00022012158297002316, 5.5773057283659e-06, 0.0008774112211540341, 0.9986122846603394, 0.0, 0.0, 0.0, 0.0, 0.0, 0.0, 0.0, 0.0, 0.0, 0.0, 0.0], [0.03162821754813194, 0.0010169866727665067, 0.0021248948760330677, 0.00966943334788084, 0.010503245517611504, 0.007498424034565687, 0.028793951496481895, 0.022929171100258827, 0.11175035685300827, 0.774085283279419, 0.0, 0.0, 0.0, 0.0, 0.0, 0.0, 0.0, 0.0, 0.0, 0.0], [0.0012217038311064243, 1.9264085494796745e-05, 5.083819996798411e-05, 0.00027423936990089715, 6.97679934091866e-05, 9.150387631962076e-05, 0.00013472125283442438, 0.0002617177087813616, 0.0046056522987782955, 0.0026812765281647444, 0.9905891418457031, 0.0, 0.0, 0.0, 0.0, 0.0, 0.0, 0.0, 0.0, 0.0], [0.0005113986553624272, 7.534664746344788e-06, 2.2470083422376774e-05, 1.885800520540215e-05, 3.726148133864626e-05, 0.00021041088621132076, 3.408958582440391e-05, 0.00019087587133981287, 0.001833373331464827, 0.00017567900067660958, 0.019191453233361244, 0.9777665138244629, 0.0, 0.0, 0.0, 0.0, 0.0, 0.0, 0.0, 0.0], [0.000244451395701617, 1.8971161352965282e-06, 3.7310360312403645e-07, 8.680483915668447e-06, 1.3846480442225584e-06, 1.3748903256782796e-05, 1.0937872048089048e-06, 2.189100268878974e-05, 0.0003137037856504321, 1.1792652003350668e-05, 0.00108800595626235, 5.382995732361451e-05, 0.9982391595840454, 0.0, 0.0, 0.0, 0.0, 0.0, 0.0, 0.0], [0.0006814633379690349, 6.438920991058694e-06, 1.5175144653767347e-05, 3.833660593954846e-05, 1.1247522706980817e-05, 0.00012834354129154235, 5.405657793744467e-05, 0.00013286780449561775, 0.0003504113992676139, 0.0007697551045566797, 0.02420591562986374, 0.0058126915246248245, 0.009190193377435207, 0.9586032032966614, 0.0, 0.0, 0.0, 0.0, 0.0, 0.0], [0.0033615196589380503, 7.238243415486068e-05, 5.8789231843547896e-05, 0.0016415903810411692, 0.0010289757046848536, 0.0002699185279197991, 0.0005927762249484658, 0.006390618626028299, 0.0034271548502147198, 0.008954641409218311, 0.031245842576026917, 0.03952159360051155, 0.011636828072369099, 0.07049006968736649, 0.8213073015213013, 0.0, 0.0, 0.0, 0.0, 0.0], [0.00021070337970741093, 4.913207476420212e-07, 5.121083290759998e-07, 4.1881830838974565e-06, 5.995483434162452e-07, 7.775393896736205e-06, 1.6423231272710836e-06, 2.079428668366745e-05, 4.775141132995486e-05, 3.7956655432935804e-05, 0.0024578971788287163, 0.0011766455136239529, 0.00046740390826016665, 0.0045389155857264996, 0.0015095279086381197, 0.9895172715187073, 0.0, 0.0, 0.0, 0.0], [0.0061240531504154205, 3.2828698749653995e-05, 4.61070412711706e-05, 0.00011394094326533377, 0.0001772208051988855, 0.00026669708313420415, 0.00045590847730636597, 0.00042619294254109263, 0.0016703975852578878, 0.004712112247943878, 0.005091724917292595, 0.013682709075510502, 0.004009786061942577, 0.013693843968212605, 0.06368988007307053, 0.13410061597824097, 0.7517058849334717, 0.0, 0.0, 0.0], [0.000268151838099584, 2.3035048002384428e-07, 7.647450956937973e-07, 2.0424489832748804e-07, 1.127636210185301e-06, 6.561599730048329e-05, 1.0732164810178801e-06, 3.093303803325398e-06, 4.814350540982559e-05, 2.641640094225295e-06, 0.00010808863589772955, 0.0006387718021869659, 7.703846495132893e-05, 0.0003766822046600282, 0.00011585075117181987, 0.0016145799309015274, 0.0007249625050462782, 0.9959530830383301, 0.0, 0.0], [0.0004963519750162959, 4.1199572820005415e-07, 5.239417077973485e-06, 1.0907824616879225e-06, 2.1748521703557344e-06, 0.00017716988804750144, 2.840307388396468e-06, 0.00021463620942085981, 0.0005236250581219792, 4.823897143069189e-06, 8.020866516744718e-05, 0.00018681096844375134, 0.00016161699022632092, 0.00020433439931366593, 0.00016203938866965473, 0.0017301419284194708, 0.00021440829732455313, 0.020265325903892517, 0.9755666851997375, 0.0], [0.001022922806441784, 9.92448713077465e-06, 9.2525979198399e-06, 0.00016087532276287675, 7.518274651374668e-05, 1.6464473446831107e-05, 3.0089553547441028e-05, 0.0003721338580362499, 0.00016021696501411498, 0.0002833327744156122, 0.0009942185133695602, 0.0012361765839159489, 0.0003052236861549318, 0.0018487656489014626, 0.01676895283162594, 0.10163724422454834, 0.037032339721918106, 0.02459169551730156, 0.11378982663154602, 0.6996551752090454]], [[1.0, 0.0, 0.0, 0.0, 0.0, 0.0, 0.0, 0.0, 0.0, 0.0, 0.0, 0.0, 0.0, 0.0, 0.0, 0.0, 0.0, 0.0, 0.0, 0.0], [0.7955791354179382, 0.20442083477973938, 0.0, 0.0, 0.0, 0.0, 0.0, 0.0, 0.0, 0.0, 0.0, 0.0, 0.0, 0.0, 0.0, 0.0, 0.0, 0.0, 0.0, 0.0], [0.06847387552261353, 0.44644466042518616, 0.4850814640522003, 0.0, 0.0, 0.0, 0.0, 0.0, 0.0, 0.0, 0.0, 0.0, 0.0, 0.0, 0.0, 0.0, 0.0, 0.0, 0.0, 0.0], [0.402992844581604, 0.10592642426490784, 0.034354742616415024, 0.4567260146141052, 0.0, 0.0, 0.0, 0.0, 0.0, 0.0, 0.0, 0.0, 0.0, 0.0, 0.0, 0.0, 0.0, 0.0, 0.0, 0.0], [0.1807628870010376, 0.06005796045064926, 0.012697713449597359, 0.4700583219528198, 0.2764231562614441, 0.0, 0.0, 0.0, 0.0, 0.0, 0.0, 0.0, 0.0, 0.0, 0.0, 0.0, 0.0, 0.0, 0.0, 0.0], [0.3066667914390564, 0.014162985607981682, 0.009689957834780216, 0.02221067063510418, 0.08566199988126755, 0.5616075992584229, 0.0, 0.0, 0.0, 0.0, 0.0, 0.0, 0.0, 0.0, 0.0, 0.0, 0.0, 0.0, 0.0, 0.0], [0.09551376849412918, 0.027542779222130775, 0.009792003780603409, 0.09472136199474335, 0.16831059753894806, 0.45208436250686646, 0.15203522145748138, 0.0, 0.0, 0.0, 0.0, 0.0, 0.0, 0.0, 0.0, 0.0, 0.0, 0.0, 0.0, 0.0], [0.017381375655531883, 0.006579382810741663, 0.0050608632154762745, 0.04195917025208473, 0.013761581853032112, 0.016676628962159157, 0.01940690539777279, 0.8791741132736206, 0.0, 0.0, 0.0, 0.0, 0.0, 0.0, 0.0, 0.0, 0.0, 0.0, 0.0, 0.0], [0.023445596918463707, 0.0009818542748689651, 0.0006710424786433578, 0.0026771370321512222, 0.0017049064626917243, 0.001644738600589335, 0.0007757326820865273, 0.015167692676186562, 0.9529313445091248, 0.0, 0.0, 0.0, 0.0, 0.0, 0.0, 0.0, 0.0, 0.0, 0.0, 0.0], [0.12130218744277954, 0.027393212541937828, 0.02121106907725334, 0.038328349590301514, 0.058222971856594086, 0.031584031879901886, 0.06950648874044418, 0.11889522522687912, 0.12070098519325256, 0.3928554654121399, 0.0, 0.0, 0.0, 0.0, 0.0, 0.0, 0.0, 0.0, 0.0, 0.0], [0.02395455166697502, 0.003941804636269808, 0.003688829019665718, 0.013395578600466251, 0.02094067633152008, 0.01813710853457451, 0.012020867317914963, 0.03143327310681343, 0.0274717528373003, 0.04698304459452629, 0.7980324029922485, 0.0, 0.0, 0.0, 0.0, 0.0, 0.0, 0.0, 0.0, 0.0], [0.010000198148190975, 0.0048746769316494465, 0.00044914052705280483, 0.001583077828399837, 0.0022839189041405916, 0.005132731981575489, 0.0021738982759416103, 0.003964167553931475, 0.004768674261868, 0.0046899765729904175, 0.026679271832108498, 0.9334002733230591, 0.0, 0.0, 0.0, 0.0, 0.0, 0.0, 0.0, 0.0], [0.00193577550817281, 0.000654786650557071, 0.00014051137259230018, 0.00047236698446795344, 0.00035310309613123536, 0.0005423869588412344, 0.0003561668563634157, 0.0006191551801748574, 0.003067367011681199, 0.0016700500855222344, 0.0028469706885516644, 0.0024044327437877655, 0.9849368929862976, 0.0, 0.0, 0.0, 0.0, 0.0, 0.0, 0.0], [0.011365958489477634, 0.0008041699766181409, 0.001521532074548304, 0.0071318792179226875, 0.00941028818488121, 0.006655371747910976, 0.006671061273664236, 0.017076998949050903, 0.010233057662844658, 0.01941773295402527, 0.09682776778936386, 0.1306702345609665, 0.22146768867969513, 0.4607461392879486, 0.0, 0.0, 0.0, 0.0, 0.0, 0.0], [0.007215930614620447, 0.0005411932361312211, 0.00037998109473846853, 0.007939303293824196, 0.0040818871930241585, 0.004696930758655071, 0.0018178027821704745, 0.009087593294680119, 0.009374241344630718, 0.004115762189030647, 0.0543304942548275, 0.17626163363456726, 0.012989601120352745, 0.6142622828483582, 0.09290537983179092, 0.0, 0.0, 0.0, 0.0, 0.0], [0.015210701152682304, 0.002039050916209817, 0.00031226559076458216, 0.003028067061677575, 0.002630822826176882, 0.006149812135845423, 0.0013401517644524574, 0.001207678928039968, 0.03529014438390732, 0.004528178367763758, 0.0469193160533905, 0.024435706436634064, 0.053414929658174515, 0.01648670807480812, 0.02154187671840191, 0.7654646039009094, 0.0, 0.0, 0.0, 0.0], [0.015288506634533405, 0.0011636392446234822, 0.0014526379527524114, 0.00629307609051466, 0.004339945036917925, 0.003821135498583317, 0.0025594434700906277, 0.00267390045337379, 0.005216113291680813, 0.006668861489742994, 0.0454535186290741, 0.07290220260620117, 0.03464216738939285, 0.126285582780838, 0.05302876979112625, 0.47449997067451477, 0.14371056854724884, 0.0, 0.0, 0.0], [0.017275530844926834, 0.0018988280789926648, 0.0006900675361976027, 0.0012945911148563027, 0.0020031200256198645, 0.0028680898249149323, 0.0006634757737629116, 0.0012012379011139274, 0.017634153366088867, 0.0012014887761324644, 0.010261062532663345, 0.020463699474930763, 0.0019243390997871757, 0.004552458878606558, 0.007139984983950853, 0.01901208981871605, 0.013965348713099957, 0.8759505748748779, 0.0, 0.0], [0.00723262270912528, 0.00019382812024559826, 0.00037511976552195847, 0.001253367867320776, 0.0018912488594651222, 0.015445707365870476, 0.0008255508146248758, 0.0038056783378124237, 0.05983511358499527, 0.0013581410748884082, 0.004559542518109083, 0.008118280209600925, 0.011770447716116905, 0.004691253881901503, 0.0050364951603114605, 0.08812832087278366, 0.010220153257250786, 0.3348526954650879, 0.44040632247924805, 0.0], [0.006420052610337734, 0.0003622110525611788, 0.0002989414206240326, 0.004768993239849806, 0.00219525839202106, 0.002134264213964343, 0.0007550458540208638, 0.0037552162539213896, 0.0033108440693467855, 0.0012633055448532104, 0.016236700117588043, 0.047839611768722534, 0.003116039792075753, 0.16492241621017456, 0.023682745173573494, 0.25365304946899414, 0.034355152398347855, 0.05139099061489105, 0.2154749482870102, 0.1640642136335373]], [[1.0, 0.0, 0.0, 0.0, 0.0, 0.0, 0.0, 0.0, 0.0, 0.0, 0.0, 0.0, 0.0, 0.0, 0.0, 0.0, 0.0, 0.0, 0.0, 0.0], [0.2896231710910797, 0.7103767991065979, 0.0, 0.0, 0.0, 0.0, 0.0, 0.0, 0.0, 0.0, 0.0, 0.0, 0.0, 0.0, 0.0, 0.0, 0.0, 0.0, 0.0, 0.0], [0.03450455889105797, 5.36832885700278e-05, 0.9654418230056763, 0.0, 0.0, 0.0, 0.0, 0.0, 0.0, 0.0, 0.0, 0.0, 0.0, 0.0, 0.0, 0.0, 0.0, 0.0, 0.0, 0.0], [0.11191041767597198, 0.0011313733411952853, 0.005978943780064583, 0.8809792995452881, 0.0, 0.0, 0.0, 0.0, 0.0, 0.0, 0.0, 0.0, 0.0, 0.0, 0.0, 0.0, 0.0, 0.0, 0.0, 0.0], [0.06761452555656433, 0.0022138573694974184, 0.0009570861584506929, 0.0009327582665719092, 0.928281843662262, 0.0, 0.0, 0.0, 0.0, 0.0, 0.0, 0.0, 0.0, 0.0, 0.0, 0.0, 0.0, 0.0, 0.0, 0.0], [0.018120894208550453, 9.811363270273432e-05, 0.000494833686389029, 1.0326829396944959e-05, 2.527921060391236e-05, 0.9812505841255188, 0.0, 0.0, 0.0, 0.0, 0.0, 0.0, 0.0, 0.0, 0.0, 0.0, 0.0, 0.0, 0.0, 0.0], [0.08219493925571442, 0.024640757590532303, 0.006381536368280649, 0.011151420883834362, 0.016124170273542404, 0.01683809421956539, 0.8426690697669983, 0.0, 0.0, 0.0, 0.0, 0.0, 0.0, 0.0, 0.0, 0.0, 0.0, 0.0, 0.0, 0.0], [0.013866811990737915, 0.00015375312068499625, 5.676298314938322e-05, 4.0119150071404874e-05, 2.5905080747179454e-06, 3.4190292353741825e-05, 1.7299493038080982e-06, 0.9858441352844238, 0.0, 0.0, 0.0, 0.0, 0.0, 0.0, 0.0, 0.0, 0.0, 0.0, 0.0, 0.0], [0.00010875918815145269, 2.10106332332316e-08, 3.8835938198644726e-07, 3.1419766344242817e-08, 1.9892834046686403e-09, 1.7336701318981795e-07, 2.90608870301412e-10, 2.490213091732585e-06, 0.9998881816864014, 0.0, 0.0, 0.0, 0.0, 0.0, 0.0, 0.0, 0.0, 0.0, 0.0, 0.0], [0.19707612693309784, 0.09354730695486069, 0.06270072609186172, 0.08476585894823074, 0.05048903450369835, 0.03329493850469589, 0.10094840824604034, 0.012593111023306847, 0.017847588285803795, 0.3467369079589844, 0.0, 0.0, 0.0, 0.0, 0.0, 0.0, 0.0, 0.0, 0.0, 0.0], [0.004713984671980143, 0.00011166840704390779, 0.0019039373146370053, 0.0002894365170504898, 6.461639713961631e-05, 7.911294233053923e-06, 2.788370636608306e-07, 0.00013894826406612992, 5.21856163686607e-05, 4.1068759060181037e-07, 0.9927166104316711, 0.0, 0.0, 0.0, 0.0, 0.0, 0.0, 0.0, 0.0, 0.0], [0.0006468051578849554, 2.4985536128951935e-06, 1.2179098121123388e-05, 2.8504937290563248e-05, 6.7999390012118965e-06, 5.314930717759125e-07, 1.0024483998449796e-07, 7.98024643700046e-07, 4.644996636216092e-07, 1.1233036900648585e-07, 1.635859916859772e-05, 0.9992849230766296, 0.0, 0.0, 0.0, 0.0, 0.0, 0.0, 0.0, 0.0], [0.014922406524419785, 7.689509948249906e-05, 5.6072538427542895e-05, 0.000149972052895464, 1.5693450450271484e-06, 8.489303581882268e-06, 4.727620819267031e-07, 8.982612052932382e-05, 0.00021539536828640848, 4.515138698479859e-07, 2.710330045374576e-05, 8.818340546667969e-08, 0.984451174736023, 0.0, 0.0, 0.0, 0.0, 0.0, 0.0, 0.0], [0.007260912097990513, 0.0002979256969410926, 0.0010722564766183496, 0.00028039171593263745, 4.685404564952478e-05, 0.00033419072860851884, 1.3645561693920172e-06, 0.0001183370259241201, 4.820083177037304e-06, 6.73813417506608e-07, 0.00213108048774302, 0.0002801626396831125, 1.8076785636367276e-05, 0.9881529211997986, 0.0, 0.0, 0.0, 0.0, 0.0, 0.0], [0.07169905304908752, 0.03287455067038536, 0.013499037362635136, 0.051067184656858444, 0.07950574904680252, 0.05347398668527603, 0.043153949081897736, 0.011332756839692593, 0.0023153056390583515, 0.028287263587117195, 0.0059007443487644196, 0.00430487422272563, 0.0020585372112691402, 0.040316808968782425, 0.5602102279663086, 0.0, 0.0, 0.0, 0.0, 0.0], [0.003680821042507887, 5.2879062423016876e-05, 0.001186224864795804, 0.0021137711592018604, 5.7711249610292725e-06, 0.0001421064807800576, 6.051782861504762e-07, 1.9650073227239773e-05, 1.0594102604954969e-05, 2.029066052955386e-07, 0.0001345872151432559, 7.3339483606105205e-06, 1.5654291928512976e-05, 6.752024637535214e-05, 3.3973819313359854e-07, 0.9925619959831238, 0.0, 0.0, 0.0, 0.0], [0.0686449185013771, 0.10078858584165573, 0.0071729314513504505, 0.028966618701815605, 0.060118477791547775, 0.03037184104323387, 0.05083179473876953, 0.004332744982093573, 0.0004913064185529947, 0.03224167600274086, 0.004673544317483902, 0.003435276448726654, 0.0028658348601311445, 0.007982848212122917, 0.0630468800663948, 0.0051389578729867935, 0.5288957953453064, 0.0, 0.0, 0.0], [0.0004963318933732808, 1.0283186384185683e-05, 9.593283175490797e-05, 3.1235895221470855e-06, 2.52173890658014e-06, 5.264200081001036e-05, 1.1322739368324619e-07, 1.1258834092586767e-05, 0.0001864801743067801, 1.2401588200816605e-08, 5.2956555009586737e-05, 1.9238959794165567e-06, 4.825429300581163e-07, 5.658771442540456e-06, 4.402770414912993e-08, 2.6508310838835314e-05, 1.287821618234375e-07, 0.9990536570549011, 0.0, 0.0], [0.007995910942554474, 1.5692077795392834e-05, 0.000636464508716017, 4.265585812390782e-05, 3.2181058031710563e-06, 0.003399226348847151, 5.131681973580271e-06, 0.0005106445169076324, 0.00025484690559096634, 4.806270226254128e-07, 7.203772838693112e-06, 8.017981940611207e-07, 2.0308964394644136e-06, 3.17868689307943e-05, 9.589386991137872e-07, 0.00023652146046515554, 6.526976790155459e-07, 1.9249342585681006e-05, 0.9868365526199341, 0.0], [0.02954351156949997, 0.020559068769216537, 0.007091480307281017, 0.03209798410534859, 0.04693460837006569, 0.027592230588197708, 0.024331621825695038, 0.006887331139296293, 0.0011009403970092535, 0.014010409824550152, 0.0037788767367601395, 0.0022310412023216486, 0.0012265343684703112, 0.023955296725034714, 0.3301006257534027, 0.0025376337580382824, 0.11378098279237747, 0.006728517822921276, 0.004738412797451019, 0.30077293515205383]], [[1.0, 0.0, 0.0, 0.0, 0.0, 0.0, 0.0, 0.0, 0.0, 0.0, 0.0, 0.0, 0.0, 0.0, 0.0, 0.0, 0.0, 0.0, 0.0, 0.0], [0.9415115714073181, 0.058488428592681885, 0.0, 0.0, 0.0, 0.0, 0.0, 0.0, 0.0, 0.0, 0.0, 0.0, 0.0, 0.0, 0.0, 0.0, 0.0, 0.0, 0.0, 0.0], [0.703579843044281, 0.14460302889347076, 0.15181715786457062, 0.0, 0.0, 0.0, 0.0, 0.0, 0.0, 0.0, 0.0, 0.0, 0.0, 0.0, 0.0, 0.0, 0.0, 0.0, 0.0, 0.0], [0.638566792011261, 0.1316157579421997, 0.13792233169078827, 0.09189507365226746, 0.0, 0.0, 0.0, 0.0, 0.0, 0.0, 0.0, 0.0, 0.0, 0.0, 0.0, 0.0, 0.0, 0.0, 0.0, 0.0], [0.47763532400131226, 0.09390973299741745, 0.13006502389907837, 0.20765940845012665, 0.09073049575090408, 0.0, 0.0, 0.0, 0.0, 0.0, 0.0, 0.0, 0.0, 0.0, 0.0, 0.0, 0.0, 0.0, 0.0, 0.0], [0.5310660004615784, 0.049661584198474884, 0.11386862397193909, 0.09779777377843857, 0.04808802902698517, 0.1595180481672287, 0.0, 0.0, 0.0, 0.0, 0.0, 0.0, 0.0, 0.0, 0.0, 0.0, 0.0, 0.0, 0.0, 0.0], [0.3749307692050934, 0.06043911352753639, 0.11650767177343369, 0.10062963515520096, 0.07134543359279633, 0.2656218409538269, 0.010525566525757313, 0.0, 0.0, 0.0, 0.0, 0.0, 0.0, 0.0, 0.0, 0.0, 0.0, 0.0, 0.0, 0.0], [0.41956189274787903, 0.059379078447818756, 0.15704454481601715, 0.11292457580566406, 0.04989364743232727, 0.1003861203789711, 0.026945482939481735, 0.07386470586061478, 0.0, 0.0, 0.0, 0.0, 0.0, 0.0, 0.0, 0.0, 0.0, 0.0, 0.0, 0.0], [0.4796352684497833, 0.06265752762556076, 0.06572151184082031, 0.01994185522198677, 0.023387696593999863, 0.06872497498989105, 0.06486701965332031, 0.057516228407621384, 0.15754784643650055, 0.0, 0.0, 0.0, 0.0, 0.0, 0.0, 0.0, 0.0, 0.0, 0.0, 0.0], [0.1529427468776703, 0.033912163227796555, 0.04475836083292961, 0.032269030809402466, 0.02658792957663536, 0.09569347649812698, 0.0077334120869636536, 0.1292475163936615, 0.47218838334083557, 0.004667005036026239, 0.0, 0.0, 0.0, 0.0, 0.0, 0.0, 0.0, 0.0, 0.0, 0.0], [0.20735423266887665, 0.03773348033428192, 0.04328572750091553, 0.033693574368953705, 0.04288892447948456, 0.15430793166160583, 0.03652423247694969, 0.06951683014631271, 0.22643573582172394, 0.037319477647542953, 0.11093983054161072, 0.0, 0.0, 0.0, 0.0, 0.0, 0.0, 0.0, 0.0, 0.0], [0.2341805100440979, 0.03090001456439495, 0.0312625989317894, 0.04717645049095154, 0.02748112939298153, 0.1361888200044632, 0.019560370594263077, 0.04526621848344803, 0.2260064035654068, 0.025168301537632942, 0.08896750956773758, 0.08784175664186478, 0.0, 0.0, 0.0, 0.0, 0.0, 0.0, 0.0, 0.0], [0.2146979123353958, 0.055484067648649216, 0.06524988263845444, 0.025131409987807274, 0.03149278461933136, 0.067827008664608, 0.03185078501701355, 0.04203609749674797, 0.20965218544006348, 0.03963952511548996, 0.04013406112790108, 0.04136960208415985, 0.13543465733528137, 0.0, 0.0, 0.0, 0.0, 0.0, 0.0, 0.0], [0.15011435747146606, 0.023273946717381477, 0.021435130387544632, 0.021121807396411896, 0.020602820441126823, 0.12312889099121094, 0.015675384551286697, 0.06450310349464417, 0.150617316365242, 0.020995626226067543, 0.08222149312496185, 0.09349996596574783, 0.16710494458675385, 0.04570517688989639, 0.0, 0.0, 0.0, 0.0, 0.0, 0.0], [0.06533419340848923, 0.011548366397619247, 0.015912819653749466, 0.028448916971683502, 0.022894691675901413, 0.0375635102391243, 0.0033864679280668497, 0.03696274384856224, 0.12274494022130966, 0.0035648054908961058, 0.15311363339424133, 0.07577750831842422, 0.044515520334243774, 0.11324266344308853, 0.26498928666114807, 0.0, 0.0, 0.0, 0.0, 0.0], [0.15849393606185913, 0.018448347225785255, 0.021847683936357498, 0.019391287118196487, 0.026252033188939095, 0.14365527033805847, 0.01107504777610302, 0.02815873920917511, 0.22909881174564362, 0.013985893689095974, 0.0462687611579895, 0.03915967047214508, 0.1408681422472, 0.045093193650245667, 0.009391509927809238, 0.048811689019203186, 0.0, 0.0, 0.0, 0.0], [0.050187427550554276, 0.007254466414451599, 0.01402471773326397, 0.024623313918709755, 0.009920796379446983, 0.07273051142692566, 0.0019090290879830718, 0.04597241431474686, 0.20636872947216034, 0.0013545979745686054, 0.13142189383506775, 0.08830186724662781, 0.11627347022294998, 0.10400637239217758, 0.005669803358614445, 0.11687736958265305, 0.0031031908001750708, 0.0, 0.0, 0.0], [0.14754575490951538, 0.00949123129248619, 0.02063189260661602, 0.01750873401761055, 0.0117777856066823, 0.0848330408334732, 0.008937502279877663, 0.04699653759598732, 0.21031925082206726, 0.013142283074557781, 0.04655424505472183, 0.04547189176082611, 0.05230018123984337, 0.04138045385479927, 0.00802882481366396, 0.10348287969827652, 0.012813166715204716, 0.11878428608179092, 0.0, 0.0], [0.12756240367889404, 0.009808748960494995, 0.01619788259267807, 0.014266496524214745, 0.008433646522462368, 0.15088216960430145, 0.0044386484660208225, 0.01708023063838482, 0.22881890833377838, 0.006287188734859228, 0.025802627205848694, 0.03462047129869461, 0.0454261340200901, 0.03079945035278797, 0.00545252813026309, 0.036441024392843246, 0.005571513902395964, 0.1568434238433838, 0.07526649534702301, 0.0], [0.03506199270486832, 0.005709747318178415, 0.007835897617042065, 0.01488978136330843, 0.012157443910837173, 0.020411338657140732, 0.0016800136072561145, 0.019273530691862106, 0.06669481843709946, 0.001723174354992807, 0.08499454706907272, 0.04118696600198746, 0.02437513694167137, 0.060830868780612946, 0.14896495640277863, 0.09881996363401413, 0.003103336552157998, 0.09817609190940857, 0.05112284794449806, 0.20298758149147034]], [[1.0, 0.0, 0.0, 0.0, 0.0, 0.0, 0.0, 0.0, 0.0, 0.0, 0.0, 0.0, 0.0, 0.0, 0.0, 0.0, 0.0, 0.0, 0.0, 0.0], [0.9639331698417664, 0.03606683015823364, 0.0, 0.0, 0.0, 0.0, 0.0, 0.0, 0.0, 0.0, 0.0, 0.0, 0.0, 0.0, 0.0, 0.0, 0.0, 0.0, 0.0, 0.0], [0.49694719910621643, 0.45862048864364624, 0.04443224519491196, 0.0, 0.0, 0.0, 0.0, 0.0, 0.0, 0.0, 0.0, 0.0, 0.0, 0.0, 0.0, 0.0, 0.0, 0.0, 0.0, 0.0], [0.5167089700698853, 0.17353050410747528, 0.14004911482334137, 0.1697113960981369, 0.0, 0.0, 0.0, 0.0, 0.0, 0.0, 0.0, 0.0, 0.0, 0.0, 0.0, 0.0, 0.0, 0.0, 0.0, 0.0], [0.3236229419708252, 0.12626591324806213, 0.03568712994456291, 0.30164435505867004, 0.21277964115142822, 0.0, 0.0, 0.0, 0.0, 0.0, 0.0, 0.0, 0.0, 0.0, 0.0, 0.0, 0.0, 0.0, 0.0, 0.0], [0.27418947219848633, 0.08608595281839371, 0.07997250556945801, 0.18168064951896667, 0.27251747250556946, 0.10555395483970642, 0.0, 0.0, 0.0, 0.0, 0.0, 0.0, 0.0, 0.0, 0.0, 0.0, 0.0, 0.0, 0.0, 0.0], [0.12564224004745483, 0.06322645395994186, 0.02766953781247139, 0.14734719693660736, 0.13384848833084106, 0.27555131912231445, 0.22671477496623993, 0.0, 0.0, 0.0, 0.0, 0.0, 0.0, 0.0, 0.0, 0.0, 0.0, 0.0, 0.0, 0.0], [0.09127122908830643, 0.035308320075273514, 0.0051862383261322975, 0.04176094010472298, 0.05630844458937645, 0.594828724861145, 0.14028681814670563, 0.03504931926727295, 0.0, 0.0, 0.0, 0.0, 0.0, 0.0, 0.0, 0.0, 0.0, 0.0, 0.0, 0.0], [0.1704769730567932, 0.015739453956484795, 0.030183181166648865, 0.03130226954817772, 0.09894634038209915, 0.18706189095973969, 0.17429862916469574, 0.2092670351266861, 0.08272430300712585, 0.0, 0.0, 0.0, 0.0, 0.0, 0.0, 0.0, 0.0, 0.0, 0.0, 0.0], [0.05521261692047119, 0.018522970378398895, 0.006640163715928793, 0.02849186211824417, 0.03359431028366089, 0.03939922899007797, 0.08765263110399246, 0.14640676975250244, 0.2373138666152954, 0.34676554799079895, 0.0, 0.0, 0.0, 0.0, 0.0, 0.0, 0.0, 0.0, 0.0, 0.0], [0.04949440434575081, 0.0074029224924743176, 0.004208980593830347, 0.023196477442979813, 0.03057641163468361, 0.01908840797841549, 0.05276302248239517, 0.09916110336780548, 0.09081978350877762, 0.31478145718574524, 0.3085070252418518, 0.0, 0.0, 0.0, 0.0, 0.0, 0.0, 0.0, 0.0, 0.0], [0.0808972641825676, 0.008303874172270298, 0.0020306361839175224, 0.009738925844430923, 0.018182694911956787, 0.014296759851276875, 0.033098310232162476, 0.05854324251413345, 0.07594754546880722, 0.1966295689344406, 0.38770511746406555, 0.11462601274251938, 0.0, 0.0, 0.0, 0.0, 0.0, 0.0, 0.0, 0.0], [0.09779079258441925, 0.007527071982622147, 0.006709017790853977, 0.007878602482378483, 0.021446028724312782, 0.015286454930901527, 0.036650191992521286, 0.01782713644206524, 0.03670956939458847, 0.16954690217971802, 0.20055390894412994, 0.22543999552726746, 0.15663428604602814, 0.0, 0.0, 0.0, 0.0, 0.0, 0.0, 0.0], [0.02683296427130699, 0.003190866904333234, 0.0013998468639329076, 0.005978092551231384, 0.008696078322827816, 0.0106962313875556, 0.017421256750822067, 0.008274492807686329, 0.023117534816265106, 0.10566030442714691, 0.1462608426809311, 0.22471144795417786, 0.22673553228378296, 0.19102449715137482, 0.0, 0.0, 0.0, 0.0, 0.0, 0.0], [0.030121950432658195, 0.002672867150977254, 0.001958846813067794, 0.006559028290212154, 0.005138383712619543, 0.006636214442551136, 0.009649687446653843, 0.02098514884710312, 0.03345656022429466, 0.04939759150147438, 0.08448071032762527, 0.11757257580757141, 0.17539358139038086, 0.1814543902873993, 0.27452242374420166, 0.0, 0.0, 0.0, 0.0, 0.0], [0.020888658240437508, 0.002603108063340187, 0.0022723490837961435, 0.0023153028450906277, 0.0055121262557804585, 0.004717356525361538, 0.007247318979352713, 0.016212159767746925, 0.009306810796260834, 0.03851208835840225, 0.08777417242527008, 0.03589572012424469, 0.11527075618505478, 0.19848282635211945, 0.283984899520874, 0.1690044105052948, 0.0, 0.0, 0.0, 0.0], [0.02534758858382702, 0.0028254424687474966, 0.0009567518718540668, 0.003718046471476555, 0.002994499634951353, 0.0033186099026352167, 0.005710626021027565, 0.008107172325253487, 0.012459736317396164, 0.02464701049029827, 0.03569263964891434, 0.04820636659860611, 0.027777353301644325, 0.07826244086027145, 0.1463853120803833, 0.26743561029434204, 0.3061547875404358, 0.0, 0.0, 0.0], [0.03723478317260742, 0.001865313039161265, 0.0013651776826009154, 0.0035171431954950094, 0.005246994085609913, 0.007491386961191893, 0.006020009517669678, 0.010790113359689713, 0.02937074936926365, 0.02679210901260376, 0.04151547700166702, 0.018992111086845398, 0.03495251387357712, 0.059009939432144165, 0.1251942217350006, 0.16751649975776672, 0.32927998900413513, 0.09384550154209137, 0.0, 0.0], [0.011444739997386932, 0.0011218811850994825, 0.001450890558771789, 0.002173997927457094, 0.002304969122633338, 0.005505518056452274, 0.0023096890654414892, 0.00372442789375782, 0.004227613098919392, 0.01345565915107727, 0.01734810695052147, 0.023532718420028687, 0.011611566878855228, 0.031223511323332787, 0.06817785650491714, 0.1336512565612793, 0.17503724992275238, 0.3994600474834442, 0.09223834425210953, 0.0], [0.021323440596461296, 0.0013033092254772782, 0.0010024774819612503, 0.0026246695779263973, 0.0017198827117681503, 0.0018244419479742646, 0.002385337371379137, 0.005378055386245251, 0.0066749476827681065, 0.008543838746845722, 0.014418232254683971, 0.01902618445456028, 0.0239481832832098, 0.02465096302330494, 0.03247348964214325, 0.09576117992401123, 0.1186511367559433, 0.09935522824525833, 0.19800421595573425, 0.3209308385848999]], [[1.0, 0.0, 0.0, 0.0, 0.0, 0.0, 0.0, 0.0, 0.0, 0.0, 0.0, 0.0, 0.0, 0.0, 0.0, 0.0, 0.0, 0.0, 0.0, 0.0], [0.820399820804596, 0.17960013449192047, 0.0, 0.0, 0.0, 0.0, 0.0, 0.0, 0.0, 0.0, 0.0, 0.0, 0.0, 0.0, 0.0, 0.0, 0.0, 0.0, 0.0, 0.0], [0.5852366089820862, 0.38432902097702026, 0.030434349551796913, 0.0, 0.0, 0.0, 0.0, 0.0, 0.0, 0.0, 0.0, 0.0, 0.0, 0.0, 0.0, 0.0, 0.0, 0.0, 0.0, 0.0], [0.5578774213790894, 0.22045791149139404, 0.07424221187829971, 0.14742249250411987, 0.0, 0.0, 0.0, 0.0, 0.0, 0.0, 0.0, 0.0, 0.0, 0.0, 0.0, 0.0, 0.0, 0.0, 0.0, 0.0], [0.3753821849822998, 0.15051428973674774, 0.07456545531749725, 0.18542301654815674, 0.21411505341529846, 0.0, 0.0, 0.0, 0.0, 0.0, 0.0, 0.0, 0.0, 0.0, 0.0, 0.0, 0.0, 0.0, 0.0, 0.0], [0.5304141044616699, 0.14669567346572876, 0.026814468204975128, 0.07307902723550797, 0.1277136206626892, 0.09528311342000961, 0.0, 0.0, 0.0, 0.0, 0.0, 0.0, 0.0, 0.0, 0.0, 0.0, 0.0, 0.0, 0.0, 0.0], [0.2166416496038437, 0.17386622726917267, 0.02255643904209137, 0.0800267904996872, 0.10021435469388962, 0.053869038820266724, 0.3528255224227905, 0.0, 0.0, 0.0, 0.0, 0.0, 0.0, 0.0, 0.0, 0.0, 0.0, 0.0, 0.0, 0.0], [0.35159066319465637, 0.09005019813776016, 0.07846555858850479, 0.11926885694265366, 0.11801667511463165, 0.035564497113227844, 0.12949474155902863, 0.07754883915185928, 0.0, 0.0, 0.0, 0.0, 0.0, 0.0, 0.0, 0.0, 0.0, 0.0, 0.0, 0.0], [0.4836406707763672, 0.0747821033000946, 0.014548681676387787, 0.05593603849411011, 0.06089217588305473, 0.10571158677339554, 0.0769895538687706, 0.03648186847567558, 0.09101742506027222, 0.0, 0.0, 0.0, 0.0, 0.0, 0.0, 0.0, 0.0, 0.0, 0.0, 0.0], [0.07118798047304153, 0.02754461206495762, 0.005020410753786564, 0.020457763224840164, 0.035505183041095734, 0.017328226938843727, 0.33989325165748596, 0.021886205300688744, 0.008584464900195599, 0.4525918960571289, 0.0, 0.0, 0.0, 0.0, 0.0, 0.0, 0.0, 0.0, 0.0, 0.0], [0.2561502158641815, 0.0793195441365242, 0.019519824534654617, 0.06737067550420761, 0.08540639281272888, 0.06104358285665512, 0.14851373434066772, 0.057364463806152344, 0.021195577457547188, 0.15447793900966644, 0.04963810369372368, 0.0, 0.0, 0.0, 0.0, 0.0, 0.0, 0.0, 0.0, 0.0], [0.26451870799064636, 0.05966717004776001, 0.020665960386395454, 0.09361819177865982, 0.08647758513689041, 0.05283651500940323, 0.06754273921251297, 0.06399387866258621, 0.08494506776332855, 0.0845339447259903, 0.088372603058815, 0.03282763808965683, 0.0, 0.0, 0.0, 0.0, 0.0, 0.0, 0.0, 0.0], [0.27339842915534973, 0.05508247762918472, 0.0397552065551281, 0.04380697011947632, 0.0754525437951088, 0.024416480213403702, 0.08945956081151962, 0.019355587661266327, 0.06809487193822861, 0.09588232636451721, 0.0933186486363411, 0.057622116059064865, 0.06435476988554001, 0.0, 0.0, 0.0, 0.0, 0.0, 0.0, 0.0], [0.2603040933609009, 0.06594574451446533, 0.017372217029333115, 0.03815039247274399, 0.07267353683710098, 0.027714403346180916, 0.12551991641521454, 0.021661030128598213, 0.026474997401237488, 0.12205559015274048, 0.06573422253131866, 0.08289387077093124, 0.029942262917757034, 0.043557725846767426, 0.0, 0.0, 0.0, 0.0, 0.0, 0.0], [0.03332284092903137, 0.016978273168206215, 0.0028038674499839544, 0.018559865653514862, 0.03363509476184845, 0.015750693157315254, 0.18869216740131378, 0.012724243104457855, 0.007913184352219105, 0.23782120645046234, 0.019233539700508118, 0.013594566844403744, 0.008493601344525814, 0.01686379313468933, 0.37361305952072144, 0.0, 0.0, 0.0, 0.0, 0.0], [0.15558888018131256, 0.03901037573814392, 0.023122146725654602, 0.02583860605955124, 0.03720662742853165, 0.03150767460465431, 0.06799182295799255, 0.04373844712972641, 0.06785625964403152, 0.10037513077259064, 0.06413273513317108, 0.07457730174064636, 0.045959457755088806, 0.05041729286313057, 0.1378338783979416, 0.034843381494283676, 0.0, 0.0, 0.0, 0.0], [0.019836587831377983, 0.01203705184161663, 0.002156463684514165, 0.015002966858446598, 0.01623695157468319, 0.011607098393142223, 0.1069934144616127, 0.005795428063720465, 0.010856552049517632, 0.1490614414215088, 0.01877625845372677, 0.014825104735791683, 0.009624617174267769, 0.016453159973025322, 0.1619238704442978, 0.010662592947483063, 0.4181504547595978, 0.0, 0.0, 0.0], [0.10449715703725815, 0.016757795587182045, 0.01216863188892603, 0.0277844425290823, 0.03957318887114525, 0.0688803419470787, 0.028868429362773895, 0.06204688921570778, 0.13942164182662964, 0.03201664239168167, 0.08862455934286118, 0.04003715142607689, 0.08033338934183121, 0.04443620890378952, 0.06237839162349701, 0.0742788091301918, 0.028461698442697525, 0.049434594810009, 0.0, 0.0], [0.13528698682785034, 0.01709863543510437, 0.010775096714496613, 0.022509969770908356, 0.026711253449320793, 0.02684464119374752, 0.033290084451436996, 0.01619436778128147, 0.17869028449058533, 0.03213115781545639, 0.06921939551830292, 0.07875404506921768, 0.01577167771756649, 0.04477406665682793, 0.0437898188829422, 0.07544055581092834, 0.06224774569272995, 0.08500555157661438, 0.025464653968811035, 0.0], [0.01770114153623581, 0.008304296061396599, 0.001399126136675477, 0.009479319676756859, 0.017016295343637466, 0.0082216402515769, 0.09735598415136337, 0.007015359587967396, 0.004432987421751022, 0.1224498376250267, 0.01039616297930479, 0.007394263055175543, 0.004292541649192572, 0.008834248408675194, 0.18818415701389313, 0.005290236324071884, 0.1995755136013031, 0.011375482194125652, 0.014617500826716423, 0.2566639482975006]], [[1.0, 0.0, 0.0, 0.0, 0.0, 0.0, 0.0, 0.0, 0.0, 0.0, 0.0, 0.0, 0.0, 0.0, 0.0, 0.0, 0.0, 0.0, 0.0, 0.0], [0.8697917461395264, 0.13020826876163483, 0.0, 0.0, 0.0, 0.0, 0.0, 0.0, 0.0, 0.0, 0.0, 0.0, 0.0, 0.0, 0.0, 0.0, 0.0, 0.0, 0.0, 0.0], [0.7921591401100159, 0.1545051485300064, 0.05333568900823593, 0.0, 0.0, 0.0, 0.0, 0.0, 0.0, 0.0, 0.0, 0.0, 0.0, 0.0, 0.0, 0.0, 0.0, 0.0, 0.0, 0.0], [0.7063215374946594, 0.1269436627626419, 0.07239226996898651, 0.09434249252080917, 0.0, 0.0, 0.0, 0.0, 0.0, 0.0, 0.0, 0.0, 0.0, 0.0, 0.0, 0.0, 0.0, 0.0, 0.0, 0.0], [0.6033101081848145, 0.12261977791786194, 0.06679858267307281, 0.09404730796813965, 0.11322419345378876, 0.0, 0.0, 0.0, 0.0, 0.0, 0.0, 0.0, 0.0, 0.0, 0.0, 0.0, 0.0, 0.0, 0.0, 0.0], [0.6646243929862976, 0.0877322256565094, 0.052324388176202774, 0.07958877831697464, 0.07959982007741928, 0.03613044321537018, 0.0, 0.0, 0.0, 0.0, 0.0, 0.0, 0.0, 0.0, 0.0, 0.0, 0.0, 0.0, 0.0, 0.0], [0.47898077964782715, 0.11719871312379837, 0.06071101874113083, 0.07707392424345016, 0.09764514118432999, 0.06209390610456467, 0.10629644244909286, 0.0, 0.0, 0.0, 0.0, 0.0, 0.0, 0.0, 0.0, 0.0, 0.0, 0.0, 0.0, 0.0], [0.5077710151672363, 0.09714186191558838, 0.050327446311712265, 0.0692141130566597, 0.07205136865377426, 0.07221630215644836, 0.10031404346227646, 0.030963892117142677, 0.0, 0.0, 0.0, 0.0, 0.0, 0.0, 0.0, 0.0, 0.0, 0.0, 0.0, 0.0], [0.6572906374931335, 0.06192195415496826, 0.032612595707178116, 0.050996679812669754, 0.048835061490535736, 0.0343044139444828, 0.07112671434879303, 0.03406287357211113, 0.008849013596773148, 0.0, 0.0, 0.0, 0.0, 0.0, 0.0, 0.0, 0.0, 0.0, 0.0, 0.0], [0.3855203688144684, 0.08269179612398148, 0.05046900361776352, 0.0635041743516922, 0.07711583375930786, 0.05772379785776138, 0.08070618659257889, 0.05032644420862198, 0.057059671729803085, 0.09488269686698914, 0.0, 0.0, 0.0, 0.0, 0.0, 0.0, 0.0, 0.0, 0.0, 0.0], [0.3550987243652344, 0.05788891389966011, 0.048993565142154694, 0.06415646523237228, 0.05910034850239754, 0.05420033261179924, 0.07029067724943161, 0.05430043488740921, 0.08632121235132217, 0.08646513521671295, 0.06318417936563492, 0.0, 0.0, 0.0, 0.0, 0.0, 0.0, 0.0, 0.0, 0.0], [0.32583364844322205, 0.05124388635158539, 0.043559152632951736, 0.05741847679018974, 0.05621081963181496, 0.06401687860488892, 0.06514675170183182, 0.04690904542803764, 0.08537769317626953, 0.07651033997535706, 0.09386928379535675, 0.03390403464436531, 0.0, 0.0, 0.0, 0.0, 0.0, 0.0, 0.0, 0.0], [0.39512401819229126, 0.07528939098119736, 0.03151741996407509, 0.04316025599837303, 0.04132143035531044, 0.052839234471321106, 0.06583314388990402, 0.04180178418755531, 0.05135977640748024, 0.0740467831492424, 0.06468357890844345, 0.049178048968315125, 0.013845167122781277, 0.0, 0.0, 0.0, 0.0, 0.0, 0.0, 0.0], [0.28385671973228455, 0.04534853994846344, 0.036674369126558304, 0.05465971678495407, 0.04667176306247711, 0.04205040633678436, 0.0513494499027729, 0.04602211341261864, 0.060844991356134415, 0.0708315446972847, 0.09061693400144577, 0.06669457256793976, 0.046939969062805176, 0.05743886157870293, 0.0, 0.0, 0.0, 0.0, 0.0, 0.0], [0.24637660384178162, 0.051491741091012955, 0.029511259868741035, 0.04678719490766525, 0.05972937494516373, 0.051429636776447296, 0.05884157493710518, 0.040452148765325546, 0.042972635477781296, 0.07102298736572266, 0.058600183576345444, 0.04295160621404648, 0.04175088554620743, 0.05798079073429108, 0.10010140389204025, 0.0, 0.0, 0.0, 0.0, 0.0], [0.25642335414886475, 0.04122049733996391, 0.02683866210281849, 0.047342803329229355, 0.046289827674627304, 0.044634994119405746, 0.04823504760861397, 0.04137980565428734, 0.05442347005009651, 0.061666231602430344, 0.07459548860788345, 0.055089071393013, 0.04406024143099785, 0.05914313346147537, 0.08195891976356506, 0.016698451712727547, 0.0, 0.0, 0.0, 0.0], [0.2300390601158142, 0.04524289071559906, 0.025861043483018875, 0.03905723616480827, 0.05280347913503647, 0.04282769560813904, 0.05289303883910179, 0.0334969088435173, 0.03707023710012436, 0.06336427479982376, 0.045299891382455826, 0.037036459892988205, 0.0418473519384861, 0.05164511501789093, 0.08937688916921616, 0.03875744715332985, 0.07338102161884308, 0.0, 0.0, 0.0], [0.2759682536125183, 0.035488661378622055, 0.024730321019887924, 0.038291044533252716, 0.0435333214700222, 0.0426836833357811, 0.041392114013433456, 0.029592406004667282, 0.04087207466363907, 0.0516689270734787, 0.052501827478408813, 0.042575303465127945, 0.04647689685225487, 0.05813608318567276, 0.056682731956243515, 0.04195955768227577, 0.061873309314250946, 0.015573495998978615, 0.0, 0.0], [0.21264071762561798, 0.032672345638275146, 0.023197975009679794, 0.03805574029684067, 0.041390713304281235, 0.04190542921423912, 0.043372832238674164, 0.03563540428876877, 0.04132730886340141, 0.052954018115997314, 0.0666697770357132, 0.053453464061021805, 0.042112432420253754, 0.061791300773620605, 0.06380078196525574, 0.029544450342655182, 0.05602036416530609, 0.03972432017326355, 0.023730551823973656, 0.0], [0.18316927552223206, 0.036301083862781525, 0.021323643624782562, 0.03411504253745079, 0.043155476450920105, 0.03862622752785683, 0.042614083737134933, 0.03029995784163475, 0.03444335609674454, 0.051434699445962906, 0.04453181102871895, 0.03351438418030739, 0.03180107846856117, 0.04376419261097908, 0.07119106501340866, 0.03406720981001854, 0.06489963084459305, 0.0358448326587677, 0.04125276580452919, 0.08365021646022797]], [[1.0, 0.0, 0.0, 0.0, 0.0, 0.0, 0.0, 0.0, 0.0, 0.0, 0.0, 0.0, 0.0, 0.0, 0.0, 0.0, 0.0, 0.0, 0.0, 0.0], [0.7790914177894592, 0.22090855240821838, 0.0, 0.0, 0.0, 0.0, 0.0, 0.0, 0.0, 0.0, 0.0, 0.0, 0.0, 0.0, 0.0, 0.0, 0.0, 0.0, 0.0, 0.0], [0.6584966778755188, 0.12959901988506317, 0.21190431714057922, 0.0, 0.0, 0.0, 0.0, 0.0, 0.0, 0.0, 0.0, 0.0, 0.0, 0.0, 0.0, 0.0, 0.0, 0.0, 0.0, 0.0], [0.5563309788703918, 0.11349991708993912, 0.04629634693264961, 0.2838727533817291, 0.0, 0.0, 0.0, 0.0, 0.0, 0.0, 0.0, 0.0, 0.0, 0.0, 0.0, 0.0, 0.0, 0.0, 0.0, 0.0], [0.48360803723335266, 0.09692299365997314, 0.05743122473359108, 0.07645635306835175, 0.28558143973350525, 0.0, 0.0, 0.0, 0.0, 0.0, 0.0, 0.0, 0.0, 0.0, 0.0, 0.0, 0.0, 0.0, 0.0, 0.0], [0.4931282699108124, 0.08275371789932251, 0.04264989122748375, 0.036997828632593155, 0.06557460874319077, 0.27889567613601685, 0.0, 0.0, 0.0, 0.0, 0.0, 0.0, 0.0, 0.0, 0.0, 0.0, 0.0, 0.0, 0.0, 0.0], [0.4176013171672821, 0.1332545429468155, 0.05945148319005966, 0.05926886945962906, 0.09606856852769852, 0.059816259890794754, 0.17453892529010773, 0.0, 0.0, 0.0, 0.0, 0.0, 0.0, 0.0, 0.0, 0.0, 0.0, 0.0, 0.0, 0.0], [0.36568254232406616, 0.11541914194822311, 0.03579344227910042, 0.06229554861783981, 0.059058498591184616, 0.06631369888782501, 0.07679177075624466, 0.21864543855190277, 0.0, 0.0, 0.0, 0.0, 0.0, 0.0, 0.0, 0.0, 0.0, 0.0, 0.0, 0.0], [0.41542989015579224, 0.06957635283470154, 0.03294061869382858, 0.040847644209861755, 0.053819842636585236, 0.06078900769352913, 0.0532246008515358, 0.038557711988687515, 0.23481425642967224, 0.0, 0.0, 0.0, 0.0, 0.0, 0.0, 0.0, 0.0, 0.0, 0.0, 0.0], [0.3241385519504547, 0.09820594638586044, 0.04903830587863922, 0.06994137912988663, 0.08718662708997726, 0.0654839500784874, 0.10249553620815277, 0.031886857002973557, 0.05106741935014725, 0.12055546045303345, 0.0, 0.0, 0.0, 0.0, 0.0, 0.0, 0.0, 0.0, 0.0, 0.0], [0.2282036989927292, 0.056126147508621216, 0.04690771549940109, 0.08423854410648346, 0.06463728100061417, 0.05089319497346878, 0.055248018354177475, 0.03770710900425911, 0.05739874020218849, 0.06694508343935013, 0.2516944408416748, 0.0, 0.0, 0.0, 0.0, 0.0, 0.0, 0.0, 0.0, 0.0], [0.22518348693847656, 0.0434962622821331, 0.03054475598037243, 0.060055047273635864, 0.05178418383002281, 0.04305634647607803, 0.07041766494512558, 0.030063536018133163, 0.045668087899684906, 0.07319796830415726, 0.07498220354318619, 0.25155043601989746, 0.0, 0.0, 0.0, 0.0, 0.0, 0.0, 0.0, 0.0], [0.19633029401302338, 0.07078234851360321, 0.03920450061559677, 0.057427387684583664, 0.04240786284208298, 0.04250672459602356, 0.06359734386205673, 0.04789715260267258, 0.05475791543722153, 0.06953611224889755, 0.031152814626693726, 0.01696282997727394, 0.267436683177948, 0.0, 0.0, 0.0, 0.0, 0.0, 0.0, 0.0], [0.19526545703411102, 0.04303445294499397, 0.02881108783185482, 0.05767299607396126, 0.03497842699289322, 0.050664473325014114, 0.05002271756529808, 0.030974555760622025, 0.037843089550733566, 0.0610717348754406, 0.08791735768318176, 0.050766196101903915, 0.02750994637608528, 0.2434675097465515, 0.0, 0.0, 0.0, 0.0, 0.0, 0.0], [0.17761993408203125, 0.056484613567590714, 0.023143615573644638, 0.07537838816642761, 0.07023656368255615, 0.0454619862139225, 0.08020783215761185, 0.034159105271101, 0.03500707447528839, 0.08334393054246902, 0.06303698569536209, 0.03743003308773041, 0.04109638184309006, 0.05315757170319557, 0.12423598766326904, 0.0, 0.0, 0.0, 0.0, 0.0], [0.14130376279354095, 0.03702322021126747, 0.024106187745928764, 0.06966859847307205, 0.035932887345552444, 0.05164211988449097, 0.0423438623547554, 0.025617489591240883, 0.050085391849279404, 0.05426030978560448, 0.06677854061126709, 0.028319627046585083, 0.04217834025621414, 0.056812357157468796, 0.06367026269435883, 0.21025700867176056, 0.0, 0.0, 0.0, 0.0], [0.19158466160297394, 0.04524261876940727, 0.012375839054584503, 0.03776933252811432, 0.05043443664908409, 0.04880966618657112, 0.0644238293170929, 0.03583980351686478, 0.028163693845272064, 0.0677926242351532, 0.034178998321294785, 0.028593437746167183, 0.03738875687122345, 0.03870343416929245, 0.08873581141233444, 0.024161307141184807, 0.1658017784357071, 0.0, 0.0, 0.0], [0.13864432275295258, 0.023786984384059906, 0.018388135358691216, 0.026990097016096115, 0.059773027896881104, 0.05799267068505287, 0.03602813929319382, 0.02417026273906231, 0.08394772559404373, 0.04506882652640343, 0.04524162411689758, 0.03273648023605347, 0.012941709719598293, 0.03880452737212181, 0.049708981066942215, 0.029770610854029655, 0.0482616201043129, 0.2277442365884781, 0.0, 0.0], [0.09998264908790588, 0.02259470708668232, 0.0178381334990263, 0.02509666234254837, 0.030075225979089737, 0.07117639482021332, 0.03743071109056473, 0.03599711135029793, 0.05678858608007431, 0.045622318983078, 0.03706054016947746, 0.029362943023443222, 0.028527021408081055, 0.04253891855478287, 0.04855663701891899, 0.07347078621387482, 0.04030785709619522, 0.031115345656871796, 0.22645749151706696, 0.0], [0.11339636892080307, 0.03370475396513939, 0.014765092171728611, 0.04984869807958603, 0.045982275158166885, 0.031174032017588615, 0.05542426183819771, 0.026237210258841515, 0.028366226702928543, 0.06074925512075424, 0.050948962569236755, 0.030905723571777344, 0.03480162471532822, 0.04345275089144707, 0.09647417813539505, 0.04161164164543152, 0.07267238944768906, 0.03526187315583229, 0.03085956536233425, 0.10336306691169739]], [[1.0, 0.0, 0.0, 0.0, 0.0, 0.0, 0.0, 0.0, 0.0, 0.0, 0.0, 0.0, 0.0, 0.0, 0.0, 0.0, 0.0, 0.0, 0.0, 0.0], [0.811145007610321, 0.18885497748851776, 0.0, 0.0, 0.0, 0.0, 0.0, 0.0, 0.0, 0.0, 0.0, 0.0, 0.0, 0.0, 0.0, 0.0, 0.0, 0.0, 0.0, 0.0], [0.8476043343544006, 0.10063851624727249, 0.05175713077187538, 0.0, 0.0, 0.0, 0.0, 0.0, 0.0, 0.0, 0.0, 0.0, 0.0, 0.0, 0.0, 0.0, 0.0, 0.0, 0.0, 0.0], [0.7338495850563049, 0.08825824409723282, 0.054728634655475616, 0.12316352874040604, 0.0, 0.0, 0.0, 0.0, 0.0, 0.0, 0.0, 0.0, 0.0, 0.0, 0.0, 0.0, 0.0, 0.0, 0.0, 0.0], [0.616620659828186, 0.07410144805908203, 0.0517209954559803, 0.08492618799209595, 0.1726306527853012, 0.0, 0.0, 0.0, 0.0, 0.0, 0.0, 0.0, 0.0, 0.0, 0.0, 0.0, 0.0, 0.0, 0.0, 0.0], [0.5171298384666443, 0.09160764515399933, 0.047398701310157776, 0.10815372318029404, 0.140609011054039, 0.09510106593370438, 0.0, 0.0, 0.0, 0.0, 0.0, 0.0, 0.0, 0.0, 0.0, 0.0, 0.0, 0.0, 0.0, 0.0], [0.4876210391521454, 0.06353263556957245, 0.0484345480799675, 0.09200628101825714, 0.1118210181593895, 0.11802075058221817, 0.07856371998786926, 0.0, 0.0, 0.0, 0.0, 0.0, 0.0, 0.0, 0.0, 0.0, 0.0, 0.0, 0.0, 0.0], [0.4583021104335785, 0.04876955971121788, 0.046896517276763916, 0.06882138550281525, 0.11979734152555466, 0.09133166819810867, 0.06653953343629837, 0.09954190999269485, 0.0, 0.0, 0.0, 0.0, 0.0, 0.0, 0.0, 0.0, 0.0, 0.0, 0.0, 0.0], [0.19896705448627472, 0.10513906925916672, 0.021725328639149666, 0.11853893846273422, 0.16363626718521118, 0.06226719543337822, 0.1573757529258728, 0.06332794576883316, 0.10902243107557297, 0.0, 0.0, 0.0, 0.0, 0.0, 0.0, 0.0, 0.0, 0.0, 0.0, 0.0], [0.34570980072021484, 0.05124567449092865, 0.028992827981710434, 0.07278458774089813, 0.08897034823894501, 0.08049668371677399, 0.05863932892680168, 0.05735323205590248, 0.10613452643156052, 0.10967303812503815, 0.0, 0.0, 0.0, 0.0, 0.0, 0.0, 0.0, 0.0, 0.0, 0.0], [0.3518650531768799, 0.04784712195396423, 0.019903453066945076, 0.04936937615275383, 0.09343507885932922, 0.04721418023109436, 0.05788683891296387, 0.03672226890921593, 0.058706462383270264, 0.13204611837863922, 0.10500404983758926, 0.0, 0.0, 0.0, 0.0, 0.0, 0.0, 0.0, 0.0, 0.0], [0.3052257299423218, 0.060982782393693924, 0.017613276839256287, 0.07737763226032257, 0.09411074221134186, 0.07214383035898209, 0.06669673323631287, 0.0419437438249588, 0.044032733887434006, 0.10816719383001328, 0.051261838525533676, 0.060443758964538574, 0.0, 0.0, 0.0, 0.0, 0.0, 0.0, 0.0, 0.0], [0.17348843812942505, 0.02721557207405567, 0.023658938705921173, 0.06288299709558487, 0.0668625682592392, 0.039281658828258514, 0.03411765769124031, 0.052608948200941086, 0.1447659581899643, 0.07196253538131714, 0.10469912737607956, 0.16249631345272064, 0.03595924377441406, 0.0, 0.0, 0.0, 0.0, 0.0, 0.0, 0.0], [0.2956242263317108, 0.041676416993141174, 0.020815081894397736, 0.056432437151670456, 0.07242558896541595, 0.04365212842822075, 0.05071267485618591, 0.04099700599908829, 0.05411386862397194, 0.08856673538684845, 0.07896383851766586, 0.056481000036001205, 0.030364463105797768, 0.06917447596788406, 0.0, 0.0, 0.0, 0.0, 0.0, 0.0], [0.2759209871292114, 0.03262152522802353, 0.027188794687390327, 0.04922091215848923, 0.05565005913376808, 0.05063478276133537, 0.03871620073914528, 0.04155851528048515, 0.06057155132293701, 0.06818908452987671, 0.07892778515815735, 0.06514851748943329, 0.03626437112689018, 0.050961364060640335, 0.06842555105686188, 0.0, 0.0, 0.0, 0.0, 0.0], [0.2464984655380249, 0.04019148647785187, 0.023725591599941254, 0.05679437890648842, 0.07525889575481415, 0.035549093037843704, 0.03879958763718605, 0.03950498625636101, 0.05483495816588402, 0.07851698249578476, 0.05700960010290146, 0.06573041528463364, 0.03246285021305084, 0.03278731182217598, 0.07137752324342728, 0.050957806408405304, 0.0, 0.0, 0.0, 0.0], [0.26334148645401, 0.02884824387729168, 0.02429194003343582, 0.041348908096551895, 0.051031798124313354, 0.05153435096144676, 0.034812383353710175, 0.03742751106619835, 0.05823201313614845, 0.05755344405770302, 0.06997290253639221, 0.05913170799612999, 0.03290766477584839, 0.045411981642246246, 0.06139501929283142, 0.040369756519794464, 0.04238889366388321, 0.0, 0.0, 0.0], [0.16041141748428345, 0.05681636929512024, 0.016235189512372017, 0.04156357795000076, 0.08284887671470642, 0.039902959018945694, 0.03499934449791908, 0.031319402158260345, 0.047055650502443314, 0.08654748648405075, 0.05117429420351982, 0.03805200010538101, 0.03980211541056633, 0.024889471009373665, 0.10572683066129684, 0.05668848007917404, 0.022395694628357887, 0.06357081234455109, 0.0, 0.0], [0.2128676027059555, 0.026851486414670944, 0.02601640485227108, 0.04254546016454697, 0.04956620931625366, 0.04568107798695564, 0.030494041740894318, 0.03816603869199753, 0.047881510108709335, 0.04686518386006355, 0.05090891569852829, 0.06081114709377289, 0.04878236725926399, 0.025027651339769363, 0.04840927943587303, 0.04183671250939369, 0.028227288275957108, 0.05238146707415581, 0.0766802579164505, 0.0], [0.22692513465881348, 0.027493879199028015, 0.0245105791836977, 0.04122989624738693, 0.0454995334148407, 0.03937499225139618, 0.031207509338855743, 0.03329736366868019, 0.04319313168525696, 0.04958105832338333, 0.058915190398693085, 0.05159249156713486, 0.02811989188194275, 0.037575073540210724, 0.04906535893678665, 0.03856455162167549, 0.031777769327163696, 0.04418015852570534, 0.04808046296238899, 0.049816008657217026]]]}\n",
              "    )\n",
              "    </script>"
            ]
          },
          "metadata": {}
        }
      ]
    },
    {
      "cell_type": "markdown",
      "source": [
        "It is hard to conclude anything from the attention patterns of layer 0.\n",
        "Some things are interesting, but may not be relevant:\n",
        "\n",
        "*   Head 1 attends to repeating words\n",
        "*   Head 0 and 6 attend to cryptography from secure, so they may be involved in computing the context \"talking about cryptography\".\n",
        "\n",
        "Other attention patterns.\n",
        "\n",
        "\n"
      ],
      "metadata": {
        "id": "cjtDTYKeYSel"
      }
    },
    {
      "cell_type": "code",
      "source": [
        "display_attn_pattern(gpt2_small,11, text)"
      ],
      "metadata": {
        "colab": {
          "base_uri": "https://localhost:8080/",
          "height": 357
        },
        "id": "o9cyggX6RGk6",
        "outputId": "13238bcf-fafa-4ee2-e9a1-f33012275ca5"
      },
      "execution_count": null,
      "outputs": [
        {
          "output_type": "display_data",
          "data": {
            "text/plain": [
              "<circuitsvis.utils.render.RenderedHTML at 0x7f7ac0e7f9a0>"
            ],
            "text/html": [
              "<div id=\"circuits-vis-ca31e25d-da57\" style=\"margin: 15px 0;\"/>\n",
              "    <script crossorigin type=\"module\">\n",
              "    import { render, AttentionPatterns } from \"https://unpkg.com/circuitsvis@1.39.1/dist/cdn/esm.js\";\n",
              "    render(\n",
              "      \"circuits-vis-ca31e25d-da57\",\n",
              "      AttentionPatterns,\n",
              "      {\"tokens\": [\"<|endoftext|>\", \"L\", \"ets\", \" go\", \" over\", \" public\", \"-\", \"key\", \" cryptography\", \",\", \" lets\", \" assume\", \" Bob\", \" wants\", \" to\", \" send\", \" a\", \" secure\", \" message\", \" to\"], \"attention\": [[[1.0, 0.0, 0.0, 0.0, 0.0, 0.0, 0.0, 0.0, 0.0, 0.0, 0.0, 0.0, 0.0, 0.0, 0.0, 0.0, 0.0, 0.0, 0.0, 0.0], [0.8667131662368774, 0.13328690826892853, 0.0, 0.0, 0.0, 0.0, 0.0, 0.0, 0.0, 0.0, 0.0, 0.0, 0.0, 0.0, 0.0, 0.0, 0.0, 0.0, 0.0, 0.0], [0.5463446378707886, 0.06008067727088928, 0.39357468485832214, 0.0, 0.0, 0.0, 0.0, 0.0, 0.0, 0.0, 0.0, 0.0, 0.0, 0.0, 0.0, 0.0, 0.0, 0.0, 0.0, 0.0], [0.4630225896835327, 0.05072357878088951, 0.3155393600463867, 0.1707143932580948, 0.0, 0.0, 0.0, 0.0, 0.0, 0.0, 0.0, 0.0, 0.0, 0.0, 0.0, 0.0, 0.0, 0.0, 0.0, 0.0], [0.11044294387102127, 0.03188515082001686, 0.328917533159256, 0.09248777478933334, 0.43626657128334045, 0.0, 0.0, 0.0, 0.0, 0.0, 0.0, 0.0, 0.0, 0.0, 0.0, 0.0, 0.0, 0.0, 0.0, 0.0], [0.5598531365394592, 0.043825626373291016, 0.07550806552171707, 0.06916816532611847, 0.10933829843997955, 0.14230668544769287, 0.0, 0.0, 0.0, 0.0, 0.0, 0.0, 0.0, 0.0, 0.0, 0.0, 0.0, 0.0, 0.0, 0.0], [0.5904442667961121, 0.04634752497076988, 0.027654016390442848, 0.04653869941830635, 0.07497712969779968, 0.12321952730417252, 0.0908188596367836, 0.0, 0.0, 0.0, 0.0, 0.0, 0.0, 0.0, 0.0, 0.0, 0.0, 0.0, 0.0, 0.0], [0.4749801754951477, 0.050202809274196625, 0.0517909973859787, 0.06152316927909851, 0.05930327624082565, 0.08146579563617706, 0.09855693578720093, 0.12217692285776138, 0.0, 0.0, 0.0, 0.0, 0.0, 0.0, 0.0, 0.0, 0.0, 0.0, 0.0, 0.0], [0.22430215775966644, 0.03953830897808075, 0.1844659000635147, 0.10146243870258331, 0.13335391879081726, 0.04480237886309624, 0.05373285710811615, 0.07760871201753616, 0.14073330163955688, 0.0, 0.0, 0.0, 0.0, 0.0, 0.0, 0.0, 0.0, 0.0, 0.0, 0.0], [0.22008055448532104, 0.01482698880136013, 0.11893309652805328, 0.029199428856372833, 0.08382735401391983, 0.05792020633816719, 0.10261742770671844, 0.0906272903084755, 0.15998536348342896, 0.12198219448328018, 0.0, 0.0, 0.0, 0.0, 0.0, 0.0, 0.0, 0.0, 0.0, 0.0], [0.07459302991628647, 0.00998932309448719, 0.07327938079833984, 0.037357840687036514, 0.10219654440879822, 0.05003402754664421, 0.1246517077088356, 0.07191640883684158, 0.11128242313861847, 0.23772050440311432, 0.10697881877422333, 0.0, 0.0, 0.0, 0.0, 0.0, 0.0, 0.0, 0.0, 0.0], [0.12196031957864761, 0.03659769147634506, 0.055919814854860306, 0.02586379088461399, 0.09829501062631607, 0.039933815598487854, 0.14890748262405396, 0.05908062681555748, 0.07502715289592743, 0.17049190402030945, 0.05883674696087837, 0.10908564925193787, 0.0, 0.0, 0.0, 0.0, 0.0, 0.0, 0.0, 0.0], [0.7583982348442078, 0.0316459983587265, 0.01200735755264759, 0.02527487464249134, 0.007771483156830072, 0.01484800036996603, 0.011688289232552052, 0.019776860252022743, 0.019880520179867744, 0.013342444784939289, 0.007276270538568497, 0.011791706085205078, 0.06629790365695953, 0.0, 0.0, 0.0, 0.0, 0.0, 0.0, 0.0], [0.13054528832435608, 0.019038621336221695, 0.04337441176176071, 0.028560111299157143, 0.06442873924970627, 0.050908274948596954, 0.12554635107517242, 0.08180002868175507, 0.08283603191375732, 0.07101843506097794, 0.030157776549458504, 0.0442839190363884, 0.12552961707115173, 0.10197237879037857, 0.0, 0.0, 0.0, 0.0, 0.0, 0.0], [0.21583037078380585, 0.009998751804232597, 0.020781956613063812, 0.03191625326871872, 0.03028736636042595, 0.03159685060381889, 0.04324449598789215, 0.067338727414608, 0.08135838806629181, 0.05096251517534256, 0.02041643112897873, 0.06450347602367401, 0.14911028742790222, 0.10332993417978287, 0.07932417094707489, 0.0, 0.0, 0.0, 0.0, 0.0], [0.20104007422924042, 0.019121695309877396, 0.03421170264482498, 0.019511036574840546, 0.04284565523266792, 0.04154008999466896, 0.06223630905151367, 0.07826206088066101, 0.07134520262479782, 0.061276502907276154, 0.019853370264172554, 0.040918394923210144, 0.08275134861469269, 0.0794404149055481, 0.051257017999887466, 0.09438910335302353, 0.0, 0.0, 0.0, 0.0], [0.2943146824836731, 0.01302164327353239, 0.02449836954474449, 0.013578365556895733, 0.024110088124871254, 0.03321868181228638, 0.03848378732800484, 0.057535041123628616, 0.061493948101997375, 0.025311140343546867, 0.01449667476117611, 0.0387161485850811, 0.11248566210269928, 0.06167254596948624, 0.03314882144331932, 0.10292355716228485, 0.050990812480449677, 0.0, 0.0, 0.0], [0.24782176315784454, 0.015709366649389267, 0.02189493365585804, 0.016690760850906372, 0.028681665658950806, 0.02602071315050125, 0.02602425590157509, 0.07590723037719727, 0.07853363454341888, 0.04142557829618454, 0.010556080378592014, 0.04587068781256676, 0.08103223890066147, 0.05274122208356857, 0.03810257464647293, 0.10141249746084213, 0.044153403490781784, 0.04742136225104332, 0.0, 0.0], [0.07739746570587158, 0.010083939880132675, 0.04571980610489845, 0.028219088912010193, 0.03776196390390396, 0.022982841357588768, 0.022849291563034058, 0.04488217458128929, 0.05889355391263962, 0.1334555596113205, 0.046820130199193954, 0.07887842506170273, 0.05141427740454674, 0.0539584755897522, 0.09651584923267365, 0.05836791545152664, 0.04300403222441673, 0.011891577392816544, 0.0769035741686821, 0.0], [0.09610220789909363, 0.021764613687992096, 0.02621854469180107, 0.02186739072203636, 0.03534002974629402, 0.02687419205904007, 0.02063710428774357, 0.05812700837850571, 0.1123795434832573, 0.04720199853181839, 0.01979854330420494, 0.036112163215875626, 0.12017010897397995, 0.049279533326625824, 0.03799494728446007, 0.06496629118919373, 0.049593500792980194, 0.020742040127515793, 0.052351657301187515, 0.0824786126613617]], [[1.0, 0.0, 0.0, 0.0, 0.0, 0.0, 0.0, 0.0, 0.0, 0.0, 0.0, 0.0, 0.0, 0.0, 0.0, 0.0, 0.0, 0.0, 0.0, 0.0], [0.9984263181686401, 0.0015736843924969435, 0.0, 0.0, 0.0, 0.0, 0.0, 0.0, 0.0, 0.0, 0.0, 0.0, 0.0, 0.0, 0.0, 0.0, 0.0, 0.0, 0.0, 0.0], [0.9789144992828369, 0.005609222687780857, 0.015476273372769356, 0.0, 0.0, 0.0, 0.0, 0.0, 0.0, 0.0, 0.0, 0.0, 0.0, 0.0, 0.0, 0.0, 0.0, 0.0, 0.0, 0.0], [0.9486948847770691, 0.008584892377257347, 0.023047560825943947, 0.019672604277729988, 0.0, 0.0, 0.0, 0.0, 0.0, 0.0, 0.0, 0.0, 0.0, 0.0, 0.0, 0.0, 0.0, 0.0, 0.0, 0.0], [0.9188653230667114, 0.0324430838227272, 0.01520964689552784, 0.013730986043810844, 0.019750945270061493, 0.0, 0.0, 0.0, 0.0, 0.0, 0.0, 0.0, 0.0, 0.0, 0.0, 0.0, 0.0, 0.0, 0.0, 0.0], [0.9675917029380798, 0.008733895607292652, 0.004634482320398092, 0.0015499148285016418, 0.002254613908007741, 0.015235367231070995, 0.0, 0.0, 0.0, 0.0, 0.0, 0.0, 0.0, 0.0, 0.0, 0.0, 0.0, 0.0, 0.0, 0.0], [0.9734379053115845, 0.009501095861196518, 0.0031206177081912756, 0.001502309925854206, 0.0010391146643087268, 0.0065911030396819115, 0.00480778981000185, 0.0, 0.0, 0.0, 0.0, 0.0, 0.0, 0.0, 0.0, 0.0, 0.0, 0.0, 0.0, 0.0], [0.9000688791275024, 0.013853148557245731, 0.004823587369173765, 0.004177342168986797, 0.006746622733771801, 0.011266187764704227, 0.008706321008503437, 0.050357963889837265, 0.0, 0.0, 0.0, 0.0, 0.0, 0.0, 0.0, 0.0, 0.0, 0.0, 0.0, 0.0], [0.7723550200462341, 0.019037149846553802, 0.024791033938527107, 0.00870486069470644, 0.015257448889315128, 0.026344066485762596, 0.005475566256791353, 0.03148142620921135, 0.0965534895658493, 0.0, 0.0, 0.0, 0.0, 0.0, 0.0, 0.0, 0.0, 0.0, 0.0, 0.0], [0.7352534532546997, 0.017634708434343338, 0.008122861385345459, 0.003696187399327755, 0.005749831907451153, 0.022814307361841202, 0.013457584194839, 0.09045009315013885, 0.04992601275444031, 0.052894946187734604, 0.0, 0.0, 0.0, 0.0, 0.0, 0.0, 0.0, 0.0, 0.0, 0.0], [0.8372327089309692, 0.006646529771387577, 0.010944087989628315, 0.010333210229873657, 0.008423322811722755, 0.008176315575838089, 0.0038586375303566456, 0.04197983071208, 0.0517449714243412, 0.013347353786230087, 0.007312961854040623, 0.0, 0.0, 0.0, 0.0, 0.0, 0.0, 0.0, 0.0, 0.0], [0.6443238854408264, 0.015309912152588367, 0.018596911802887917, 0.004919321276247501, 0.005594196263700724, 0.022308656945824623, 0.008655681274831295, 0.1094522625207901, 0.06700275838375092, 0.042717523872852325, 0.02577073685824871, 0.03534819185733795, 0.0, 0.0, 0.0, 0.0, 0.0, 0.0, 0.0, 0.0], [0.9397521018981934, 0.008015550673007965, 0.0023230568040162325, 0.0030656803864985704, 0.0022280712146312, 0.001719831838272512, 0.0010053700534626842, 0.013292957097291946, 0.004317058715969324, 0.0025587372947484255, 0.000507937918882817, 0.0052911569364368916, 0.01592247188091278, 0.0, 0.0, 0.0, 0.0, 0.0, 0.0, 0.0], [0.49646300077438354, 0.014426286332309246, 0.006157467141747475, 0.0029986051376909018, 0.0016843428602442145, 0.012208987958729267, 0.007916809059679508, 0.07954960316419601, 0.024350199848413467, 0.018834613263607025, 0.006108450703322887, 0.007672846782952547, 0.25621476769447327, 0.06541404873132706, 0.0, 0.0, 0.0, 0.0, 0.0, 0.0], [0.7638819813728333, 0.006087129004299641, 0.0033207633532583714, 0.003399146720767021, 0.0026886654086411, 0.006631802301853895, 0.00378391589038074, 0.05828043445944786, 0.019166501238942146, 0.007944940589368343, 0.00061188725521788, 0.008661774918437004, 0.05333691090345383, 0.049339164048433304, 0.012864920310676098, 0.0, 0.0, 0.0, 0.0, 0.0], [0.6074951887130737, 0.011242187581956387, 0.0063498313538730145, 0.0025309293996542692, 0.0014845937257632613, 0.01142293494194746, 0.005160678178071976, 0.07168484479188919, 0.015990734100341797, 0.011613162234425545, 0.0034802034497261047, 0.0060331448912620544, 0.15352940559387207, 0.030101798474788666, 0.015852052718400955, 0.04602830484509468, 0.0, 0.0, 0.0, 0.0], [0.6093248128890991, 0.00839590560644865, 0.004026713315397501, 0.001970795216038823, 0.0016413789708167315, 0.009848020039498806, 0.006764354649931192, 0.12551894783973694, 0.014334826730191708, 0.012414151802659035, 0.0012135275173932314, 0.004104247782379389, 0.08895228058099747, 0.021140744909644127, 0.006275766063481569, 0.05506515875458717, 0.02900829166173935, 0.0, 0.0, 0.0], [0.6694025993347168, 0.005236692726612091, 0.0026470008306205273, 0.0008220849558711052, 0.0010741547448560596, 0.005792395677417517, 0.004543278366327286, 0.08174142986536026, 0.012732415460050106, 0.011296411044895649, 0.0007792642572894692, 0.0024017684627324343, 0.09295687079429626, 0.013232984580099583, 0.003583584912121296, 0.03435894101858139, 0.035129982978105545, 0.022268159314990044, 0.0, 0.0], [0.6919958591461182, 0.004242757800966501, 0.009834746830165386, 0.003954909276217222, 0.004446657840162516, 0.007187483832240105, 0.0019812157843261957, 0.029699567705392838, 0.02658540941774845, 0.009609637781977654, 0.003851650981232524, 0.010146142914891243, 0.07661101967096329, 0.025614527985453606, 0.02030540443956852, 0.030964648351073265, 0.010298517532646656, 0.005619516130536795, 0.027050327509641647, 0.0], [0.4689479172229767, 0.011760344728827477, 0.011474676430225372, 0.0024959074798971415, 0.0017859165091067553, 0.007580151781439781, 0.0030345122795552015, 0.014211372472345829, 0.00716696260496974, 0.014312295243144035, 0.005782891530543566, 0.009237092919647694, 0.12411582469940186, 0.027137290686368942, 0.012677297927439213, 0.028703689575195312, 0.014855405315756798, 0.002184476936236024, 0.009175385348498821, 0.2233605533838272]], [[1.0, 0.0, 0.0, 0.0, 0.0, 0.0, 0.0, 0.0, 0.0, 0.0, 0.0, 0.0, 0.0, 0.0, 0.0, 0.0, 0.0, 0.0, 0.0, 0.0], [0.9985450506210327, 0.0014549394836649299, 0.0, 0.0, 0.0, 0.0, 0.0, 0.0, 0.0, 0.0, 0.0, 0.0, 0.0, 0.0, 0.0, 0.0, 0.0, 0.0, 0.0, 0.0], [0.96690434217453, 0.0040302034467458725, 0.029065456241369247, 0.0, 0.0, 0.0, 0.0, 0.0, 0.0, 0.0, 0.0, 0.0, 0.0, 0.0, 0.0, 0.0, 0.0, 0.0, 0.0, 0.0], [0.9503753781318665, 0.011276556178927422, 0.028219250962138176, 0.01012873463332653, 0.0, 0.0, 0.0, 0.0, 0.0, 0.0, 0.0, 0.0, 0.0, 0.0, 0.0, 0.0, 0.0, 0.0, 0.0, 0.0], [0.8804779052734375, 0.029965927824378014, 0.05274729058146477, 0.009542659856379032, 0.02726621925830841, 0.0, 0.0, 0.0, 0.0, 0.0, 0.0, 0.0, 0.0, 0.0, 0.0, 0.0, 0.0, 0.0, 0.0, 0.0], [0.9404153227806091, 0.005708107724785805, 0.016073141247034073, 0.007506196852773428, 0.014193117618560791, 0.01610420271754265, 0.0, 0.0, 0.0, 0.0, 0.0, 0.0, 0.0, 0.0, 0.0, 0.0, 0.0, 0.0, 0.0, 0.0], [0.9762938618659973, 0.001270600943826139, 0.00398810813203454, 0.0036640865728259087, 0.006483176723122597, 0.004854454658925533, 0.0034457265865057707, 0.0, 0.0, 0.0, 0.0, 0.0, 0.0, 0.0, 0.0, 0.0, 0.0, 0.0, 0.0, 0.0], [0.8777852058410645, 0.0076000140979886055, 0.02548561431467533, 0.014918157830834389, 0.026462117210030556, 0.013626809231936932, 0.004376775119453669, 0.029745277017354965, 0.0, 0.0, 0.0, 0.0, 0.0, 0.0, 0.0, 0.0, 0.0, 0.0, 0.0, 0.0], [0.7757589221000671, 0.010187982581555843, 0.08332494646310806, 0.01268741674721241, 0.029971813783049583, 0.008502195589244366, 0.0022039487957954407, 0.011059662327170372, 0.06630303710699081, 0.0, 0.0, 0.0, 0.0, 0.0, 0.0, 0.0, 0.0, 0.0, 0.0, 0.0], [0.8419016003608704, 0.009910989552736282, 0.025667140260338783, 0.004410287830978632, 0.010347100906074047, 0.010773127898573875, 0.0018385741859674454, 0.01817985437810421, 0.04808532074093819, 0.0288861021399498, 0.0, 0.0, 0.0, 0.0, 0.0, 0.0, 0.0, 0.0, 0.0, 0.0], [0.8594186305999756, 0.002681328682228923, 0.024408020079135895, 0.013869751244783401, 0.008763816207647324, 0.004442295990884304, 0.0018429863266646862, 0.009532530792057514, 0.04833388328552246, 0.01167357712984085, 0.015033240430057049, 0.0, 0.0, 0.0, 0.0, 0.0, 0.0, 0.0, 0.0, 0.0], [0.8296451568603516, 0.01392356026917696, 0.021675730124115944, 0.0017489150632172823, 0.006194241810590029, 0.010377717204391956, 0.002809557830914855, 0.008997360244393349, 0.032487936317920685, 0.030241025611758232, 0.016846496611833572, 0.025052301585674286, 0.0, 0.0, 0.0, 0.0, 0.0, 0.0, 0.0, 0.0], [0.9407612085342407, 0.0015789094613865018, 0.0062209670431911945, 0.0026181871071457863, 0.0026188502088189125, 0.002538686851039529, 0.0006155207520350814, 0.0033957117702811956, 0.008849511854350567, 0.00533423712477088, 0.0018351390026509762, 0.006132181733846664, 0.01750083826482296, 0.0, 0.0, 0.0, 0.0, 0.0, 0.0, 0.0], [0.831494927406311, 0.004373766947537661, 0.007936714217066765, 0.0021954772528260946, 0.002373279305174947, 0.008021567948162556, 0.003441758453845978, 0.009481626562774181, 0.019202126190066338, 0.009064254350960255, 0.0025685972068458796, 0.008440583944320679, 0.08590906858444214, 0.005496296565979719, 0.0, 0.0, 0.0, 0.0, 0.0, 0.0], [0.9333643913269043, 0.0007334197871387005, 0.005239130929112434, 0.0044878507032990456, 0.003444511676207185, 0.0025013296399265528, 0.0006151551497168839, 0.004933550488203764, 0.019002441316843033, 0.0029020679648965597, 0.0018795710057020187, 0.004927725065499544, 0.004152699373662472, 0.007146473508328199, 0.004669664427638054, 0.0, 0.0, 0.0, 0.0, 0.0], [0.8224918842315674, 0.004384337458759546, 0.005420198198407888, 0.0020037584472447634, 0.0015940458979457617, 0.0037484096828848124, 0.0008348098490387201, 0.009908536449074745, 0.016613809391856194, 0.004339883569628, 0.0018859641859307885, 0.007262961473315954, 0.08720146864652634, 0.0039460803382098675, 0.003913512919098139, 0.024450261145830154, 0.0, 0.0, 0.0, 0.0], [0.8846246600151062, 0.002654282609000802, 0.003650127910077572, 0.002699828939512372, 0.0014926217263564467, 0.0035570021718740463, 0.0005433067562989891, 0.011675162240862846, 0.01515995617955923, 0.0035094497725367546, 0.0013167368015274405, 0.005419088061898947, 0.021114880219101906, 0.0034954827278852463, 0.0029794543515890837, 0.02745356410741806, 0.008654369972646236, 0.0, 0.0, 0.0], [0.8435406684875488, 0.0030247627291828394, 0.004378913436084986, 0.0029156014788895845, 0.0023298056330531836, 0.0027837478555738926, 0.0006760618416592479, 0.014080706983804703, 0.018920591101050377, 0.007662622258067131, 0.0020825411193072796, 0.009131514467298985, 0.024039221927523613, 0.0036563994362950325, 0.00455578463152051, 0.022834016010165215, 0.014553726650774479, 0.018833359703421593, 0.0, 0.0], [0.8415588140487671, 0.0013705550227314234, 0.01142139546573162, 0.004496449138969183, 0.003994012717157602, 0.002110560890287161, 0.0009784934809431434, 0.0059043834917247295, 0.022428404539823532, 0.01631300151348114, 0.004727271851152182, 0.021063629537820816, 0.023098718374967575, 0.00655632046982646, 0.0033938761334866285, 0.01297183707356453, 0.003450958291068673, 0.008401947095990181, 0.00575935048982501, 0.0], [0.8595423102378845, 0.0028169385623186827, 0.0036060407292097807, 0.0019925436936318874, 0.0028203537221997976, 0.00456897122785449, 0.0013007603120058775, 0.003019451629370451, 0.004770576022565365, 0.0055963764898478985, 0.0012228925479575992, 0.0075667854398489, 0.03263672813773155, 0.0033870500046759844, 0.001895177992992103, 0.005086702294647694, 0.001892044791020453, 0.001412547891959548, 0.0015252323355525732, 0.05334058031439781]], [[1.0, 0.0, 0.0, 0.0, 0.0, 0.0, 0.0, 0.0, 0.0, 0.0, 0.0, 0.0, 0.0, 0.0, 0.0, 0.0, 0.0, 0.0, 0.0, 0.0], [0.9789126515388489, 0.02108738198876381, 0.0, 0.0, 0.0, 0.0, 0.0, 0.0, 0.0, 0.0, 0.0, 0.0, 0.0, 0.0, 0.0, 0.0, 0.0, 0.0, 0.0, 0.0], [0.8930906057357788, 0.010243684984743595, 0.09666569530963898, 0.0, 0.0, 0.0, 0.0, 0.0, 0.0, 0.0, 0.0, 0.0, 0.0, 0.0, 0.0, 0.0, 0.0, 0.0, 0.0, 0.0], [0.8218469023704529, 0.02429857850074768, 0.0906992107629776, 0.06315529346466064, 0.0, 0.0, 0.0, 0.0, 0.0, 0.0, 0.0, 0.0, 0.0, 0.0, 0.0, 0.0, 0.0, 0.0, 0.0, 0.0], [0.553087592124939, 0.07208596915006638, 0.10079692304134369, 0.10271529108285904, 0.17131422460079193, 0.0, 0.0, 0.0, 0.0, 0.0, 0.0, 0.0, 0.0, 0.0, 0.0, 0.0, 0.0, 0.0, 0.0, 0.0], [0.560967743396759, 0.029884854331612587, 0.042255740612745285, 0.05298644304275513, 0.19201023876667023, 0.12189493328332901, 0.0, 0.0, 0.0, 0.0, 0.0, 0.0, 0.0, 0.0, 0.0, 0.0, 0.0, 0.0, 0.0, 0.0], [0.43599802255630493, 0.019002199172973633, 0.03130551427602768, 0.021958833560347557, 0.060275591909885406, 0.38427501916885376, 0.047184836119413376, 0.0, 0.0, 0.0, 0.0, 0.0, 0.0, 0.0, 0.0, 0.0, 0.0, 0.0, 0.0, 0.0], [0.6941712498664856, 0.009475382044911385, 0.037109702825546265, 0.03593307361006737, 0.07265768945217133, 0.053074538707733154, 0.01776600256562233, 0.07981236279010773, 0.0, 0.0, 0.0, 0.0, 0.0, 0.0, 0.0, 0.0, 0.0, 0.0, 0.0, 0.0], [0.6340651512145996, 0.005871570203453302, 0.053437333554029465, 0.045968830585479736, 0.11536845564842224, 0.0598633699119091, 0.012596892192959785, 0.030982432886958122, 0.04184597730636597, 0.0, 0.0, 0.0, 0.0, 0.0, 0.0, 0.0, 0.0, 0.0, 0.0, 0.0], [0.5492975115776062, 0.008920719847083092, 0.020004810765385628, 0.01052574161440134, 0.0404495932161808, 0.02427898719906807, 0.018639182671904564, 0.0715387761592865, 0.16796909272670746, 0.08837558329105377, 0.0, 0.0, 0.0, 0.0, 0.0, 0.0, 0.0, 0.0, 0.0, 0.0], [0.36603525280952454, 0.0035569530446082354, 0.037182845175266266, 0.037869855761528015, 0.05030760169029236, 0.019749406725168228, 0.009580247104167938, 0.06031336635351181, 0.24409323930740356, 0.14151978492736816, 0.029791343957185745, 0.0, 0.0, 0.0, 0.0, 0.0, 0.0, 0.0, 0.0, 0.0], [0.5609568357467651, 0.015604425221681595, 0.01004269439727068, 0.008001516573131084, 0.01412900909781456, 0.03350767120718956, 0.024848299100995064, 0.027600277215242386, 0.1387462317943573, 0.1333600878715515, 0.006346739362925291, 0.026856249198317528, 0.0, 0.0, 0.0, 0.0, 0.0, 0.0, 0.0, 0.0], [0.9160181879997253, 0.0031727750319987535, 0.0016170438611879945, 0.004083502572029829, 0.005647440440952778, 0.004649930167943239, 0.002764300908893347, 0.01328224316239357, 0.009756938554346561, 0.007022567559033632, 0.0018976971041411161, 0.011642960831522942, 0.018444402143359184, 0.0, 0.0, 0.0, 0.0, 0.0, 0.0, 0.0], [0.44311901926994324, 0.010331408120691776, 0.0025958865880966187, 0.005830919370055199, 0.006407259032130241, 0.021205492317676544, 0.01077211368829012, 0.028584938496351242, 0.05942430719733238, 0.030488193035125732, 0.0012091713724657893, 0.02809913270175457, 0.3201979994773865, 0.03173412010073662, 0.0, 0.0, 0.0, 0.0, 0.0, 0.0], [0.5004175901412964, 0.0024365121498703957, 0.012341572903096676, 0.014215304516255856, 0.008505793288350105, 0.01921752281486988, 0.006552620325237513, 0.04605588689446449, 0.07638643682003021, 0.018194302916526794, 0.007253996096551418, 0.020069096237421036, 0.14528584480285645, 0.07041169703006744, 0.05265585333108902, 0.0, 0.0, 0.0, 0.0, 0.0], [0.6195535659790039, 0.006068730261176825, 0.0040615759789943695, 0.006950009148567915, 0.00637547904625535, 0.02782738208770752, 0.009810349904000759, 0.01506028976291418, 0.019848933443427086, 0.016780873760581017, 0.0013148372527211905, 0.01662898063659668, 0.10392166674137115, 0.038040973246097565, 0.0223393514752388, 0.08541691303253174, 0.0, 0.0, 0.0, 0.0], [0.430207222700119, 0.0035301840398460627, 0.005140949971973896, 0.0077414074912667274, 0.007855764590203762, 0.007815301418304443, 0.005077270790934563, 0.011079534888267517, 0.016308696940541267, 0.010865993797779083, 0.0017836346523836255, 0.022902589291334152, 0.05001748353242874, 0.07394896447658539, 0.02362196333706379, 0.27029848098754883, 0.05180450901389122, 0.0, 0.0, 0.0], [0.5409553647041321, 0.0020898771472275257, 0.0029457155615091324, 0.0062674288637936115, 0.003381095128133893, 0.0035188603214919567, 0.0038652592338621616, 0.007379618939012289, 0.01094783190637827, 0.0050427052192389965, 0.0013209941098466516, 0.012546440586447716, 0.04441556707024574, 0.028348898515105247, 0.011382365599274635, 0.13220399618148804, 0.16161048412322998, 0.02177746780216694, 0.0, 0.0], [0.699994683265686, 0.0026986345183104277, 0.0068378509022295475, 0.009108457714319229, 0.0029942465480417013, 0.008042380213737488, 0.0035878929775208235, 0.013809170573949814, 0.011528843082487583, 0.009899402968585491, 0.005290083587169647, 0.016386665403842926, 0.039477214217185974, 0.034532397985458374, 0.026712726801633835, 0.029607847332954407, 0.02713552676141262, 0.03819046542048454, 0.014165486209094524, 0.0], [0.44157177209854126, 0.004806073382496834, 0.003437609877437353, 0.0043601649813354015, 0.0035952876787632704, 0.011913839727640152, 0.0029305065982043743, 0.008305668830871582, 0.04026579484343529, 0.025500556454062462, 0.0011463678674772382, 0.022834941744804382, 0.16870065033435822, 0.02669496089220047, 0.008004005998373032, 0.04544828459620476, 0.012619621120393276, 0.02154058963060379, 0.028316626325249672, 0.11800655722618103]], [[1.0, 0.0, 0.0, 0.0, 0.0, 0.0, 0.0, 0.0, 0.0, 0.0, 0.0, 0.0, 0.0, 0.0, 0.0, 0.0, 0.0, 0.0, 0.0, 0.0], [0.9924976229667664, 0.007502335589379072, 0.0, 0.0, 0.0, 0.0, 0.0, 0.0, 0.0, 0.0, 0.0, 0.0, 0.0, 0.0, 0.0, 0.0, 0.0, 0.0, 0.0, 0.0], [0.8947974443435669, 0.019768554717302322, 0.08543393015861511, 0.0, 0.0, 0.0, 0.0, 0.0, 0.0, 0.0, 0.0, 0.0, 0.0, 0.0, 0.0, 0.0, 0.0, 0.0, 0.0, 0.0], [0.8665518760681152, 0.03855275362730026, 0.07517393678426743, 0.01972142606973648, 0.0, 0.0, 0.0, 0.0, 0.0, 0.0, 0.0, 0.0, 0.0, 0.0, 0.0, 0.0, 0.0, 0.0, 0.0, 0.0], [0.7337941527366638, 0.11616892367601395, 0.08798705041408539, 0.02333712764084339, 0.03871271386742592, 0.0, 0.0, 0.0, 0.0, 0.0, 0.0, 0.0, 0.0, 0.0, 0.0, 0.0, 0.0, 0.0, 0.0, 0.0], [0.7730526924133301, 0.020246785134077072, 0.04988129436969757, 0.014085734263062477, 0.038517240434885025, 0.10421625524759293, 0.0, 0.0, 0.0, 0.0, 0.0, 0.0, 0.0, 0.0, 0.0, 0.0, 0.0, 0.0, 0.0, 0.0], [0.8792346119880676, 0.010899368673563004, 0.031316183507442474, 0.008984650485217571, 0.01603228971362114, 0.02544875256717205, 0.028084082528948784, 0.0, 0.0, 0.0, 0.0, 0.0, 0.0, 0.0, 0.0, 0.0, 0.0, 0.0, 0.0, 0.0], [0.6638279557228088, 0.02113855816423893, 0.0462176650762558, 0.017991025000810623, 0.05805148556828499, 0.06833707541227341, 0.03186947852373123, 0.09256681799888611, 0.0, 0.0, 0.0, 0.0, 0.0, 0.0, 0.0, 0.0, 0.0, 0.0, 0.0, 0.0], [0.6487021446228027, 0.043036557734012604, 0.0692751407623291, 0.015996331349015236, 0.05652138590812683, 0.045771487057209015, 0.014613058418035507, 0.021243585273623466, 0.08484029769897461, 0.0, 0.0, 0.0, 0.0, 0.0, 0.0, 0.0, 0.0, 0.0, 0.0, 0.0], [0.5627794861793518, 0.0903356671333313, 0.047132477164268494, 0.008031723089516163, 0.017867354676127434, 0.05560033395886421, 0.024550138041377068, 0.036922041326761246, 0.06830301880836487, 0.0884777382016182, 0.0, 0.0, 0.0, 0.0, 0.0, 0.0, 0.0, 0.0, 0.0, 0.0], [0.689935028553009, 0.03060828149318695, 0.04512804374098778, 0.01764942891895771, 0.02064034342765808, 0.01987396366894245, 0.014931310899555683, 0.0374293215572834, 0.04543979465961456, 0.05549424886703491, 0.02287023514509201, 0.0, 0.0, 0.0, 0.0, 0.0, 0.0, 0.0, 0.0, 0.0], [0.5257734656333923, 0.12426508218050003, 0.05787757784128189, 0.011124914512038231, 0.008202915079891682, 0.06255332380533218, 0.019041897729039192, 0.025392785668373108, 0.06265372037887573, 0.03529791533946991, 0.04999498277902603, 0.01782151870429516, 0.0, 0.0, 0.0, 0.0, 0.0, 0.0, 0.0, 0.0], [0.7040374875068665, 0.016719555482268333, 0.028408482670783997, 0.012463953346014023, 0.033047109842300415, 0.008891887962818146, 0.004357586149126291, 0.013110124506056309, 0.0217308197170496, 0.013687514699995518, 0.011028505861759186, 0.08220065385103226, 0.05031634867191315, 0.0, 0.0, 0.0, 0.0, 0.0, 0.0, 0.0], [0.6934732794761658, 0.042218856513500214, 0.01749671809375286, 0.009066670201718807, 0.0029443365056067705, 0.04424409568309784, 0.010366027243435383, 0.01886053942143917, 0.04977743327617645, 0.024661960080266, 0.011818892322480679, 0.008333266712725163, 0.0438610315322876, 0.022876882925629616, 0.0, 0.0, 0.0, 0.0, 0.0, 0.0], [0.6143558621406555, 0.011264817789196968, 0.01672963798046112, 0.005205246154218912, 0.013240178115665913, 0.020586224272847176, 0.017481334507465363, 0.04586213454604149, 0.06661593168973923, 0.05152207240462303, 0.006823396775871515, 0.02599651925265789, 0.03668467327952385, 0.04881880059838295, 0.01881307177245617, 0.0, 0.0, 0.0, 0.0, 0.0], [0.6501587629318237, 0.03884721174836159, 0.019855592399835587, 0.01068095676600933, 0.004211839754134417, 0.027469409629702568, 0.008833031170070171, 0.018946170806884766, 0.03117706999182701, 0.029896637424826622, 0.0123261958360672, 0.01349340658634901, 0.04822079837322235, 0.02316099777817726, 0.01616770401597023, 0.04655414819717407, 0.0, 0.0, 0.0, 0.0], [0.5786542892456055, 0.020184867084026337, 0.014785390347242355, 0.005895884707570076, 0.005939505994319916, 0.02004135772585869, 0.008546598255634308, 0.037245117127895355, 0.030535487458109856, 0.02249121107161045, 0.006333068944513798, 0.021056827157735825, 0.028841305524110794, 0.03229524567723274, 0.015540333464741707, 0.10478873550891876, 0.04682482033967972, 0.0, 0.0, 0.0], [0.5102750062942505, 0.01896042749285698, 0.013250410556793213, 0.005545692518353462, 0.0045135607942938805, 0.027456365525722504, 0.015588111244142056, 0.06227431818842888, 0.052368104457855225, 0.02148658223450184, 0.005518987774848938, 0.01557203195989132, 0.02677873708307743, 0.02174614742398262, 0.01387706771492958, 0.06008864939212799, 0.045614905655384064, 0.07908488810062408, 0.0, 0.0], [0.575970470905304, 0.009926923550665379, 0.01885833404958248, 0.018881678581237793, 0.010497958399355412, 0.02577589452266693, 0.010443929582834244, 0.013226806186139584, 0.032924383878707886, 0.07539356499910355, 0.013042798265814781, 0.013211340643465519, 0.0237896628677845, 0.017984749749302864, 0.014442121610045433, 0.02799438126385212, 0.038914576172828674, 0.022680260241031647, 0.03604009747505188, 0.0], [0.5437111258506775, 0.036607448011636734, 0.021255118772387505, 0.00773316714912653, 0.004856998100876808, 0.02545321173965931, 0.008617600426077843, 0.010832762345671654, 0.024459408596158028, 0.021126940846443176, 0.010016560554504395, 0.015440802089869976, 0.05933736264705658, 0.022866414859890938, 0.01460551843047142, 0.01746225729584694, 0.0210857093334198, 0.010366165079176426, 0.014348601922392845, 0.10981685668230057]], [[1.0, 0.0, 0.0, 0.0, 0.0, 0.0, 0.0, 0.0, 0.0, 0.0, 0.0, 0.0, 0.0, 0.0, 0.0, 0.0, 0.0, 0.0, 0.0, 0.0], [0.9981751441955566, 0.00182487687561661, 0.0, 0.0, 0.0, 0.0, 0.0, 0.0, 0.0, 0.0, 0.0, 0.0, 0.0, 0.0, 0.0, 0.0, 0.0, 0.0, 0.0, 0.0], [0.9652577042579651, 0.010745526291429996, 0.02399682067334652, 0.0, 0.0, 0.0, 0.0, 0.0, 0.0, 0.0, 0.0, 0.0, 0.0, 0.0, 0.0, 0.0, 0.0, 0.0, 0.0, 0.0], [0.9531140923500061, 0.004318153019994497, 0.020477138459682465, 0.02209051139652729, 0.0, 0.0, 0.0, 0.0, 0.0, 0.0, 0.0, 0.0, 0.0, 0.0, 0.0, 0.0, 0.0, 0.0, 0.0, 0.0], [0.9187147617340088, 0.013775432482361794, 0.030921921133995056, 0.017898032441735268, 0.018689896911382675, 0.0, 0.0, 0.0, 0.0, 0.0, 0.0, 0.0, 0.0, 0.0, 0.0, 0.0, 0.0, 0.0, 0.0, 0.0], [0.9806728363037109, 0.0021296723280102015, 0.004694808274507523, 0.006635715719312429, 0.0018940867157652974, 0.0039728800766170025, 0.0, 0.0, 0.0, 0.0, 0.0, 0.0, 0.0, 0.0, 0.0, 0.0, 0.0, 0.0, 0.0, 0.0], [0.9858421683311462, 0.0008906940347515047, 0.0021318348590284586, 0.003479018108919263, 0.001138829393312335, 0.0020630338694900274, 0.004454440902918577, 0.0, 0.0, 0.0, 0.0, 0.0, 0.0, 0.0, 0.0, 0.0, 0.0, 0.0, 0.0, 0.0], [0.9468531012535095, 0.0029602013528347015, 0.018308313563466072, 0.005918929353356361, 0.005128949414938688, 0.0043887784704566, 0.0016000987961888313, 0.014841639436781406, 0.0, 0.0, 0.0, 0.0, 0.0, 0.0, 0.0, 0.0, 0.0, 0.0, 0.0, 0.0], [0.9003621339797974, 0.0026366980746388435, 0.043179869651794434, 0.01094682514667511, 0.015377897769212723, 0.008211790584027767, 0.0026278854347765446, 0.0026942261029034853, 0.01396271213889122, 0.0, 0.0, 0.0, 0.0, 0.0, 0.0, 0.0, 0.0, 0.0, 0.0, 0.0], [0.7064142227172852, 0.004492171108722687, 0.1494191586971283, 0.02993524633347988, 0.009413085877895355, 0.009463541209697723, 0.004351879470050335, 0.009690572507679462, 0.010141919367015362, 0.0666782483458519, 0.0, 0.0, 0.0, 0.0, 0.0, 0.0, 0.0, 0.0, 0.0, 0.0], [0.7735123038291931, 0.006993948947638273, 0.02316315472126007, 0.09363215416669846, 0.02534661628305912, 0.006818706635385752, 0.0033438412938266993, 0.015522598288953304, 0.007657468784600496, 0.034292809665203094, 0.009716365486383438, 0.0, 0.0, 0.0, 0.0, 0.0, 0.0, 0.0, 0.0, 0.0], [0.8319556713104248, 0.011216227896511555, 0.009261352010071278, 0.009361679665744305, 0.003639593254774809, 0.024678755551576614, 0.009355566464364529, 0.01978117786347866, 0.026877112686634064, 0.02561705745756626, 0.012726486660540104, 0.015529287047684193, 0.0, 0.0, 0.0, 0.0, 0.0, 0.0, 0.0, 0.0], [0.9231874942779541, 0.0013321660226210952, 0.01472844835370779, 0.007625825237482786, 0.00354378717020154, 0.002069207839667797, 0.0005140309222042561, 0.006429190281778574, 0.0063097975216805935, 0.003166135400533676, 0.007136343978345394, 0.009344528429210186, 0.014612985774874687, 0.0, 0.0, 0.0, 0.0, 0.0, 0.0, 0.0], [0.862372875213623, 0.004385099280625582, 0.003417089581489563, 0.008948463946580887, 0.003754574339836836, 0.013223957270383835, 0.004182286094874144, 0.025740860030055046, 0.017496054992079735, 0.004803188610821962, 0.0031331880018115044, 0.005329269915819168, 0.027029303833842278, 0.016183869913220406, 0.0, 0.0, 0.0, 0.0, 0.0, 0.0], [0.8266704082489014, 0.0015984013443812728, 0.0030651381239295006, 0.02279067412018776, 0.005035486537963152, 0.012105106376111507, 0.006741716060787439, 0.021694112569093704, 0.013003241270780563, 0.010768352076411247, 0.0011530157644301653, 0.008419237099587917, 0.0056166984140872955, 0.04961598664522171, 0.011722448281943798, 0.0, 0.0, 0.0, 0.0, 0.0], [0.8972229361534119, 0.00383362895809114, 0.005743063986301422, 0.004789039026945829, 0.0014182906597852707, 0.011191769503057003, 0.0031358995474874973, 0.013947497121989727, 0.00932908896356821, 0.004358299542218447, 0.0033220271579921246, 0.004786032717674971, 0.02301209792494774, 0.005646277219057083, 0.0010757677955552936, 0.0071882219053804874, 0.0, 0.0, 0.0, 0.0], [0.8893686532974243, 0.0021755883935838938, 0.0035897090565413237, 0.003430373501032591, 0.00044396964949555695, 0.024652210995554924, 0.004972930997610092, 0.020841676741838455, 0.006251164246350527, 0.002564911264926195, 0.0013177049113437533, 0.002554000588133931, 0.007985287345945835, 0.007030350621789694, 0.002762078307569027, 0.011069348081946373, 0.00898987241089344, 0.0, 0.0, 0.0], [0.9234662652015686, 0.001627138233743608, 0.003927670884877443, 0.0038930471055209637, 0.0004475029418244958, 0.006144621875137091, 0.0038787757512181997, 0.012453598901629448, 0.004420094657689333, 0.004093868192285299, 0.0015259092906489968, 0.00272914650849998, 0.003229002468287945, 0.003293348476290703, 0.0011708264937624335, 0.004800930619239807, 0.004623297601938248, 0.014274990186095238, 0.0, 0.0], [0.8897072076797485, 0.0013237673556432128, 0.0074249254539608955, 0.004534033127129078, 0.003378935158252716, 0.004303465131670237, 0.0015995724825188518, 0.004318219609558582, 0.0061586229130625725, 0.014158188365399837, 0.00600898964330554, 0.012477286159992218, 0.0046516889706254005, 0.006156506482511759, 0.0033906656317412853, 0.00871986709535122, 0.0033734035678207874, 0.0030865620356053114, 0.01522810012102127, 0.0], [0.8670713305473328, 0.0038849005941301584, 0.006076065357774496, 0.004728396888822317, 0.002062048064544797, 0.006207573693245649, 0.0016825880156829953, 0.007007640786468983, 0.007197032682597637, 0.003420066088438034, 0.002977142808958888, 0.006823865696787834, 0.02557659149169922, 0.009245086461305618, 0.0016349024372175336, 0.008039876818656921, 0.003928292542695999, 0.0023184430319815874, 0.013461878523230553, 0.01665625534951687]], [[1.0, 0.0, 0.0, 0.0, 0.0, 0.0, 0.0, 0.0, 0.0, 0.0, 0.0, 0.0, 0.0, 0.0, 0.0, 0.0, 0.0, 0.0, 0.0, 0.0], [0.9860517978668213, 0.013948246836662292, 0.0, 0.0, 0.0, 0.0, 0.0, 0.0, 0.0, 0.0, 0.0, 0.0, 0.0, 0.0, 0.0, 0.0, 0.0, 0.0, 0.0, 0.0], [0.987432599067688, 0.0031111163552850485, 0.009456301108002663, 0.0, 0.0, 0.0, 0.0, 0.0, 0.0, 0.0, 0.0, 0.0, 0.0, 0.0, 0.0, 0.0, 0.0, 0.0, 0.0, 0.0], [0.9744351506233215, 0.0032130042091012, 0.011553210206329823, 0.010798709467053413, 0.0, 0.0, 0.0, 0.0, 0.0, 0.0, 0.0, 0.0, 0.0, 0.0, 0.0, 0.0, 0.0, 0.0, 0.0, 0.0], [0.9299188256263733, 0.028030876070261, 0.020152796059846878, 0.011276887729763985, 0.010620694607496262, 0.0, 0.0, 0.0, 0.0, 0.0, 0.0, 0.0, 0.0, 0.0, 0.0, 0.0, 0.0, 0.0, 0.0, 0.0], [0.9440951943397522, 0.019002765417099, 0.006966790650039911, 0.004049751441925764, 0.003933566622436047, 0.021951895207166672, 0.0, 0.0, 0.0, 0.0, 0.0, 0.0, 0.0, 0.0, 0.0, 0.0, 0.0, 0.0, 0.0, 0.0], [0.9780350923538208, 0.005539363250136375, 0.003397738328203559, 0.0022124554961919785, 0.002929635578766465, 0.003656565910205245, 0.004229114390909672, 0.0, 0.0, 0.0, 0.0, 0.0, 0.0, 0.0, 0.0, 0.0, 0.0, 0.0, 0.0, 0.0], [0.91062992811203, 0.020497625693678856, 0.013777213171124458, 0.006845938973128796, 0.009676078334450722, 0.012869635596871376, 0.004742377903312445, 0.02096117101609707, 0.0, 0.0, 0.0, 0.0, 0.0, 0.0, 0.0, 0.0, 0.0, 0.0, 0.0, 0.0], [0.8412072658538818, 0.014753772877156734, 0.029792428016662598, 0.008847407065331936, 0.017397327348589897, 0.015227298252284527, 0.0020461257081478834, 0.005029462277889252, 0.06569898873567581, 0.0, 0.0, 0.0, 0.0, 0.0, 0.0, 0.0, 0.0, 0.0, 0.0, 0.0], [0.8927685618400574, 0.011665325611829758, 0.009343966841697693, 0.0039828442968428135, 0.0046090600080788136, 0.01605190522968769, 0.003417228814214468, 0.009072167798876762, 0.04047146812081337, 0.008617453277111053, 0.0, 0.0, 0.0, 0.0, 0.0, 0.0, 0.0, 0.0, 0.0, 0.0], [0.9101547002792358, 0.0027537771966308355, 0.004448100458830595, 0.0036101413425058126, 0.0038641656283289194, 0.010992997325956821, 0.0023975081276148558, 0.01202374417334795, 0.0444645918905735, 0.002949256682768464, 0.0023410420399159193, 0.0, 0.0, 0.0, 0.0, 0.0, 0.0, 0.0, 0.0, 0.0], [0.8868399858474731, 0.013495092280209064, 0.007041404489427805, 0.0031452225521206856, 0.002563011134043336, 0.01936258003115654, 0.0028861965984106064, 0.01169978640973568, 0.0332832932472229, 0.003425626317039132, 0.007041333708912134, 0.009216484613716602, 0.0, 0.0, 0.0, 0.0, 0.0, 0.0, 0.0, 0.0], [0.9081206321716309, 0.010768922045826912, 0.0033714843448251486, 0.001786920358426869, 0.00439086277037859, 0.004876673221588135, 0.0013563642278313637, 0.004831322003155947, 0.014370204880833626, 0.004703265614807606, 0.001544334925711155, 0.003801519051194191, 0.036077581346035004, 0.0, 0.0, 0.0, 0.0, 0.0, 0.0, 0.0], [0.7634311318397522, 0.012415450997650623, 0.0057663219049572945, 0.0037454995326697826, 0.0025764412712305784, 0.02382739633321762, 0.006111544091254473, 0.01487686950713396, 0.02680382877588272, 0.004455964080989361, 0.004304425325244665, 0.00807988177984953, 0.11719800531864166, 0.0064072017557919025, 0.0, 0.0, 0.0, 0.0, 0.0, 0.0], [0.8465453386306763, 0.004779823124408722, 0.0031481313053518534, 0.002938042627647519, 0.0030882349237799644, 0.017100784927606583, 0.008945086970925331, 0.018765660002827644, 0.04861614853143692, 0.008950834162533283, 0.001127664465457201, 0.004733552690595388, 0.01579226925969124, 0.008663601242005825, 0.0068049137480556965, 0.0, 0.0, 0.0, 0.0, 0.0], [0.8259267210960388, 0.006504481192678213, 0.006328378804028034, 0.0045156292617321014, 0.0019060316262766719, 0.01719948649406433, 0.005390875041484833, 0.012234439142048359, 0.02511110156774521, 0.0040921540930867195, 0.0036365389823913574, 0.004386944696307182, 0.062798410654068, 0.0035403326619416475, 0.0034194225445389748, 0.013009193353354931, 0.0, 0.0, 0.0, 0.0], [0.8701474070549011, 0.0033988025970757008, 0.004431893117725849, 0.0036216003354638815, 0.0014389638090506196, 0.01470900047570467, 0.002909976290538907, 0.015406441874802113, 0.02302294410765171, 0.0025075662415474653, 0.002032328164204955, 0.0015259761130437255, 0.024852817878127098, 0.00358623918145895, 0.002370755886659026, 0.017953800037503242, 0.006083582062274218, 0.0, 0.0, 0.0], [0.8557655811309814, 0.003596062306314707, 0.0036369063891470432, 0.0021775816567242146, 0.001164863700978458, 0.008690201677381992, 0.00349093577824533, 0.011292291805148125, 0.031088653951883316, 0.006782534532248974, 0.0015781030524522066, 0.0026930603198707104, 0.02712569758296013, 0.003797121113166213, 0.001985806506127119, 0.01133632194250822, 0.003984346520155668, 0.019814003258943558, 0.0, 0.0], [0.8412142395973206, 0.004013924393802881, 0.008602478541433811, 0.004937724210321903, 0.008824395947158337, 0.008499540388584137, 0.0024028827901929617, 0.004907343536615372, 0.021676838397979736, 0.00378443137742579, 0.0060614487156271935, 0.008778586983680725, 0.029057634994387627, 0.00752023933455348, 0.00665070116519928, 0.010317038744688034, 0.005781823303550482, 0.012303839437663555, 0.004664969630539417, 0.0], [0.8215542435646057, 0.007551738526672125, 0.0037967797834426165, 0.0022421786561608315, 0.0013954025926068425, 0.011936097405850887, 0.0030239869374781847, 0.004429731983691454, 0.008428534492850304, 0.0032460358925163746, 0.0020680115558207035, 0.006519937422126532, 0.0743473693728447, 0.0034570142161101103, 0.001881306990981102, 0.004698495380580425, 0.0035776153672486544, 0.002972682472318411, 0.0014357013860717416, 0.03143712878227234]], [[1.0, 0.0, 0.0, 0.0, 0.0, 0.0, 0.0, 0.0, 0.0, 0.0, 0.0, 0.0, 0.0, 0.0, 0.0, 0.0, 0.0, 0.0, 0.0, 0.0], [0.9986526966094971, 0.0013472877908498049, 0.0, 0.0, 0.0, 0.0, 0.0, 0.0, 0.0, 0.0, 0.0, 0.0, 0.0, 0.0, 0.0, 0.0, 0.0, 0.0, 0.0, 0.0], [0.9883137941360474, 0.005391873884946108, 0.006294286344200373, 0.0, 0.0, 0.0, 0.0, 0.0, 0.0, 0.0, 0.0, 0.0, 0.0, 0.0, 0.0, 0.0, 0.0, 0.0, 0.0, 0.0], [0.972050130367279, 0.006802668794989586, 0.005981531925499439, 0.015165675431489944, 0.0, 0.0, 0.0, 0.0, 0.0, 0.0, 0.0, 0.0, 0.0, 0.0, 0.0, 0.0, 0.0, 0.0, 0.0, 0.0], [0.8915855288505554, 0.009274364449083805, 0.019675737246870995, 0.029439672827720642, 0.05002475529909134, 0.0, 0.0, 0.0, 0.0, 0.0, 0.0, 0.0, 0.0, 0.0, 0.0, 0.0, 0.0, 0.0, 0.0, 0.0], [0.9562386274337769, 0.005194518249481916, 0.0017242466565221548, 0.0017707605147734284, 0.0020792949944734573, 0.03299255669116974, 0.0, 0.0, 0.0, 0.0, 0.0, 0.0, 0.0, 0.0, 0.0, 0.0, 0.0, 0.0, 0.0, 0.0], [0.9701300859451294, 0.007708152290433645, 0.002692339476197958, 0.002669562818482518, 0.0020198682323098183, 0.008181530982255936, 0.006598386913537979, 0.0, 0.0, 0.0, 0.0, 0.0, 0.0, 0.0, 0.0, 0.0, 0.0, 0.0, 0.0, 0.0], [0.8797582983970642, 0.00583396852016449, 0.011260041035711765, 0.010646593756973743, 0.01737270876765251, 0.042589377611875534, 0.01177339255809784, 0.020765623077750206, 0.0, 0.0, 0.0, 0.0, 0.0, 0.0, 0.0, 0.0, 0.0, 0.0, 0.0, 0.0], [0.6820389032363892, 0.007692298386245966, 0.0839577317237854, 0.02219361811876297, 0.03339120373129845, 0.08048684895038605, 0.019967416301369667, 0.006521182134747505, 0.063750721514225, 0.0, 0.0, 0.0, 0.0, 0.0, 0.0, 0.0, 0.0, 0.0, 0.0, 0.0], [0.5930060744285583, 0.009513670578598976, 0.03928261250257492, 0.010692937299609184, 0.008642013184726238, 0.10298807173967361, 0.02600618079304695, 0.035944368690252304, 0.0476531907916069, 0.12627092003822327, 0.0, 0.0, 0.0, 0.0, 0.0, 0.0, 0.0, 0.0, 0.0, 0.0], [0.8169167041778564, 0.005375179927796125, 0.008094068616628647, 0.02248588763177395, 0.025847701355814934, 0.041975248605012894, 0.008320714347064495, 0.01891542784869671, 0.03858572617173195, 0.011404020711779594, 0.002079313388094306, 0.0, 0.0, 0.0, 0.0, 0.0, 0.0, 0.0, 0.0, 0.0], [0.382192462682724, 0.011937972158193588, 0.048176731914281845, 0.03439674153923988, 0.03374340757727623, 0.167411670088768, 0.02668280154466629, 0.03221292793750763, 0.06253369897603989, 0.09357278794050217, 0.024917129427194595, 0.08222172409296036, 0.0, 0.0, 0.0, 0.0, 0.0, 0.0, 0.0, 0.0], [0.9713448286056519, 0.0008744187653064728, 0.0021629382390528917, 0.0014179066056385636, 0.001543753664009273, 0.004186665639281273, 0.001216255477629602, 0.004057757090777159, 0.0049667274579405785, 0.0027726732660084963, 0.001120980130508542, 0.0018673898885026574, 0.0024676502216607332, 0.0, 0.0, 0.0, 0.0, 0.0, 0.0, 0.0], [0.5300281643867493, 0.009623267687857151, 0.04151558503508568, 0.017711516469717026, 0.016118362545967102, 0.11830785125494003, 0.027656853199005127, 0.02367755025625229, 0.026492580771446228, 0.020111411809921265, 0.01147940568625927, 0.024004073813557625, 0.01774575002491474, 0.11552761495113373, 0.0, 0.0, 0.0, 0.0, 0.0, 0.0], [0.909949541091919, 0.0025021082255989313, 0.0078086331486701965, 0.001982568297535181, 0.0028876671567559242, 0.012674536556005478, 0.003948360215872526, 0.0066317347809672356, 0.008426281623542309, 0.0031059221364557743, 0.0018009243067353964, 0.004594545345753431, 0.004556114785373211, 0.02157689817249775, 0.007554218173027039, 0.0, 0.0, 0.0, 0.0, 0.0], [0.5284255743026733, 0.005269402638077736, 0.05226403847336769, 0.009066338650882244, 0.007133404724299908, 0.09218914061784744, 0.018932320177555084, 0.01840316317975521, 0.016285724937915802, 0.0077374167740345, 0.016740910708904266, 0.013427973724901676, 0.014618991874158382, 0.06003524363040924, 0.03349412605166435, 0.10597628355026245, 0.0, 0.0, 0.0, 0.0], [0.7120488882064819, 0.0044302670285105705, 0.010277503170073032, 0.002971044974401593, 0.0034019520971924067, 0.07292525470256805, 0.012289732694625854, 0.019484251737594604, 0.015739308670163155, 0.004883278161287308, 0.0030042484868317842, 0.003288836684077978, 0.008972952142357826, 0.011262294836342335, 0.004847769625484943, 0.05898577719926834, 0.05118655413389206, 0.0, 0.0, 0.0], [0.6282987594604492, 0.0042980508878827095, 0.004384348168969154, 0.0022044384386390448, 0.002578082960098982, 0.04684670642018318, 0.024265525862574577, 0.02316831797361374, 0.021058155223727226, 0.006001692730933428, 0.002041756873950362, 0.0059783970937132835, 0.005594141781330109, 0.011555662378668785, 0.00638193916529417, 0.04256385564804077, 0.05218935385346413, 0.1105908453464508, 0.0, 0.0], [0.5154905915260315, 0.004117773845791817, 0.04407677426934242, 0.01163211278617382, 0.009983750060200691, 0.02161262184381485, 0.011023228988051414, 0.006326942704617977, 0.02414223924279213, 0.01275629922747612, 0.014232845045626163, 0.03611011430621147, 0.018852269276976585, 0.11073195189237595, 0.038535311818122864, 0.06813293695449829, 0.020252835005521774, 0.013239211402833462, 0.018750198185443878, 0.0], [0.4976019859313965, 0.005173177924007177, 0.008245023898780346, 0.003298586467280984, 0.006722478196024895, 0.04615949094295502, 0.009641122072935104, 0.0032611223869025707, 0.0038938361685723066, 0.007215399295091629, 0.0021848815958946943, 0.012485486455261707, 0.019666483625769615, 0.043849170207977295, 0.012306919321417809, 0.04148649796843529, 0.03473891317844391, 0.008604106493294239, 0.007438820321112871, 0.2260265350341797]], [[1.0, 0.0, 0.0, 0.0, 0.0, 0.0, 0.0, 0.0, 0.0, 0.0, 0.0, 0.0, 0.0, 0.0, 0.0, 0.0, 0.0, 0.0, 0.0, 0.0], [2.1832396669196896e-05, 0.9999781847000122, 0.0, 0.0, 0.0, 0.0, 0.0, 0.0, 0.0, 0.0, 0.0, 0.0, 0.0, 0.0, 0.0, 0.0, 0.0, 0.0, 0.0, 0.0], [2.31942340178648e-05, 0.10378856956958771, 0.8961882591247559, 0.0, 0.0, 0.0, 0.0, 0.0, 0.0, 0.0, 0.0, 0.0, 0.0, 0.0, 0.0, 0.0, 0.0, 0.0, 0.0, 0.0], [7.4891299846058246e-06, 0.04402240738272667, 0.7390302419662476, 0.21693989634513855, 0.0, 0.0, 0.0, 0.0, 0.0, 0.0, 0.0, 0.0, 0.0, 0.0, 0.0, 0.0, 0.0, 0.0, 0.0, 0.0], [1.0567844583420083e-05, 0.011066963896155357, 0.45879682898521423, 0.30711454153060913, 0.2230110764503479, 0.0, 0.0, 0.0, 0.0, 0.0, 0.0, 0.0, 0.0, 0.0, 0.0, 0.0, 0.0, 0.0, 0.0, 0.0], [5.370533108361997e-05, 0.11388682574033737, 0.1916973888874054, 0.13339368999004364, 0.2659256160259247, 0.29504281282424927, 0.0, 0.0, 0.0, 0.0, 0.0, 0.0, 0.0, 0.0, 0.0, 0.0, 0.0, 0.0, 0.0, 0.0], [7.544495747424662e-05, 0.06921540200710297, 0.07179317623376846, 0.06575655192136765, 0.05706043913960457, 0.49770674109458923, 0.23839230835437775, 0.0, 0.0, 0.0, 0.0, 0.0, 0.0, 0.0, 0.0, 0.0, 0.0, 0.0, 0.0, 0.0], [0.00034555152524262667, 0.0243487898260355, 0.2993396818637848, 0.10697335004806519, 0.21547037363052368, 0.16625913977622986, 0.04778491333127022, 0.13947823643684387, 0.0, 0.0, 0.0, 0.0, 0.0, 0.0, 0.0, 0.0, 0.0, 0.0, 0.0, 0.0], [1.0751082299975678e-05, 0.0062263840809464455, 0.5429982542991638, 0.10263989865779877, 0.18754297494888306, 0.027186157181859016, 0.004689287859946489, 0.041903797537088394, 0.08680251985788345, 0.0, 0.0, 0.0, 0.0, 0.0, 0.0, 0.0, 0.0, 0.0, 0.0, 0.0], [2.6038816940854304e-05, 0.019720105454325676, 0.1655256748199463, 0.10225754231214523, 0.10017198324203491, 0.06460453569889069, 0.029688118025660515, 0.05037260428071022, 0.1124386414885521, 0.35519471764564514, 0.0, 0.0, 0.0, 0.0, 0.0, 0.0, 0.0, 0.0, 0.0, 0.0], [2.141845652658958e-05, 0.012023498304188251, 0.4329764246940613, 0.05276020988821983, 0.03646865114569664, 0.06607795506715775, 0.03435158729553223, 0.0575229711830616, 0.04037763550877571, 0.0725916400551796, 0.194828063249588, 0.0, 0.0, 0.0, 0.0, 0.0, 0.0, 0.0, 0.0, 0.0], [9.548808156978339e-05, 0.007675928063690662, 0.2047228068113327, 0.044215746223926544, 0.05627185478806496, 0.061994634568691254, 0.026810068637132645, 0.08502531051635742, 0.08052237331867218, 0.11762233823537827, 0.09297396242618561, 0.22206953167915344, 0.0, 0.0, 0.0, 0.0, 0.0, 0.0, 0.0, 0.0], [0.0006673323223367333, 0.06446056813001633, 0.05370984226465225, 0.03740504011511803, 0.033113908022642136, 0.09654686599969864, 0.02723013050854206, 0.08102830499410629, 0.03869130462408066, 0.01411740854382515, 0.038202691823244095, 0.14683423936367035, 0.3679922819137573, 0.0, 0.0, 0.0, 0.0, 0.0, 0.0, 0.0], [7.446774361596908e-06, 0.00933343917131424, 0.00683914590626955, 0.008199640549719334, 0.004346812609583139, 0.06361868232488632, 0.009508701972663403, 0.03547098860144615, 0.013640962541103363, 0.003998459316790104, 0.006604068446904421, 0.060530148446559906, 0.5494252443313599, 0.22847625613212585, 0.0, 0.0, 0.0, 0.0, 0.0, 0.0], [0.00023447690182365477, 0.013642348349094391, 0.059249840676784515, 0.01149884331971407, 0.010469959117472172, 0.029868291690945625, 0.010752769187092781, 0.029134700074791908, 0.03629447519779205, 0.02309296280145645, 0.051160577684640884, 0.07037252187728882, 0.27064278721809387, 0.1714293658733368, 0.2121560424566269, 0.0, 0.0, 0.0, 0.0, 0.0], [8.303970389533788e-05, 0.0007105797412805259, 0.013736622408032417, 0.003111480502411723, 0.002020749729126692, 0.011695826426148415, 0.0032475024927407503, 0.010299019515514374, 0.0052470676600933075, 0.00426264526322484, 0.01209032628685236, 0.05403802543878555, 0.1168442815542221, 0.3217914402484894, 0.35570913553237915, 0.08511225134134293, 0.0, 0.0, 0.0, 0.0], [0.00028087935061194, 0.003137047868221998, 0.0094434330239892, 0.0037075988948345184, 0.008507310412824154, 0.013419526629149914, 0.0052880095317959785, 0.016960300505161285, 0.009034434333443642, 0.006557204760611057, 0.011812360025942326, 0.03482945263385773, 0.2536066472530365, 0.17311318218708038, 0.12140434235334396, 0.20168952643871307, 0.12720878422260284, 0.0, 0.0, 0.0], [0.00019603458349592984, 0.0014262199401855469, 0.0027058471459895372, 0.0018131083343178034, 0.0021829656325280666, 0.010609562508761883, 0.003391874022781849, 0.009302815422415733, 0.004599422682076693, 0.003218893427401781, 0.002959020435810089, 0.015837566927075386, 0.1294214278459549, 0.08079345524311066, 0.06348320096731186, 0.15026846528053284, 0.4433120787143707, 0.0744781345129013, 0.0, 0.0], [8.445998537354171e-05, 0.0008186009945347905, 0.04907954856753349, 0.008187437430024147, 0.010751375928521156, 0.010947669856250286, 0.0028012176044285297, 0.017046188935637474, 0.04359021410346031, 0.021601131185889244, 0.03243395313620567, 0.08822978287935257, 0.09590905159711838, 0.14290058612823486, 0.1239205002784729, 0.08976444602012634, 0.03536980599164963, 0.04455183818936348, 0.1820121705532074, 0.0], [1.3740205758949742e-05, 0.0016702696448192, 0.014984088949859142, 0.007332077249884605, 0.004943706560879946, 0.00567222386598587, 0.0013792103854939342, 0.005613277200609446, 0.00529988668859005, 0.004973823204636574, 0.01146091427654028, 0.05475489795207977, 0.21867172420024872, 0.32192283868789673, 0.09341496229171753, 0.11675941199064255, 0.017600111663341522, 0.009913282468914986, 0.023863142356276512, 0.07975637912750244]], [[1.0, 0.0, 0.0, 0.0, 0.0, 0.0, 0.0, 0.0, 0.0, 0.0, 0.0, 0.0, 0.0, 0.0, 0.0, 0.0, 0.0, 0.0, 0.0, 0.0], [0.9992029070854187, 0.0007971084560267627, 0.0, 0.0, 0.0, 0.0, 0.0, 0.0, 0.0, 0.0, 0.0, 0.0, 0.0, 0.0, 0.0, 0.0, 0.0, 0.0, 0.0, 0.0], [0.9692914485931396, 0.0027430523186922073, 0.027965566143393517, 0.0, 0.0, 0.0, 0.0, 0.0, 0.0, 0.0, 0.0, 0.0, 0.0, 0.0, 0.0, 0.0, 0.0, 0.0, 0.0, 0.0], [0.9773635864257812, 0.003568472806364298, 0.009240291081368923, 0.009827649220824242, 0.0, 0.0, 0.0, 0.0, 0.0, 0.0, 0.0, 0.0, 0.0, 0.0, 0.0, 0.0, 0.0, 0.0, 0.0, 0.0], [0.9619355201721191, 0.005692505277693272, 0.01290800329297781, 0.006176399067044258, 0.013287527486681938, 0.0, 0.0, 0.0, 0.0, 0.0, 0.0, 0.0, 0.0, 0.0, 0.0, 0.0, 0.0, 0.0, 0.0, 0.0], [0.9860447645187378, 0.0006199989002197981, 0.005212063901126385, 0.0018390238983556628, 0.002798392903059721, 0.00348571315407753, 0.0, 0.0, 0.0, 0.0, 0.0, 0.0, 0.0, 0.0, 0.0, 0.0, 0.0, 0.0, 0.0, 0.0], [0.987177848815918, 0.00039789333823136985, 0.0014114254154264927, 0.0013677305541932583, 0.0021465281024575233, 0.002210864331573248, 0.0052877673879265785, 0.0, 0.0, 0.0, 0.0, 0.0, 0.0, 0.0, 0.0, 0.0, 0.0, 0.0, 0.0, 0.0], [0.9556553363800049, 0.0021548133809119463, 0.006412889342755079, 0.005527797620743513, 0.015777286142110825, 0.003018562914803624, 0.0006272363243624568, 0.010826066136360168, 0.0, 0.0, 0.0, 0.0, 0.0, 0.0, 0.0, 0.0, 0.0, 0.0, 0.0, 0.0], [0.9009420871734619, 0.006409818306565285, 0.019507164135575294, 0.006722065154463053, 0.010380757972598076, 0.00581889133900404, 0.00045140463043935597, 0.0032612024806439877, 0.04650665074586868, 0.0, 0.0, 0.0, 0.0, 0.0, 0.0, 0.0, 0.0, 0.0, 0.0, 0.0], [0.8806658387184143, 0.0027664152439683676, 0.029457831755280495, 0.006805802695453167, 0.005134693346917629, 0.008633180521428585, 0.0014717415906488895, 0.012896474450826645, 0.023158572614192963, 0.02900940738618374, 0.0, 0.0, 0.0, 0.0, 0.0, 0.0, 0.0, 0.0, 0.0, 0.0], [0.8220528364181519, 0.0018663926748558879, 0.02379647269845009, 0.02259203977882862, 0.04847041517496109, 0.006053881254047155, 0.0015761512331664562, 0.013826574198901653, 0.030855674296617508, 0.018057432025671005, 0.010851971805095673, 0.0, 0.0, 0.0, 0.0, 0.0, 0.0, 0.0, 0.0, 0.0], [0.8570846319198608, 0.010760512202978134, 0.006319772452116013, 0.004558994900435209, 0.0025268690660595894, 0.016059327870607376, 0.0020195613615214825, 0.019740760326385498, 0.040657833218574524, 0.017186559736728668, 0.005704050417989492, 0.01738116331398487, 0.0, 0.0, 0.0, 0.0, 0.0, 0.0, 0.0, 0.0], [0.9323806166648865, 0.0016173777403309941, 0.004462163895368576, 0.0026217743288725615, 0.0022101199720054865, 0.004065173678100109, 0.0006372482166625559, 0.011882910504937172, 0.010461589321494102, 0.004061694256961346, 0.0024642469361424446, 0.01079590991139412, 0.012339102104306221, 0.0, 0.0, 0.0, 0.0, 0.0, 0.0, 0.0], [0.8659052848815918, 0.003909379709511995, 0.004660102538764477, 0.0029558315873146057, 0.003191308816894889, 0.01640709489583969, 0.0006531898980028927, 0.02985634095966816, 0.035792093724012375, 0.004193050321191549, 0.0027996234130114317, 0.004348656162619591, 0.01741953380405903, 0.007908616214990616, 0.0, 0.0, 0.0, 0.0, 0.0, 0.0], [0.8847243785858154, 0.0015578485326841474, 0.002019166015088558, 0.0042551434598863125, 0.00328416028060019, 0.006540772505104542, 0.0007452410063706338, 0.021049868315458298, 0.017926545813679695, 0.008980788290500641, 0.0005973925581201911, 0.005057412665337324, 0.0032059785444289446, 0.031578414142131805, 0.008476922288537025, 0.0, 0.0, 0.0, 0.0, 0.0], [0.9240387082099915, 0.0021290923468768597, 0.008426126092672348, 0.002132453490048647, 0.0011940643889829516, 0.010566961951553822, 0.0006136501324363053, 0.01797035150229931, 0.009696890600025654, 0.0024173473939299583, 0.004324282519519329, 0.0018220370402559638, 0.010420775972306728, 0.0018902448937296867, 0.0005008977605029941, 0.0018561455653980374, 0.0, 0.0, 0.0, 0.0], [0.9277141094207764, 0.002184287179261446, 0.004877672530710697, 0.002834741026163101, 0.0004567374417092651, 0.011368004605174065, 0.0010026432573795319, 0.025530816987156868, 0.006664791144430637, 0.0023499317467212677, 0.0011519158724695444, 0.0013620636891573668, 0.002796895569190383, 0.0022900053299963474, 0.000685886072460562, 0.0039657955057919025, 0.00276366644538939, 0.0, 0.0, 0.0], [0.9502430558204651, 0.0021090407390147448, 0.0014142877189442515, 0.0012624808587133884, 0.00029583994182758033, 0.0027817946393042803, 0.0008027423173189163, 0.014261137694120407, 0.0054620662704110146, 0.0020006881095469, 0.000416510651120916, 0.001600185758434236, 0.0009915578411892056, 0.001312249805778265, 0.000340125901857391, 0.0019989479333162308, 0.0011401321971789002, 0.01156720332801342, 0.0, 0.0], [0.9009385108947754, 0.001205584267154336, 0.0040723057463765144, 0.0019105607643723488, 0.002824917435646057, 0.0035044657997787, 0.0007433075807057321, 0.0057306853123009205, 0.008783138357102871, 0.006789552513509989, 0.0022554758470505476, 0.0064118471927940845, 0.004807189106941223, 0.008811654523015022, 0.0015859525883570313, 0.005295176990330219, 0.003001328557729721, 0.019457265734672546, 0.011871232651174068, 0.0], [0.8905053734779358, 0.0036526855546981096, 0.006240688730031252, 0.0016925409436225891, 0.002070509595796466, 0.008214241825044155, 0.000696440227329731, 0.006735895294696093, 0.01846631057560444, 0.002597372280433774, 0.0030701400246471167, 0.009185819886624813, 0.017514262348413467, 0.003939760848879814, 0.0005305149243213236, 0.002767581958323717, 0.0008158832788467407, 0.00512840086594224, 0.007217204198241234, 0.008958272635936737]], [[1.0, 0.0, 0.0, 0.0, 0.0, 0.0, 0.0, 0.0, 0.0, 0.0, 0.0, 0.0, 0.0, 0.0, 0.0, 0.0, 0.0, 0.0, 0.0, 0.0], [0.9908924102783203, 0.009107510559260845, 0.0, 0.0, 0.0, 0.0, 0.0, 0.0, 0.0, 0.0, 0.0, 0.0, 0.0, 0.0, 0.0, 0.0, 0.0, 0.0, 0.0, 0.0], [0.9042541980743408, 0.0040465244092047215, 0.0916992649435997, 0.0, 0.0, 0.0, 0.0, 0.0, 0.0, 0.0, 0.0, 0.0, 0.0, 0.0, 0.0, 0.0, 0.0, 0.0, 0.0, 0.0], [0.9327793717384338, 0.0024855320807546377, 0.038558229804039, 0.026176851242780685, 0.0, 0.0, 0.0, 0.0, 0.0, 0.0, 0.0, 0.0, 0.0, 0.0, 0.0, 0.0, 0.0, 0.0, 0.0, 0.0], [0.8810586929321289, 0.046594493091106415, 0.02569313533604145, 0.008444714359939098, 0.038208987563848495, 0.0, 0.0, 0.0, 0.0, 0.0, 0.0, 0.0, 0.0, 0.0, 0.0, 0.0, 0.0, 0.0, 0.0, 0.0], [0.7693625092506409, 0.009457672014832497, 0.038321495056152344, 0.011002608574926853, 0.07610850781202316, 0.09574715048074722, 0.0, 0.0, 0.0, 0.0, 0.0, 0.0, 0.0, 0.0, 0.0, 0.0, 0.0, 0.0, 0.0, 0.0], [0.40291497111320496, 0.003709519049152732, 0.015070535242557526, 0.005600165110081434, 0.014743857085704803, 0.4921424686908722, 0.06581857800483704, 0.0, 0.0, 0.0, 0.0, 0.0, 0.0, 0.0, 0.0, 0.0, 0.0, 0.0, 0.0, 0.0], [0.5120751857757568, 0.01977434940636158, 0.013699210248887539, 0.004716445226222277, 0.05957796424627304, 0.1463501900434494, 0.03300148993730545, 0.21080510318279266, 0.0, 0.0, 0.0, 0.0, 0.0, 0.0, 0.0, 0.0, 0.0, 0.0, 0.0, 0.0], [0.49930456280708313, 0.01580223999917507, 0.028702255338430405, 0.015164593234658241, 0.10655125975608826, 0.060114115476608276, 0.014681735076010227, 0.11246566474437714, 0.1472136676311493, 0.0, 0.0, 0.0, 0.0, 0.0, 0.0, 0.0, 0.0, 0.0, 0.0, 0.0], [0.44410440325737, 0.02160748653113842, 0.036378197371959686, 0.007256573531776667, 0.0395670048892498, 0.031152792274951935, 0.010149862617254257, 0.07483547180891037, 0.23043771088123322, 0.10451053082942963, 0.0, 0.0, 0.0, 0.0, 0.0, 0.0, 0.0, 0.0, 0.0, 0.0], [0.6297308206558228, 0.002367279725149274, 0.09910356998443604, 0.05169735476374626, 0.042477622628211975, 0.007434300146996975, 0.0026946417056024075, 0.024047929793596268, 0.03330467268824577, 0.046578194946050644, 0.060563646256923676, 0.0, 0.0, 0.0, 0.0, 0.0, 0.0, 0.0, 0.0, 0.0], [0.4822466969490051, 0.03507158160209656, 0.012820713222026825, 0.0027112746611237526, 0.009502535685896873, 0.038575466722249985, 0.015690181404352188, 0.07257258147001266, 0.12615984678268433, 0.08215033262968063, 0.01573118381202221, 0.10676758736371994, 0.0, 0.0, 0.0, 0.0, 0.0, 0.0, 0.0, 0.0], [0.8628650903701782, 0.008032672107219696, 0.0035984236747026443, 0.00198301556520164, 0.004894602112472057, 0.006448025815188885, 0.003693711245432496, 0.016240546479821205, 0.022306719794869423, 0.009306265041232109, 0.0018384874565526843, 0.016522308811545372, 0.04227009788155556, 0.0, 0.0, 0.0, 0.0, 0.0, 0.0, 0.0], [0.5624197721481323, 0.014413376338779926, 0.0018088085344061255, 0.0006599234766326845, 0.0043922895565629005, 0.027139252051711082, 0.011935709044337273, 0.06978368759155273, 0.05712335556745529, 0.027298016473650932, 0.0014550542691722512, 0.02721669152379036, 0.1364983171224594, 0.05785571411252022, 0.0, 0.0, 0.0, 0.0, 0.0, 0.0], [0.43811604380607605, 0.0016006219666451216, 0.009682039730250835, 0.004640568513423204, 0.007986416108906269, 0.027085399255156517, 0.0056412434205412865, 0.06423953920602798, 0.03995149955153465, 0.01614772342145443, 0.006176173221319914, 0.045288458466529846, 0.005277795251458883, 0.2048458606004715, 0.12332060188055038, 0.0, 0.0, 0.0, 0.0, 0.0], [0.4710215926170349, 0.005556827876716852, 0.0014900780515745282, 0.0008002480026334524, 0.003596316324546933, 0.00827342551201582, 0.003060567658394575, 0.03960893675684929, 0.02744426392018795, 0.014120829291641712, 0.0010764863109216094, 0.016071287915110588, 0.14030998945236206, 0.03188125044107437, 0.005485775414854288, 0.2302020788192749, 0.0, 0.0, 0.0, 0.0], [0.15007156133651733, 0.0009648388368077576, 0.0008489788160659373, 0.0005232332623563707, 0.0032582557760179043, 0.009410307742655277, 0.0011743962531909347, 0.057464599609375, 0.018328815698623657, 0.00376240536570549, 0.00039164352347142994, 0.007279589306563139, 0.0063796984031796455, 0.02817625366151333, 0.0042484295554459095, 0.6672687530517578, 0.040448203682899475, 0.0, 0.0, 0.0], [0.07093016058206558, 0.0005047146114520729, 0.0003569081309251487, 0.0004286959010642022, 0.0015629552071914077, 0.003941116388887167, 0.000724931713193655, 0.03501547500491142, 0.01924237795174122, 0.0030865296721458435, 0.0002375279291300103, 0.002849442418664694, 0.00422435998916626, 0.009421134367585182, 0.003395385341718793, 0.6444059014320374, 0.15005125105381012, 0.04962114989757538, 0.0, 0.0], [0.2110600620508194, 0.0003988274256698787, 0.0029819675255566835, 0.003188500879332423, 0.0032981885597109795, 0.00796166155487299, 0.0010545323602855206, 0.019939839839935303, 0.009446526877582073, 0.009950509294867516, 0.00233181263320148, 0.025506693869829178, 0.0037937795277684927, 0.033358652144670486, 0.006332705728709698, 0.24260663986206055, 0.10511364042758942, 0.11524957418441772, 0.19642587006092072, 0.0], [0.45740827918052673, 0.010355834849178791, 0.0042655086144804955, 0.001441054861061275, 0.0025944404769688845, 0.006116804666817188, 0.0027879553381353617, 0.008939928375184536, 0.015020663850009441, 0.011684203520417213, 0.0019218921661376953, 0.017169151455163956, 0.26826027035713196, 0.02105565369129181, 0.004134197719395161, 0.048801228404045105, 0.0058001261204481125, 0.005537150427699089, 0.013606017455458641, 0.09309976547956467]], [[1.0, 0.0, 0.0, 0.0, 0.0, 0.0, 0.0, 0.0, 0.0, 0.0, 0.0, 0.0, 0.0, 0.0, 0.0, 0.0, 0.0, 0.0, 0.0, 0.0], [0.9896167516708374, 0.010383241809904575, 0.0, 0.0, 0.0, 0.0, 0.0, 0.0, 0.0, 0.0, 0.0, 0.0, 0.0, 0.0, 0.0, 0.0, 0.0, 0.0, 0.0, 0.0], [0.9571978449821472, 0.0037306176964193583, 0.039071619510650635, 0.0, 0.0, 0.0, 0.0, 0.0, 0.0, 0.0, 0.0, 0.0, 0.0, 0.0, 0.0, 0.0, 0.0, 0.0, 0.0, 0.0], [0.9297316670417786, 0.004075160250067711, 0.028922617435455322, 0.03727056086063385, 0.0, 0.0, 0.0, 0.0, 0.0, 0.0, 0.0, 0.0, 0.0, 0.0, 0.0, 0.0, 0.0, 0.0, 0.0, 0.0], [0.9342214465141296, 0.026390623301267624, 0.00995488278567791, 0.013008770532906055, 0.01642434485256672, 0.0, 0.0, 0.0, 0.0, 0.0, 0.0, 0.0, 0.0, 0.0, 0.0, 0.0, 0.0, 0.0, 0.0, 0.0], [0.8612048625946045, 0.007812174502760172, 0.021848293021321297, 0.015426099300384521, 0.05703594535589218, 0.036672770977020264, 0.0, 0.0, 0.0, 0.0, 0.0, 0.0, 0.0, 0.0, 0.0, 0.0, 0.0, 0.0, 0.0, 0.0], [0.4596233069896698, 0.014510048553347588, 0.02654929831624031, 0.015290714800357819, 0.045080967247486115, 0.3705008924007416, 0.06844475120306015, 0.0, 0.0, 0.0, 0.0, 0.0, 0.0, 0.0, 0.0, 0.0, 0.0, 0.0, 0.0, 0.0], [0.7368308305740356, 0.004658173304051161, 0.013137094676494598, 0.008183102123439312, 0.04069352149963379, 0.05676453560590744, 0.0230614822357893, 0.1166713535785675, 0.0, 0.0, 0.0, 0.0, 0.0, 0.0, 0.0, 0.0, 0.0, 0.0, 0.0, 0.0], [0.6787116527557373, 0.0024537891149520874, 0.03649604693055153, 0.024013713002204895, 0.10602707415819168, 0.036863960325717926, 0.007116032764315605, 0.06115361303091049, 0.04716416448354721, 0.0, 0.0, 0.0, 0.0, 0.0, 0.0, 0.0, 0.0, 0.0, 0.0, 0.0], [0.6651445031166077, 0.002498965710401535, 0.02583169937133789, 0.00818103738129139, 0.026981865987181664, 0.014521170407533646, 0.0042905183508992195, 0.11262207478284836, 0.1013164147734642, 0.03861173987388611, 0.0, 0.0, 0.0, 0.0, 0.0, 0.0, 0.0, 0.0, 0.0, 0.0], [0.37936869263648987, 0.006904868874698877, 0.02180631086230278, 0.016955429688096046, 0.0340869314968586, 0.012420826591551304, 0.004688685294240713, 0.10466711968183517, 0.32201507687568665, 0.07203181087970734, 0.025054266676306725, 0.0, 0.0, 0.0, 0.0, 0.0, 0.0, 0.0, 0.0, 0.0], [0.4766533076763153, 0.00422495836392045, 0.0032561831176280975, 0.0028152409940958023, 0.006299448665231466, 0.005695562344044447, 0.003475496545433998, 0.15111328661441803, 0.1327710747718811, 0.15138578414916992, 0.004997818730771542, 0.05731191113591194, 0.0, 0.0, 0.0, 0.0, 0.0, 0.0, 0.0, 0.0], [0.8151542544364929, 0.0038983109407126904, 0.005767005495727062, 0.007842782884836197, 0.012849995866417885, 0.010004198178648949, 0.0024373973719775677, 0.034244243055582047, 0.028584834188222885, 0.008582871407270432, 0.0030686797108501196, 0.025129256770014763, 0.04243626445531845, 0.0, 0.0, 0.0, 0.0, 0.0, 0.0, 0.0], [0.30043697357177734, 0.043398331850767136, 0.0022156022023409605, 0.006057399325072765, 0.004769886843860149, 0.013885600492358208, 0.03443104401230812, 0.16987641155719757, 0.058690376579761505, 0.19783517718315125, 0.0016471254639327526, 0.030878670513629913, 0.10393185913562775, 0.03194555267691612, 0.0, 0.0, 0.0, 0.0, 0.0, 0.0], [0.3755077123641968, 0.0014328479301184416, 0.0033682063221931458, 0.0032501525711268187, 0.0024383992422372103, 0.02677026204764843, 0.008901669643819332, 0.2462826818227768, 0.1520562320947647, 0.012787622399628162, 0.0018055749824270606, 0.010727048851549625, 0.03390435874462128, 0.08092581480741501, 0.039841342717409134, 0.0, 0.0, 0.0, 0.0, 0.0], [0.7560821771621704, 0.0017543553840368986, 0.003308030776679516, 0.0034220784436911345, 0.0042908769100904465, 0.007910572923719883, 0.0024737331550568342, 0.051221542060375214, 0.021255262196063995, 0.009384439326822758, 0.0023171452339738607, 0.01611790433526039, 0.035081278532743454, 0.021831104531884193, 0.008141294121742249, 0.05540815368294716, 0.0, 0.0, 0.0, 0.0], [0.42740997672080994, 0.0008047086885198951, 0.0011993126245215535, 0.002906887559220195, 0.0040538921020925045, 0.00472882529720664, 0.001042277435772121, 0.06127059832215309, 0.01754981279373169, 0.0029460659716278315, 0.0005916868685744703, 0.009486133232712746, 0.011140955612063408, 0.04887239634990692, 0.009303634986281395, 0.34401804208755493, 0.05267488956451416, 0.0, 0.0, 0.0], [0.19616074860095978, 0.000269706710241735, 0.0006577924941666424, 0.0012598290340974927, 0.0006531164981424809, 0.0012056354898959398, 0.0010602866532281041, 0.026932811364531517, 0.006261248607188463, 0.0008047606097534299, 0.00041633573709987104, 0.004995828960090876, 0.011678713373839855, 0.024205055087804794, 0.0057496074587106705, 0.37586769461631775, 0.3280905485153198, 0.013730301521718502, 0.0, 0.0], [0.3299134075641632, 0.00045193263213150203, 0.004582060966640711, 0.008643381297588348, 0.002686155028641224, 0.014989599585533142, 0.005763193592429161, 0.02625022456049919, 0.016622185707092285, 0.007222318090498447, 0.0035070450976490974, 0.031111199408769608, 0.00873123575001955, 0.057234711945056915, 0.018369102850556374, 0.24861234426498413, 0.09463071078062057, 0.07692430168390274, 0.043754879385232925, 0.0], [0.5848127007484436, 0.004516473039984703, 0.0011538178659975529, 0.0022842632606625557, 0.0014482473488897085, 0.006738808937370777, 0.0013877032324671745, 0.019654827192425728, 0.025892622768878937, 0.014221330173313618, 0.0007677418179810047, 0.018141672015190125, 0.10760089010000229, 0.015063297934830189, 0.004807343240827322, 0.03215247392654419, 0.011802595108747482, 0.009728522971272469, 0.02237826958298683, 0.11544648557901382]]]}\n",
              "    )\n",
              "    </script>"
            ]
          },
          "metadata": {}
        }
      ]
    },
    {
      "cell_type": "markdown",
      "source": [
        "In the last layer, most heads attend to Bob when selectiong the next token."
      ],
      "metadata": {
        "id": "1CRXPkOiRuNn"
      }
    },
    {
      "cell_type": "code",
      "source": [
        "text = \"When the serpent beguiled Eve, she partook of the forbidden fruit and shared it with\"\n",
        "display_attn_pattern(gpt2_small, 11, text)"
      ],
      "metadata": {
        "colab": {
          "base_uri": "https://localhost:8080/",
          "height": 357
        },
        "id": "OOT6A-8pTVqV",
        "outputId": "8698111a-65b4-4379-851f-8eeecddf2f64"
      },
      "execution_count": null,
      "outputs": [
        {
          "output_type": "display_data",
          "data": {
            "text/plain": [
              "<circuitsvis.utils.render.RenderedHTML at 0x7f7ac0eb7430>"
            ],
            "text/html": [
              "<div id=\"circuits-vis-a30e9987-3d47\" style=\"margin: 15px 0;\"/>\n",
              "    <script crossorigin type=\"module\">\n",
              "    import { render, AttentionPatterns } from \"https://unpkg.com/circuitsvis@1.39.1/dist/cdn/esm.js\";\n",
              "    render(\n",
              "      \"circuits-vis-a30e9987-3d47\",\n",
              "      AttentionPatterns,\n",
              "      {\"tokens\": [\"<|endoftext|>\", \"When\", \" the\", \" serpent\", \" beg\", \"u\", \"iled\", \" Eve\", \",\", \" she\", \" part\", \"ook\", \" of\", \" the\", \" forbidden\", \" fruit\", \" and\", \" shared\", \" it\", \" with\"], \"attention\": [[[1.0, 0.0, 0.0, 0.0, 0.0, 0.0, 0.0, 0.0, 0.0, 0.0, 0.0, 0.0, 0.0, 0.0, 0.0, 0.0, 0.0, 0.0, 0.0, 0.0], [0.29334184527397156, 0.706658124923706, 0.0, 0.0, 0.0, 0.0, 0.0, 0.0, 0.0, 0.0, 0.0, 0.0, 0.0, 0.0, 0.0, 0.0, 0.0, 0.0, 0.0, 0.0], [0.36667394638061523, 0.3202606439590454, 0.31306543946266174, 0.0, 0.0, 0.0, 0.0, 0.0, 0.0, 0.0, 0.0, 0.0, 0.0, 0.0, 0.0, 0.0, 0.0, 0.0, 0.0, 0.0], [0.5470228791236877, 0.21062757074832916, 0.13165684044361115, 0.11069267988204956, 0.0, 0.0, 0.0, 0.0, 0.0, 0.0, 0.0, 0.0, 0.0, 0.0, 0.0, 0.0, 0.0, 0.0, 0.0, 0.0], [0.8474196791648865, 0.051373887807130814, 0.03866022825241089, 0.03257286548614502, 0.02997337467968464, 0.0, 0.0, 0.0, 0.0, 0.0, 0.0, 0.0, 0.0, 0.0, 0.0, 0.0, 0.0, 0.0, 0.0, 0.0], [0.8717252612113953, 0.00899600051343441, 0.006077955011278391, 0.012319326400756836, 0.03807113692164421, 0.06281038373708725, 0.0, 0.0, 0.0, 0.0, 0.0, 0.0, 0.0, 0.0, 0.0, 0.0, 0.0, 0.0, 0.0, 0.0], [0.12584905326366425, 0.2437109649181366, 0.293947696685791, 0.16817723214626312, 0.03212233632802963, 0.011746550910174847, 0.12444619089365005, 0.0, 0.0, 0.0, 0.0, 0.0, 0.0, 0.0, 0.0, 0.0, 0.0, 0.0, 0.0, 0.0], [0.26282063126564026, 0.2531266510486603, 0.11365646123886108, 0.11266079545021057, 0.03244662657380104, 0.011923166923224926, 0.10707216709852219, 0.10629352927207947, 0.0, 0.0, 0.0, 0.0, 0.0, 0.0, 0.0, 0.0, 0.0, 0.0, 0.0, 0.0], [0.27512288093566895, 0.08951893448829651, 0.11125094443559647, 0.10407377034425735, 0.02733490988612175, 0.018426308408379555, 0.05989175662398338, 0.18410858511924744, 0.13027194142341614, 0.0, 0.0, 0.0, 0.0, 0.0, 0.0, 0.0, 0.0, 0.0, 0.0, 0.0], [0.13765843212604523, 0.10780657827854156, 0.11589924246072769, 0.07342693954706192, 0.019366934895515442, 0.009559199213981628, 0.0476042665541172, 0.07890988886356354, 0.15492071211338043, 0.25484782457351685, 0.0, 0.0, 0.0, 0.0, 0.0, 0.0, 0.0, 0.0, 0.0, 0.0], [0.636805534362793, 0.03263925388455391, 0.02921462431550026, 0.06504197418689728, 0.05431784689426422, 0.05454479157924652, 0.020581478253006935, 0.05023945868015289, 0.010856709443032742, 0.026146335527300835, 0.019612034782767296, 0.0, 0.0, 0.0, 0.0, 0.0, 0.0, 0.0, 0.0, 0.0], [0.08462876081466675, 0.0951320081949234, 0.09390516579151154, 0.0864776000380516, 0.017977971583604813, 0.01286940835416317, 0.071147620677948, 0.1214321181178093, 0.14990395307540894, 0.23029480874538422, 0.011685713194310665, 0.02454483136534691, 0.0, 0.0, 0.0, 0.0, 0.0, 0.0, 0.0, 0.0], [0.06795578449964523, 0.054033711552619934, 0.10561967641115189, 0.12023496627807617, 0.011256939731538296, 0.007952328771352768, 0.049084968864917755, 0.19870993494987488, 0.1185169443488121, 0.18559832870960236, 0.00653767678886652, 0.013695014640688896, 0.06080375611782074, 0.0, 0.0, 0.0, 0.0, 0.0, 0.0, 0.0], [0.14106006920337677, 0.03362158313393593, 0.06871380656957626, 0.09612459689378738, 0.01044386625289917, 0.003282667137682438, 0.0319499708712101, 0.14521457254886627, 0.057810984551906586, 0.12244813144207001, 0.002258295426145196, 0.01610524021089077, 0.04604862630367279, 0.22491760551929474, 0.0, 0.0, 0.0, 0.0, 0.0, 0.0], [0.19845153391361237, 0.03182027488946915, 0.050232868641614914, 0.10939298570156097, 0.027386166155338287, 0.010323156602680683, 0.04620255529880524, 0.1152958869934082, 0.05577895790338516, 0.09290924668312073, 0.006538657005876303, 0.022400634363293648, 0.048680149018764496, 0.1195865347981453, 0.06500047445297241, 0.0, 0.0, 0.0, 0.0, 0.0], [0.1048099473118782, 0.13146346807479858, 0.08477252721786499, 0.07004973292350769, 0.014622720889747143, 0.014076181687414646, 0.044952888041734695, 0.06342210620641708, 0.11638109385967255, 0.12358487397432327, 0.006455291993916035, 0.009479797445237637, 0.04177926480770111, 0.060492247343063354, 0.031133845448493958, 0.08252396434545517, 0.0, 0.0, 0.0, 0.0], [0.12946347892284393, 0.05585388094186783, 0.05828120931982994, 0.059824682772159576, 0.019468925893306732, 0.008882704190909863, 0.049312375485897064, 0.0456487201154232, 0.09037239849567413, 0.08843714743852615, 0.002775819506496191, 0.023933513090014458, 0.09173694252967834, 0.1071433275938034, 0.05024539306759834, 0.062130022794008255, 0.05648946389555931, 0.0, 0.0, 0.0], [0.08439944684505463, 0.05049122869968414, 0.06444355845451355, 0.0779738798737526, 0.014541064389050007, 0.009285339154303074, 0.051404740661382675, 0.12747472524642944, 0.08180838823318481, 0.11343767493963242, 0.005901987198740244, 0.019009046256542206, 0.052464328706264496, 0.05618564411997795, 0.03483080118894577, 0.08101347088813782, 0.05812828615307808, 0.017206337302923203, 0.0, 0.0], [0.11370666325092316, 0.05531599745154381, 0.035579219460487366, 0.05480591580271721, 0.012937895022332668, 0.014626016840338707, 0.054372478276491165, 0.08118007332086563, 0.0651409775018692, 0.08118969202041626, 0.008368989452719688, 0.02134217694401741, 0.08780622482299805, 0.043566714972257614, 0.07203907519578934, 0.09086437523365021, 0.06300722062587738, 0.028763653710484505, 0.015386722050607204, 0.0], [0.0837358832359314, 0.035391755402088165, 0.04587749019265175, 0.07626395672559738, 0.010244626551866531, 0.007659724913537502, 0.030524853616952896, 0.15473216772079468, 0.10166488587856293, 0.06424607336521149, 0.004106993321329355, 0.012818166054785252, 0.046862222254276276, 0.07684123516082764, 0.03541664779186249, 0.040786903351545334, 0.030581897124648094, 0.01002706028521061, 0.009349390864372253, 0.12286809831857681]], [[1.0, 0.0, 0.0, 0.0, 0.0, 0.0, 0.0, 0.0, 0.0, 0.0, 0.0, 0.0, 0.0, 0.0, 0.0, 0.0, 0.0, 0.0, 0.0, 0.0], [0.9375097155570984, 0.06249029189348221, 0.0, 0.0, 0.0, 0.0, 0.0, 0.0, 0.0, 0.0, 0.0, 0.0, 0.0, 0.0, 0.0, 0.0, 0.0, 0.0, 0.0, 0.0], [0.8951008915901184, 0.04187369719147682, 0.06302543729543686, 0.0, 0.0, 0.0, 0.0, 0.0, 0.0, 0.0, 0.0, 0.0, 0.0, 0.0, 0.0, 0.0, 0.0, 0.0, 0.0, 0.0], [0.9272807240486145, 0.019694283604621887, 0.017900977283716202, 0.035124100744724274, 0.0, 0.0, 0.0, 0.0, 0.0, 0.0, 0.0, 0.0, 0.0, 0.0, 0.0, 0.0, 0.0, 0.0, 0.0, 0.0], [0.9865272641181946, 0.0029070056043565273, 0.004586460534483194, 0.0038030166178941727, 0.0021763332188129425, 0.0, 0.0, 0.0, 0.0, 0.0, 0.0, 0.0, 0.0, 0.0, 0.0, 0.0, 0.0, 0.0, 0.0, 0.0], [0.9953052997589111, 0.0018189639085903764, 0.001260248594917357, 0.001079950132407248, 0.00034437180147506297, 0.00019121260265819728, 0.0, 0.0, 0.0, 0.0, 0.0, 0.0, 0.0, 0.0, 0.0, 0.0, 0.0, 0.0, 0.0, 0.0], [0.6923654079437256, 0.09596811234951019, 0.10247070342302322, 0.035271741449832916, 0.01290836464613676, 0.0021696961484849453, 0.05884597450494766, 0.0, 0.0, 0.0, 0.0, 0.0, 0.0, 0.0, 0.0, 0.0, 0.0, 0.0, 0.0, 0.0], [0.7809115648269653, 0.03228054940700531, 0.018528936430811882, 0.007398487534373999, 0.03497942164540291, 0.0037715951912105083, 0.0347776934504509, 0.08735176175832748, 0.0, 0.0, 0.0, 0.0, 0.0, 0.0, 0.0, 0.0, 0.0, 0.0, 0.0, 0.0], [0.35382336378097534, 0.046762824058532715, 0.029778368771076202, 0.019239982590079308, 0.01520431600511074, 0.0039907051250338554, 0.05401234328746796, 0.1242946907877922, 0.3528934419155121, 0.0, 0.0, 0.0, 0.0, 0.0, 0.0, 0.0, 0.0, 0.0, 0.0, 0.0], [0.7221832275390625, 0.01665404625236988, 0.01007031463086605, 0.00790186133235693, 0.07519084215164185, 0.010060648433864117, 0.0581546388566494, 0.013605497777462006, 0.06055467948317528, 0.025624355301260948, 0.0, 0.0, 0.0, 0.0, 0.0, 0.0, 0.0, 0.0, 0.0, 0.0], [0.9286457300186157, 0.0030868479516357183, 0.0029553670901805162, 0.0017002291278913617, 0.0044026547111570835, 0.0017810264835134149, 0.004600949585437775, 0.016541752964258194, 0.021450882777571678, 0.014633485116064548, 0.0002011134201893583, 0.0, 0.0, 0.0, 0.0, 0.0, 0.0, 0.0, 0.0, 0.0], [0.48047196865081787, 0.015624498948454857, 0.01571814715862274, 0.023875582963228226, 0.015588735230267048, 0.004513295367360115, 0.03570481762290001, 0.15933868288993835, 0.11511118710041046, 0.11222643405199051, 0.0011408410500735044, 0.020685741677880287, 0.0, 0.0, 0.0, 0.0, 0.0, 0.0, 0.0, 0.0], [0.31511569023132324, 0.01418212242424488, 0.013711445964872837, 0.022632788866758347, 0.011457853019237518, 0.0050331000238657, 0.047966692596673965, 0.053807374089956284, 0.30427876114845276, 0.07122248411178589, 0.0011452857870608568, 0.02896777167916298, 0.11047855764627457, 0.0, 0.0, 0.0, 0.0, 0.0, 0.0, 0.0], [0.42441147565841675, 0.0076037864200770855, 0.01237716805189848, 0.0885733813047409, 0.012645548209547997, 0.002645772648975253, 0.03869713842868805, 0.02222394198179245, 0.09235989302396774, 0.04084792360663414, 0.002268686192110181, 0.018271207809448242, 0.13272009789943695, 0.10435392707586288, 0.0, 0.0, 0.0, 0.0, 0.0, 0.0], [0.7036580443382263, 0.004903572145849466, 0.01083024125546217, 0.028454909101128578, 0.0034583210945129395, 0.0012090241070836782, 0.015064374543726444, 0.015325934626162052, 0.03076373226940632, 0.02146133966743946, 0.000566858216188848, 0.007981231436133385, 0.05050757899880409, 0.07929787784814835, 0.026516910642385483, 0.0, 0.0, 0.0, 0.0, 0.0], [0.5982546806335449, 0.02185702882707119, 0.014620230533182621, 0.01794547028839588, 0.008941536769270897, 0.00216292985714972, 0.01965847983956337, 0.10968901216983795, 0.042474281042814255, 0.07782071083784103, 0.00048250582767650485, 0.008408716879785061, 0.01975635066628456, 0.02950776182115078, 0.010389630682766438, 0.018030686303973198, 0.0, 0.0, 0.0, 0.0], [0.6836627721786499, 0.011951658874750137, 0.012908190488815308, 0.017776861786842346, 0.017690137028694153, 0.0031626103445887566, 0.016001472249627113, 0.05858553946018219, 0.03750942274928093, 0.037669047713279724, 0.00370349851436913, 0.01616295985877514, 0.012466712854802608, 0.01800723932683468, 0.010139735415577888, 0.012982319109141827, 0.029619913548231125, 0.0, 0.0, 0.0], [0.43224650621414185, 0.016462260857224464, 0.016749659553170204, 0.017664549872279167, 0.015366821549832821, 0.004898811690509319, 0.0270414799451828, 0.11120728403329849, 0.07731668651103973, 0.10080551356077194, 0.00205442332662642, 0.013642195612192154, 0.020019283518195152, 0.038016390055418015, 0.012866807170212269, 0.011384684592485428, 0.05528867989778519, 0.026967978104948997, 0.0, 0.0], [0.6301970481872559, 0.012774137780070305, 0.008857443928718567, 0.0047662993893027306, 0.020659536123275757, 0.005965566262602806, 0.027876844629645348, 0.025211414322257042, 0.01902085170149803, 0.036990754306316376, 0.00907696969807148, 0.02257273718714714, 0.01427390705794096, 0.01078448910266161, 0.012479430064558983, 0.004246092401444912, 0.04413500800728798, 0.0556417852640152, 0.03446970134973526, 0.0], [0.23623594641685486, 0.03467104956507683, 0.026422802358865738, 0.01018715463578701, 0.005804696120321751, 0.001758045982569456, 0.04802968353033066, 0.07594757527112961, 0.2247346192598343, 0.043244753032922745, 0.0008326363749802113, 0.0061720432713627815, 0.015541513450443745, 0.021417370066046715, 0.0022630859166383743, 0.002491589169949293, 0.021781984716653824, 0.019508907571434975, 0.018380548804998398, 0.18457403779029846]], [[1.0, 0.0, 0.0, 0.0, 0.0, 0.0, 0.0, 0.0, 0.0, 0.0, 0.0, 0.0, 0.0, 0.0, 0.0, 0.0, 0.0, 0.0, 0.0, 0.0], [0.9691731929779053, 0.03082680143415928, 0.0, 0.0, 0.0, 0.0, 0.0, 0.0, 0.0, 0.0, 0.0, 0.0, 0.0, 0.0, 0.0, 0.0, 0.0, 0.0, 0.0, 0.0], [0.9562413096427917, 0.025338301435112953, 0.018420325592160225, 0.0, 0.0, 0.0, 0.0, 0.0, 0.0, 0.0, 0.0, 0.0, 0.0, 0.0, 0.0, 0.0, 0.0, 0.0, 0.0, 0.0], [0.9396927356719971, 0.010840652510523796, 0.006684630177915096, 0.042782023549079895, 0.0, 0.0, 0.0, 0.0, 0.0, 0.0, 0.0, 0.0, 0.0, 0.0, 0.0, 0.0, 0.0, 0.0, 0.0, 0.0], [0.9820959568023682, 0.005081488750874996, 0.0020740448962897062, 0.007872363552451134, 0.002876035403460264, 0.0, 0.0, 0.0, 0.0, 0.0, 0.0, 0.0, 0.0, 0.0, 0.0, 0.0, 0.0, 0.0, 0.0, 0.0], [0.9915238618850708, 0.0018007634207606316, 0.00075643410673365, 0.0039263200014829636, 0.0004923571832478046, 0.0015003463486209512, 0.0, 0.0, 0.0, 0.0, 0.0, 0.0, 0.0, 0.0, 0.0, 0.0, 0.0, 0.0, 0.0, 0.0], [0.8462391495704651, 0.05525551736354828, 0.024915363639593124, 0.059623803943395615, 0.0035336092114448547, 0.0014988270122557878, 0.00893376674503088, 0.0, 0.0, 0.0, 0.0, 0.0, 0.0, 0.0, 0.0, 0.0, 0.0, 0.0, 0.0, 0.0], [0.9013428092002869, 0.02049887366592884, 0.0049324361607432365, 0.013656713999807835, 0.008742301724851131, 0.014052403159439564, 0.006850735750049353, 0.02992369420826435, 0.0, 0.0, 0.0, 0.0, 0.0, 0.0, 0.0, 0.0, 0.0, 0.0, 0.0, 0.0], [0.6841931939125061, 0.02338297851383686, 0.010030078701674938, 0.03673496097326279, 0.004394593182951212, 0.004498659633100033, 0.009652314707636833, 0.14021165668964386, 0.08690156787633896, 0.0, 0.0, 0.0, 0.0, 0.0, 0.0, 0.0, 0.0, 0.0, 0.0, 0.0], [0.8854893445968628, 0.009108399040997028, 0.0023993533104658127, 0.006152698304504156, 0.03978453949093819, 0.014027426950633526, 0.02333494834601879, 0.004544632975012064, 0.011966447345912457, 0.0031922273337841034, 0.0, 0.0, 0.0, 0.0, 0.0, 0.0, 0.0, 0.0, 0.0, 0.0], [0.9267202615737915, 0.005047270096838474, 0.0013531845761463046, 0.00900781899690628, 0.0032123529817909002, 0.0025101942010223866, 0.0039006832521408796, 0.03458771854639053, 0.007575863040983677, 0.005915926303714514, 0.00016869402315933257, 0.0, 0.0, 0.0, 0.0, 0.0, 0.0, 0.0, 0.0, 0.0], [0.7409461140632629, 0.015499822795391083, 0.007006764877587557, 0.02429746836423874, 0.011726695112884045, 0.0030745002441108227, 0.004705892410129309, 0.15747866034507751, 0.02448359690606594, 0.006563213653862476, 0.0003388972254469991, 0.0038783587515354156, 0.0, 0.0, 0.0, 0.0, 0.0, 0.0, 0.0, 0.0], [0.7226539850234985, 0.012831563130021095, 0.008692593313753605, 0.038921989500522614, 0.003526615910232067, 0.0024687107652425766, 0.004553155042231083, 0.13288503885269165, 0.04872918501496315, 0.01031721755862236, 0.00011939276737393811, 0.0025573510210961103, 0.011743234470486641, 0.0, 0.0, 0.0, 0.0, 0.0, 0.0, 0.0], [0.8034448027610779, 0.0036346507258713245, 0.006143149454146624, 0.08492832630872726, 0.0068012443371117115, 0.0018757794750854373, 0.00871521607041359, 0.02261015772819519, 0.011088715866208076, 0.002419180702418089, 0.00022169668227434158, 0.005280951503664255, 0.01813189871609211, 0.024704264476895332, 0.0, 0.0, 0.0, 0.0, 0.0, 0.0], [0.8465480208396912, 0.0037084254436194897, 0.004920679144561291, 0.05626567080616951, 0.0031349409837275743, 0.0010569067671895027, 0.0036254245787858963, 0.023103775456547737, 0.007045617327094078, 0.0017222546739503741, 9.17237121029757e-05, 0.0021318576764315367, 0.01037435419857502, 0.0184022169560194, 0.01786811836063862, 0.0, 0.0, 0.0, 0.0, 0.0], [0.775242030620575, 0.011885734274983406, 0.0049023935571312904, 0.03009030595421791, 0.013907604850828648, 0.0030192863196134567, 0.005348741076886654, 0.0898854061961174, 0.02166069857776165, 0.003699387889355421, 0.00027627081726677716, 0.0023926389403641224, 0.003732890821993351, 0.004965900909155607, 0.006255444139242172, 0.0227353572845459, 0.0, 0.0, 0.0, 0.0], [0.8158125281333923, 0.008252589963376522, 0.004346607718616724, 0.020137064158916473, 0.01488804817199707, 0.004769550636410713, 0.008147609420120716, 0.03878374025225639, 0.02105429582297802, 0.004534675739705563, 0.000926235516089946, 0.008684428408741951, 0.015248511917889118, 0.006785182282328606, 0.0062554688192903996, 0.00961210671812296, 0.011761308647692204, 0.0, 0.0, 0.0], [0.6157171726226807, 0.024269841611385345, 0.010786526836454868, 0.02715393714606762, 0.0036688637919723988, 0.0034781997092068195, 0.00590891158208251, 0.1608082801103592, 0.06841660290956497, 0.015656717121601105, 0.00027235987363383174, 0.004504038020968437, 0.009815827012062073, 0.010454940609633923, 0.008203726261854172, 0.011622793972492218, 0.01396495383232832, 0.005296377930790186, 0.0, 0.0], [0.9029043316841125, 0.008346001617610455, 0.0023284051567316055, 0.00397737929597497, 0.013317744247615337, 0.003211593721061945, 0.006832548882812262, 0.015142988413572311, 0.00984106119722128, 0.003394507570192218, 0.0010693389922380447, 0.005345318000763655, 0.002669641748070717, 0.0012844697339460254, 0.002340086968615651, 0.003417310770601034, 0.002990612993016839, 0.00793587975203991, 0.0036507498007267714, 0.0], [0.5968170166015625, 0.017319008708000183, 0.011804971843957901, 0.0363432839512825, 0.001341134193353355, 0.0019148360006511211, 0.004497886635363102, 0.11019707471132278, 0.10751575231552124, 0.013832015916705132, 9.965060598915443e-05, 0.0011276864679530263, 0.00791634526103735, 0.006138818338513374, 0.0017890300368890166, 0.0021725057158619165, 0.016706684604287148, 0.00452640512958169, 0.0030648286920040846, 0.05487501993775368]], [[1.0, 0.0, 0.0, 0.0, 0.0, 0.0, 0.0, 0.0, 0.0, 0.0, 0.0, 0.0, 0.0, 0.0, 0.0, 0.0, 0.0, 0.0, 0.0, 0.0], [0.7929217219352722, 0.20707827806472778, 0.0, 0.0, 0.0, 0.0, 0.0, 0.0, 0.0, 0.0, 0.0, 0.0, 0.0, 0.0, 0.0, 0.0, 0.0, 0.0, 0.0, 0.0], [0.6126986742019653, 0.26999950408935547, 0.11730178445577621, 0.0, 0.0, 0.0, 0.0, 0.0, 0.0, 0.0, 0.0, 0.0, 0.0, 0.0, 0.0, 0.0, 0.0, 0.0, 0.0, 0.0], [0.785126805305481, 0.07162752747535706, 0.04822966083884239, 0.0950159803032875, 0.0, 0.0, 0.0, 0.0, 0.0, 0.0, 0.0, 0.0, 0.0, 0.0, 0.0, 0.0, 0.0, 0.0, 0.0, 0.0], [0.9417828917503357, 0.015497609041631222, 0.008724191226065159, 0.02507634647190571, 0.008918951265513897, 0.0, 0.0, 0.0, 0.0, 0.0, 0.0, 0.0, 0.0, 0.0, 0.0, 0.0, 0.0, 0.0, 0.0, 0.0], [0.9832813143730164, 0.0020325612276792526, 0.0008180307340808213, 0.009090804494917393, 0.003775338875129819, 0.001001977943815291, 0.0, 0.0, 0.0, 0.0, 0.0, 0.0, 0.0, 0.0, 0.0, 0.0, 0.0, 0.0, 0.0, 0.0], [0.5865120887756348, 0.16217544674873352, 0.04702722281217575, 0.08977377414703369, 0.03051268309354782, 0.013182544149458408, 0.07081622630357742, 0.0, 0.0, 0.0, 0.0, 0.0, 0.0, 0.0, 0.0, 0.0, 0.0, 0.0, 0.0, 0.0], [0.7414655685424805, 0.05557951703667641, 0.014865806326270103, 0.041209958493709564, 0.036569081246852875, 0.011142595671117306, 0.0671587809920311, 0.03200875222682953, 0.0, 0.0, 0.0, 0.0, 0.0, 0.0, 0.0, 0.0, 0.0, 0.0, 0.0, 0.0], [0.6635190844535828, 0.031254786998033524, 0.006784738041460514, 0.04312829673290253, 0.01305997185409069, 0.0074223000556230545, 0.036021165549755096, 0.11677096039056778, 0.08203861862421036, 0.0, 0.0, 0.0, 0.0, 0.0, 0.0, 0.0, 0.0, 0.0, 0.0, 0.0], [0.5249420404434204, 0.016879873350262642, 0.0020392320584505796, 0.14453980326652527, 0.04295506328344345, 0.012346765957772732, 0.025903716683387756, 0.08908989280462265, 0.057402342557907104, 0.08390133827924728, 0.0, 0.0, 0.0, 0.0, 0.0, 0.0, 0.0, 0.0, 0.0, 0.0], [0.8202989101409912, 0.012091076001524925, 0.0027475024107843637, 0.026315847411751747, 0.01573284901678562, 0.009588656015694141, 0.013382311910390854, 0.029238011687994003, 0.026385974138975143, 0.040490955114364624, 0.0037279268726706505, 0.0, 0.0, 0.0, 0.0, 0.0, 0.0, 0.0, 0.0, 0.0], [0.6418983936309814, 0.0474080927670002, 0.00876952800899744, 0.019374161958694458, 0.009375127032399178, 0.008488955907523632, 0.027462726458907127, 0.05655130743980408, 0.09405245631933212, 0.02868431992828846, 0.020646950230002403, 0.037288032472133636, 0.0, 0.0, 0.0, 0.0, 0.0, 0.0, 0.0, 0.0], [0.6673936247825623, 0.026262866333127022, 0.0054459418170154095, 0.019538363441824913, 0.005777847953140736, 0.004393705166876316, 0.030664663761854172, 0.05567217245697975, 0.07138705998659134, 0.01080442126840353, 0.006188646890223026, 0.05452485755085945, 0.04194588586688042, 0.0, 0.0, 0.0, 0.0, 0.0, 0.0, 0.0], [0.5857529044151306, 0.00746376346796751, 0.006209800951182842, 0.020365813747048378, 0.008530769497156143, 0.006107309367507696, 0.021877093240618706, 0.025359634310007095, 0.015777848660945892, 0.011269821785390377, 0.00958309043198824, 0.13334129750728607, 0.12306629866361618, 0.025294534862041473, 0.0, 0.0, 0.0, 0.0, 0.0, 0.0], [0.5395374894142151, 0.0021493248641490936, 0.004531206097453833, 0.026854023337364197, 0.007571983151137829, 0.004497011657804251, 0.022674836218357086, 0.021497761830687523, 0.004752949345856905, 0.00365197635255754, 0.005223709158599377, 0.15360786020755768, 0.11673872172832489, 0.05283306539058685, 0.03387807309627533, 0.0, 0.0, 0.0, 0.0, 0.0], [0.6587859988212585, 0.011416632682085037, 0.005647262558341026, 0.02454514615237713, 0.006916209124028683, 0.0035330450627952814, 0.019588300958275795, 0.028836386278271675, 0.037824563682079315, 0.014242634177207947, 0.008788584731519222, 0.04949884116649628, 0.056570205837488174, 0.021320845931768417, 0.034941092133522034, 0.017544252797961235, 0.0, 0.0, 0.0, 0.0], [0.5267907381057739, 0.011890294961631298, 0.002828632015734911, 0.05047551542520523, 0.0049021560698747635, 0.004577408544719219, 0.012577344663441181, 0.06226855143904686, 0.03567217290401459, 0.06216618791222572, 0.010224385187029839, 0.03062266670167446, 0.01377361360937357, 0.00864961463958025, 0.046050459146499634, 0.08127915114164352, 0.03525111824274063, 0.0, 0.0, 0.0], [0.6419218182563782, 0.024371379986405373, 0.004708757624030113, 0.03070070594549179, 0.004587552975863218, 0.0028761327266693115, 0.017362812533974648, 0.03973324969410896, 0.07761196047067642, 0.012825592420995235, 0.00390704907476902, 0.009310310706496239, 0.010737389326095581, 0.005383694544434547, 0.010900354944169521, 0.03189313784241676, 0.04278524965047836, 0.028382807970046997, 0.0, 0.0], [0.6309381723403931, 0.0032577472738921642, 0.0008820012444630265, 0.01329873502254486, 0.006708149332553148, 0.0020584736485034227, 0.007949640043079853, 0.018074430525302887, 0.01848962903022766, 0.010855860076844692, 0.036617837846279144, 0.03675169497728348, 0.0194851104170084, 0.007324250880628824, 0.020227182656526566, 0.013640590012073517, 0.032140571624040604, 0.10587851703166962, 0.015421412885189056, 0.0], [0.6426995992660522, 0.025437667965888977, 0.0043832529336214066, 0.014313029125332832, 0.0021269437856972218, 0.0018068782519549131, 0.01832595281302929, 0.04081301391124725, 0.12301521003246307, 0.00767803518101573, 0.0015564385103061795, 0.014338447712361813, 0.01185343973338604, 0.0039493185468018055, 0.006728166248649359, 0.013556063175201416, 0.012518813833594322, 0.017040206119418144, 0.009419355541467667, 0.0284402035176754]], [[1.0, 0.0, 0.0, 0.0, 0.0, 0.0, 0.0, 0.0, 0.0, 0.0, 0.0, 0.0, 0.0, 0.0, 0.0, 0.0, 0.0, 0.0, 0.0, 0.0], [0.9422425031661987, 0.05775746703147888, 0.0, 0.0, 0.0, 0.0, 0.0, 0.0, 0.0, 0.0, 0.0, 0.0, 0.0, 0.0, 0.0, 0.0, 0.0, 0.0, 0.0, 0.0], [0.9041418433189392, 0.05346648395061493, 0.042391661554574966, 0.0, 0.0, 0.0, 0.0, 0.0, 0.0, 0.0, 0.0, 0.0, 0.0, 0.0, 0.0, 0.0, 0.0, 0.0, 0.0, 0.0], [0.8538721203804016, 0.05402045324444771, 0.047567639499902725, 0.04453978314995766, 0.0, 0.0, 0.0, 0.0, 0.0, 0.0, 0.0, 0.0, 0.0, 0.0, 0.0, 0.0, 0.0, 0.0, 0.0, 0.0], [0.921458899974823, 0.03774111345410347, 0.022176427766680717, 0.007389020640403032, 0.011234506964683533, 0.0, 0.0, 0.0, 0.0, 0.0, 0.0, 0.0, 0.0, 0.0, 0.0, 0.0, 0.0, 0.0, 0.0, 0.0], [0.9508153200149536, 0.018912797793745995, 0.011095942929387093, 0.0059169745072722435, 0.003612642642110586, 0.009646382182836533, 0.0, 0.0, 0.0, 0.0, 0.0, 0.0, 0.0, 0.0, 0.0, 0.0, 0.0, 0.0, 0.0, 0.0], [0.7718801498413086, 0.06195412948727608, 0.11948707699775696, 0.019239047542214394, 0.005233736243098974, 0.003888295963406563, 0.018317583948373795, 0.0, 0.0, 0.0, 0.0, 0.0, 0.0, 0.0, 0.0, 0.0, 0.0, 0.0, 0.0, 0.0], [0.7488868236541748, 0.04320866987109184, 0.03672805801033974, 0.010126173496246338, 0.026016000658273697, 0.008963536471128464, 0.04838491976261139, 0.07768569141626358, 0.0, 0.0, 0.0, 0.0, 0.0, 0.0, 0.0, 0.0, 0.0, 0.0, 0.0, 0.0], [0.6712435483932495, 0.05065975710749626, 0.06483297049999237, 0.014020542614161968, 0.013737629167735577, 0.008436513133347034, 0.02405029535293579, 0.09822153300046921, 0.05479709804058075, 0.0, 0.0, 0.0, 0.0, 0.0, 0.0, 0.0, 0.0, 0.0, 0.0, 0.0], [0.6366731524467468, 0.042630769312381744, 0.03127489611506462, 0.015269546769559383, 0.052891552448272705, 0.014943452551960945, 0.036984942853450775, 0.015525199472904205, 0.07590894401073456, 0.07789754122495651, 0.0, 0.0, 0.0, 0.0, 0.0, 0.0, 0.0, 0.0, 0.0, 0.0], [0.8304691314697266, 0.02998282015323639, 0.020892232656478882, 0.005876287817955017, 0.004873423371464014, 0.018518447875976562, 0.016757329925894737, 0.02600938081741333, 0.016358045861124992, 0.025020429864525795, 0.005242405459284782, 0.0, 0.0, 0.0, 0.0, 0.0, 0.0, 0.0, 0.0, 0.0], [0.7497944235801697, 0.022252876311540604, 0.04643771052360535, 0.008466413244605064, 0.011885377578437328, 0.010373765602707863, 0.007285127881914377, 0.044065963476896286, 0.02580486424267292, 0.06018328294157982, 0.007892400026321411, 0.005557754542678595, 0.0, 0.0, 0.0, 0.0, 0.0, 0.0, 0.0, 0.0], [0.722537636756897, 0.024100411683321, 0.07487368583679199, 0.011630123481154442, 0.0066057126969099045, 0.008870966732501984, 0.0054177092388272285, 0.06615906953811646, 0.023307746276259422, 0.044920120388269424, 0.003589184954762459, 0.002272026613354683, 0.005715623032301664, 0.0, 0.0, 0.0, 0.0, 0.0, 0.0, 0.0], [0.6517503261566162, 0.03078131005167961, 0.05951693281531334, 0.05448653921484947, 0.02568666636943817, 0.009946837089955807, 0.018128225579857826, 0.013405486941337585, 0.016107749193906784, 0.014383422210812569, 0.0044803195632994175, 0.007367883808910847, 0.036513976752758026, 0.057444363832473755, 0.0, 0.0, 0.0, 0.0, 0.0, 0.0], [0.6854532361030579, 0.027114897966384888, 0.031661152839660645, 0.035142190754413605, 0.0165528766810894, 0.005424107890576124, 0.014349325560033321, 0.024474896490573883, 0.010500097647309303, 0.008114617317914963, 0.0027817448135465384, 0.008732862770557404, 0.03416040912270546, 0.03256682679057121, 0.06297077983617783, 0.0, 0.0, 0.0, 0.0, 0.0], [0.7068654298782349, 0.029160432517528534, 0.03296983242034912, 0.00734371691942215, 0.015910886228084564, 0.0069733248092234135, 0.01559282373636961, 0.036636125296354294, 0.028388826176524162, 0.033654242753982544, 0.00480172922834754, 0.007286036387085915, 0.011747303418815136, 0.022579694166779518, 0.019214648753404617, 0.02087494358420372, 0.0, 0.0, 0.0, 0.0], [0.5707682371139526, 0.02148306556046009, 0.027867894619703293, 0.0095338961109519, 0.023394109681248665, 0.01269093994051218, 0.017075054347515106, 0.025821305811405182, 0.03804755210876465, 0.05727937072515488, 0.024266500025987625, 0.012249610386788845, 0.029223887249827385, 0.023573672398924828, 0.016048194840550423, 0.009483066387474537, 0.08119362592697144, 0.0, 0.0, 0.0], [0.7152748107910156, 0.016416097059845924, 0.03347272425889969, 0.0056050922721624374, 0.005329764913767576, 0.006242329254746437, 0.006221786141395569, 0.07620547711849213, 0.019958192482590675, 0.03394995629787445, 0.006087838672101498, 0.0038381279446184635, 0.0036507395561784506, 0.02047569677233696, 0.013632317073643208, 0.006970053538680077, 0.018542088568210602, 0.00812687911093235, 0.0, 0.0], [0.6833075881004333, 0.02557329460978508, 0.020257003605365753, 0.00442288676276803, 0.014285671524703503, 0.00814087875187397, 0.019150232896208763, 0.015918603166937828, 0.028605761006474495, 0.024763943627476692, 0.022787075489759445, 0.007374948356300592, 0.016795223578810692, 0.009998736903071404, 0.008574726060032845, 0.008295543491840363, 0.05757924169301987, 0.018705271184444427, 0.005463375244289637, 0.0], [0.6085703372955322, 0.025456149131059647, 0.05399332195520401, 0.007680397015064955, 0.004781946539878845, 0.005307032261043787, 0.00879871379584074, 0.11632915586233139, 0.04106447473168373, 0.03539768233895302, 0.0027840943075716496, 0.001350946957245469, 0.004429343156516552, 0.01445096731185913, 0.006075054407119751, 0.0016337903216481209, 0.014383642934262753, 0.008349161595106125, 0.0049265786074101925, 0.03423716127872467]], [[1.0, 0.0, 0.0, 0.0, 0.0, 0.0, 0.0, 0.0, 0.0, 0.0, 0.0, 0.0, 0.0, 0.0, 0.0, 0.0, 0.0, 0.0, 0.0, 0.0], [0.966231107711792, 0.03376888483762741, 0.0, 0.0, 0.0, 0.0, 0.0, 0.0, 0.0, 0.0, 0.0, 0.0, 0.0, 0.0, 0.0, 0.0, 0.0, 0.0, 0.0, 0.0], [0.9749070405960083, 0.014078741893172264, 0.011014237999916077, 0.0, 0.0, 0.0, 0.0, 0.0, 0.0, 0.0, 0.0, 0.0, 0.0, 0.0, 0.0, 0.0, 0.0, 0.0, 0.0, 0.0], [0.9485217928886414, 0.02278709039092064, 0.011613181792199612, 0.01707790233194828, 0.0, 0.0, 0.0, 0.0, 0.0, 0.0, 0.0, 0.0, 0.0, 0.0, 0.0, 0.0, 0.0, 0.0, 0.0, 0.0], [0.9945324659347534, 0.0013437115121632814, 0.0018714184407144785, 0.0010808728402480483, 0.0011714963475242257, 0.0, 0.0, 0.0, 0.0, 0.0, 0.0, 0.0, 0.0, 0.0, 0.0, 0.0, 0.0, 0.0, 0.0, 0.0], [0.9962156414985657, 0.0009709088481031358, 0.0010029029799625278, 0.0006238992791622877, 0.0004314756952226162, 0.0007551821763627231, 0.0, 0.0, 0.0, 0.0, 0.0, 0.0, 0.0, 0.0, 0.0, 0.0, 0.0, 0.0, 0.0, 0.0], [0.9362676739692688, 0.022021746262907982, 0.013332769274711609, 0.016181156039237976, 0.004191502928733826, 0.000956417468842119, 0.007048794999718666, 0.0, 0.0, 0.0, 0.0, 0.0, 0.0, 0.0, 0.0, 0.0, 0.0, 0.0, 0.0, 0.0], [0.9001180529594421, 0.03865006938576698, 0.006432481575757265, 0.004436575807631016, 0.006605988368391991, 0.0020196684636175632, 0.012022336944937706, 0.029714804142713547, 0.0, 0.0, 0.0, 0.0, 0.0, 0.0, 0.0, 0.0, 0.0, 0.0, 0.0, 0.0], [0.8116012811660767, 0.04331126809120178, 0.01457651611417532, 0.005531840492039919, 0.01307093445211649, 0.0015902500599622726, 0.010804133489727974, 0.04294056072831154, 0.05657313019037247, 0.0, 0.0, 0.0, 0.0, 0.0, 0.0, 0.0, 0.0, 0.0, 0.0, 0.0], [0.7512580752372742, 0.028646297752857208, 0.017908982932567596, 0.001440543681383133, 0.03387926518917084, 0.0042016333900392056, 0.026670001447200775, 0.004763027187436819, 0.05390151962637901, 0.07733060419559479, 0.0, 0.0, 0.0, 0.0, 0.0, 0.0, 0.0, 0.0, 0.0, 0.0], [0.984751284122467, 0.0014933340717107058, 0.001079321838915348, 0.0005744490772485733, 0.0013226220617070794, 0.0012465380132198334, 0.003218337893486023, 0.001785203698091209, 0.0014283359050750732, 0.0026818036567419767, 0.0004187885788269341, 0.0, 0.0, 0.0, 0.0, 0.0, 0.0, 0.0, 0.0, 0.0], [0.9412567019462585, 0.01037895493209362, 0.004480310250073671, 0.0023715728893876076, 0.0028028616216033697, 0.0008451556204818189, 0.003229797352105379, 0.01548224687576294, 0.007012622896581888, 0.007852858863770962, 0.0007869742112234235, 0.0035000203642994165, 0.0, 0.0, 0.0, 0.0, 0.0, 0.0, 0.0, 0.0], [0.9142429828643799, 0.011186128482222557, 0.008507897146046162, 0.005192367825657129, 0.0019375808769837022, 0.0010925251990556717, 0.0030115756671875715, 0.027218377217650414, 0.012078283354640007, 0.006813159212470055, 0.0013613036135211587, 0.0020612343214452267, 0.005296546034514904, 0.0, 0.0, 0.0, 0.0, 0.0, 0.0, 0.0], [0.9445809721946716, 0.005591705907136202, 0.0027012182399630547, 0.01217858586460352, 0.004276706371456385, 0.00037196537596173584, 0.0044491407461464405, 0.003396941814571619, 0.0032853027805685997, 0.0028356309048831463, 0.0032685333862900734, 0.0033855692017823458, 0.003067394718527794, 0.0066103688441216946, 0.0, 0.0, 0.0, 0.0, 0.0, 0.0], [0.9678738117218018, 0.0029259538277983665, 0.0009258633945137262, 0.0024781087413430214, 0.0018781904364004731, 0.0002105845051119104, 0.0014014332555234432, 0.001887072459794581, 0.001636499771848321, 0.0019459655741229653, 0.0020132793579250574, 0.0022970433346927166, 0.0023059698287397623, 0.0022378552239388227, 0.00798229780048132, 0.0, 0.0, 0.0, 0.0, 0.0], [0.9106156826019287, 0.013349909335374832, 0.00329887424595654, 0.0034802670124918222, 0.004882859997451305, 0.001412852667272091, 0.0030664829537272453, 0.012949668802320957, 0.0035590690094977617, 0.006284152157604694, 0.002103345235809684, 0.005499623250216246, 0.00470373872667551, 0.004220892209559679, 0.009755457751452923, 0.01081712357699871, 0.0, 0.0, 0.0, 0.0], [0.6518307328224182, 0.006258935201913118, 0.003696186002343893, 0.001442060573026538, 0.00782521441578865, 0.0008474523783661425, 0.008962091989815235, 0.003644762095063925, 0.024154137820005417, 0.061262696981430054, 0.06530273705720901, 0.030221816152334213, 0.029587697237730026, 0.012831551022827625, 0.005431285593658686, 0.009822293184697628, 0.07687833905220032, 0.0, 0.0, 0.0], [0.8869740962982178, 0.012415070086717606, 0.005107150878757238, 0.0029128266032785177, 0.0015027874615043402, 0.0009979105088859797, 0.003347009187564254, 0.020894713699817657, 0.011848486959934235, 0.0115594994276762, 0.0012897620908915997, 0.004027920309454203, 0.005609099753201008, 0.006368936505168676, 0.006467761471867561, 0.008203449659049511, 0.0069136363454163074, 0.003559868549928069, 0.0, 0.0], [0.9155460000038147, 0.016658971086144447, 0.0022297787945717573, 0.001784813473932445, 0.0018583369674161077, 0.0011825619731098413, 0.00321952230297029, 0.0048634642735123634, 0.0033531670924276114, 0.00381876970641315, 0.0015062324237078428, 0.004640245344489813, 0.003857241477817297, 0.0024922804441303015, 0.007120069582015276, 0.008117667399346828, 0.007163543254137039, 0.002570327604189515, 0.008017066866159439, 0.0], [0.8098134398460388, 0.010455421172082424, 0.007155321072787046, 0.01584499515593052, 0.0023226183839142323, 0.0012275038752704859, 0.004409644287079573, 0.07743332535028458, 0.03153669089078903, 0.008423433639109135, 0.002336042234674096, 0.0010695344535633922, 0.0022451854310929775, 0.00218402361497283, 0.0018787479493767023, 0.0007518550264649093, 0.001572836539708078, 0.0028061072807759047, 0.004252280108630657, 0.012280956842005253]], [[1.0, 0.0, 0.0, 0.0, 0.0, 0.0, 0.0, 0.0, 0.0, 0.0, 0.0, 0.0, 0.0, 0.0, 0.0, 0.0, 0.0, 0.0, 0.0, 0.0], [0.9877730011940002, 0.012227020226418972, 0.0, 0.0, 0.0, 0.0, 0.0, 0.0, 0.0, 0.0, 0.0, 0.0, 0.0, 0.0, 0.0, 0.0, 0.0, 0.0, 0.0, 0.0], [0.9868593215942383, 0.008602967485785484, 0.004537762608379126, 0.0, 0.0, 0.0, 0.0, 0.0, 0.0, 0.0, 0.0, 0.0, 0.0, 0.0, 0.0, 0.0, 0.0, 0.0, 0.0, 0.0], [0.9439794421195984, 0.0121314013376832, 0.0059405784122645855, 0.037948574870824814, 0.0, 0.0, 0.0, 0.0, 0.0, 0.0, 0.0, 0.0, 0.0, 0.0, 0.0, 0.0, 0.0, 0.0, 0.0, 0.0], [0.9845505356788635, 0.0026210299693048, 0.0025378756690770388, 0.007912926375865936, 0.0023776525631546974, 0.0, 0.0, 0.0, 0.0, 0.0, 0.0, 0.0, 0.0, 0.0, 0.0, 0.0, 0.0, 0.0, 0.0, 0.0], [0.9833903908729553, 0.0024756155908107758, 0.00220189499668777, 0.006079710554331541, 0.001042635994963348, 0.004809788428246975, 0.0, 0.0, 0.0, 0.0, 0.0, 0.0, 0.0, 0.0, 0.0, 0.0, 0.0, 0.0, 0.0, 0.0], [0.9240238070487976, 0.02825346775352955, 0.01721329800784588, 0.019246146082878113, 0.004059414379298687, 0.0016384562477469444, 0.005565430503338575, 0.0, 0.0, 0.0, 0.0, 0.0, 0.0, 0.0, 0.0, 0.0, 0.0, 0.0, 0.0, 0.0], [0.853104829788208, 0.016793277114629745, 0.007027246057987213, 0.008741380646824837, 0.0288210641592741, 0.01680455356836319, 0.014865148812532425, 0.05384255573153496, 0.0, 0.0, 0.0, 0.0, 0.0, 0.0, 0.0, 0.0, 0.0, 0.0, 0.0, 0.0], [0.7490423917770386, 0.022714227437973022, 0.011209617368876934, 0.01855534501373768, 0.030693968757987022, 0.00929499976336956, 0.008746955543756485, 0.13614137470722198, 0.013601124286651611, 0.0, 0.0, 0.0, 0.0, 0.0, 0.0, 0.0, 0.0, 0.0, 0.0, 0.0], [0.7160912752151489, 0.0076631237752735615, 0.002020253799855709, 0.00757643161341548, 0.1722809374332428, 0.028489934280514717, 0.031269434839487076, 0.01522912923246622, 0.010888629592955112, 0.00849082786589861, 0.0, 0.0, 0.0, 0.0, 0.0, 0.0, 0.0, 0.0, 0.0, 0.0], [0.9455546140670776, 0.0037028659135103226, 0.0020602319855242968, 0.004274852108210325, 0.002072370843961835, 0.005100937560200691, 0.0050119319930672646, 0.024517003446817398, 0.002265101531520486, 0.0050756437703967094, 0.0003644853422883898, 0.0, 0.0, 0.0, 0.0, 0.0, 0.0, 0.0, 0.0, 0.0], [0.817581295967102, 0.015958864241838455, 0.008472749963402748, 0.013232197612524033, 0.015420626848936081, 0.007070560939610004, 0.007229037582874298, 0.07644548267126083, 0.012432259507477283, 0.017818408086895943, 0.0006587383104488254, 0.007679886184632778, 0.0, 0.0, 0.0, 0.0, 0.0, 0.0, 0.0, 0.0], [0.803787350654602, 0.010726463980972767, 0.009711679071187973, 0.017062140628695488, 0.017992326989769936, 0.005204197019338608, 0.0036679815966635942, 0.10413249582052231, 0.00864492729306221, 0.010150974616408348, 0.0003813184448517859, 0.0035907025448977947, 0.004947439767420292, 0.0, 0.0, 0.0, 0.0, 0.0, 0.0, 0.0], [0.8866024017333984, 0.003563599893823266, 0.002653989475220442, 0.048417139798402786, 0.023876868188381195, 0.0032897458877414465, 0.003218205412849784, 0.008676175959408283, 0.0028879146557301283, 0.0019989239517599344, 0.0005857806536369026, 0.004941070452332497, 0.004176418296992779, 0.005111792124807835, 0.0, 0.0, 0.0, 0.0, 0.0, 0.0], [0.94035804271698, 0.0032184449955821037, 0.002145185833796859, 0.017467495054006577, 0.00697115994989872, 0.0014342357171699405, 0.0008214281406253576, 0.006228037178516388, 0.0016782201128080487, 0.0016532419249415398, 0.00015670608263462782, 0.0018949622754007578, 0.0026079274248331785, 0.004200831521302462, 0.009163989685475826, 0.0, 0.0, 0.0, 0.0, 0.0], [0.8837476968765259, 0.006816888228058815, 0.003301603952422738, 0.00868924893438816, 0.01649976149201393, 0.007963311858475208, 0.002772688400000334, 0.03017793968319893, 0.0020870440639555454, 0.005271577276289463, 0.0005399348447099328, 0.003563954494893551, 0.003663012757897377, 0.006402194034308195, 0.007339593023061752, 0.011163586750626564, 0.0, 0.0, 0.0, 0.0], [0.8503336906433105, 0.0052849347703158855, 0.0023653774987906218, 0.010031774640083313, 0.01997924968600273, 0.0060630133375525475, 0.006902945227921009, 0.04120481014251709, 0.005597641225904226, 0.005402673501521349, 0.0025013999547809362, 0.011128964833915234, 0.007251424249261618, 0.0035862524528056383, 0.006723456550389528, 0.008832934312522411, 0.0068095168098807335, 0.0, 0.0, 0.0], [0.6780698299407959, 0.012223848141729832, 0.007846660912036896, 0.010213718749582767, 0.013440296985208988, 0.004979100544005632, 0.0038146846927702427, 0.2009364366531372, 0.008751108311116695, 0.015239081345498562, 0.0005168634816072881, 0.004272920545190573, 0.00419368501752615, 0.007287580519914627, 0.005214431323111057, 0.01036016084253788, 0.007831130176782608, 0.004808482248336077, 0.0, 0.0], [0.8527016043663025, 0.010006658732891083, 0.003653581952676177, 0.0031011702958494425, 0.011675857938826084, 0.012817674316465855, 0.008467760868370533, 0.012258871458470821, 0.0030411172192543745, 0.01034607645124197, 0.002098169643431902, 0.016717961058020592, 0.007325476035475731, 0.004120850004255772, 0.007030261680483818, 0.005953156854957342, 0.018099920824170113, 0.006562347989529371, 0.004021553788334131, 0.0], [0.6827384233474731, 0.02527451328933239, 0.020070672035217285, 0.0222158320248127, 0.00988513883203268, 0.005583833437412977, 0.0076630390249192715, 0.17252656817436218, 0.020772119984030724, 0.011309311725199223, 0.00048136842087842524, 0.0009831709321588278, 0.0019256343366578221, 0.0035591775085777044, 0.0008701668702997267, 0.0013942386722192168, 0.00316042173653841, 0.001240715035237372, 0.00121322984341532, 0.007132411003112793]], [[1.0, 0.0, 0.0, 0.0, 0.0, 0.0, 0.0, 0.0, 0.0, 0.0, 0.0, 0.0, 0.0, 0.0, 0.0, 0.0, 0.0, 0.0, 0.0, 0.0], [0.9073157906532288, 0.09268420934677124, 0.0, 0.0, 0.0, 0.0, 0.0, 0.0, 0.0, 0.0, 0.0, 0.0, 0.0, 0.0, 0.0, 0.0, 0.0, 0.0, 0.0, 0.0], [0.9583845734596252, 0.02513824962079525, 0.016477081924676895, 0.0, 0.0, 0.0, 0.0, 0.0, 0.0, 0.0, 0.0, 0.0, 0.0, 0.0, 0.0, 0.0, 0.0, 0.0, 0.0, 0.0], [0.96208655834198, 0.011663722805678844, 0.013705824501812458, 0.012543792836368084, 0.0, 0.0, 0.0, 0.0, 0.0, 0.0, 0.0, 0.0, 0.0, 0.0, 0.0, 0.0, 0.0, 0.0, 0.0, 0.0], [0.9839185476303101, 0.005357766058295965, 0.00652228482067585, 0.002908585127443075, 0.0012927950592711568, 0.0, 0.0, 0.0, 0.0, 0.0, 0.0, 0.0, 0.0, 0.0, 0.0, 0.0, 0.0, 0.0, 0.0, 0.0], [0.9958179593086243, 0.0009121899493038654, 0.0014322453644126654, 0.0008170121582224965, 0.000411542016081512, 0.0006090285605750978, 0.0, 0.0, 0.0, 0.0, 0.0, 0.0, 0.0, 0.0, 0.0, 0.0, 0.0, 0.0, 0.0, 0.0], [0.7880995273590088, 0.10812019556760788, 0.034045491367578506, 0.019492316991090775, 0.006455408409237862, 0.0014496369985863566, 0.04233740270137787, 0.0, 0.0, 0.0, 0.0, 0.0, 0.0, 0.0, 0.0, 0.0, 0.0, 0.0, 0.0, 0.0], [0.8322058916091919, 0.044123440980911255, 0.01750822551548481, 0.006707105785608292, 0.015082909725606441, 0.0016959061613306403, 0.05577295646071434, 0.026903556659817696, 0.0, 0.0, 0.0, 0.0, 0.0, 0.0, 0.0, 0.0, 0.0, 0.0, 0.0, 0.0], [0.5468798279762268, 0.034687552601099014, 0.025589145720005035, 0.01824215240776539, 0.014006546698510647, 0.0014784178929403424, 0.054296769201755524, 0.1037566214799881, 0.20106291770935059, 0.0, 0.0, 0.0, 0.0, 0.0, 0.0, 0.0, 0.0, 0.0, 0.0, 0.0], [0.9386652112007141, 0.002279779640957713, 0.0026940570678561926, 0.002284641144797206, 0.012497959658503532, 0.0033646579831838608, 0.02172219753265381, 0.004252792801707983, 0.006185638252645731, 0.006053070072084665, 0.0, 0.0, 0.0, 0.0, 0.0, 0.0, 0.0, 0.0, 0.0, 0.0], [0.9408740401268005, 0.003947626333683729, 0.004668850917369127, 0.00235178810544312, 0.0016031393315643072, 0.0023370017297565937, 0.0027910172939300537, 0.021888935938477516, 0.013226494193077087, 0.006021825596690178, 0.0002893202181439847, 0.0, 0.0, 0.0, 0.0, 0.0, 0.0, 0.0, 0.0, 0.0], [0.6517446041107178, 0.009804762899875641, 0.008852165192365646, 0.0057226927019655704, 0.009422303177416325, 0.0020139901898801327, 0.011937090195715427, 0.09252334386110306, 0.1304405778646469, 0.034190211445093155, 0.003969569690525532, 0.03937867283821106, 0.0, 0.0, 0.0, 0.0, 0.0, 0.0, 0.0, 0.0], [0.7189713716506958, 0.005345899611711502, 0.005881564226001501, 0.00795162282884121, 0.0066870953887701035, 0.0010042388457804918, 0.010356550104916096, 0.08964218944311142, 0.08586814999580383, 0.01498421747237444, 0.0016590331215411425, 0.013390492647886276, 0.03825754672288895, 0.0, 0.0, 0.0, 0.0, 0.0, 0.0, 0.0], [0.9352092146873474, 0.0020405310206115246, 0.002976302057504654, 0.011731124483048916, 0.004115336574614048, 0.0006112551200203598, 0.004640796221792698, 0.004644730128347874, 0.0030416513327509165, 0.00445158826187253, 0.0012194233713671565, 0.0032851197756826878, 0.005100308917462826, 0.01693257875740528, 0.0, 0.0, 0.0, 0.0, 0.0, 0.0], [0.9423127770423889, 0.0022554926108568907, 0.0025833039544522762, 0.004906659945845604, 0.0017989499028772116, 0.00046582447248511016, 0.003421216970309615, 0.004967391956597567, 0.00297136465087533, 0.005661897826939821, 0.00035291799576953053, 0.002027324866503477, 0.003968344070017338, 0.008787250146269798, 0.013519237749278545, 0.0, 0.0, 0.0, 0.0, 0.0], [0.5163270831108093, 0.018952948972582817, 0.014631508849561214, 0.006895629223436117, 0.010210343636572361, 0.00176105962600559, 0.036824505776166916, 0.05484914407134056, 0.09622499346733093, 0.056988805532455444, 0.005332466680556536, 0.030354807153344154, 0.08544272929430008, 0.026567550376057625, 0.013183996081352234, 0.02545240707695484, 0.0, 0.0, 0.0, 0.0], [0.8342363238334656, 0.0030407330486923456, 0.009146643802523613, 0.0034380462020635605, 0.005717799998819828, 0.002248744945973158, 0.007871470414102077, 0.020117685198783875, 0.014415038749575615, 0.01986641064286232, 0.008404533378779888, 0.009431950747966766, 0.019519492983818054, 0.021164601668715477, 0.0040306206792593, 0.009710952639579773, 0.007639020215719938, 0.0, 0.0, 0.0], [0.5964078307151794, 0.005621411371976137, 0.005496525205671787, 0.004150851164013147, 0.0032999631948769093, 0.001079718116670847, 0.004763067699968815, 0.1092778667807579, 0.05949597805738449, 0.018503528088331223, 0.0007871250854805112, 0.01328753586858511, 0.028245342895388603, 0.052764877676963806, 0.011357358656823635, 0.027350563555955887, 0.031407881528139114, 0.026702571660280228, 0.0, 0.0], [0.6719700694084167, 0.011053514666855335, 0.0038413952570408583, 0.001354810083284974, 0.007153779733926058, 0.0012356173247098923, 0.013620996847748756, 0.011764279566705227, 0.02401091903448105, 0.022764302790164948, 0.0137394480407238, 0.040360450744628906, 0.04176565632224083, 0.0068226465955376625, 0.007789344526827335, 0.004262967500835657, 0.03133910149335861, 0.07482868432998657, 0.01032199990004301, 0.0], [0.3979199528694153, 0.013950618915259838, 0.009751924313604832, 0.012027142569422722, 0.004597391001880169, 0.0006813433137722313, 0.01949395425617695, 0.12574705481529236, 0.15945447981357574, 0.01784716174006462, 0.0015897045377641916, 0.00505252368748188, 0.04292875900864601, 0.012554044835269451, 0.0025843384210020304, 0.005240032449364662, 0.01622113771736622, 0.01262225303798914, 0.008659137412905693, 0.13107702136039734]], [[1.0, 0.0, 0.0, 0.0, 0.0, 0.0, 0.0, 0.0, 0.0, 0.0, 0.0, 0.0, 0.0, 0.0, 0.0, 0.0, 0.0, 0.0, 0.0, 0.0], [1.935890395543538e-05, 0.9999806880950928, 0.0, 0.0, 0.0, 0.0, 0.0, 0.0, 0.0, 0.0, 0.0, 0.0, 0.0, 0.0, 0.0, 0.0, 0.0, 0.0, 0.0, 0.0], [3.295178248663433e-05, 0.42723581194877625, 0.5727311968803406, 0.0, 0.0, 0.0, 0.0, 0.0, 0.0, 0.0, 0.0, 0.0, 0.0, 0.0, 0.0, 0.0, 0.0, 0.0, 0.0, 0.0], [0.0001039424241753295, 0.3768281638622284, 0.28770899772644043, 0.3353588581085205, 0.0, 0.0, 0.0, 0.0, 0.0, 0.0, 0.0, 0.0, 0.0, 0.0, 0.0, 0.0, 0.0, 0.0, 0.0, 0.0], [8.009011799003929e-05, 0.21489010751247406, 0.28783005475997925, 0.38272151350975037, 0.11447815597057343, 0.0, 0.0, 0.0, 0.0, 0.0, 0.0, 0.0, 0.0, 0.0, 0.0, 0.0, 0.0, 0.0, 0.0, 0.0], [3.235721669625491e-05, 0.06608127057552338, 0.15861301124095917, 0.3610192537307739, 0.38093051314353943, 0.033323585987091064, 0.0, 0.0, 0.0, 0.0, 0.0, 0.0, 0.0, 0.0, 0.0, 0.0, 0.0, 0.0, 0.0, 0.0], [7.312517118407413e-05, 0.5681286454200745, 0.07453866302967072, 0.2100040763616562, 0.048242632299661636, 0.01488440204411745, 0.08412844687700272, 0.0, 0.0, 0.0, 0.0, 0.0, 0.0, 0.0, 0.0, 0.0, 0.0, 0.0, 0.0, 0.0], [2.2534586605615914e-05, 0.29504045844078064, 0.023657631129026413, 0.20524732768535614, 0.10281158238649368, 0.01378063764423132, 0.1560002714395523, 0.20343953371047974, 0.0, 0.0, 0.0, 0.0, 0.0, 0.0, 0.0, 0.0, 0.0, 0.0, 0.0, 0.0], [8.770387648837641e-05, 0.09851698577404022, 0.02707177959382534, 0.08548147976398468, 0.031722292304039, 0.005386358126997948, 0.0410071425139904, 0.407943457365036, 0.3027827739715576, 0.0, 0.0, 0.0, 0.0, 0.0, 0.0, 0.0, 0.0, 0.0, 0.0, 0.0], [2.7846503144246526e-05, 0.07185472548007965, 0.041923005133867264, 0.19400833547115326, 0.028948377817869186, 0.006433224771171808, 0.05186730623245239, 0.12665876746177673, 0.1909070909023285, 0.28737136721611023, 0.0, 0.0, 0.0, 0.0, 0.0, 0.0, 0.0, 0.0, 0.0, 0.0], [5.412452082964592e-06, 0.08259918540716171, 0.07970861345529556, 0.13393260538578033, 0.11248604208230972, 0.01998966373503208, 0.027117233723402023, 0.18673230707645416, 0.07612303644418716, 0.27407756447792053, 0.007228280417621136, 0.0, 0.0, 0.0, 0.0, 0.0, 0.0, 0.0, 0.0, 0.0], [4.7164448915282264e-05, 0.024246323853731155, 0.007292791735380888, 0.0340871699154377, 0.017227616161108017, 0.0018258243799209595, 0.007325329352170229, 0.05614020302891731, 0.10080834478139877, 0.7126736044883728, 0.012106961570680141, 0.026218684390187263, 0.0, 0.0, 0.0, 0.0, 0.0, 0.0, 0.0, 0.0], [1.2748992958222516e-05, 0.013398908078670502, 0.006918840575963259, 0.01589740253984928, 0.015482887625694275, 0.0009734933846630156, 0.009365696460008621, 0.03842489421367645, 0.05635794997215271, 0.708035409450531, 0.010649004951119423, 0.06843787431716919, 0.056044794619083405, 0.0, 0.0, 0.0, 0.0, 0.0, 0.0, 0.0], [0.0001341718016192317, 0.026979589834809303, 0.06716010719537735, 0.166284441947937, 0.01769370585680008, 0.0014133576769381762, 0.02533438615500927, 0.039373885840177536, 0.034937646239995956, 0.3562129735946655, 0.003980677574872971, 0.025099771097302437, 0.07438443601131439, 0.16101083159446716, 0.0, 0.0, 0.0, 0.0, 0.0, 0.0], [0.0004463889927137643, 0.024434318765997887, 0.06174042820930481, 0.15717940032482147, 0.02567576989531517, 0.0036659331526607275, 0.02396431379020214, 0.05369221419095993, 0.031276680529117584, 0.16499856114387512, 0.004723018035292625, 0.03974819555878639, 0.07331237941980362, 0.28651145100593567, 0.048631008714437485, 0.0, 0.0, 0.0, 0.0, 0.0], [6.635820318479091e-05, 0.02052607759833336, 0.005886872299015522, 0.07008201628923416, 0.009842939674854279, 0.0011156933614984155, 0.023682836443185806, 0.08866583555936813, 0.07311398535966873, 0.2595343291759491, 0.00846807286143303, 0.10124766826629639, 0.11640740185976028, 0.01950591802597046, 0.04980676248669624, 0.15204724669456482, 0.0, 0.0, 0.0, 0.0], [1.6182963008759543e-05, 0.01694907434284687, 0.009614134207367897, 0.02879728563129902, 0.008563179522752762, 0.0010954724857583642, 0.019680028781294823, 0.05666670203208923, 0.12422572821378708, 0.530864953994751, 0.0024655181914567947, 0.029795236885547638, 0.04577884078025818, 0.02847229316830635, 0.006597471423447132, 0.014064940623939037, 0.07635299861431122, 0.0, 0.0, 0.0], [3.352309431647882e-05, 0.030631735920906067, 0.01342939492315054, 0.01957913488149643, 0.012438361532986164, 0.003553372574970126, 0.012158218771219254, 0.03553231805562973, 0.11054122447967529, 0.43598783016204834, 0.007507939822971821, 0.02444051392376423, 0.03880586102604866, 0.07503731548786163, 0.01621870882809162, 0.029385216534137726, 0.0960761308670044, 0.03864315152168274, 0.0, 0.0], [5.7489622122375295e-05, 0.00909772515296936, 0.0035446039400994778, 0.027755003422498703, 0.011263306252658367, 0.0010317437117919326, 0.010305315256118774, 0.0341593436896801, 0.06321688741445541, 0.5019167065620422, 0.010500664822757244, 0.026182986795902252, 0.027702759951353073, 0.02634141966700554, 0.034647371619939804, 0.07452712953090668, 0.09809524565935135, 0.028118789196014404, 0.011535486206412315, 0.0], [3.693878170452081e-05, 0.008901591412723064, 0.0031061836052685976, 0.003302009077742696, 0.0028121103532612324, 0.000363322498742491, 0.008830636739730835, 0.027164267376065254, 0.15232796967029572, 0.32838311791419983, 0.0028252953197807074, 0.03481525927782059, 0.12501096725463867, 0.07822268456220627, 0.0041267164051532745, 0.0070703779347240925, 0.10372954607009888, 0.06024691089987755, 0.018557624891400337, 0.03016647696495056]], [[1.0, 0.0, 0.0, 0.0, 0.0, 0.0, 0.0, 0.0, 0.0, 0.0, 0.0, 0.0, 0.0, 0.0, 0.0, 0.0, 0.0, 0.0, 0.0, 0.0], [0.9862269759178162, 0.013772968202829361, 0.0, 0.0, 0.0, 0.0, 0.0, 0.0, 0.0, 0.0, 0.0, 0.0, 0.0, 0.0, 0.0, 0.0, 0.0, 0.0, 0.0, 0.0], [0.9806350469589233, 0.012535260990262032, 0.006829704623669386, 0.0, 0.0, 0.0, 0.0, 0.0, 0.0, 0.0, 0.0, 0.0, 0.0, 0.0, 0.0, 0.0, 0.0, 0.0, 0.0, 0.0], [0.9690616130828857, 0.008883428759872913, 0.004041612613946199, 0.018013354390859604, 0.0, 0.0, 0.0, 0.0, 0.0, 0.0, 0.0, 0.0, 0.0, 0.0, 0.0, 0.0, 0.0, 0.0, 0.0, 0.0], [0.9904149770736694, 0.0025907675735652447, 0.0011457123328000307, 0.003469242947176099, 0.0023792332503944635, 0.0, 0.0, 0.0, 0.0, 0.0, 0.0, 0.0, 0.0, 0.0, 0.0, 0.0, 0.0, 0.0, 0.0, 0.0], [0.9939634203910828, 0.0009088307269848883, 0.0008728961111046374, 0.0014821201330050826, 0.0004825026262551546, 0.0022902092896401882, 0.0, 0.0, 0.0, 0.0, 0.0, 0.0, 0.0, 0.0, 0.0, 0.0, 0.0, 0.0, 0.0, 0.0], [0.9505499601364136, 0.011673363856971264, 0.004897656384855509, 0.02252754382789135, 0.005954243708401918, 0.0008771122666075826, 0.0035200966522097588, 0.0, 0.0, 0.0, 0.0, 0.0, 0.0, 0.0, 0.0, 0.0, 0.0, 0.0, 0.0, 0.0], [0.9189749956130981, 0.010720150545239449, 0.005514562129974365, 0.006628066301345825, 0.01942332275211811, 0.004959503188729286, 0.008903350681066513, 0.024876048788428307, 0.0, 0.0, 0.0, 0.0, 0.0, 0.0, 0.0, 0.0, 0.0, 0.0, 0.0, 0.0], [0.8364955186843872, 0.018482433632016182, 0.006270399317145348, 0.011266802437603474, 0.03439558297395706, 0.00494136568158865, 0.018740694969892502, 0.056068796664476395, 0.013338501565158367, 0.0, 0.0, 0.0, 0.0, 0.0, 0.0, 0.0, 0.0, 0.0, 0.0, 0.0], [0.8447936773300171, 0.021107016131281853, 0.00884979497641325, 0.0017102683195844293, 0.05509807914495468, 0.011957288719713688, 0.03183045610785484, 0.0015855183592066169, 0.016402339562773705, 0.006665567867457867, 0.0, 0.0, 0.0, 0.0, 0.0, 0.0, 0.0, 0.0, 0.0, 0.0], [0.9760613441467285, 0.0030362566467374563, 0.0006842130678705871, 0.002260268433019519, 0.004272045101970434, 0.004188105929642916, 0.005166551098227501, 0.001634376822039485, 0.0011044496204704046, 0.0015175420558080077, 7.489504059776664e-05, 0.0, 0.0, 0.0, 0.0, 0.0, 0.0, 0.0, 0.0, 0.0], [0.9312919974327087, 0.006781472824513912, 0.0018804101273417473, 0.006733927875757217, 0.005571848712861538, 0.002903059357777238, 0.003497591009363532, 0.029317373409867287, 0.004251194652169943, 0.0038503746036440134, 0.00036107731284573674, 0.003559671575203538, 0.0, 0.0, 0.0, 0.0, 0.0, 0.0, 0.0, 0.0], [0.9229208827018738, 0.004810117185115814, 0.002211563056334853, 0.009254035539925098, 0.005106417927891016, 0.0019859045278280973, 0.003330412320792675, 0.038489729166030884, 0.0034849971998482943, 0.002153497887775302, 0.00018836544768419117, 0.0022297652903944254, 0.0038343307096511126, 0.0, 0.0, 0.0, 0.0, 0.0, 0.0, 0.0], [0.9390571713447571, 0.0035341917537152767, 0.0022123579401522875, 0.014861464500427246, 0.006889518816024065, 0.0021468247286975384, 0.008668536320328712, 0.0030072745867073536, 0.002633043099194765, 0.0011125346645712852, 0.0003228296700399369, 0.0028565251268446445, 0.005494045093655586, 0.007203616201877594, 0.0, 0.0, 0.0, 0.0, 0.0, 0.0], [0.9564457535743713, 0.0018580807372927666, 0.0005052634514868259, 0.005173359531909227, 0.00454567838460207, 0.001318282913416624, 0.002887964015826583, 0.0045370724983513355, 0.001866181381046772, 0.0014585390454158187, 0.00023911813332233578, 0.0028018851298838854, 0.00853891484439373, 0.0027237897738814354, 0.005100009962916374, 0.0, 0.0, 0.0, 0.0, 0.0], [0.9008219242095947, 0.0068720378912985325, 0.002716658404096961, 0.005316729657351971, 0.013612723909318447, 0.007022060453891754, 0.003749528434127569, 0.00872061774134636, 0.0027754611801356077, 0.003083370625972748, 0.00028554192977026105, 0.004334706347435713, 0.0058248694986104965, 0.004032799508422613, 0.020083153620362282, 0.010747723281383514, 0.0, 0.0, 0.0, 0.0], [0.8466539978981018, 0.00734371691942215, 0.0027099628932774067, 0.0018665730021893978, 0.01342533715069294, 0.004940165672451258, 0.014137697406113148, 0.003984136041253805, 0.005995061248540878, 0.003600651165470481, 0.0013090424472466111, 0.029813246801495552, 0.03947429731488228, 0.00499672582373023, 0.003291093511506915, 0.005269763525575399, 0.01118846982717514, 0.0, 0.0, 0.0], [0.8827808499336243, 0.005801405757665634, 0.0010986567940562963, 0.004834032151848078, 0.005984043702483177, 0.0027808677405118942, 0.004344962537288666, 0.059454139322042465, 0.0017042524414137006, 0.0019298886181786656, 0.00026971232728101313, 0.005389196798205376, 0.00185182667337358, 0.0016764148604124784, 0.00729211512953043, 0.0066355555318295956, 0.0005920333787798882, 0.005580045748502016, 0.0, 0.0], [0.9254279136657715, 0.008242803625762463, 0.0012221952201798558, 0.001096236053854227, 0.006561643909662962, 0.0032972705084830523, 0.005462370812892914, 0.004025537986308336, 0.0018492959206923842, 0.002191532403230667, 0.0006415551179088652, 0.006930866744369268, 0.0039758034981787205, 0.0018247903790324926, 0.008029969409108162, 0.005143099930137396, 0.0017026800196617842, 0.006455089431256056, 0.005919324699789286, 0.0], [0.8820168972015381, 0.005310045555233955, 0.0020833550952374935, 0.012852192856371403, 0.008438924327492714, 0.001753368298523128, 0.003466143039986491, 0.059178922325372696, 0.005180834326893091, 0.0019507532706484199, 0.00022246594016905874, 0.001061267452314496, 0.0009562817867845297, 0.0007514687604270875, 0.004550025798380375, 0.0011745025403797626, 0.00046461273450404406, 0.0024736749473959208, 0.0014435541816055775, 0.004670645575970411]], [[1.0, 0.0, 0.0, 0.0, 0.0, 0.0, 0.0, 0.0, 0.0, 0.0, 0.0, 0.0, 0.0, 0.0, 0.0, 0.0, 0.0, 0.0, 0.0, 0.0], [0.9124024510383606, 0.08759751915931702, 0.0, 0.0, 0.0, 0.0, 0.0, 0.0, 0.0, 0.0, 0.0, 0.0, 0.0, 0.0, 0.0, 0.0, 0.0, 0.0, 0.0, 0.0], [0.8082411289215088, 0.08677825331687927, 0.10498061031103134, 0.0, 0.0, 0.0, 0.0, 0.0, 0.0, 0.0, 0.0, 0.0, 0.0, 0.0, 0.0, 0.0, 0.0, 0.0, 0.0, 0.0], [0.7581279277801514, 0.0292331725358963, 0.04635604843497276, 0.16628286242485046, 0.0, 0.0, 0.0, 0.0, 0.0, 0.0, 0.0, 0.0, 0.0, 0.0, 0.0, 0.0, 0.0, 0.0, 0.0, 0.0], [0.9616419076919556, 0.00916039478033781, 0.00707355048507452, 0.016370391473174095, 0.005753866396844387, 0.0, 0.0, 0.0, 0.0, 0.0, 0.0, 0.0, 0.0, 0.0, 0.0, 0.0, 0.0, 0.0, 0.0, 0.0], [0.9683434367179871, 0.0032662581652402878, 0.0026548365131020546, 0.009751036763191223, 0.014643757604062557, 0.0013407438527792692, 0.0, 0.0, 0.0, 0.0, 0.0, 0.0, 0.0, 0.0, 0.0, 0.0, 0.0, 0.0, 0.0, 0.0], [0.700487494468689, 0.10522285848855972, 0.05482896789908409, 0.07275870442390442, 0.010867292061448097, 0.0007964895339682698, 0.0550382100045681, 0.0, 0.0, 0.0, 0.0, 0.0, 0.0, 0.0, 0.0, 0.0, 0.0, 0.0, 0.0, 0.0], [0.737693727016449, 0.06386507302522659, 0.032882001250982285, 0.008000398054718971, 0.015025295317173004, 0.0056231082417070866, 0.08466952294111252, 0.05224088206887245, 0.0, 0.0, 0.0, 0.0, 0.0, 0.0, 0.0, 0.0, 0.0, 0.0, 0.0, 0.0], [0.2394077628850937, 0.04100298509001732, 0.022640792652964592, 0.05045982077717781, 0.019708018749952316, 0.0010712749790400267, 0.03908171132206917, 0.3778494596481323, 0.20877811312675476, 0.0, 0.0, 0.0, 0.0, 0.0, 0.0, 0.0, 0.0, 0.0, 0.0, 0.0], [0.46001362800598145, 0.058523718267679214, 0.016775839030742645, 0.024882465600967407, 0.08382661640644073, 0.0071532242000103, 0.05454590171575546, 0.02243388630449772, 0.15249180793762207, 0.11935292929410934, 0.0, 0.0, 0.0, 0.0, 0.0, 0.0, 0.0, 0.0, 0.0, 0.0], [0.8551889061927795, 0.005106532014906406, 0.0018642479553818703, 0.012938329018652439, 0.008800841867923737, 0.001707791001535952, 0.005403182003647089, 0.021729258820414543, 0.03947744145989418, 0.046288032084703445, 0.0014953690115362406, 0.0, 0.0, 0.0, 0.0, 0.0, 0.0, 0.0, 0.0, 0.0], [0.5637595653533936, 0.05864815413951874, 0.022462371736764908, 0.0052861059084534645, 0.006366678047925234, 0.0008853063336573541, 0.016739049926400185, 0.11374525725841522, 0.1313505619764328, 0.04831971228122711, 0.006948375143110752, 0.025488803163170815, 0.0, 0.0, 0.0, 0.0, 0.0, 0.0, 0.0, 0.0], [0.31128188967704773, 0.025097502395510674, 0.01203221920877695, 0.026301661506295204, 0.009223229251801968, 0.0011201221495866776, 0.019403615966439247, 0.3901289701461792, 0.1079670786857605, 0.021179450675845146, 0.0013135027838870883, 0.014438970014452934, 0.060511667281389236, 0.0, 0.0, 0.0, 0.0, 0.0, 0.0, 0.0], [0.3069407343864441, 0.0065192547626793385, 0.01341085135936737, 0.08667436242103577, 0.031055646017193794, 0.004915338940918446, 0.035760823637247086, 0.02858920954167843, 0.018885109573602676, 0.003914865665137768, 0.0015393979847431183, 0.04314608871936798, 0.2847813367843628, 0.1338670700788498, 0.0, 0.0, 0.0, 0.0, 0.0, 0.0], [0.28709477186203003, 0.0024331500753760338, 0.011827128939330578, 0.05493859946727753, 0.011132275685667992, 0.004330724477767944, 0.011074760928750038, 0.01633845455944538, 0.006503857206553221, 0.002110050991177559, 0.0007434844737872481, 0.030345583334565163, 0.20684434473514557, 0.26049235463142395, 0.09379047900438309, 0.0, 0.0, 0.0, 0.0, 0.0], [0.598442792892456, 0.023954398930072784, 0.02573201432824135, 0.015922022983431816, 0.009278753772377968, 0.004734988324344158, 0.026114534586668015, 0.02703743986785412, 0.043542806059122086, 0.01416879054158926, 0.0031758463010191917, 0.016791166737675667, 0.052997324615716934, 0.046617425978183746, 0.03698156774044037, 0.05450817942619324, 0.0, 0.0, 0.0, 0.0], [0.24535715579986572, 0.014373133890330791, 0.006045541260391474, 0.01611999422311783, 0.05126183107495308, 0.007815752178430557, 0.027344780042767525, 0.05790584906935692, 0.10964104533195496, 0.12343466281890869, 0.008597077801823616, 0.07694563269615173, 0.1135886013507843, 0.026613159105181694, 0.005937722511589527, 0.022579079493880272, 0.08643904328346252, 0.0, 0.0, 0.0], [0.27866947650909424, 0.02178330533206463, 0.01028894167393446, 0.005860711447894573, 0.0026547368615865707, 0.0014601199654862285, 0.00782248005270958, 0.36617347598075867, 0.12076091766357422, 0.03230766952037811, 0.00043587738764472306, 0.012379412539303303, 0.043298568576574326, 0.030482793226838112, 0.002981368452310562, 0.009301199577748775, 0.03422769904136658, 0.01911122165620327, 0.0, 0.0], [0.5348839163780212, 0.024715851992368698, 0.009579889476299286, 0.0010760687291622162, 0.012541571632027626, 0.0057772062718868256, 0.028292063623666763, 0.015188074670732021, 0.03772822022438049, 0.01763651706278324, 0.013699505478143692, 0.06466231495141983, 0.03907914459705353, 0.005884166341274977, 0.00393336359411478, 0.006610414013266563, 0.013667479157447815, 0.13540980219841003, 0.029634401202201843, 0.0], [0.1262754201889038, 0.012766259722411633, 0.0056652287021279335, 0.03220187872648239, 0.005060885101556778, 0.00025775167159736156, 0.006222888361662626, 0.5499541163444519, 0.16959761083126068, 0.020605599507689476, 0.0003429649514146149, 0.0022680957335978746, 0.007804829627275467, 0.004607816692441702, 0.0003980903420597315, 0.0020837325137108564, 0.01287760492414236, 0.002458268776535988, 0.0031436008866876364, 0.03540736064314842]], [[1.0, 0.0, 0.0, 0.0, 0.0, 0.0, 0.0, 0.0, 0.0, 0.0, 0.0, 0.0, 0.0, 0.0, 0.0, 0.0, 0.0, 0.0, 0.0, 0.0], [0.9051480293273926, 0.09485200047492981, 0.0, 0.0, 0.0, 0.0, 0.0, 0.0, 0.0, 0.0, 0.0, 0.0, 0.0, 0.0, 0.0, 0.0, 0.0, 0.0, 0.0, 0.0], [0.8802398443222046, 0.05593429133296013, 0.06382583826780319, 0.0, 0.0, 0.0, 0.0, 0.0, 0.0, 0.0, 0.0, 0.0, 0.0, 0.0, 0.0, 0.0, 0.0, 0.0, 0.0, 0.0], [0.7868650555610657, 0.07339765876531601, 0.07391846179962158, 0.06581883132457733, 0.0, 0.0, 0.0, 0.0, 0.0, 0.0, 0.0, 0.0, 0.0, 0.0, 0.0, 0.0, 0.0, 0.0, 0.0, 0.0], [0.9649078845977783, 0.006962949875742197, 0.009332792833447456, 0.01624215580523014, 0.0025542518123984337, 0.0, 0.0, 0.0, 0.0, 0.0, 0.0, 0.0, 0.0, 0.0, 0.0, 0.0, 0.0, 0.0, 0.0, 0.0], [0.9773050546646118, 0.0023613683879375458, 0.003930325154215097, 0.01088902447372675, 0.003907887265086174, 0.001606256584636867, 0.0, 0.0, 0.0, 0.0, 0.0, 0.0, 0.0, 0.0, 0.0, 0.0, 0.0, 0.0, 0.0, 0.0], [0.6810562610626221, 0.11839179694652557, 0.04822748526930809, 0.09479039907455444, 0.010579626075923443, 0.00594479450955987, 0.04100963845849037, 0.0, 0.0, 0.0, 0.0, 0.0, 0.0, 0.0, 0.0, 0.0, 0.0, 0.0, 0.0, 0.0], [0.5937386751174927, 0.05267668887972832, 0.019854068756103516, 0.030654460191726685, 0.04780379310250282, 0.014463992789387703, 0.19270575046539307, 0.04810250923037529, 0.0, 0.0, 0.0, 0.0, 0.0, 0.0, 0.0, 0.0, 0.0, 0.0, 0.0, 0.0], [0.6385464072227478, 0.04240450635552406, 0.008416819386184216, 0.0727514997124672, 0.014036460779607296, 0.004192340653389692, 0.04903561621904373, 0.12449125945568085, 0.04612504690885544, 0.0, 0.0, 0.0, 0.0, 0.0, 0.0, 0.0, 0.0, 0.0, 0.0, 0.0], [0.676759660243988, 0.019607562571763992, 0.004220268689095974, 0.08256670087575912, 0.03648776188492775, 0.008753908798098564, 0.04986048862338066, 0.03468994051218033, 0.03158620744943619, 0.05546751618385315, 0.0, 0.0, 0.0, 0.0, 0.0, 0.0, 0.0, 0.0, 0.0, 0.0], [0.7973240613937378, 0.02260766178369522, 0.006175007205456495, 0.03560904040932655, 0.0037461044266819954, 0.0022692286875098944, 0.00840652734041214, 0.009922795929014683, 0.06028265506029129, 0.05265215039253235, 0.0010046950774267316, 0.0, 0.0, 0.0, 0.0, 0.0, 0.0, 0.0, 0.0, 0.0], [0.34239739179611206, 0.1344839483499527, 0.0442589595913887, 0.041113123297691345, 0.03530508652329445, 0.02833663672208786, 0.04115017503499985, 0.03959561139345169, 0.2257290929555893, 0.026215465739369392, 0.014854128472507, 0.026560377329587936, 0.0, 0.0, 0.0, 0.0, 0.0, 0.0, 0.0, 0.0], [0.645147442817688, 0.04539996758103371, 0.009808114729821682, 0.028959793969988823, 0.005139454267919064, 0.0019934014417231083, 0.02409464120864868, 0.048632923513650894, 0.11518748104572296, 0.0071552046574652195, 0.0012062167515978217, 0.011052158661186695, 0.05622328072786331, 0.0, 0.0, 0.0, 0.0, 0.0, 0.0, 0.0], [0.4262929856777191, 0.004609899595379829, 0.006326669827103615, 0.01856110617518425, 0.004033967386931181, 0.0019789310172200203, 0.0350438728928566, 0.015009605325758457, 0.009954684413969517, 0.003751718206331134, 0.0007256602984853089, 0.06406621634960175, 0.3355303406715393, 0.07411426305770874, 0.0, 0.0, 0.0, 0.0, 0.0, 0.0], [0.3077659606933594, 0.002298172563314438, 0.006335066631436348, 0.011451009660959244, 0.004392326343804598, 0.002217666245996952, 0.021913740783929825, 0.0188151765614748, 0.004266961477696896, 0.002468339866027236, 0.0006673670723102987, 0.083659827709198, 0.2720337212085724, 0.23872962594032288, 0.02298511005938053, 0.0, 0.0, 0.0, 0.0, 0.0], [0.49419736862182617, 0.026473885402083397, 0.012711631134152412, 0.04288071021437645, 0.008855014108121395, 0.00902553927153349, 0.024443181231617928, 0.05572627857327461, 0.030619695782661438, 0.015358530916273594, 0.002504332922399044, 0.041057247668504715, 0.07658194750547409, 0.05607810989022255, 0.06281860917806625, 0.040667928755283356, 0.0, 0.0, 0.0, 0.0], [0.5758702158927917, 0.011231161653995514, 0.004426421131938696, 0.033465269953012466, 0.0043911705724895, 0.003090358106419444, 0.00922555010765791, 0.013925168663263321, 0.020803149789571762, 0.05536895990371704, 0.0010533502791076899, 0.00900072231888771, 0.027217945083975792, 0.021291790530085564, 0.03420151025056839, 0.15389616787433624, 0.021541092544794083, 0.0, 0.0, 0.0], [0.3472810387611389, 0.04532419145107269, 0.014295612461864948, 0.05568345636129379, 0.004262587055563927, 0.003065238008275628, 0.025370551273226738, 0.04314803704619408, 0.256356805562973, 0.02028372697532177, 0.002221261151134968, 0.014837579801678658, 0.05177757516503334, 0.023450860753655434, 0.005877637304365635, 0.03020809032022953, 0.03382090479135513, 0.02273484878242016, 0.0, 0.0], [0.19917640089988708, 0.003930639009922743, 0.003756206715479493, 0.03046916425228119, 0.005029520019888878, 0.0030756567139178514, 0.02433130517601967, 0.020814355462789536, 0.013980175368487835, 0.006513351574540138, 0.010278251953423023, 0.06895056366920471, 0.03794423118233681, 0.00952981598675251, 0.014360014349222183, 0.015719134360551834, 0.018944254145026207, 0.4693118631839752, 0.04388503357768059, 0.0], [0.5414953231811523, 0.046731822192668915, 0.009556777775287628, 0.044942960143089294, 0.0012451213551685214, 0.0004153526679147035, 0.011501737870275974, 0.04165548458695412, 0.17572426795959473, 0.004326633643358946, 0.00043455357081256807, 0.0013959826901555061, 0.008063479326665401, 0.00420893682166934, 0.0011761430650949478, 0.0033912803046405315, 0.004684955347329378, 0.006488453596830368, 0.00405546510592103, 0.0885053500533104]]]}\n",
              "    )\n",
              "    </script>"
            ]
          },
          "metadata": {}
        }
      ]
    },
    {
      "cell_type": "code",
      "source": [
        "text = \"In Hogwarts, Harry wants to send a secure message to\"\n",
        "display_attn_pattern(gpt2_small, 11, text)"
      ],
      "metadata": {
        "colab": {
          "base_uri": "https://localhost:8080/",
          "height": 357
        },
        "id": "i28rEm_5Z25V",
        "outputId": "1cb5f90d-6014-4ddc-8d47-ed3ac25ea5f9"
      },
      "execution_count": null,
      "outputs": [
        {
          "output_type": "display_data",
          "data": {
            "text/plain": [
              "<circuitsvis.utils.render.RenderedHTML at 0x7f7ac0eb6d70>"
            ],
            "text/html": [
              "<div id=\"circuits-vis-85c97957-38e4\" style=\"margin: 15px 0;\"/>\n",
              "    <script crossorigin type=\"module\">\n",
              "    import { render, AttentionPatterns } from \"https://unpkg.com/circuitsvis@1.39.1/dist/cdn/esm.js\";\n",
              "    render(\n",
              "      \"circuits-vis-85c97957-38e4\",\n",
              "      AttentionPatterns,\n",
              "      {\"tokens\": [\"<|endoftext|>\", \"In\", \" Hogwarts\", \",\", \" Harry\", \" wants\", \" to\", \" send\", \" a\", \" secure\", \" message\", \" to\"], \"attention\": [[[1.0, 0.0, 0.0, 0.0, 0.0, 0.0, 0.0, 0.0, 0.0, 0.0, 0.0, 0.0], [0.5770693421363831, 0.42293068766593933, 0.0, 0.0, 0.0, 0.0, 0.0, 0.0, 0.0, 0.0, 0.0, 0.0], [0.7617862820625305, 0.12692907452583313, 0.11128456890583038, 0.0, 0.0, 0.0, 0.0, 0.0, 0.0, 0.0, 0.0, 0.0], [0.37155357003211975, 0.21558597683906555, 0.24452358484268188, 0.16833680868148804, 0.0, 0.0, 0.0, 0.0, 0.0, 0.0, 0.0, 0.0], [0.47912725806236267, 0.07072664797306061, 0.17981880903244019, 0.1661110371351242, 0.10421625524759293, 0.0, 0.0, 0.0, 0.0, 0.0, 0.0, 0.0], [0.18370255827903748, 0.11668582260608673, 0.1827729493379593, 0.15579503774642944, 0.2785470485687256, 0.08249660581350327, 0.0, 0.0, 0.0, 0.0, 0.0, 0.0], [0.1746203750371933, 0.07517584413290024, 0.25805556774139404, 0.13741838932037354, 0.19770139455795288, 0.05771857500076294, 0.09930981695652008, 0.0, 0.0, 0.0, 0.0, 0.0], [0.18199515342712402, 0.07677535712718964, 0.14237716794013977, 0.12684065103530884, 0.25603020191192627, 0.08776304125785828, 0.06363830715417862, 0.06458014994859695, 0.0, 0.0, 0.0, 0.0], [0.29321548342704773, 0.042712897062301636, 0.14950178563594818, 0.0642436221241951, 0.2069607377052307, 0.05928608030080795, 0.06832599639892578, 0.052290819585323334, 0.06346259266138077, 0.0, 0.0, 0.0], [0.29571446776390076, 0.03185974061489105, 0.1157425194978714, 0.06336257606744766, 0.13055674731731415, 0.08015145361423492, 0.04487661272287369, 0.08619473874568939, 0.0712692141532898, 0.08027198910713196, 0.0, 0.0], [0.09337721765041351, 0.13292354345321655, 0.07114282995462418, 0.1455945521593094, 0.0738334208726883, 0.10370808839797974, 0.14185720682144165, 0.0715942308306694, 0.08108054101467133, 0.03463321924209595, 0.05025515332818031, 0.0], [0.16391240060329437, 0.040603552013635635, 0.1500285565853119, 0.06063420698046684, 0.34075263142585754, 0.05044856667518616, 0.029047876596450806, 0.045424748212099075, 0.0297189150005579, 0.016222400590777397, 0.01353134773671627, 0.05967479199171066]], [[1.0, 0.0, 0.0, 0.0, 0.0, 0.0, 0.0, 0.0, 0.0, 0.0, 0.0, 0.0], [0.957554042339325, 0.042445942759513855, 0.0, 0.0, 0.0, 0.0, 0.0, 0.0, 0.0, 0.0, 0.0, 0.0], [0.9418947696685791, 0.0279551912099123, 0.030149981379508972, 0.0, 0.0, 0.0, 0.0, 0.0, 0.0, 0.0, 0.0, 0.0], [0.558387815952301, 0.024132464081048965, 0.07594944536685944, 0.34153029322624207, 0.0, 0.0, 0.0, 0.0, 0.0, 0.0, 0.0, 0.0], [0.9047691822052002, 0.019341031089425087, 0.013544216752052307, 0.03256029263138771, 0.029785316437482834, 0.0, 0.0, 0.0, 0.0, 0.0, 0.0, 0.0], [0.5750335454940796, 0.010906944051384926, 0.06348196417093277, 0.16634124517440796, 0.11845700442790985, 0.06577923148870468, 0.0, 0.0, 0.0, 0.0, 0.0, 0.0], [0.8557424545288086, 0.013698427937924862, 0.021702807396650314, 0.03719746321439743, 0.012955590151250362, 0.026527967303991318, 0.032175324857234955, 0.0, 0.0, 0.0, 0.0, 0.0], [0.4935717284679413, 0.01041385717689991, 0.041289396584033966, 0.14263732731342316, 0.09062042832374573, 0.049313463270664215, 0.05673982575535774, 0.11541388183832169, 0.0, 0.0, 0.0, 0.0], [0.5751389265060425, 0.013981829397380352, 0.06254241615533829, 0.08792345225811005, 0.05563695728778839, 0.024445606395602226, 0.018655527383089066, 0.11189096421003342, 0.04978429898619652, 0.0, 0.0, 0.0], [0.5320870280265808, 0.006365910172462463, 0.07476713508367538, 0.054717399179935455, 0.038765598088502884, 0.010089540854096413, 0.00875095184892416, 0.05033420771360397, 0.14280344545841217, 0.08131880313158035, 0.0, 0.0], [0.7335375547409058, 0.009491187520325184, 0.055279407650232315, 0.024816865101456642, 0.06462065875530243, 0.018375277519226074, 0.023744503036141396, 0.03247725963592529, 0.015695028007030487, 0.008219799026846886, 0.013742323964834213, 0.0], [0.31372544169425964, 0.005514597520232201, 0.022873803973197937, 0.11602820456027985, 0.020475493744015694, 0.014455292373895645, 0.011783745139837265, 0.041551098227500916, 0.012156062759459019, 0.004186409525573254, 0.007000391371548176, 0.4302494525909424]], [[1.0, 0.0, 0.0, 0.0, 0.0, 0.0, 0.0, 0.0, 0.0, 0.0, 0.0, 0.0], [0.96426922082901, 0.0357307493686676, 0.0, 0.0, 0.0, 0.0, 0.0, 0.0, 0.0, 0.0, 0.0, 0.0], [0.9507344961166382, 0.01666654460132122, 0.032598961144685745, 0.0, 0.0, 0.0, 0.0, 0.0, 0.0, 0.0, 0.0, 0.0], [0.8272079229354858, 0.02676527015864849, 0.04035208001732826, 0.10567469894886017, 0.0, 0.0, 0.0, 0.0, 0.0, 0.0, 0.0, 0.0], [0.9279855489730835, 0.012826446443796158, 0.01188123319298029, 0.03374134376645088, 0.013565462082624435, 0.0, 0.0, 0.0, 0.0, 0.0, 0.0, 0.0], [0.687919557094574, 0.014442997984588146, 0.05296746641397476, 0.15368661284446716, 0.06916794180870056, 0.02181546576321125, 0.0, 0.0, 0.0, 0.0, 0.0, 0.0], [0.9154669642448425, 0.004892970900982618, 0.023020204156637192, 0.016008274629712105, 0.010105939581990242, 0.018968762829899788, 0.011536860838532448, 0.0, 0.0, 0.0, 0.0, 0.0], [0.7071892023086548, 0.013147043995559216, 0.03230757266283035, 0.09202217310667038, 0.0647880882024765, 0.02054520696401596, 0.011946809478104115, 0.05805394425988197, 0.0, 0.0, 0.0, 0.0], [0.8283560872077942, 0.007969832047820091, 0.018817638978362083, 0.024999132379889488, 0.014459790661931038, 0.01401479635387659, 0.008187003433704376, 0.06452512741088867, 0.018670519813895226, 0.0, 0.0, 0.0], [0.8005269765853882, 0.007255637086927891, 0.036028020083904266, 0.025668051093816757, 0.01571381278336048, 0.010444529354572296, 0.0075984736904501915, 0.03886624798178673, 0.017168989405035973, 0.04072920233011246, 0.0, 0.0], [0.8252825736999512, 0.0029902684036642313, 0.06330538541078568, 0.019980041310191154, 0.036590613424777985, 0.010511374101042747, 0.007670114282518625, 0.014599367044866085, 0.0038214814849197865, 0.008416777476668358, 0.0068319616839289665, 0.0], [0.5519677996635437, 0.006322405766695738, 0.006957286968827248, 0.11600948125123978, 0.007913676090538502, 0.008558142930269241, 0.004281794186681509, 0.019962990656495094, 0.014650916680693626, 0.009331620298326015, 0.001386209623888135, 0.2526576519012451]], [[1.0, 0.0, 0.0, 0.0, 0.0, 0.0, 0.0, 0.0, 0.0, 0.0, 0.0, 0.0], [0.8720443844795227, 0.1279556006193161, 0.0, 0.0, 0.0, 0.0, 0.0, 0.0, 0.0, 0.0, 0.0, 0.0], [0.8620160818099976, 0.11475078761577606, 0.02323308028280735, 0.0, 0.0, 0.0, 0.0, 0.0, 0.0, 0.0, 0.0, 0.0], [0.7690333127975464, 0.026610039174556732, 0.16689015924930573, 0.037466470152139664, 0.0, 0.0, 0.0, 0.0, 0.0, 0.0, 0.0, 0.0], [0.9083166718482971, 0.009139747358858585, 0.03841882199048996, 0.029151737689971924, 0.014972887933254242, 0.0, 0.0, 0.0, 0.0, 0.0, 0.0, 0.0], [0.5560113787651062, 0.008093706332147121, 0.275408536195755, 0.09072109311819077, 0.04146713390946388, 0.02829812839627266, 0.0, 0.0, 0.0, 0.0, 0.0, 0.0], [0.453072726726532, 0.004657022655010223, 0.18391163647174835, 0.10947699844837189, 0.059734243899583817, 0.13030029833316803, 0.05884704738855362, 0.0, 0.0, 0.0, 0.0, 0.0], [0.6444281935691833, 0.010044009424746037, 0.16413356363773346, 0.07656120508909225, 0.028789807111024857, 0.027108393609523773, 0.02060488425195217, 0.028329966589808464, 0.0, 0.0, 0.0, 0.0], [0.5868244767189026, 0.007639165967702866, 0.12355366349220276, 0.048570141196250916, 0.02417425997555256, 0.048468898981809616, 0.03621968999505043, 0.09925597161054611, 0.025293750688433647, 0.0, 0.0, 0.0], [0.5681845545768738, 0.004681986756622791, 0.10152821242809296, 0.03673652932047844, 0.020379116758704185, 0.031508661806583405, 0.03278964385390282, 0.05376744642853737, 0.09619580954313278, 0.0542280375957489, 0.0, 0.0], [0.6033623218536377, 0.009438457898795605, 0.07511156797409058, 0.03951073810458183, 0.029838306829333305, 0.05504157021641731, 0.019331540912389755, 0.05868469551205635, 0.0341937355697155, 0.06448215991258621, 0.01100495457649231, 0.0], [0.6073131561279297, 0.0032966749276965857, 0.21300263702869415, 0.05707428231835365, 0.01766267418861389, 0.012997748330235481, 0.005183589179068804, 0.021614793688058853, 0.0028898215387016535, 0.024900829419493675, 0.01271213497966528, 0.021351659670472145]], [[1.0, 0.0, 0.0, 0.0, 0.0, 0.0, 0.0, 0.0, 0.0, 0.0, 0.0, 0.0], [0.9074519276618958, 0.09254803508520126, 0.0, 0.0, 0.0, 0.0, 0.0, 0.0, 0.0, 0.0, 0.0, 0.0], [0.7018975019454956, 0.03678882122039795, 0.26131364703178406, 0.0, 0.0, 0.0, 0.0, 0.0, 0.0, 0.0, 0.0, 0.0], [0.5953748226165771, 0.041303858160972595, 0.21380433440208435, 0.1495169699192047, 0.0, 0.0, 0.0, 0.0, 0.0, 0.0, 0.0, 0.0], [0.7056355476379395, 0.0277987252920866, 0.0805400162935257, 0.11687377095222473, 0.06915200501680374, 0.0, 0.0, 0.0, 0.0, 0.0, 0.0, 0.0], [0.6715216636657715, 0.010442553088068962, 0.1680707335472107, 0.06391104310750961, 0.056995876133441925, 0.029058216139674187, 0.0, 0.0, 0.0, 0.0, 0.0, 0.0], [0.5875577330589294, 0.015506088733673096, 0.08379511535167694, 0.16193106770515442, 0.03139254078269005, 0.08993590623140335, 0.02988152951002121, 0.0, 0.0, 0.0, 0.0, 0.0], [0.5484440326690674, 0.016690513119101524, 0.17655199766159058, 0.10191955417394638, 0.07960909605026245, 0.028739972040057182, 0.01225834246724844, 0.03578653186559677, 0.0, 0.0, 0.0, 0.0], [0.5229244232177734, 0.010251983068883419, 0.19685736298561096, 0.053753577172756195, 0.045778192579746246, 0.028366688638925552, 0.009666617959737778, 0.09009303152561188, 0.04230808839201927, 0.0, 0.0, 0.0], [0.44563549757003784, 0.013027041219174862, 0.1758316308259964, 0.07178124040365219, 0.03701583668589592, 0.03032875619828701, 0.01242474839091301, 0.06593663990497589, 0.0517447367310524, 0.09627386182546616, 0.0, 0.0], [0.6868786811828613, 0.008110356517136097, 0.04172030836343765, 0.08237948268651962, 0.02857125923037529, 0.013838335871696472, 0.02158421277999878, 0.014978067949414253, 0.04713661968708038, 0.026957575231790543, 0.02784506231546402, 0.0], [0.48155835270881653, 0.009218876250088215, 0.19159361720085144, 0.091922827064991, 0.06900180876255035, 0.02269873581826687, 0.008666550740599632, 0.016810033470392227, 0.025844138115644455, 0.013101871125400066, 0.005516177974641323, 0.06406702101230621]], [[1.0, 0.0, 0.0, 0.0, 0.0, 0.0, 0.0, 0.0, 0.0, 0.0, 0.0, 0.0], [0.9723137617111206, 0.027686260640621185, 0.0, 0.0, 0.0, 0.0, 0.0, 0.0, 0.0, 0.0, 0.0, 0.0], [0.9668927788734436, 0.015161600895226002, 0.01794562302529812, 0.0, 0.0, 0.0, 0.0, 0.0, 0.0, 0.0, 0.0, 0.0], [0.8431384563446045, 0.025189433246850967, 0.04782029613852501, 0.08385180681943893, 0.0, 0.0, 0.0, 0.0, 0.0, 0.0, 0.0, 0.0], [0.928234338760376, 0.010656869038939476, 0.009269839152693748, 0.041989054530858994, 0.009849898517131805, 0.0, 0.0, 0.0, 0.0, 0.0, 0.0, 0.0], [0.8949626088142395, 0.008618985302746296, 0.03453902527689934, 0.0272576455026865, 0.01590818352997303, 0.01871352083981037, 0.0, 0.0, 0.0, 0.0, 0.0, 0.0], [0.8993666768074036, 0.014226336032152176, 0.0061420476995408535, 0.037807803601026535, 0.0017842586385086179, 0.026868103072047234, 0.01380474865436554, 0.0, 0.0, 0.0, 0.0, 0.0], [0.9174821376800537, 0.004877171479165554, 0.025713948532938957, 0.013870693743228912, 0.02043748088181019, 0.005852385424077511, 0.0009521120809949934, 0.010814102366566658, 0.0, 0.0, 0.0, 0.0], [0.9514618515968323, 0.0035144295543432236, 0.011017289943993092, 0.005884192418307066, 0.004523247946053743, 0.004018010571599007, 0.0006242002127692103, 0.009256621822714806, 0.00970019493252039, 0.0, 0.0, 0.0], [0.9321157932281494, 0.004329820163547993, 0.004641362000256777, 0.005095495376735926, 0.0014622100861743093, 0.0029184771701693535, 0.0004141411336604506, 0.0045821270905435085, 0.00449613481760025, 0.03994441404938698, 0.0, 0.0], [0.9373539090156555, 0.0065614692866802216, 0.006362163461744785, 0.01794705167412758, 0.004220407921820879, 0.005869218613952398, 0.001612951746210456, 0.007410119753330946, 0.004382210783660412, 0.0028320199344307184, 0.005448540672659874, 0.0], [0.8563559651374817, 0.0078217638656497, 0.029247421771287918, 0.0292036235332489, 0.01160952914506197, 0.008501597680151463, 0.0020287686493247747, 0.012368213385343552, 0.009121974930167198, 0.006068168208003044, 0.005612219218164682, 0.02206083945930004]], [[1.0, 0.0, 0.0, 0.0, 0.0, 0.0, 0.0, 0.0, 0.0, 0.0, 0.0, 0.0], [0.9783801436424255, 0.02161983586847782, 0.0, 0.0, 0.0, 0.0, 0.0, 0.0, 0.0, 0.0, 0.0, 0.0], [0.9449735879898071, 0.017666682600975037, 0.03735963627696037, 0.0, 0.0, 0.0, 0.0, 0.0, 0.0, 0.0, 0.0, 0.0], [0.9136213660240173, 0.018234938383102417, 0.05087795853614807, 0.017265792936086655, 0.0, 0.0, 0.0, 0.0, 0.0, 0.0, 0.0, 0.0], [0.9543721079826355, 0.011293532326817513, 0.010705925524234772, 0.008411860093474388, 0.015216629952192307, 0.0, 0.0, 0.0, 0.0, 0.0, 0.0, 0.0], [0.8185290098190308, 0.019278520718216896, 0.05975629389286041, 0.026247261092066765, 0.06649350374937057, 0.009695321321487427, 0.0, 0.0, 0.0, 0.0, 0.0, 0.0], [0.9364908933639526, 0.006127420347183943, 0.019234154373407364, 0.011287481524050236, 0.0076613356359303, 0.01186883170157671, 0.007329911459237337, 0.0, 0.0, 0.0, 0.0, 0.0], [0.8186280131340027, 0.010963148437440395, 0.057897813618183136, 0.018526801839470863, 0.07379050552845001, 0.006006143521517515, 0.003411499783396721, 0.010776040144264698, 0.0, 0.0, 0.0, 0.0], [0.8991583585739136, 0.004982725251466036, 0.054237667471170425, 0.0066034020856022835, 0.013923535123467445, 0.004228364210575819, 0.0026330489199608564, 0.010094461031258106, 0.0041383965872228146, 0.0, 0.0, 0.0], [0.8746682405471802, 0.005299605894833803, 0.05299048125743866, 0.007160031236708164, 0.017724480479955673, 0.003614095039665699, 0.002347736619412899, 0.0064671519212424755, 0.002867502626031637, 0.026860592886805534, 0.0, 0.0], [0.8777903914451599, 0.004168255254626274, 0.027789004147052765, 0.006708470638841391, 0.024888157844543457, 0.008623896166682243, 0.01210825052112341, 0.010564579628407955, 0.006059595383703709, 0.014579342678189278, 0.006720047444105148, 0.0], [0.8920893669128418, 0.009509332478046417, 0.022984744980931282, 0.014728888869285583, 0.02307523973286152, 0.00417570723220706, 0.0018862581346184015, 0.006049368996173143, 0.0027834514621645212, 0.0029059092048555613, 0.001419711858034134, 0.018392054364085197]], [[1.0, 0.0, 0.0, 0.0, 0.0, 0.0, 0.0, 0.0, 0.0, 0.0, 0.0, 0.0], [0.9335591793060303, 0.0664408802986145, 0.0, 0.0, 0.0, 0.0, 0.0, 0.0, 0.0, 0.0, 0.0, 0.0], [0.9474940299987793, 0.03753189370036125, 0.014974107034504414, 0.0, 0.0, 0.0, 0.0, 0.0, 0.0, 0.0, 0.0, 0.0], [0.825535237789154, 0.031656503677368164, 0.023090867325663567, 0.11971735954284668, 0.0, 0.0, 0.0, 0.0, 0.0, 0.0, 0.0, 0.0], [0.986696183681488, 0.0029784918297082186, 0.003929944708943367, 0.004183351062238216, 0.0022120364010334015, 0.0, 0.0, 0.0, 0.0, 0.0, 0.0, 0.0], [0.839652419090271, 0.00896220002323389, 0.014413762837648392, 0.06046876683831215, 0.010004814714193344, 0.0664980337023735, 0.0, 0.0, 0.0, 0.0, 0.0, 0.0], [0.980577826499939, 0.0029888481367379427, 0.003564528189599514, 0.004766434896737337, 0.0012396604288369417, 0.005630648694932461, 0.0012321087997406721, 0.0, 0.0, 0.0, 0.0, 0.0], [0.705381453037262, 0.009868456050753593, 0.00967597309499979, 0.03831511735916138, 0.011461161077022552, 0.0963294506072998, 0.019643861800432205, 0.10932450741529465, 0.0, 0.0, 0.0, 0.0], [0.9103646874427795, 0.006605158094316721, 0.00900045596063137, 0.0052920314483344555, 0.005600843578577042, 0.00656783115118742, 0.002830557059496641, 0.029325785115361214, 0.02441270649433136, 0.0, 0.0, 0.0], [0.7727712988853455, 0.0031023144256323576, 0.0052411830984056, 0.004840643145143986, 0.0037384212482720613, 0.002479559276252985, 0.0021271505393087864, 0.008595002815127373, 0.024787986651062965, 0.17231647670269012, 0.0, 0.0], [0.692081093788147, 0.010547257028520107, 0.009009874425828457, 0.023436827585101128, 0.02773880772292614, 0.08699550479650497, 0.03692483529448509, 0.05537554249167442, 0.01872994191944599, 0.018980756402015686, 0.020179471001029015, 0.0], [0.6413434743881226, 0.0078093004412949085, 0.009180422872304916, 0.033622849732637405, 0.005895241163671017, 0.024837391451001167, 0.00462016137316823, 0.04514019191265106, 0.017102157697081566, 0.013401677832007408, 0.009454828687012196, 0.1875922679901123]], [[1.0, 0.0, 0.0, 0.0, 0.0, 0.0, 0.0, 0.0, 0.0, 0.0, 0.0, 0.0], [1.1142256880702917e-05, 0.9999889135360718, 0.0, 0.0, 0.0, 0.0, 0.0, 0.0, 0.0, 0.0, 0.0, 0.0], [0.0003119706525467336, 0.5558071732521057, 0.4438808262348175, 0.0, 0.0, 0.0, 0.0, 0.0, 0.0, 0.0, 0.0, 0.0], [0.00048602247261442244, 0.1793401539325714, 0.3433193266391754, 0.4768545627593994, 0.0, 0.0, 0.0, 0.0, 0.0, 0.0, 0.0, 0.0], [0.00011973299115197733, 0.12224908173084259, 0.15743981301784515, 0.20211295783519745, 0.5180784463882446, 0.0, 0.0, 0.0, 0.0, 0.0, 0.0, 0.0], [1.4420674233406316e-05, 0.04192367568612099, 0.19492144882678986, 0.21807000041007996, 0.23815149068832397, 0.3069189786911011, 0.0, 0.0, 0.0, 0.0, 0.0, 0.0], [6.61579251755029e-05, 0.08507660031318665, 0.0976911261677742, 0.17126448452472687, 0.2392471432685852, 0.1801607608795166, 0.2264936864376068, 0.0, 0.0, 0.0, 0.0, 0.0], [4.307119161239825e-05, 0.013018217869102955, 0.03507307171821594, 0.18284720182418823, 0.06615545600652695, 0.4531536400318146, 0.15524248778820038, 0.09446689486503601, 0.0, 0.0, 0.0, 0.0], [0.0001947948767337948, 0.0459485724568367, 0.027636507526040077, 0.08208536356687546, 0.12768608331680298, 0.25174301862716675, 0.19891375303268433, 0.181453138589859, 0.08433879166841507, 0.0, 0.0, 0.0], [0.00010577157809166238, 0.03157816454768181, 0.04401632398366928, 0.05783611908555031, 0.07563405483961105, 0.13074743747711182, 0.13029445707798004, 0.11841963231563568, 0.32918354868888855, 0.08218447864055634, 0.0, 0.0], [4.484646342461929e-05, 0.01591876894235611, 0.03730485588312149, 0.050540611147880554, 0.11347663402557373, 0.29804953932762146, 0.12252357602119446, 0.13305465877056122, 0.04683763161301613, 0.04538092762231827, 0.1368679255247116, 0.0], [0.00019887003873009235, 0.012567360885441303, 0.02745858207345009, 0.08134416490793228, 0.1095176637172699, 0.35263100266456604, 0.0664052665233612, 0.23741501569747925, 0.022132251411676407, 0.017464326694607735, 0.018633073195815086, 0.05423242226243019]], [[1.0, 0.0, 0.0, 0.0, 0.0, 0.0, 0.0, 0.0, 0.0, 0.0, 0.0, 0.0], [0.980820894241333, 0.0191790834069252, 0.0, 0.0, 0.0, 0.0, 0.0, 0.0, 0.0, 0.0, 0.0, 0.0], [0.9625067114830017, 0.008693148382008076, 0.028800079599022865, 0.0, 0.0, 0.0, 0.0, 0.0, 0.0, 0.0, 0.0, 0.0], [0.939399778842926, 0.00911351852118969, 0.028660740703344345, 0.022825950756669044, 0.0, 0.0, 0.0, 0.0, 0.0, 0.0, 0.0, 0.0], [0.9414008259773254, 0.011543658562004566, 0.010545029304921627, 0.03006131947040558, 0.0064492253586649895, 0.0, 0.0, 0.0, 0.0, 0.0, 0.0, 0.0], [0.9451466798782349, 0.005086011253297329, 0.016596749424934387, 0.008671147748827934, 0.016972878947854042, 0.007526456378400326, 0.0, 0.0, 0.0, 0.0, 0.0, 0.0], [0.9618479609489441, 0.005332132801413536, 0.001380390371195972, 0.007613303139805794, 0.0012299048248678446, 0.011044006794691086, 0.011552360840141773, 0.0, 0.0, 0.0, 0.0, 0.0], [0.9572207927703857, 0.0034067342057824135, 0.010765966959297657, 0.006297853775322437, 0.01138338167220354, 0.003765782807022333, 0.0009863829473033547, 0.006173121277242899, 0.0, 0.0, 0.0, 0.0], [0.9760545492172241, 0.0022513431031256914, 0.0022287946194410324, 0.003485723165795207, 0.0017228162614628673, 0.0034561739303171635, 0.0013060759520158172, 0.006201497279107571, 0.0032929638400673866, 0.0, 0.0, 0.0], [0.9382254481315613, 0.0010988644789904356, 0.0014860894298180938, 0.0028021042235195637, 0.0006889081560075283, 0.0018362842965871096, 0.0005976667744107544, 0.0020410565193742514, 0.0017944801365956664, 0.04942919313907623, 0.0, 0.0], [0.9469723701477051, 0.0027056459803134203, 0.0037287527229636908, 0.009224039502441883, 0.0032733804546296597, 0.007115899585187435, 0.0036728817503899336, 0.0032062053214758635, 0.0029022747185081244, 0.009602506645023823, 0.0075960922986269, 0.0], [0.9388983249664307, 0.0024450256023555994, 0.00901406817138195, 0.007909294217824936, 0.005992006976157427, 0.005139547400176525, 0.000980327371507883, 0.0056082443334162235, 0.0015197573229670525, 0.004020089749246836, 0.0043695527128875256, 0.014103744179010391]], [[1.0, 0.0, 0.0, 0.0, 0.0, 0.0, 0.0, 0.0, 0.0, 0.0, 0.0, 0.0], [0.911260724067688, 0.0887392908334732, 0.0, 0.0, 0.0, 0.0, 0.0, 0.0, 0.0, 0.0, 0.0, 0.0], [0.8196364045143127, 0.10341586172580719, 0.0769476667046547, 0.0, 0.0, 0.0, 0.0, 0.0, 0.0, 0.0, 0.0, 0.0], [0.41138333082199097, 0.029153741896152496, 0.35221701860427856, 0.20724599063396454, 0.0, 0.0, 0.0, 0.0, 0.0, 0.0, 0.0, 0.0], [0.8247672319412231, 0.020570598542690277, 0.028507061302661896, 0.09319574385881424, 0.03295924887061119, 0.0, 0.0, 0.0, 0.0, 0.0, 0.0, 0.0], [0.3342440724372864, 0.015503812581300735, 0.18358418345451355, 0.1331305205821991, 0.2920910716056824, 0.04144633933901787, 0.0, 0.0, 0.0, 0.0, 0.0, 0.0], [0.661444365978241, 0.009739779867231846, 0.018819257616996765, 0.0561111718416214, 0.007302894722670317, 0.1914004534482956, 0.055182039737701416, 0.0, 0.0, 0.0, 0.0, 0.0], [0.2701808512210846, 0.008622882887721062, 0.11006807535886765, 0.05955200642347336, 0.4117709696292877, 0.04810038208961487, 0.009173818863928318, 0.08253096044063568, 0.0, 0.0, 0.0, 0.0], [0.4089460074901581, 0.005945579614490271, 0.054777901619672775, 0.01706215739250183, 0.043832723051309586, 0.05830330401659012, 0.010602678172290325, 0.35842469334602356, 0.042104944586753845, 0.0, 0.0, 0.0], [0.2866668105125427, 0.005664330441504717, 0.02055084891617298, 0.014205360785126686, 0.016317598521709442, 0.017572209239006042, 0.00880397204309702, 0.259754478931427, 0.24022755026817322, 0.13023678958415985, 0.0, 0.0], [0.4376664161682129, 0.005186306778341532, 0.010786022059619427, 0.02414874918758869, 0.018920861184597015, 0.04252125322818756, 0.007397365290671587, 0.15176647901535034, 0.059140242636203766, 0.06519605219364166, 0.17727026343345642, 0.0], [0.32766199111938477, 0.006063316483050585, 0.16169175505638123, 0.052576228976249695, 0.32930880784988403, 0.016991382464766502, 0.0029471791349351406, 0.03208386152982712, 0.0023133601061999798, 0.0033088296186178923, 0.004568225238472223, 0.060484983026981354]], [[1.0, 0.0, 0.0, 0.0, 0.0, 0.0, 0.0, 0.0, 0.0, 0.0, 0.0, 0.0], [0.943642258644104, 0.05635778605937958, 0.0, 0.0, 0.0, 0.0, 0.0, 0.0, 0.0, 0.0, 0.0, 0.0], [0.8142606616020203, 0.15831045806407928, 0.027428876608610153, 0.0, 0.0, 0.0, 0.0, 0.0, 0.0, 0.0, 0.0, 0.0], [0.7843338847160339, 0.04099113494157791, 0.10958005487918854, 0.06509483605623245, 0.0, 0.0, 0.0, 0.0, 0.0, 0.0, 0.0, 0.0], [0.8374189138412476, 0.014210923574864864, 0.044985003769397736, 0.05330648645758629, 0.050078608095645905, 0.0, 0.0, 0.0, 0.0, 0.0, 0.0, 0.0], [0.47934699058532715, 0.019406422972679138, 0.13871940970420837, 0.2584373652935028, 0.06083168461918831, 0.04325810819864273, 0.0, 0.0, 0.0, 0.0, 0.0, 0.0], [0.668350100517273, 0.00403636135160923, 0.08130186796188354, 0.06373482197523117, 0.037534356117248535, 0.10779915004968643, 0.0372433103621006, 0.0, 0.0, 0.0, 0.0, 0.0], [0.6751395463943481, 0.007875431329011917, 0.04676195606589317, 0.08016036450862885, 0.03210228681564331, 0.040482670068740845, 0.007639393210411072, 0.10983835160732269, 0.0, 0.0, 0.0, 0.0], [0.4137706160545349, 0.0018879392882809043, 0.01131644006818533, 0.014461148530244827, 0.004557759501039982, 0.05349811539053917, 0.007175352890044451, 0.41558223962783813, 0.07775043696165085, 0.0, 0.0, 0.0], [0.3370450437068939, 0.0017488633748143911, 0.01091789547353983, 0.006637184880673885, 0.002739361021667719, 0.023491350933909416, 0.0029586381278932095, 0.29338181018829346, 0.26736921072006226, 0.05371064320206642, 0.0, 0.0], [0.29114511609077454, 0.006385176908224821, 0.018626119941473007, 0.03065330907702446, 0.007287802640348673, 0.07414118945598602, 0.011571642011404037, 0.3568345606327057, 0.07699065655469894, 0.08045093715190887, 0.04591353237628937, 0.0], [0.5794357657432556, 0.005163245368748903, 0.08704722672700882, 0.124430812895298, 0.04414249211549759, 0.020929278805851936, 0.002147663151845336, 0.029095957055687904, 0.009859716519713402, 0.01828356273472309, 0.010651261545717716, 0.06881298124790192]]]}\n",
              "    )\n",
              "    </script>"
            ]
          },
          "metadata": {}
        }
      ]
    },
    {
      "cell_type": "code",
      "source": [
        "text = \"In the Diffie-Hellman Key Exchange, Alice exchanges public keys with\"\n",
        "display_attn_pattern(gpt2_small, 11, text)"
      ],
      "metadata": {
        "colab": {
          "base_uri": "https://localhost:8080/",
          "height": 357
        },
        "id": "t76dD1aSbl8a",
        "outputId": "c2f3c78f-9ef8-4cbc-92eb-5aa45fc322ca"
      },
      "execution_count": null,
      "outputs": [
        {
          "output_type": "display_data",
          "data": {
            "text/plain": [
              "<circuitsvis.utils.render.RenderedHTML at 0x7f7ac0e7fe50>"
            ],
            "text/html": [
              "<div id=\"circuits-vis-6710e309-01b0\" style=\"margin: 15px 0;\"/>\n",
              "    <script crossorigin type=\"module\">\n",
              "    import { render, AttentionPatterns } from \"https://unpkg.com/circuitsvis@1.39.1/dist/cdn/esm.js\";\n",
              "    render(\n",
              "      \"circuits-vis-6710e309-01b0\",\n",
              "      AttentionPatterns,\n",
              "      {\"tokens\": [\"<|endoftext|>\", \"In\", \" the\", \" Diff\", \"ie\", \"-\", \"Hell\", \"man\", \" Key\", \" Exchange\", \",\", \" Alice\", \" exchanges\", \" public\", \" keys\", \" with\"], \"attention\": [[[1.0, 0.0, 0.0, 0.0, 0.0, 0.0, 0.0, 0.0, 0.0, 0.0, 0.0, 0.0, 0.0, 0.0, 0.0, 0.0], [0.5770692825317383, 0.4229307174682617, 0.0, 0.0, 0.0, 0.0, 0.0, 0.0, 0.0, 0.0, 0.0, 0.0, 0.0, 0.0, 0.0, 0.0], [0.3473948538303375, 0.39974331855773926, 0.2528618276119232, 0.0, 0.0, 0.0, 0.0, 0.0, 0.0, 0.0, 0.0, 0.0, 0.0, 0.0, 0.0, 0.0], [0.8495344519615173, 0.03051544353365898, 0.025827622041106224, 0.09412254393100739, 0.0, 0.0, 0.0, 0.0, 0.0, 0.0, 0.0, 0.0, 0.0, 0.0, 0.0, 0.0], [0.8555572628974915, 0.01605691947042942, 0.00958090927451849, 0.0679207444190979, 0.05088420957326889, 0.0, 0.0, 0.0, 0.0, 0.0, 0.0, 0.0, 0.0, 0.0, 0.0, 0.0], [0.8412545323371887, 0.004739052150398493, 0.004074471071362495, 0.09169316291809082, 0.0443241149187088, 0.013914628885686398, 0.0, 0.0, 0.0, 0.0, 0.0, 0.0, 0.0, 0.0, 0.0, 0.0], [0.8036438226699829, 0.030332164838910103, 0.018839063122868538, 0.08164436370134354, 0.0367140956223011, 0.011697331443428993, 0.017129018902778625, 0.0, 0.0, 0.0, 0.0, 0.0, 0.0, 0.0, 0.0, 0.0], [0.2057594507932663, 0.17672161757946014, 0.28175437450408936, 0.08630450814962387, 0.07118822634220123, 0.05650121346116066, 0.024604296311736107, 0.09716635942459106, 0.0, 0.0, 0.0, 0.0, 0.0, 0.0, 0.0, 0.0], [0.5837352275848389, 0.03939611464738846, 0.043961409479379654, 0.10050493478775024, 0.05897372215986252, 0.022646179422736168, 0.03860922157764435, 0.030644023790955544, 0.0815291628241539, 0.0, 0.0, 0.0, 0.0, 0.0, 0.0, 0.0], [0.23948968946933746, 0.17118559777736664, 0.08059216290712357, 0.09447916597127914, 0.06897225975990295, 0.018072810024023056, 0.017886022105813026, 0.04449393227696419, 0.10583513230085373, 0.15899322926998138, 0.0, 0.0, 0.0, 0.0, 0.0, 0.0], [0.1655200868844986, 0.21804694831371307, 0.07836692035198212, 0.07235301285982132, 0.0482754223048687, 0.0357309952378273, 0.031850095838308334, 0.04119230806827545, 0.06427785754203796, 0.11615932732820511, 0.12822692096233368, 0.0, 0.0, 0.0, 0.0, 0.0], [0.4052410423755646, 0.09852471947669983, 0.033013515174388885, 0.040003854781389236, 0.060142286121845245, 0.04365980997681618, 0.016306865960359573, 0.02337157540023327, 0.06674282252788544, 0.041023027151823044, 0.10323076695203781, 0.06873976439237595, 0.0, 0.0, 0.0, 0.0], [0.18472248315811157, 0.09606409072875977, 0.05173597112298012, 0.03932030126452446, 0.03981700912117958, 0.028515208512544632, 0.016868075355887413, 0.03002162277698517, 0.08658101409673691, 0.05978541076183319, 0.08225462585687637, 0.1636093258857727, 0.12070487439632416, 0.0, 0.0, 0.0], [0.32058215141296387, 0.043214816600084305, 0.01060542557388544, 0.028620656579732895, 0.050525959581136703, 0.01940617896616459, 0.009637062437832355, 0.015598858706653118, 0.10802819579839706, 0.03244910389184952, 0.06517316401004791, 0.13238421082496643, 0.1184607669711113, 0.04531337693333626, 0.0, 0.0], [0.14264944195747375, 0.10703259706497192, 0.024624550715088844, 0.03332236781716347, 0.03895501047372818, 0.015522423200309277, 0.010240131057798862, 0.0242148507386446, 0.040006477385759354, 0.061808302998542786, 0.1850791573524475, 0.11121603101491928, 0.0945487841963768, 0.032727453857660294, 0.0780523493885994, 0.0], [0.1651894599199295, 0.0449092797935009, 0.016930729150772095, 0.03522482141852379, 0.01577792316675186, 0.020164737477898598, 0.00787616427987814, 0.009746214374899864, 0.03659859299659729, 0.03834928199648857, 0.09455900639295578, 0.18189044296741486, 0.10256962478160858, 0.04938812553882599, 0.07040735334157944, 0.11041821539402008]], [[1.0, 0.0, 0.0, 0.0, 0.0, 0.0, 0.0, 0.0, 0.0, 0.0, 0.0, 0.0, 0.0, 0.0, 0.0, 0.0], [0.957554042339325, 0.04244596138596535, 0.0, 0.0, 0.0, 0.0, 0.0, 0.0, 0.0, 0.0, 0.0, 0.0, 0.0, 0.0, 0.0, 0.0], [0.891469419002533, 0.07371078431606293, 0.034819770604372025, 0.0, 0.0, 0.0, 0.0, 0.0, 0.0, 0.0, 0.0, 0.0, 0.0, 0.0, 0.0, 0.0], [0.9840700626373291, 0.006286966614425182, 0.004779682494699955, 0.004863225854933262, 0.0, 0.0, 0.0, 0.0, 0.0, 0.0, 0.0, 0.0, 0.0, 0.0, 0.0, 0.0], [0.9879074692726135, 0.002112711314111948, 0.0021955808624625206, 0.0022146464325487614, 0.005569633562117815, 0.0, 0.0, 0.0, 0.0, 0.0, 0.0, 0.0, 0.0, 0.0, 0.0, 0.0], [0.9919762015342712, 0.0015933312242850661, 0.0009592878632247448, 0.0012828129110857844, 0.0036436705850064754, 0.00054469786118716, 0.0, 0.0, 0.0, 0.0, 0.0, 0.0, 0.0, 0.0, 0.0, 0.0], [0.9746865034103394, 0.002819619607180357, 0.0033350521698594093, 0.002159630414098501, 0.008805911056697369, 0.005131365265697241, 0.003061935305595398, 0.0, 0.0, 0.0, 0.0, 0.0, 0.0, 0.0, 0.0, 0.0], [0.9125728607177734, 0.03526829928159714, 0.02100798860192299, 0.005648830905556679, 0.013226942159235477, 0.0062423101626336575, 0.0011752118589356542, 0.00485749077051878, 0.0, 0.0, 0.0, 0.0, 0.0, 0.0, 0.0, 0.0], [0.9443116188049316, 0.006761329248547554, 0.007038361858576536, 0.004186356905847788, 0.007009470835328102, 0.0022461332846432924, 0.005433513317257166, 0.008487489074468613, 0.014525762759149075, 0.0, 0.0, 0.0, 0.0, 0.0, 0.0, 0.0], [0.7277216911315918, 0.02458948828279972, 0.025819934904575348, 0.01341170072555542, 0.037801746279001236, 0.008450091816484928, 0.005312999244779348, 0.01670055463910103, 0.10231555998325348, 0.03787628188729286, 0.0, 0.0, 0.0, 0.0, 0.0, 0.0], [0.6327369809150696, 0.01804477907717228, 0.01632181741297245, 0.014667579904198647, 0.05121349170804024, 0.00955525878816843, 0.012715543620288372, 0.042560625821352005, 0.04631882905960083, 0.043469857424497604, 0.11239518970251083, 0.0, 0.0, 0.0, 0.0, 0.0], [0.8400533199310303, 0.008071662858128548, 0.0026647059712558985, 0.003953014966100454, 0.0031876813154667616, 0.0011889142915606499, 0.002409077947959304, 0.007709218189120293, 0.06356753408908844, 0.015089909546077251, 0.02951887622475624, 0.022586017847061157, 0.0, 0.0, 0.0, 0.0], [0.50589519739151, 0.010152931325137615, 0.013045085594058037, 0.0337398536503315, 0.08066415041685104, 0.010152332484722137, 0.008279058150947094, 0.03151495009660721, 0.0789937674999237, 0.012794872745871544, 0.09782354533672333, 0.07468744367361069, 0.042256828397512436, 0.0, 0.0, 0.0], [0.746955156326294, 0.005846473854035139, 0.004588156007230282, 0.009641887620091438, 0.0195904690772295, 0.006552112754434347, 0.003749402239918709, 0.006191622465848923, 0.02067200280725956, 0.007866143248975277, 0.04458881914615631, 0.06391870230436325, 0.03646186739206314, 0.023377200588583946, 0.0, 0.0], [0.7193460464477539, 0.010547722689807415, 0.006567977834492922, 0.003069709986448288, 0.01361962128430605, 0.004265641327947378, 0.0027206758968532085, 0.008713127113878727, 0.007818661630153656, 0.008022566325962543, 0.0630258321762085, 0.11185887455940247, 0.021505817770957947, 0.007588560692965984, 0.011329136788845062, 0.0], [0.4873136281967163, 0.006038733292371035, 0.010460961610078812, 0.005891699809581041, 0.021082758903503418, 0.009448631666600704, 0.0041235932148993015, 0.03299981728196144, 0.020725594833493233, 0.012751010246574879, 0.09321268647909164, 0.1529899537563324, 0.00915099773555994, 0.023320656269788742, 0.012955332174897194, 0.09753397107124329]], [[1.0, 0.0, 0.0, 0.0, 0.0, 0.0, 0.0, 0.0, 0.0, 0.0, 0.0, 0.0, 0.0, 0.0, 0.0, 0.0], [0.96426922082901, 0.0357307605445385, 0.0, 0.0, 0.0, 0.0, 0.0, 0.0, 0.0, 0.0, 0.0, 0.0, 0.0, 0.0, 0.0, 0.0], [0.9345741868019104, 0.05024370178580284, 0.01518211793154478, 0.0, 0.0, 0.0, 0.0, 0.0, 0.0, 0.0, 0.0, 0.0, 0.0, 0.0, 0.0, 0.0], [0.9919666051864624, 0.004229533486068249, 0.0024015838280320168, 0.0014022804098203778, 0.0, 0.0, 0.0, 0.0, 0.0, 0.0, 0.0, 0.0, 0.0, 0.0, 0.0, 0.0], [0.9811372756958008, 0.007740998640656471, 0.004923355765640736, 0.0036820569075644016, 0.002516297623515129, 0.0, 0.0, 0.0, 0.0, 0.0, 0.0, 0.0, 0.0, 0.0, 0.0, 0.0], [0.9881705045700073, 0.0057394555769860744, 0.0018934063846245408, 0.001668018870986998, 0.0020956697408109903, 0.00043297928641550243, 0.0, 0.0, 0.0, 0.0, 0.0, 0.0, 0.0, 0.0, 0.0, 0.0], [0.9821902513504028, 0.003952875267714262, 0.0024476712569594383, 0.0018836427479982376, 0.004855899140238762, 0.0012146596563979983, 0.0034549511037766933, 0.0, 0.0, 0.0, 0.0, 0.0, 0.0, 0.0, 0.0, 0.0], [0.9658797979354858, 0.011774535290896893, 0.006753172259777784, 0.002783470321446657, 0.0022137847263365984, 0.0018834971124306321, 0.006338088773190975, 0.002373552182689309, 0.0, 0.0, 0.0, 0.0, 0.0, 0.0, 0.0, 0.0], [0.9494460225105286, 0.00955964531749487, 0.0035722071770578623, 0.005342299584299326, 0.007516603916883469, 0.003290660912171006, 0.010209077037870884, 0.005716629326343536, 0.005346978548914194, 0.0, 0.0, 0.0, 0.0, 0.0, 0.0, 0.0], [0.8193655014038086, 0.025014584884047508, 0.008542156778275967, 0.011809021234512329, 0.0253844503313303, 0.017143521457910538, 0.01724742352962494, 0.00879270862787962, 0.0352470837533474, 0.03145362436771393, 0.0, 0.0, 0.0, 0.0, 0.0, 0.0], [0.7448427677154541, 0.03206441178917885, 0.008467908017337322, 0.024616630747914314, 0.026238275691866875, 0.012307791970670223, 0.048117898404598236, 0.02720460668206215, 0.012053449638187885, 0.03735353425145149, 0.0267326720058918, 0.0, 0.0, 0.0, 0.0, 0.0], [0.8945685625076294, 0.009131661616265774, 0.0037319250404834747, 0.006294999271631241, 0.003444477217271924, 0.002816699678078294, 0.009499534033238888, 0.01111587230116129, 0.010166162624955177, 0.029129069298505783, 0.00967275258153677, 0.010428223758935928, 0.0, 0.0, 0.0, 0.0], [0.777707040309906, 0.02066468447446823, 0.005268166307359934, 0.013310988433659077, 0.014398334547877312, 0.008177569136023521, 0.019135810434818268, 0.011865957640111446, 0.011834505945444107, 0.02465241216123104, 0.01431640237569809, 0.03552677854895592, 0.04314131289720535, 0.0, 0.0, 0.0], [0.7880088686943054, 0.012717126868665218, 0.00547147449105978, 0.006216950248926878, 0.006827831268310547, 0.008508941158652306, 0.012642448768019676, 0.003311020787805319, 0.008237248286604881, 0.026097742840647697, 0.013877542689442635, 0.049470651894807816, 0.04458438605070114, 0.014027749188244343, 0.0, 0.0], [0.8922990560531616, 0.007781872060149908, 0.004071803763508797, 0.0013424004428088665, 0.0053592706099152565, 0.006618121638894081, 0.002641222672536969, 0.004044199362397194, 0.008952003903687, 0.007638110779225826, 0.01582564041018486, 0.01533825509250164, 0.022217651829123497, 0.001935816602781415, 0.003934567794203758, 0.0], [0.775521993637085, 0.015810873359441757, 0.0044503589160740376, 0.006108568049967289, 0.007675346918404102, 0.00835371669381857, 0.016296261921525, 0.01501269917935133, 0.006071233190596104, 0.02237529307603836, 0.018065864220261574, 0.05098322406411171, 0.013579140417277813, 0.003074334003031254, 0.0043732221238315105, 0.03224784508347511]], [[1.0, 0.0, 0.0, 0.0, 0.0, 0.0, 0.0, 0.0, 0.0, 0.0, 0.0, 0.0, 0.0, 0.0, 0.0, 0.0], [0.8720443844795227, 0.1279556155204773, 0.0, 0.0, 0.0, 0.0, 0.0, 0.0, 0.0, 0.0, 0.0, 0.0, 0.0, 0.0, 0.0, 0.0], [0.6965097784996033, 0.2360888570547104, 0.06740136444568634, 0.0, 0.0, 0.0, 0.0, 0.0, 0.0, 0.0, 0.0, 0.0, 0.0, 0.0, 0.0, 0.0], [0.8869163990020752, 0.05761704593896866, 0.03896970674395561, 0.016496814787387848, 0.0, 0.0, 0.0, 0.0, 0.0, 0.0, 0.0, 0.0, 0.0, 0.0, 0.0, 0.0], [0.7971351742744446, 0.03914283588528633, 0.054943740367889404, 0.07741435617208481, 0.03136397898197174, 0.0, 0.0, 0.0, 0.0, 0.0, 0.0, 0.0, 0.0, 0.0, 0.0, 0.0], [0.6157938838005066, 0.024867014959454536, 0.004065553657710552, 0.03014584444463253, 0.32116028666496277, 0.003967411816120148, 0.0, 0.0, 0.0, 0.0, 0.0, 0.0, 0.0, 0.0, 0.0, 0.0], [0.7098116874694824, 0.05044505372643471, 0.05482497066259384, 0.03156781569123268, 0.06955436617136002, 0.04984157159924507, 0.0339544452726841, 0.0, 0.0, 0.0, 0.0, 0.0, 0.0, 0.0, 0.0, 0.0], [0.2940901815891266, 0.09536879509687424, 0.24112056195735931, 0.04892135411500931, 0.053947269916534424, 0.013460231013596058, 0.06680286675691605, 0.1862887442111969, 0.0, 0.0, 0.0, 0.0, 0.0, 0.0, 0.0, 0.0], [0.5194072723388672, 0.08804799616336823, 0.10847122222185135, 0.029835140332579613, 0.023447280749678612, 0.011513621546328068, 0.03217592462897301, 0.09839458763599396, 0.0887068584561348, 0.0, 0.0, 0.0, 0.0, 0.0, 0.0, 0.0], [0.20207136869430542, 0.11433855444192886, 0.16439104080200195, 0.05717199295759201, 0.02910544164478779, 0.002762807300314307, 0.0261642187833786, 0.14115512371063232, 0.1690668761730194, 0.09377255290746689, 0.0, 0.0, 0.0, 0.0, 0.0, 0.0], [0.2000121921300888, 0.014249402098357677, 0.006781776901334524, 0.10636339336633682, 0.03233884274959564, 0.016377082094550133, 0.03859760984778404, 0.03187204524874687, 0.07559563964605331, 0.32866427302360535, 0.14914774894714355, 0.0, 0.0, 0.0, 0.0, 0.0], [0.7075386047363281, 0.006361397914588451, 0.0024400651454925537, 0.02598903514444828, 0.011398578993976116, 0.004045116249471903, 0.017394443973898888, 0.004442951641976833, 0.0336960069835186, 0.07207176089286804, 0.0794542208313942, 0.03516793251037598, 0.0, 0.0, 0.0, 0.0], [0.27257660031318665, 0.005683657247573137, 0.009191028773784637, 0.07528669387102127, 0.013635233044624329, 0.006684746127575636, 0.026869937777519226, 0.0157769788056612, 0.05015402287244797, 0.15854167938232422, 0.13153396546840668, 0.13092724978923798, 0.10313815623521805, 0.0, 0.0, 0.0], [0.5834043622016907, 0.0037366070318967104, 0.005018867086619139, 0.02584238164126873, 0.010658971033990383, 0.004894259851425886, 0.01023799553513527, 0.007656855974346399, 0.022425834089517593, 0.07187899947166443, 0.0613030269742012, 0.04132447391748428, 0.1320251077413559, 0.01959226094186306, 0.0, 0.0], [0.8892746567726135, 0.0068018799647688866, 0.002761043608188629, 0.0058756559155881405, 0.0019372048554942012, 0.0018593550194054842, 0.013322756625711918, 0.0015221373178064823, 0.008597275242209435, 0.010557129979133606, 0.019444644451141357, 0.010863217525184155, 0.01749424822628498, 0.004938963335007429, 0.004749786574393511, 0.0], [0.44497692584991455, 0.004529571160674095, 0.006306851748377085, 0.043024398386478424, 0.006362321320921183, 0.0032200729474425316, 0.020468391478061676, 0.008869746699929237, 0.021641507744789124, 0.10569342225790024, 0.13848876953125, 0.07747174054384232, 0.03397854045033455, 0.016131771728396416, 0.019651716575026512, 0.04918422922492027]], [[1.0, 0.0, 0.0, 0.0, 0.0, 0.0, 0.0, 0.0, 0.0, 0.0, 0.0, 0.0, 0.0, 0.0, 0.0, 0.0], [0.9074519276618958, 0.09254803508520126, 0.0, 0.0, 0.0, 0.0, 0.0, 0.0, 0.0, 0.0, 0.0, 0.0, 0.0, 0.0, 0.0, 0.0], [0.8780527710914612, 0.06928382068872452, 0.05266338586807251, 0.0, 0.0, 0.0, 0.0, 0.0, 0.0, 0.0, 0.0, 0.0, 0.0, 0.0, 0.0, 0.0], [0.9374409914016724, 0.030189692974090576, 0.01641613058745861, 0.01595328189432621, 0.0, 0.0, 0.0, 0.0, 0.0, 0.0, 0.0, 0.0, 0.0, 0.0, 0.0, 0.0], [0.9421778321266174, 0.014280561357736588, 0.010196099989116192, 0.01121715921908617, 0.02212839387357235, 0.0, 0.0, 0.0, 0.0, 0.0, 0.0, 0.0, 0.0, 0.0, 0.0, 0.0], [0.8774982690811157, 0.02427593432366848, 0.005776324775069952, 0.01901463232934475, 0.018722308799624443, 0.05471249669790268, 0.0, 0.0, 0.0, 0.0, 0.0, 0.0, 0.0, 0.0, 0.0, 0.0], [0.9098907709121704, 0.02058200165629387, 0.017187096178531647, 0.006576154846698046, 0.012382305227220058, 0.026960130780935287, 0.006421441212296486, 0.0, 0.0, 0.0, 0.0, 0.0, 0.0, 0.0, 0.0, 0.0], [0.8443737030029297, 0.014873743057250977, 0.0673360675573349, 0.019022466614842415, 0.005064176861196756, 0.023180285468697548, 0.005589246284216642, 0.020560279488563538, 0.0, 0.0, 0.0, 0.0, 0.0, 0.0, 0.0, 0.0], [0.8552058935165405, 0.02381507121026516, 0.01600276306271553, 0.008549596183001995, 0.010351190343499184, 0.012065558694303036, 0.007990758866071701, 0.024588776752352715, 0.04143030568957329, 0.0, 0.0, 0.0, 0.0, 0.0, 0.0, 0.0], [0.7503492832183838, 0.035840656608343124, 0.05410075932741165, 0.027573108673095703, 0.0078098345547914505, 0.006002724636346102, 0.0028769064228981733, 0.014223423786461353, 0.06136029586195946, 0.039862893521785736, 0.0, 0.0, 0.0, 0.0, 0.0, 0.0], [0.6759953498840332, 0.04450715333223343, 0.044918496161699295, 0.029649024829268456, 0.007039603777229786, 0.0121453320607543, 0.0052988226525485516, 0.014228876680135727, 0.033627625554800034, 0.031321629881858826, 0.10126813501119614, 0.0, 0.0, 0.0, 0.0, 0.0], [0.7279027104377747, 0.03176062926650047, 0.01832035556435585, 0.016793619841337204, 0.010981442406773567, 0.009811769239604473, 0.004296338185667992, 0.013836811296641827, 0.021847426891326904, 0.027163373306393623, 0.0905219167470932, 0.02676365338265896, 0.0, 0.0, 0.0, 0.0], [0.5928449034690857, 0.04098828136920929, 0.024188270792365074, 0.02751106768846512, 0.010817181318998337, 0.01718228869140148, 0.0035460565704852343, 0.0054805767722427845, 0.017581377178430557, 0.017071252688765526, 0.11341869086027145, 0.030807938426733017, 0.09856212139129639, 0.0, 0.0, 0.0], [0.5731539726257324, 0.017650138586759567, 0.012322017922997475, 0.015052730217576027, 0.010006903670728207, 0.01671781577169895, 0.002593513811007142, 0.003953783772885799, 0.03948972001671791, 0.025991957634687424, 0.06762756407260895, 0.02466752380132675, 0.07460620254278183, 0.11616618931293488, 0.0, 0.0], [0.6987067461013794, 0.02063043788075447, 0.022468192502856255, 0.003460630774497986, 0.004278956446796656, 0.004222383257001638, 0.0018436131067574024, 0.009442909620702267, 0.011532762087881565, 0.011875391006469727, 0.10842802375555038, 0.020551806315779686, 0.0379432737827301, 0.024694548919796944, 0.019920356571674347, 0.0], [0.4976871907711029, 0.030215062201023102, 0.01816587895154953, 0.026750069111585617, 0.007252359762787819, 0.015652470290660858, 0.0040457588620483875, 0.011329889297485352, 0.014198869466781616, 0.01600053906440735, 0.07948800176382065, 0.04421928524971008, 0.026599250733852386, 0.04732590541243553, 0.01915244571864605, 0.14191699028015137]], [[1.0, 0.0, 0.0, 0.0, 0.0, 0.0, 0.0, 0.0, 0.0, 0.0, 0.0, 0.0, 0.0, 0.0, 0.0, 0.0], [0.972313642501831, 0.027686282992362976, 0.0, 0.0, 0.0, 0.0, 0.0, 0.0, 0.0, 0.0, 0.0, 0.0, 0.0, 0.0, 0.0, 0.0], [0.9804775714874268, 0.008857892826199532, 0.010664552450180054, 0.0, 0.0, 0.0, 0.0, 0.0, 0.0, 0.0, 0.0, 0.0, 0.0, 0.0, 0.0, 0.0], [0.9906595945358276, 0.004150979686528444, 0.0022466438822448254, 0.002942796330899, 0.0, 0.0, 0.0, 0.0, 0.0, 0.0, 0.0, 0.0, 0.0, 0.0, 0.0, 0.0], [0.987776517868042, 0.006097635254263878, 0.001443583401851356, 0.0019012653501704335, 0.002780988346785307, 0.0, 0.0, 0.0, 0.0, 0.0, 0.0, 0.0, 0.0, 0.0, 0.0, 0.0], [0.9905446767807007, 0.002001365413889289, 0.0010278383269906044, 0.0016754934331402183, 0.0025073508732020855, 0.0022432769183069468, 0.0, 0.0, 0.0, 0.0, 0.0, 0.0, 0.0, 0.0, 0.0, 0.0], [0.9846610426902771, 0.0023024629335850477, 0.0025668321177363396, 0.002139663090929389, 0.003543806029483676, 0.0016581218224018812, 0.0031280347611755133, 0.0, 0.0, 0.0, 0.0, 0.0, 0.0, 0.0, 0.0, 0.0], [0.9684763550758362, 0.006679271347820759, 0.0103951096534729, 0.0037643297109752893, 0.001269149943254888, 0.001089111901819706, 0.001782893785275519, 0.006543776951730251, 0.0, 0.0, 0.0, 0.0, 0.0, 0.0, 0.0, 0.0], [0.9753064513206482, 0.004848774988204241, 0.003544292878359556, 0.0015184971271082759, 0.0015418452676385641, 0.0009261121158488095, 0.0014917980879545212, 0.006058902479708195, 0.004763457924127579, 0.0, 0.0, 0.0, 0.0, 0.0, 0.0, 0.0], [0.9091783761978149, 0.020249933004379272, 0.014026736840605736, 0.0069230119697749615, 0.001568102277815342, 0.0019104396924376488, 0.0036740100476890802, 0.004399475175887346, 0.017383389174938202, 0.020686587318778038, 0.0, 0.0, 0.0, 0.0, 0.0, 0.0], [0.8482076525688171, 0.02798863686621189, 0.009781895205378532, 0.006246701814234257, 0.0042966254986822605, 0.00412112707272172, 0.005463270470499992, 0.0055940477177500725, 0.006672690622508526, 0.012310696765780449, 0.06931663304567337, 0.0, 0.0, 0.0, 0.0, 0.0], [0.9066169857978821, 0.010594726540148258, 0.0040232897736132145, 0.0030840146355330944, 0.0015835395315662026, 0.002574125537648797, 0.004989428445696831, 0.00973054114729166, 0.007038637530058622, 0.01134356390684843, 0.026482144370675087, 0.011938936077058315, 0.0, 0.0, 0.0, 0.0], [0.8037590384483337, 0.012468787841498852, 0.00948491320014, 0.01869811862707138, 0.016544165089726448, 0.014094226993620396, 0.009814979508519173, 0.012047822587192059, 0.00886144395917654, 0.01715763658285141, 0.037394292652606964, 0.015808526426553726, 0.023866157978773117, 0.0, 0.0, 0.0], [0.909608006477356, 0.001788316760212183, 0.0008555389358662069, 0.0061921123415231705, 0.009470376186072826, 0.0046284981071949005, 0.00414287019520998, 0.0028977137990295887, 0.006236111279577017, 0.012478701770305634, 0.0104244165122509, 0.003383136121556163, 0.014544056728482246, 0.013350151479244232, 0.0, 0.0], [0.8708341121673584, 0.010823363438248634, 0.004190926440060139, 0.0011075283400714397, 0.0007757311686873436, 0.0009444861789233983, 0.0023427295964211226, 0.0038042920641601086, 0.0030603627674281597, 0.011789307929575443, 0.05306018143892288, 0.005451886914670467, 0.01622614450752735, 0.0033736946061253548, 0.012215282768011093, 0.0], [0.8190549612045288, 0.01084961835294962, 0.0026869713328778744, 0.012583376839756966, 0.004529950674623251, 0.004082508385181427, 0.014194151386618614, 0.0036832052282989025, 0.00800830777734518, 0.013902848586440086, 0.018203703686594963, 0.025201404467225075, 0.011640030890703201, 0.008940527215600014, 0.025046013295650482, 0.017392359673976898]], [[1.0, 0.0, 0.0, 0.0, 0.0, 0.0, 0.0, 0.0, 0.0, 0.0, 0.0, 0.0, 0.0, 0.0, 0.0, 0.0], [0.9783801436424255, 0.021619824692606926, 0.0, 0.0, 0.0, 0.0, 0.0, 0.0, 0.0, 0.0, 0.0, 0.0, 0.0, 0.0, 0.0, 0.0], [0.9810293316841125, 0.014452309347689152, 0.004518363159149885, 0.0, 0.0, 0.0, 0.0, 0.0, 0.0, 0.0, 0.0, 0.0, 0.0, 0.0, 0.0, 0.0], [0.9842026233673096, 0.0038654585368931293, 0.004084398504346609, 0.007847584784030914, 0.0, 0.0, 0.0, 0.0, 0.0, 0.0, 0.0, 0.0, 0.0, 0.0, 0.0, 0.0], [0.9764828681945801, 0.007680478505790234, 0.003252714639529586, 0.004485401790589094, 0.008098509162664413, 0.0, 0.0, 0.0, 0.0, 0.0, 0.0, 0.0, 0.0, 0.0, 0.0, 0.0], [0.9884896874427795, 0.003980054520070553, 0.0012481946032494307, 0.0015258579514920712, 0.0037797235418111086, 0.0009764507412910461, 0.0, 0.0, 0.0, 0.0, 0.0, 0.0, 0.0, 0.0, 0.0, 0.0], [0.9739792943000793, 0.002184093464165926, 0.0024872284848243, 0.0030904635787010193, 0.008744142018258572, 0.002738145412877202, 0.006776645313948393, 0.0, 0.0, 0.0, 0.0, 0.0, 0.0, 0.0, 0.0, 0.0], [0.9614688158035278, 0.009518596343696117, 0.002910842187702656, 0.010714959353208542, 0.004057490732520819, 0.0016117587219923735, 0.007703620009124279, 0.002013804391026497, 0.0, 0.0, 0.0, 0.0, 0.0, 0.0, 0.0, 0.0], [0.9380523562431335, 0.008491577580571175, 0.0027434041257947683, 0.01085965521633625, 0.008237374946475029, 0.002965201623737812, 0.010292010381817818, 0.003857200499624014, 0.014501325786113739, 0.0, 0.0, 0.0, 0.0, 0.0, 0.0, 0.0], [0.76872318983078, 0.03846468776464462, 0.011225425638258457, 0.019406186416745186, 0.015574896708130836, 0.0031486055813729763, 0.019075388088822365, 0.006137917283922434, 0.08220349997282028, 0.036040257662534714, 0.0, 0.0, 0.0, 0.0, 0.0, 0.0], [0.8215488195419312, 0.02074361778795719, 0.004504676908254623, 0.039939068257808685, 0.0108936857432127, 0.005308793392032385, 0.036534134298563004, 0.005593104287981987, 0.02525932900607586, 0.018238870427012444, 0.011436049826443195, 0.0, 0.0, 0.0, 0.0, 0.0], [0.851990818977356, 0.018855493515729904, 0.002490757033228874, 0.017969796434044838, 0.008135178126394749, 0.003299885429441929, 0.016580883413553238, 0.006970617920160294, 0.023465633392333984, 0.021585823968052864, 0.0088773462921381, 0.01977773755788803, 0.0, 0.0, 0.0, 0.0], [0.7280577421188354, 0.02277977392077446, 0.005017888266593218, 0.04782472178339958, 0.0276552252471447, 0.00770975835621357, 0.029537033289670944, 0.007634452544152737, 0.028460973873734474, 0.009823966771364212, 0.01311058271676302, 0.03933576121926308, 0.03305212780833244, 0.0, 0.0, 0.0], [0.8188841342926025, 0.00847661029547453, 0.0010899342596530914, 0.02507074736058712, 0.01071325782686472, 0.006317736580967903, 0.01400521956384182, 0.0013358376454561949, 0.013779012486338615, 0.00828806683421135, 0.006926597561687231, 0.035478029400110245, 0.022440403699874878, 0.027194414287805557, 0.0, 0.0], [0.8944370150566101, 0.010725539177656174, 0.002659453544765711, 0.0026840222999453545, 0.0020233590621501207, 0.000899328151717782, 0.003172657685354352, 0.0025833365507423878, 0.007096662651747465, 0.0048174927942454815, 0.007147958502173424, 0.029269756749272346, 0.01806132309138775, 0.003959995694458485, 0.010462164878845215, 0.0], [0.6782800555229187, 0.037296511232852936, 0.005459161009639502, 0.03342941775918007, 0.014583326876163483, 0.0080063845962286, 0.04924264922738075, 0.008776825852692127, 0.023793723434209824, 0.013839224353432655, 0.02317621186375618, 0.045548390597105026, 0.007485526613891125, 0.0145166777074337, 0.005923312157392502, 0.030642706900835037]], [[1.0, 0.0, 0.0, 0.0, 0.0, 0.0, 0.0, 0.0, 0.0, 0.0, 0.0, 0.0, 0.0, 0.0, 0.0, 0.0], [0.9335590600967407, 0.0664408877491951, 0.0, 0.0, 0.0, 0.0, 0.0, 0.0, 0.0, 0.0, 0.0, 0.0, 0.0, 0.0, 0.0, 0.0], [0.9518842101097107, 0.03542627394199371, 0.012689530849456787, 0.0, 0.0, 0.0, 0.0, 0.0, 0.0, 0.0, 0.0, 0.0, 0.0, 0.0, 0.0, 0.0], [0.9942501783370972, 0.002738865790888667, 0.0018143302295356989, 0.0011966160964220762, 0.0, 0.0, 0.0, 0.0, 0.0, 0.0, 0.0, 0.0, 0.0, 0.0, 0.0, 0.0], [0.9875955581665039, 0.005954778753221035, 0.0017223452450707555, 0.0017349774716421962, 0.002992267021909356, 0.0, 0.0, 0.0, 0.0, 0.0, 0.0, 0.0, 0.0, 0.0, 0.0, 0.0], [0.9933896064758301, 0.0020370923448354006, 0.0003704907721839845, 0.0007405259530059993, 0.0005392411258071661, 0.0029230008367449045, 0.0, 0.0, 0.0, 0.0, 0.0, 0.0, 0.0, 0.0, 0.0, 0.0], [0.987079918384552, 0.002193296328186989, 0.0011586564360186458, 0.0008451121975667775, 0.0023955819196999073, 0.003173005534335971, 0.0031543492805212736, 0.0, 0.0, 0.0, 0.0, 0.0, 0.0, 0.0, 0.0, 0.0], [0.9702123999595642, 0.011129768565297127, 0.0035203699953854084, 0.0018899730639532208, 0.0008219574810937047, 0.0010839838068932295, 0.0023886053822934628, 0.008952914737164974, 0.0, 0.0, 0.0, 0.0, 0.0, 0.0, 0.0, 0.0], [0.9663569331169128, 0.008741937577724457, 0.002790997736155987, 0.001709729083813727, 0.0010651627089828253, 0.0012069563381373882, 0.00660539697855711, 0.0076723056845366955, 0.0038506346754729748, 0.0, 0.0, 0.0, 0.0, 0.0, 0.0, 0.0], [0.7887927889823914, 0.056126661598682404, 0.028147263452410698, 0.003295441623777151, 0.0009484980837441981, 0.0018758156802505255, 0.0062644570134580135, 0.012908355332911015, 0.02236231416463852, 0.0792783796787262, 0.0, 0.0, 0.0, 0.0, 0.0, 0.0], [0.7251409888267517, 0.03647693246603012, 0.01670309714972973, 0.004132914822548628, 0.002534331986680627, 0.0016176949720829725, 0.006779210641980171, 0.0066041178070008755, 0.0068110693246126175, 0.017782244831323624, 0.17541740834712982, 0.0, 0.0, 0.0, 0.0, 0.0], [0.9556833505630493, 0.0024229197297245264, 0.0009000488207675517, 0.001309984247200191, 0.0005736962775699794, 0.0008164540631696582, 0.0034513091668486595, 0.0024153171107172966, 0.0038178018294274807, 0.01575920544564724, 0.009403594769537449, 0.0034462292678654194, 0.0, 0.0, 0.0, 0.0], [0.6004834771156311, 0.012631050311028957, 0.005590689834207296, 0.007765536196529865, 0.00527399405837059, 0.004001661669462919, 0.010166306048631668, 0.008621529676020145, 0.008389507420361042, 0.010291780345141888, 0.04028700664639473, 0.023892302066087723, 0.26260513067245483, 0.0, 0.0, 0.0], [0.8316439390182495, 0.0023696019779890776, 0.001593700610101223, 0.0015623347135260701, 0.0018357110675424337, 0.0006083534681238234, 0.0022791759110987186, 0.001221626764163375, 0.004993086215108633, 0.008930711075663567, 0.011299500241875648, 0.015134893357753754, 0.052063848823308945, 0.06446349620819092, 0.0, 0.0], [0.6019694209098816, 0.024978114292025566, 0.0027085805777460337, 0.0016222760314121842, 0.000985179329290986, 0.0014766408130526543, 0.0037478625308722258, 0.003407503478229046, 0.0028185986448079348, 0.012616594322025776, 0.06623760610818863, 0.039750270545482635, 0.2074863314628601, 0.022861585021018982, 0.0073334467597305775, 0.0], [0.5149953365325928, 0.016057727858424187, 0.003553298069164157, 0.0017127288738265634, 0.0008545243763364851, 0.001297538634389639, 0.006975057069212198, 0.003395484760403633, 0.002191214356571436, 0.006563585251569748, 0.07538848370313644, 0.02613333985209465, 0.058578282594680786, 0.06956930458545685, 0.007367293816059828, 0.20536677539348602]], [[1.0, 0.0, 0.0, 0.0, 0.0, 0.0, 0.0, 0.0, 0.0, 0.0, 0.0, 0.0, 0.0, 0.0, 0.0, 0.0], [1.1142256880702917e-05, 0.9999889135360718, 0.0, 0.0, 0.0, 0.0, 0.0, 0.0, 0.0, 0.0, 0.0, 0.0, 0.0, 0.0, 0.0, 0.0], [2.1109270164743066e-05, 0.7552977800369263, 0.24468113481998444, 0.0, 0.0, 0.0, 0.0, 0.0, 0.0, 0.0, 0.0, 0.0, 0.0, 0.0, 0.0, 0.0], [3.1067367672221735e-05, 0.3411286175251007, 0.47483307123184204, 0.1840071827173233, 0.0, 0.0, 0.0, 0.0, 0.0, 0.0, 0.0, 0.0, 0.0, 0.0, 0.0, 0.0], [6.09508715569973e-05, 0.21013611555099487, 0.2890062928199768, 0.4075698256492615, 0.0932268276810646, 0.0, 0.0, 0.0, 0.0, 0.0, 0.0, 0.0, 0.0, 0.0, 0.0, 0.0], [3.4404383768560365e-06, 0.02357899397611618, 0.018612515181303024, 0.08515618741512299, 0.8497892618179321, 0.022859495133161545, 0.0, 0.0, 0.0, 0.0, 0.0, 0.0, 0.0, 0.0, 0.0, 0.0], [0.00024388899328187108, 0.16192106902599335, 0.060404881834983826, 0.14798980951309204, 0.34564223885536194, 0.22193220257759094, 0.061865951865911484, 0.0, 0.0, 0.0, 0.0, 0.0, 0.0, 0.0, 0.0, 0.0], [9.101904652197845e-06, 0.3916490077972412, 0.39508533477783203, 0.08221246302127838, 0.027322107926011086, 0.013072773814201355, 0.029902160167694092, 0.060747042298316956, 0.0, 0.0, 0.0, 0.0, 0.0, 0.0, 0.0, 0.0], [0.00010374453995609656, 0.15263547003269196, 0.08451679348945618, 0.20144928991794586, 0.11301768571138382, 0.033524781465530396, 0.09203130751848221, 0.1932668685913086, 0.129454106092453, 0.0, 0.0, 0.0, 0.0, 0.0, 0.0, 0.0], [8.606654591858387e-05, 0.25565242767333984, 0.08775100857019424, 0.10425297915935516, 0.06011059880256653, 0.008508771657943726, 0.02211541309952736, 0.09980737417936325, 0.1421661376953125, 0.2195492684841156, 0.0, 0.0, 0.0, 0.0, 0.0, 0.0], [6.713371112709865e-05, 0.16231539845466614, 0.0597701258957386, 0.08256271481513977, 0.039492543786764145, 0.004009269177913666, 0.02690536342561245, 0.025525381788611412, 0.06621816009283066, 0.10624850541353226, 0.4268853962421417, 0.0, 0.0, 0.0, 0.0, 0.0], [0.00014437299978453666, 0.09361159056425095, 0.07820574939250946, 0.07772036641836166, 0.03991124406456947, 0.01662147045135498, 0.04819152504205704, 0.04205772653222084, 0.0900593101978302, 0.04245248809456825, 0.12598413228988647, 0.34504005312919617, 0.0, 0.0, 0.0, 0.0], [5.471642725751735e-05, 0.06517179310321808, 0.107612743973732, 0.04119480028748512, 0.008358092978596687, 0.0038493010215461254, 0.011479977518320084, 0.011831847950816154, 0.05232980102300644, 0.026169780641794205, 0.16172291338443756, 0.13828857243061066, 0.3719356954097748, 0.0, 0.0, 0.0], [0.0005742658977396786, 0.014557481743395329, 0.030781401321291924, 0.01082471664994955, 0.00823166873306036, 0.0036848532035946846, 0.006503640208393335, 0.006802632939070463, 0.022073665633797646, 0.012193864211440086, 0.03410731628537178, 0.08257269859313965, 0.5971019864082336, 0.16998973488807678, 0.0, 0.0], [0.000220975125557743, 0.013122864067554474, 0.005806665401905775, 0.0074458010494709015, 0.001959706423804164, 0.0021564732305705547, 0.003099288558587432, 0.005025374237447977, 0.015055454336106777, 0.0140174375846982, 0.11729811131954193, 0.08042264729738235, 0.39434555172920227, 0.062301356345415115, 0.2777222692966461, 0.0], [0.0002586079353932291, 0.022356271743774414, 0.018978267908096313, 0.008532256819307804, 0.0019974529277533293, 0.0018570941174402833, 0.0030480660498142242, 0.003103117924183607, 0.01657951809465885, 0.009312997572124004, 0.15700213611125946, 0.06858082860708237, 0.38480788469314575, 0.07427766919136047, 0.06616073101758957, 0.16314712166786194]], [[1.0, 0.0, 0.0, 0.0, 0.0, 0.0, 0.0, 0.0, 0.0, 0.0, 0.0, 0.0, 0.0, 0.0, 0.0, 0.0], [0.980820894241333, 0.019179105758666992, 0.0, 0.0, 0.0, 0.0, 0.0, 0.0, 0.0, 0.0, 0.0, 0.0, 0.0, 0.0, 0.0, 0.0], [0.9851670861244202, 0.008696842007339, 0.006136056035757065, 0.0, 0.0, 0.0, 0.0, 0.0, 0.0, 0.0, 0.0, 0.0, 0.0, 0.0, 0.0, 0.0], [0.9869521856307983, 0.002887423150241375, 0.0011968007311224937, 0.008963607251644135, 0.0, 0.0, 0.0, 0.0, 0.0, 0.0, 0.0, 0.0, 0.0, 0.0, 0.0, 0.0], [0.9923398494720459, 0.0013941797660663724, 0.00039445736911147833, 0.0034221357200294733, 0.0024493993259966373, 0.0, 0.0, 0.0, 0.0, 0.0, 0.0, 0.0, 0.0, 0.0, 0.0, 0.0], [0.9894168972969055, 0.0011315027950331569, 0.0004456447495613247, 0.001393678248859942, 0.005401004571467638, 0.0022112419828772545, 0.0, 0.0, 0.0, 0.0, 0.0, 0.0, 0.0, 0.0, 0.0, 0.0], [0.9866086840629578, 0.0011887539876624942, 0.0008690360700711608, 0.0036040733102709055, 0.0034838838037103415, 0.0005385935073718429, 0.0037069646641612053, 0.0, 0.0, 0.0, 0.0, 0.0, 0.0, 0.0, 0.0, 0.0], [0.9666022062301636, 0.0026823661755770445, 0.0023856330662965775, 0.01845197193324566, 0.003521032864227891, 0.0009927040664479136, 0.0009181633358821273, 0.004445929080247879, 0.0, 0.0, 0.0, 0.0, 0.0, 0.0, 0.0, 0.0], [0.9276310205459595, 0.0030707947444170713, 0.001306339749135077, 0.03369190916419029, 0.0053214929066598415, 0.0005512936622835696, 0.006389739457517862, 0.011175880208611488, 0.01086158212274313, 0.0, 0.0, 0.0, 0.0, 0.0, 0.0, 0.0], [0.8156304955482483, 0.00865668524056673, 0.0044470541179180145, 0.08352911472320557, 0.005280468612909317, 0.002730606822296977, 0.003610490122810006, 0.002896147081628442, 0.036925058811903, 0.036293912678956985, 0.0, 0.0, 0.0, 0.0, 0.0, 0.0], [0.848293125629425, 0.011048765853047371, 0.0023139524273574352, 0.060723837465047836, 0.017587194219231606, 0.002682820428162813, 0.007200214546173811, 0.005971607286483049, 0.010485431179404259, 0.01881633885204792, 0.014876716770231724, 0.0, 0.0, 0.0, 0.0, 0.0], [0.8281104564666748, 0.0069341291673481464, 0.0029724305495619774, 0.02982376143336296, 0.007040864787995815, 0.003830796340480447, 0.009085563942790031, 0.023779820650815964, 0.03657706081867218, 0.024377766996622086, 0.013651292771100998, 0.01381609495729208, 0.0, 0.0, 0.0, 0.0], [0.783088743686676, 0.0037934184074401855, 0.00078623864101246, 0.0963134691119194, 0.03862491995096207, 0.003293080488219857, 0.00812510959804058, 0.003186730435118079, 0.021246321499347687, 0.0063447426073253155, 0.006392417475581169, 0.008882787078619003, 0.01992204040288925, 0.0, 0.0, 0.0], [0.9080800414085388, 0.0011828887509182096, 0.0002996831317432225, 0.0261542871594429, 0.021733371540904045, 0.0023692103568464518, 0.0016822527395561337, 0.0010331610683351755, 0.00956448633223772, 0.004352976568043232, 0.0037241894751787186, 0.003259847639128566, 0.009135697036981583, 0.007427941542118788, 0.0, 0.0], [0.8576674461364746, 0.0018588060047477484, 0.0012921954039484262, 0.002485384466126561, 0.005498992279171944, 0.0006465718033723533, 0.0021833726204931736, 0.005215057171881199, 0.008549880236387253, 0.008808613754808903, 0.012407715432345867, 0.007280140649527311, 0.05199126899242401, 0.014673183672130108, 0.0194413885474205, 0.0], [0.8357363343238831, 0.004419988486915827, 0.00042580169974826276, 0.04125296697020531, 0.013165599666535854, 0.0030620936304330826, 0.01239677332341671, 0.003960249945521355, 0.012239149771630764, 0.006913847289979458, 0.004384402185678482, 0.013797733001410961, 0.005924500059336424, 0.011848362162709236, 0.02105925977230072, 0.009412938728928566]], [[1.0, 0.0, 0.0, 0.0, 0.0, 0.0, 0.0, 0.0, 0.0, 0.0, 0.0, 0.0, 0.0, 0.0, 0.0, 0.0], [0.9112606644630432, 0.0887393206357956, 0.0, 0.0, 0.0, 0.0, 0.0, 0.0, 0.0, 0.0, 0.0, 0.0, 0.0, 0.0, 0.0, 0.0], [0.7742080688476562, 0.16544318199157715, 0.06034879386425018, 0.0, 0.0, 0.0, 0.0, 0.0, 0.0, 0.0, 0.0, 0.0, 0.0, 0.0, 0.0, 0.0], [0.9573994874954224, 0.015461277216672897, 0.02080695331096649, 0.0063322558999061584, 0.0, 0.0, 0.0, 0.0, 0.0, 0.0, 0.0, 0.0, 0.0, 0.0, 0.0, 0.0], [0.8850940465927124, 0.011924970895051956, 0.01692807301878929, 0.06467685103416443, 0.02137608453631401, 0.0, 0.0, 0.0, 0.0, 0.0, 0.0, 0.0, 0.0, 0.0, 0.0, 0.0], [0.47835013270378113, 0.009591708891093731, 0.004608524963259697, 0.058205582201480865, 0.41457274556159973, 0.03467131778597832, 0.0, 0.0, 0.0, 0.0, 0.0, 0.0, 0.0, 0.0, 0.0, 0.0], [0.942215085029602, 0.007209089118987322, 0.017514830455183983, 0.005824781954288483, 0.004036055412143469, 0.003994554281234741, 0.019205642864108086, 0.0, 0.0, 0.0, 0.0, 0.0, 0.0, 0.0, 0.0, 0.0], [0.6179762482643127, 0.07593124359846115, 0.25238654017448425, 0.00648325914517045, 0.0026544893626123667, 0.002752360887825489, 0.006805054843425751, 0.035010769963264465, 0.0, 0.0, 0.0, 0.0, 0.0, 0.0, 0.0, 0.0], [0.831765353679657, 0.023030417039990425, 0.04393761232495308, 0.013636344112455845, 0.009916523471474648, 0.008422812446951866, 0.0064779119566082954, 0.025809336453676224, 0.0370037779211998, 0.0, 0.0, 0.0, 0.0, 0.0, 0.0, 0.0], [0.3372625708580017, 0.062132660299539566, 0.22190065681934357, 0.020953739061951637, 0.004760393872857094, 0.0014555492671206594, 0.003097329754382372, 0.052167151123285294, 0.1922934204339981, 0.10397647321224213, 0.0, 0.0, 0.0, 0.0, 0.0, 0.0], [0.49787455797195435, 0.04733072221279144, 0.021367480978369713, 0.038854531943798065, 0.00393709959462285, 0.0027115216944366693, 0.003473895136266947, 0.014803573489189148, 0.08886390924453735, 0.10805486887693405, 0.17272771894931793, 0.0, 0.0, 0.0, 0.0, 0.0], [0.690468966960907, 0.01842699944972992, 0.007968544028699398, 0.012125569395720959, 0.005378608126193285, 0.007697333116084337, 0.0006515310378745198, 0.00894794799387455, 0.02596886269748211, 0.03534088283777237, 0.13983359932899475, 0.04719119891524315, 0.0, 0.0, 0.0, 0.0], [0.18666933476924896, 0.01774628274142742, 0.00636432645842433, 0.03855159506201744, 0.0027901404537260532, 0.004138163756579161, 0.0002388658031122759, 0.0019171270541846752, 0.06283421069383621, 0.029875922948122025, 0.13176316022872925, 0.06514831632375717, 0.4519624710083008, 0.0, 0.0, 0.0], [0.13925185799598694, 0.004178065340965986, 0.0027350049931555986, 0.005202051717787981, 0.0006880874861963093, 0.0028444554191082716, 2.867034163500648e-05, 0.0002663204213604331, 0.055017050355672836, 0.018977366387844086, 0.05383813753724098, 0.013822728767991066, 0.6223503947257996, 0.08079977333545685, 0.0, 0.0], [0.46247580647468567, 0.012245343066751957, 0.0047460440546274185, 0.001237852848134935, 0.00023745048383716494, 0.00047713081585243344, 1.0897001629928127e-05, 0.0007507384871132672, 0.0051583899185061455, 0.009806796908378601, 0.0825524777173996, 0.008842550218105316, 0.31293877959251404, 0.03743917867541313, 0.06108050420880318, 0.0], [0.23720720410346985, 0.014327631331980228, 0.006378098390996456, 0.029987959191203117, 0.0017788936384022236, 0.004120905417948961, 0.0005705206422135234, 0.003161628730595112, 0.045600879937410355, 0.02738419733941555, 0.13620330393314362, 0.1763983517885208, 0.1011735126376152, 0.0323595367372036, 0.06379512697458267, 0.11955226212739944]], [[1.0, 0.0, 0.0, 0.0, 0.0, 0.0, 0.0, 0.0, 0.0, 0.0, 0.0, 0.0, 0.0, 0.0, 0.0, 0.0], [0.9436421394348145, 0.05635783448815346, 0.0, 0.0, 0.0, 0.0, 0.0, 0.0, 0.0, 0.0, 0.0, 0.0, 0.0, 0.0, 0.0, 0.0], [0.8451597690582275, 0.0964755043387413, 0.05836473032832146, 0.0, 0.0, 0.0, 0.0, 0.0, 0.0, 0.0, 0.0, 0.0, 0.0, 0.0, 0.0, 0.0], [0.9367183446884155, 0.023817529901862144, 0.02844088338315487, 0.011023212224245071, 0.0, 0.0, 0.0, 0.0, 0.0, 0.0, 0.0, 0.0, 0.0, 0.0, 0.0, 0.0], [0.8236779570579529, 0.013590174727141857, 0.01861679181456566, 0.11505543440580368, 0.02905963361263275, 0.0, 0.0, 0.0, 0.0, 0.0, 0.0, 0.0, 0.0, 0.0, 0.0, 0.0], [0.1352420598268509, 0.0026554446667432785, 0.0004043869557790458, 0.033496174961328506, 0.818103551864624, 0.010098366998136044, 0.0, 0.0, 0.0, 0.0, 0.0, 0.0, 0.0, 0.0, 0.0, 0.0], [0.8858539462089539, 0.014189817011356354, 0.019752750173211098, 0.012460790574550629, 0.019349750131368637, 0.04568792134523392, 0.0027049975469708443, 0.0, 0.0, 0.0, 0.0, 0.0, 0.0, 0.0, 0.0, 0.0], [0.5608649253845215, 0.05351601168513298, 0.2886691093444824, 0.02159724570810795, 0.024790601804852486, 0.012396569363772869, 0.02036583051085472, 0.01779969595372677, 0.0, 0.0, 0.0, 0.0, 0.0, 0.0, 0.0, 0.0], [0.7283517718315125, 0.022823523730039597, 0.035028040409088135, 0.033947333693504333, 0.05188310891389847, 0.02300703339278698, 0.024980580434203148, 0.01884334720671177, 0.06113528087735176, 0.0, 0.0, 0.0, 0.0, 0.0, 0.0, 0.0], [0.42294737696647644, 0.07636457681655884, 0.13492457568645477, 0.04854586720466614, 0.06594168394804001, 0.01108389999717474, 0.025076335296034813, 0.03523031622171402, 0.12366574257612228, 0.05621964484453201, 0.0, 0.0, 0.0, 0.0, 0.0, 0.0], [0.35969170928001404, 0.019613107666373253, 0.0036271114367991686, 0.07374530285596848, 0.11138240993022919, 0.01821165531873703, 0.0167421642690897, 0.013798942789435387, 0.1699526160955429, 0.13387055695056915, 0.07936441153287888, 0.0, 0.0, 0.0, 0.0, 0.0], [0.5827376842498779, 0.012177364900708199, 0.002513608429580927, 0.034330494701862335, 0.05488768219947815, 0.020500050857663155, 0.01702054776251316, 0.016192620620131493, 0.12227761745452881, 0.047131121158599854, 0.07131551951169968, 0.018915772438049316, 0.0, 0.0, 0.0, 0.0], [0.4772058129310608, 0.010009584948420525, 0.004251186270266771, 0.04127725213766098, 0.06448386609554291, 0.03935834765434265, 0.021851906552910805, 0.010944425128400326, 0.10785208642482758, 0.03364816680550575, 0.05557995289564133, 0.03039081208407879, 0.10314664244651794, 0.0, 0.0, 0.0], [0.42582008242607117, 0.005215301178395748, 0.002173013286665082, 0.015435947105288506, 0.037506211549043655, 0.05269727110862732, 0.010702433064579964, 0.0047584823332726955, 0.09977323561906815, 0.050849463790655136, 0.038794565945863724, 0.018090825527906418, 0.2086096853017807, 0.029573362320661545, 0.0, 0.0], [0.4290858209133148, 0.007531716953963041, 0.0019736129324883223, 0.0079955467954278, 0.008066766895353794, 0.0031997663900256157, 0.00559143116697669, 0.011882884427905083, 0.007842565886676311, 0.052421730011701584, 0.03926851227879524, 0.01217412669211626, 0.35280290246009827, 0.02416260726749897, 0.03599998727440834, 0.0], [0.4589357376098633, 0.01086670346558094, 0.0031621414236724377, 0.022982444614171982, 0.015409390442073345, 0.006716408766806126, 0.0146451685577631, 0.006903766188770533, 0.09442870318889618, 0.04074836149811745, 0.10782907903194427, 0.03342660889029503, 0.03422093391418457, 0.015118107199668884, 0.03476560115814209, 0.09984079003334045]]]}\n",
              "    )\n",
              "    </script>"
            ]
          },
          "metadata": {}
        }
      ]
    },
    {
      "cell_type": "markdown",
      "source": [
        "Some interesting observation is that in the prompts with Adam and Eve or Alice and Bob, in the last layer the name (\"Bob\" or \"Eve\") is a focus of attention. However in the Harry Potter prompt, it is \"Hogwarts\" and not \"Harry\" what is most attended to, possibly because in the Harry Potter context there are many possible names, so attending at what name has already occured is not as important.\n",
        "\n",
        "I will now look into activation patching, to see if we can discover at what stage the name is computed.\n",
        "\n",
        "A high level idea that I think is coherent with the attention patterns and makes sense a priori is that context is computed first (is the sentence about the bible, harry potter or cryptography) and then the names present in the prompt are taken into account."
      ],
      "metadata": {
        "id": "dlJQfEfp89g5"
      }
    },
    {
      "cell_type": "code",
      "source": [
        "answer_token_indices = torch.tensor([gpt2_small.to_single_token(x) for x in [\"Bob\", \"Alice\"]], device=device)\n",
        "def get_logit_diff(logits, answer_token_indices=answer_token_indices):\n",
        "    if len(logits.shape)==3:\n",
        "        # Get final logits only\n",
        "        logits = logits[:, -1, :]\n",
        "    correct_logits = logits[0,answer_token_indices[0]]\n",
        "    incorrect_logits = logits[0,answer_token_indices[1]]\n",
        "    return (correct_logits - incorrect_logits).mean()"
      ],
      "metadata": {
        "id": "U6Vv_Ay5tziK"
      },
      "execution_count": null,
      "outputs": []
    },
    {
      "cell_type": "code",
      "source": [
        "text_a = \"In public-key cryptography, if Alice wants to send a secure message to\"\n",
        "text_b = \"In public-key cryptography, if Bob wants to send a secure message to\"\n"
      ],
      "metadata": {
        "id": "Pe9u75D8kGon"
      },
      "execution_count": null,
      "outputs": []
    },
    {
      "cell_type": "code",
      "source": [
        "def pre_patcher(text_a, text_b, answer_token_indices=answer_token_indices):\n",
        "  # name in progress\n",
        "  tokens_b = gpt2_small.to_tokens(text_b)\n",
        "\n",
        "  logits_a, cache_a = gpt2_small.run_with_cache(text_a)\n",
        "  logits_b, cache_b = gpt2_small.run_with_cache(text_b)\n",
        "\n",
        "  CLEAN_BASELINE = get_logit_diff(logits_a, answer_token_indices=answer_token_indices)\n",
        "  CORRUPTED_BASELINE = get_logit_diff(logits_b, answer_token_indices=answer_token_indices)\n",
        "  def ioi_metric(logits, answer_token_indices=answer_token_indices):\n",
        "    return (get_logit_diff(logits, answer_token_indices) - CORRUPTED_BASELINE) / (CLEAN_BASELINE  - CORRUPTED_BASELINE)\n",
        "\n",
        "  return tokens_b, cache_a, ioi_metric\n",
        "\n",
        "\n",
        "\n"
      ],
      "metadata": {
        "id": "3gWFUB05BtBr"
      },
      "execution_count": null,
      "outputs": []
    },
    {
      "cell_type": "code",
      "source": [
        "# Some plotting utils.\n",
        "\n",
        "\n",
        "def imshow(tensor, renderer=None, xaxis=\"\", yaxis=\"\", **kwargs):\n",
        "    px.imshow(utils.to_numpy(tensor), color_continuous_midpoint=0.0, color_continuous_scale=\"RdBu\", labels={\"x\":xaxis, \"y\":yaxis}, **kwargs).show(renderer)\n",
        "\n",
        "def line(tensor, renderer=None, xaxis=\"\", yaxis=\"\", **kwargs):\n",
        "    px.line(utils.to_numpy(tensor), labels={\"x\":xaxis, \"y\":yaxis}, **kwargs).show(renderer)\n",
        "\n",
        "def scatter(x, y, xaxis=\"\", yaxis=\"\", caxis=\"\", renderer=None, **kwargs):\n",
        "    x = utils.to_numpy(x)\n",
        "    y = utils.to_numpy(y)\n",
        "    px.scatter(y=y, x=x, labels={\"x\":xaxis, \"y\":yaxis, \"color\":caxis}, **kwargs).show(renderer)"
      ],
      "metadata": {
        "id": "3Xr2t6HkuVcZ"
      },
      "execution_count": null,
      "outputs": []
    },
    {
      "cell_type": "code",
      "source": [
        "tokens_a, cache_b, ioi_metric = pre_patcher(text_a, text_b)\n",
        "resid_pre_act_patch_results = patching.get_act_patch_resid_pre(gpt2_small, tokens_a, cache_b, ioi_metric)"
      ],
      "metadata": {
        "colab": {
          "base_uri": "https://localhost:8080/",
          "height": 49,
          "referenced_widgets": [
            "68c7b3506d1a44b99c8c84d569b94f5f",
            "282222722e044770a4f6a09051c03e61",
            "a18a47b9c5784879b079200b39b99217",
            "5b33a6e5123b4cd89da0bfcac1d51a4a",
            "deb9a6e696924f4b89475ec51ea8f6bd",
            "7924b2a0a38444fcbff6bc9c52b8ba35",
            "8daa48e9ca9a4331bcbd689e030e7396",
            "e0248c90306f4c4d8d37a7257ccac84d",
            "810972bf0af74acf9d48f7dcfb9ee5a3",
            "fad34c46dd474dccb561058ef35477a9",
            "a9955a465c734a2c834dc7519f86e33d"
          ]
        },
        "id": "o16RaVYreJTa",
        "outputId": "76541947-1898-40ff-fac9-a0bfb2dc0f75"
      },
      "execution_count": null,
      "outputs": [
        {
          "output_type": "display_data",
          "data": {
            "text/plain": [
              "  0%|          | 0/192 [00:00<?, ?it/s]"
            ],
            "application/vnd.jupyter.widget-view+json": {
              "version_major": 2,
              "version_minor": 0,
              "model_id": "68c7b3506d1a44b99c8c84d569b94f5f"
            }
          },
          "metadata": {}
        }
      ]
    },
    {
      "cell_type": "code",
      "source": [
        "imshow(resid_pre_act_patch_results ,\n",
        "       yaxis=\"Layer\",\n",
        "       xaxis=\"Position\",\n",
        "       x=[f\"{tok} {i}\" for i, tok in enumerate(gpt2_small.to_str_tokens(tokens_a))],\n",
        "       title=\"resid_pre Activation Patching\")"
      ],
      "metadata": {
        "colab": {
          "base_uri": "https://localhost:8080/",
          "height": 542
        },
        "id": "jIA_Z2sMGExo",
        "outputId": "2304e640-52a0-48fa-9ff4-37fcd5f1d3e9"
      },
      "execution_count": null,
      "outputs": [
        {
          "output_type": "display_data",
          "data": {
            "text/html": [
              "<html>\n",
              "<head><meta charset=\"utf-8\" /></head>\n",
              "<body>\n",
              "    <div>            <script src=\"https://cdnjs.cloudflare.com/ajax/libs/mathjax/2.7.5/MathJax.js?config=TeX-AMS-MML_SVG\"></script><script type=\"text/javascript\">if (window.MathJax && window.MathJax.Hub && window.MathJax.Hub.Config) {window.MathJax.Hub.Config({SVG: {font: \"STIX-Web\"}});}</script>                <script type=\"text/javascript\">window.PlotlyConfig = {MathJaxConfig: 'local'};</script>\n",
              "        <script src=\"https://cdn.plot.ly/plotly-2.18.2.min.js\"></script>                <div id=\"fe0afbc1-7e4a-4877-947f-16a1e923d4bd\" class=\"plotly-graph-div\" style=\"height:525px; width:100%;\"></div>            <script type=\"text/javascript\">                                    window.PLOTLYENV=window.PLOTLYENV || {};                                    if (document.getElementById(\"fe0afbc1-7e4a-4877-947f-16a1e923d4bd\")) {                    Plotly.newPlot(                        \"fe0afbc1-7e4a-4877-947f-16a1e923d4bd\",                        [{\"coloraxis\":\"coloraxis\",\"name\":\"0\",\"x\":[\"<|endoftext|> 0\",\"In 1\",\" public 2\",\"- 3\",\"key 4\",\" cryptography 5\",\", 6\",\" if 7\",\" Bob 8\",\" wants 9\",\" to 10\",\" send 11\",\" a 12\",\" secure 13\",\" message 14\",\" to 15\"],\"z\":[[0.0,0.0,0.0,0.0,0.0,0.0,0.0,0.0,1.0,0.0,0.0,0.0,0.0,0.0,0.0,0.0],[0.0,0.0,0.0,0.0,0.0,0.0,0.0,0.0,1.0064784288406372,0.0021639782935380936,-0.0007692340877838433,0.0007862860802561045,-0.0003989623801317066,0.00012910790974274278,-0.001290267100557685,-0.0001261305733351037],[0.0,0.0,0.0,0.0,0.0,0.0,0.0,0.0,1.0264755487442017,-0.003304025623947382,0.00032994241337291896,-0.0018635386368259788,0.00024468248011544347,-0.0003797450626734644,0.0008000900852493942,0.004985947161912918],[0.0,0.0,0.0,0.0,0.0,0.0,0.0,0.0,1.024167776107788,-0.017868587747216225,-0.002048133173957467,0.008326512761414051,-0.00904729776084423,0.0013162510003894567,-0.0021225663367658854,0.00233855820260942],[0.0,0.0,0.0,0.0,0.0,0.0,0.0,0.0,1.045272707939148,-0.02565430849790573,0.001906303921714425,0.012373517267405987,-0.011153082363307476,-0.00238430080935359,-0.0024711848236620426,-0.003723829286172986],[0.0,0.0,0.0,0.0,0.0,0.0,0.0,0.0,1.0177621841430664,-0.019208116456866264,0.019897503778338432,0.02723175287246704,0.0025437234435230494,-0.007012967951595783,0.0005608209175989032,0.006249147467315197],[0.0,0.0,0.0,0.0,0.0,0.0,0.0,0.0,1.000295877456665,-0.02783127874135971,0.021905578672885895,0.014488235116004944,0.007067372091114521,-0.007836335338652134,0.002929964568465948,0.0009681739611551166],[0.0,0.0,0.0,0.0,0.0,0.0,0.0,0.0,0.8971545696258545,-0.07529129087924957,0.018283789977431297,0.03031085431575775,0.01816605031490326,-0.003594180103391409,0.005776022560894489,-0.03958361595869064],[0.0,0.0,0.0,0.0,0.0,0.0,0.0,0.0,0.610692024230957,-0.10408668220043182,0.00899262260645628,0.008403652347624302,0.009999501518905163,-0.0023466781713068485,0.0046949805691838264,0.31451037526130676],[0.0,0.0,0.0,0.0,0.0,0.0,0.0,0.0,0.38881915807724,-0.09055200964212418,-0.0030772071331739426,-0.018598034977912903,-0.004686048720031977,-0.0019201078685000539,-0.0011524978326633573,0.327031672000885],[0.0,0.0,0.0,0.0,0.0,0.0,0.0,0.0,-0.4059450328350067,-0.06395496428012848,-0.023561786860227585,-0.09237737953662872,-0.013881400227546692,-0.00737187173217535,-0.031909409910440445,0.9162127375602722],[0.0,0.0,0.0,0.0,0.0,0.0,0.0,0.0,-0.3054446578025818,-0.016216440126299858,-0.010869694873690605,-0.014035951346158981,-0.0012320737587288022,-0.0028609444852918386,-0.016898248344659805,1.3910770416259766]],\"type\":\"heatmap\",\"xaxis\":\"x\",\"yaxis\":\"y\",\"hovertemplate\":\"Position: %{x}<br>Layer: %{y}<br>color: %{z}<extra></extra>\"}],                        {\"template\":{\"data\":{\"histogram2dcontour\":[{\"type\":\"histogram2dcontour\",\"colorbar\":{\"outlinewidth\":0,\"ticks\":\"\"},\"colorscale\":[[0.0,\"#0d0887\"],[0.1111111111111111,\"#46039f\"],[0.2222222222222222,\"#7201a8\"],[0.3333333333333333,\"#9c179e\"],[0.4444444444444444,\"#bd3786\"],[0.5555555555555556,\"#d8576b\"],[0.6666666666666666,\"#ed7953\"],[0.7777777777777778,\"#fb9f3a\"],[0.8888888888888888,\"#fdca26\"],[1.0,\"#f0f921\"]]}],\"choropleth\":[{\"type\":\"choropleth\",\"colorbar\":{\"outlinewidth\":0,\"ticks\":\"\"}}],\"histogram2d\":[{\"type\":\"histogram2d\",\"colorbar\":{\"outlinewidth\":0,\"ticks\":\"\"},\"colorscale\":[[0.0,\"#0d0887\"],[0.1111111111111111,\"#46039f\"],[0.2222222222222222,\"#7201a8\"],[0.3333333333333333,\"#9c179e\"],[0.4444444444444444,\"#bd3786\"],[0.5555555555555556,\"#d8576b\"],[0.6666666666666666,\"#ed7953\"],[0.7777777777777778,\"#fb9f3a\"],[0.8888888888888888,\"#fdca26\"],[1.0,\"#f0f921\"]]}],\"heatmap\":[{\"type\":\"heatmap\",\"colorbar\":{\"outlinewidth\":0,\"ticks\":\"\"},\"colorscale\":[[0.0,\"#0d0887\"],[0.1111111111111111,\"#46039f\"],[0.2222222222222222,\"#7201a8\"],[0.3333333333333333,\"#9c179e\"],[0.4444444444444444,\"#bd3786\"],[0.5555555555555556,\"#d8576b\"],[0.6666666666666666,\"#ed7953\"],[0.7777777777777778,\"#fb9f3a\"],[0.8888888888888888,\"#fdca26\"],[1.0,\"#f0f921\"]]}],\"heatmapgl\":[{\"type\":\"heatmapgl\",\"colorbar\":{\"outlinewidth\":0,\"ticks\":\"\"},\"colorscale\":[[0.0,\"#0d0887\"],[0.1111111111111111,\"#46039f\"],[0.2222222222222222,\"#7201a8\"],[0.3333333333333333,\"#9c179e\"],[0.4444444444444444,\"#bd3786\"],[0.5555555555555556,\"#d8576b\"],[0.6666666666666666,\"#ed7953\"],[0.7777777777777778,\"#fb9f3a\"],[0.8888888888888888,\"#fdca26\"],[1.0,\"#f0f921\"]]}],\"contourcarpet\":[{\"type\":\"contourcarpet\",\"colorbar\":{\"outlinewidth\":0,\"ticks\":\"\"}}],\"contour\":[{\"type\":\"contour\",\"colorbar\":{\"outlinewidth\":0,\"ticks\":\"\"},\"colorscale\":[[0.0,\"#0d0887\"],[0.1111111111111111,\"#46039f\"],[0.2222222222222222,\"#7201a8\"],[0.3333333333333333,\"#9c179e\"],[0.4444444444444444,\"#bd3786\"],[0.5555555555555556,\"#d8576b\"],[0.6666666666666666,\"#ed7953\"],[0.7777777777777778,\"#fb9f3a\"],[0.8888888888888888,\"#fdca26\"],[1.0,\"#f0f921\"]]}],\"surface\":[{\"type\":\"surface\",\"colorbar\":{\"outlinewidth\":0,\"ticks\":\"\"},\"colorscale\":[[0.0,\"#0d0887\"],[0.1111111111111111,\"#46039f\"],[0.2222222222222222,\"#7201a8\"],[0.3333333333333333,\"#9c179e\"],[0.4444444444444444,\"#bd3786\"],[0.5555555555555556,\"#d8576b\"],[0.6666666666666666,\"#ed7953\"],[0.7777777777777778,\"#fb9f3a\"],[0.8888888888888888,\"#fdca26\"],[1.0,\"#f0f921\"]]}],\"mesh3d\":[{\"type\":\"mesh3d\",\"colorbar\":{\"outlinewidth\":0,\"ticks\":\"\"}}],\"scatter\":[{\"fillpattern\":{\"fillmode\":\"overlay\",\"size\":10,\"solidity\":0.2},\"type\":\"scatter\"}],\"parcoords\":[{\"type\":\"parcoords\",\"line\":{\"colorbar\":{\"outlinewidth\":0,\"ticks\":\"\"}}}],\"scatterpolargl\":[{\"type\":\"scatterpolargl\",\"marker\":{\"colorbar\":{\"outlinewidth\":0,\"ticks\":\"\"}}}],\"bar\":[{\"error_x\":{\"color\":\"#2a3f5f\"},\"error_y\":{\"color\":\"#2a3f5f\"},\"marker\":{\"line\":{\"color\":\"#E5ECF6\",\"width\":0.5},\"pattern\":{\"fillmode\":\"overlay\",\"size\":10,\"solidity\":0.2}},\"type\":\"bar\"}],\"scattergeo\":[{\"type\":\"scattergeo\",\"marker\":{\"colorbar\":{\"outlinewidth\":0,\"ticks\":\"\"}}}],\"scatterpolar\":[{\"type\":\"scatterpolar\",\"marker\":{\"colorbar\":{\"outlinewidth\":0,\"ticks\":\"\"}}}],\"histogram\":[{\"marker\":{\"pattern\":{\"fillmode\":\"overlay\",\"size\":10,\"solidity\":0.2}},\"type\":\"histogram\"}],\"scattergl\":[{\"type\":\"scattergl\",\"marker\":{\"colorbar\":{\"outlinewidth\":0,\"ticks\":\"\"}}}],\"scatter3d\":[{\"type\":\"scatter3d\",\"line\":{\"colorbar\":{\"outlinewidth\":0,\"ticks\":\"\"}},\"marker\":{\"colorbar\":{\"outlinewidth\":0,\"ticks\":\"\"}}}],\"scattermapbox\":[{\"type\":\"scattermapbox\",\"marker\":{\"colorbar\":{\"outlinewidth\":0,\"ticks\":\"\"}}}],\"scatterternary\":[{\"type\":\"scatterternary\",\"marker\":{\"colorbar\":{\"outlinewidth\":0,\"ticks\":\"\"}}}],\"scattercarpet\":[{\"type\":\"scattercarpet\",\"marker\":{\"colorbar\":{\"outlinewidth\":0,\"ticks\":\"\"}}}],\"carpet\":[{\"aaxis\":{\"endlinecolor\":\"#2a3f5f\",\"gridcolor\":\"white\",\"linecolor\":\"white\",\"minorgridcolor\":\"white\",\"startlinecolor\":\"#2a3f5f\"},\"baxis\":{\"endlinecolor\":\"#2a3f5f\",\"gridcolor\":\"white\",\"linecolor\":\"white\",\"minorgridcolor\":\"white\",\"startlinecolor\":\"#2a3f5f\"},\"type\":\"carpet\"}],\"table\":[{\"cells\":{\"fill\":{\"color\":\"#EBF0F8\"},\"line\":{\"color\":\"white\"}},\"header\":{\"fill\":{\"color\":\"#C8D4E3\"},\"line\":{\"color\":\"white\"}},\"type\":\"table\"}],\"barpolar\":[{\"marker\":{\"line\":{\"color\":\"#E5ECF6\",\"width\":0.5},\"pattern\":{\"fillmode\":\"overlay\",\"size\":10,\"solidity\":0.2}},\"type\":\"barpolar\"}],\"pie\":[{\"automargin\":true,\"type\":\"pie\"}]},\"layout\":{\"autotypenumbers\":\"strict\",\"colorway\":[\"#636efa\",\"#EF553B\",\"#00cc96\",\"#ab63fa\",\"#FFA15A\",\"#19d3f3\",\"#FF6692\",\"#B6E880\",\"#FF97FF\",\"#FECB52\"],\"font\":{\"color\":\"#2a3f5f\"},\"hovermode\":\"closest\",\"hoverlabel\":{\"align\":\"left\"},\"paper_bgcolor\":\"white\",\"plot_bgcolor\":\"#E5ECF6\",\"polar\":{\"bgcolor\":\"#E5ECF6\",\"angularaxis\":{\"gridcolor\":\"white\",\"linecolor\":\"white\",\"ticks\":\"\"},\"radialaxis\":{\"gridcolor\":\"white\",\"linecolor\":\"white\",\"ticks\":\"\"}},\"ternary\":{\"bgcolor\":\"#E5ECF6\",\"aaxis\":{\"gridcolor\":\"white\",\"linecolor\":\"white\",\"ticks\":\"\"},\"baxis\":{\"gridcolor\":\"white\",\"linecolor\":\"white\",\"ticks\":\"\"},\"caxis\":{\"gridcolor\":\"white\",\"linecolor\":\"white\",\"ticks\":\"\"}},\"coloraxis\":{\"colorbar\":{\"outlinewidth\":0,\"ticks\":\"\"}},\"colorscale\":{\"sequential\":[[0.0,\"#0d0887\"],[0.1111111111111111,\"#46039f\"],[0.2222222222222222,\"#7201a8\"],[0.3333333333333333,\"#9c179e\"],[0.4444444444444444,\"#bd3786\"],[0.5555555555555556,\"#d8576b\"],[0.6666666666666666,\"#ed7953\"],[0.7777777777777778,\"#fb9f3a\"],[0.8888888888888888,\"#fdca26\"],[1.0,\"#f0f921\"]],\"sequentialminus\":[[0.0,\"#0d0887\"],[0.1111111111111111,\"#46039f\"],[0.2222222222222222,\"#7201a8\"],[0.3333333333333333,\"#9c179e\"],[0.4444444444444444,\"#bd3786\"],[0.5555555555555556,\"#d8576b\"],[0.6666666666666666,\"#ed7953\"],[0.7777777777777778,\"#fb9f3a\"],[0.8888888888888888,\"#fdca26\"],[1.0,\"#f0f921\"]],\"diverging\":[[0,\"#8e0152\"],[0.1,\"#c51b7d\"],[0.2,\"#de77ae\"],[0.3,\"#f1b6da\"],[0.4,\"#fde0ef\"],[0.5,\"#f7f7f7\"],[0.6,\"#e6f5d0\"],[0.7,\"#b8e186\"],[0.8,\"#7fbc41\"],[0.9,\"#4d9221\"],[1,\"#276419\"]]},\"xaxis\":{\"gridcolor\":\"white\",\"linecolor\":\"white\",\"ticks\":\"\",\"title\":{\"standoff\":15},\"zerolinecolor\":\"white\",\"automargin\":true,\"zerolinewidth\":2},\"yaxis\":{\"gridcolor\":\"white\",\"linecolor\":\"white\",\"ticks\":\"\",\"title\":{\"standoff\":15},\"zerolinecolor\":\"white\",\"automargin\":true,\"zerolinewidth\":2},\"scene\":{\"xaxis\":{\"backgroundcolor\":\"#E5ECF6\",\"gridcolor\":\"white\",\"linecolor\":\"white\",\"showbackground\":true,\"ticks\":\"\",\"zerolinecolor\":\"white\",\"gridwidth\":2},\"yaxis\":{\"backgroundcolor\":\"#E5ECF6\",\"gridcolor\":\"white\",\"linecolor\":\"white\",\"showbackground\":true,\"ticks\":\"\",\"zerolinecolor\":\"white\",\"gridwidth\":2},\"zaxis\":{\"backgroundcolor\":\"#E5ECF6\",\"gridcolor\":\"white\",\"linecolor\":\"white\",\"showbackground\":true,\"ticks\":\"\",\"zerolinecolor\":\"white\",\"gridwidth\":2}},\"shapedefaults\":{\"line\":{\"color\":\"#2a3f5f\"}},\"annotationdefaults\":{\"arrowcolor\":\"#2a3f5f\",\"arrowhead\":0,\"arrowwidth\":1},\"geo\":{\"bgcolor\":\"white\",\"landcolor\":\"#E5ECF6\",\"subunitcolor\":\"white\",\"showland\":true,\"showlakes\":true,\"lakecolor\":\"white\"},\"title\":{\"x\":0.05},\"mapbox\":{\"style\":\"light\"}}},\"xaxis\":{\"anchor\":\"y\",\"domain\":[0.0,1.0],\"scaleanchor\":\"y\",\"constrain\":\"domain\",\"title\":{\"text\":\"Position\"}},\"yaxis\":{\"anchor\":\"x\",\"domain\":[0.0,1.0],\"autorange\":\"reversed\",\"constrain\":\"domain\",\"title\":{\"text\":\"Layer\"}},\"coloraxis\":{\"colorscale\":[[0.0,\"rgb(103,0,31)\"],[0.1,\"rgb(178,24,43)\"],[0.2,\"rgb(214,96,77)\"],[0.3,\"rgb(244,165,130)\"],[0.4,\"rgb(253,219,199)\"],[0.5,\"rgb(247,247,247)\"],[0.6,\"rgb(209,229,240)\"],[0.7,\"rgb(146,197,222)\"],[0.8,\"rgb(67,147,195)\"],[0.9,\"rgb(33,102,172)\"],[1.0,\"rgb(5,48,97)\"]],\"cmid\":0.0},\"title\":{\"text\":\"resid_pre Activation Patching\"}},                        {\"responsive\": true}                    ).then(function(){\n",
              "                            \n",
              "var gd = document.getElementById('fe0afbc1-7e4a-4877-947f-16a1e923d4bd');\n",
              "var x = new MutationObserver(function (mutations, observer) {{\n",
              "        var display = window.getComputedStyle(gd).display;\n",
              "        if (!display || display === 'none') {{\n",
              "            console.log([gd, 'removed!']);\n",
              "            Plotly.purge(gd);\n",
              "            observer.disconnect();\n",
              "        }}\n",
              "}});\n",
              "\n",
              "// Listen for the removal of the full notebook cells\n",
              "var notebookContainer = gd.closest('#notebook-container');\n",
              "if (notebookContainer) {{\n",
              "    x.observe(notebookContainer, {childList: true});\n",
              "}}\n",
              "\n",
              "// Listen for the clearing of the current output cell\n",
              "var outputEl = gd.closest('.output');\n",
              "if (outputEl) {{\n",
              "    x.observe(outputEl, {childList: true});\n",
              "}}\n",
              "\n",
              "                        })                };                            </script>        </div>\n",
              "</body>\n",
              "</html>"
            ]
          },
          "metadata": {}
        }
      ]
    },
    {
      "cell_type": "code",
      "source": [
        "attn_head_out_all_pos_act_patch_results = patching.get_act_patch_attn_head_out_all_pos(gpt2_small, *pre_patcher(text_a, text_b))"
      ],
      "metadata": {
        "colab": {
          "base_uri": "https://localhost:8080/",
          "height": 49,
          "referenced_widgets": [
            "6be24c954ef648d4994fb7d2490b5893",
            "85cfb7e057f54e2c9e546e7ba95524f5",
            "75589eb5925748f6be526f183a8fbce2",
            "4514e05ca15b49699c43a922fc716d48",
            "eacee5df83f848c9b0be350723e4a04e",
            "1e32dcceab7a44378e3684bf4655b253",
            "099a986c621547fc9afcbc85a4b66101",
            "ffeedbeb935a49c9881b975a4d6a9631",
            "c6d40a8afac040c18d9150a74e75dcd0",
            "15da80aa03a9494ea4470eae25934578",
            "9efbd1cb4b5a4af5a776f1534503202f"
          ]
        },
        "id": "vneKnRECBdoB",
        "outputId": "935738d7-3db2-45f1-ced0-84521297b91d"
      },
      "execution_count": null,
      "outputs": [
        {
          "output_type": "display_data",
          "data": {
            "text/plain": [
              "  0%|          | 0/144 [00:00<?, ?it/s]"
            ],
            "application/vnd.jupyter.widget-view+json": {
              "version_major": 2,
              "version_minor": 0,
              "model_id": "6be24c954ef648d4994fb7d2490b5893"
            }
          },
          "metadata": {}
        }
      ]
    },
    {
      "cell_type": "code",
      "source": [
        "imshow(attn_head_out_all_pos_act_patch_results,\n",
        "       yaxis=\"Layer\",\n",
        "       xaxis=\"Head\",\n",
        "       title=\"attn_head_out Activation Patching (All Pos)\")"
      ],
      "metadata": {
        "colab": {
          "base_uri": "https://localhost:8080/",
          "height": 542
        },
        "id": "cjHChoHmf64M",
        "outputId": "d063b399-5e56-473f-caf7-5a926a636068"
      },
      "execution_count": null,
      "outputs": [
        {
          "output_type": "display_data",
          "data": {
            "text/html": [
              "<html>\n",
              "<head><meta charset=\"utf-8\" /></head>\n",
              "<body>\n",
              "    <div>            <script src=\"https://cdnjs.cloudflare.com/ajax/libs/mathjax/2.7.5/MathJax.js?config=TeX-AMS-MML_SVG\"></script><script type=\"text/javascript\">if (window.MathJax && window.MathJax.Hub && window.MathJax.Hub.Config) {window.MathJax.Hub.Config({SVG: {font: \"STIX-Web\"}});}</script>                <script type=\"text/javascript\">window.PlotlyConfig = {MathJaxConfig: 'local'};</script>\n",
              "        <script src=\"https://cdn.plot.ly/plotly-2.18.2.min.js\"></script>                <div id=\"ded74411-b209-46a8-8384-8be5e8aadea6\" class=\"plotly-graph-div\" style=\"height:525px; width:100%;\"></div>            <script type=\"text/javascript\">                                    window.PLOTLYENV=window.PLOTLYENV || {};                                    if (document.getElementById(\"ded74411-b209-46a8-8384-8be5e8aadea6\")) {                    Plotly.newPlot(                        \"ded74411-b209-46a8-8384-8be5e8aadea6\",                        [{\"coloraxis\":\"coloraxis\",\"name\":\"0\",\"z\":[[-0.1369951218366623,-0.046404141932725906,0.01689879037439823,-0.11219937354326248,-0.057627055794000626,-0.044389571994543076,-0.0008160594152286649,-0.007357256021350622,0.00976645853370428,0.02109060250222683,-0.012075784616172314,0.011046439409255981],[-0.022839918732643127,-0.001079688547179103,-0.0026934021152555943,-0.0013408816885203123,-0.007374849170446396,0.02087434008717537,-0.08931722491979599,-0.002677974058315158,0.009240011684596539,0.006317355204373598,0.0038948904257267714,0.027371957898139954],[0.0005196796264499426,-0.0011922857956960797,-0.0065184603445231915,0.0003797450626734644,-0.0008731700363568962,-0.006869785487651825,-0.0016510654240846634,0.0013541443040594459,0.0006301115499809384,-0.024950847029685974,0.005674522370100021,0.006300303153693676],[0.014819259755313396,0.003291845554485917,0.0008677566656842828,-0.0009175593149848282,-0.024693714454770088,-0.026523690670728683,0.009506888687610626,-0.020712751895189285,0.0006872221711091697,0.0018259159987792373,-0.002731566084548831,-0.004127393011003733],[-0.009006967768073082,-0.002497980836778879,-0.0019918344914913177,0.041563812643289566,0.03183091804385185,-0.0014358855551108718,-0.011669243685901165,-0.012364043854176998,-0.006066177040338516,-0.0025937967002391815,0.01673043519258499,-0.02173965983092785],[0.0004528250137809664,8.931993761507329e-06,-0.00012775456707458943,-0.012812267988920212,-0.000386511703254655,0.0035857893526554108,-0.014446010813117027,0.0017790907295420766,-0.0020551704801619053,-0.036890216171741486,0.08206715434789658,0.08143460750579834],[0.060275256633758545,0.0038001572247594595,0.016005590558052063,-0.005108017474412918,-0.03784593939781189,-0.02129603736102581,-0.005528091918677092,-0.02410772070288658,-0.0033251375425606966,-0.0015763614792376757,-0.006447004619985819,0.0026985446456819773],[0.00529315322637558,-0.042412351816892624,-0.002064643893390894,0.18867996335029602,-0.006144399289041758,-0.07888276129961014,0.01345997303724289,-0.009871206246316433,-0.04406720772385597,0.28682011365890503,-0.0024747035931795835,-0.026722358539700508],[0.01591789536178112,-0.002753760665655136,-0.025941215455532074,-0.2022162675857544,-0.013793704099953175,0.05719507113099098,0.11298321932554245,0.017051445320248604,-0.034753575921058655,0.014942954294383526,0.30370429158210754,-0.27776551246643066],[-0.11114296317100525,0.003688101191073656,-0.32310837507247925,-0.001432908233255148,-0.08229289203882217,0.23215360939502716,-0.1634167730808258,1.0417089462280273,-0.174690842628479,-0.1174800768494606,-0.022473977878689766,-0.05296049639582634],[-0.534759521484375,-0.13272671401500702,-0.14893828332424164,-0.03943745791912079,-0.047583434730768204,0.009595667943358421,-0.13913826644420624,1.5918200016021729,-0.0027155966963618994,-0.08191395550966263,-0.2160511165857315,-0.005007058847695589],[0.028266239911317825,-0.3670976161956787,-0.10796479135751724,-0.05400553718209267,0.018325744196772575,0.011694956570863724,-0.13831759989261627,0.004356647375971079,-0.04722372069954872,-0.01093221828341484,0.6560819745063782,-0.04345468804240227]],\"type\":\"heatmap\",\"xaxis\":\"x\",\"yaxis\":\"y\",\"hovertemplate\":\"Head: %{x}<br>Layer: %{y}<br>color: %{z}<extra></extra>\"}],                        {\"template\":{\"data\":{\"histogram2dcontour\":[{\"type\":\"histogram2dcontour\",\"colorbar\":{\"outlinewidth\":0,\"ticks\":\"\"},\"colorscale\":[[0.0,\"#0d0887\"],[0.1111111111111111,\"#46039f\"],[0.2222222222222222,\"#7201a8\"],[0.3333333333333333,\"#9c179e\"],[0.4444444444444444,\"#bd3786\"],[0.5555555555555556,\"#d8576b\"],[0.6666666666666666,\"#ed7953\"],[0.7777777777777778,\"#fb9f3a\"],[0.8888888888888888,\"#fdca26\"],[1.0,\"#f0f921\"]]}],\"choropleth\":[{\"type\":\"choropleth\",\"colorbar\":{\"outlinewidth\":0,\"ticks\":\"\"}}],\"histogram2d\":[{\"type\":\"histogram2d\",\"colorbar\":{\"outlinewidth\":0,\"ticks\":\"\"},\"colorscale\":[[0.0,\"#0d0887\"],[0.1111111111111111,\"#46039f\"],[0.2222222222222222,\"#7201a8\"],[0.3333333333333333,\"#9c179e\"],[0.4444444444444444,\"#bd3786\"],[0.5555555555555556,\"#d8576b\"],[0.6666666666666666,\"#ed7953\"],[0.7777777777777778,\"#fb9f3a\"],[0.8888888888888888,\"#fdca26\"],[1.0,\"#f0f921\"]]}],\"heatmap\":[{\"type\":\"heatmap\",\"colorbar\":{\"outlinewidth\":0,\"ticks\":\"\"},\"colorscale\":[[0.0,\"#0d0887\"],[0.1111111111111111,\"#46039f\"],[0.2222222222222222,\"#7201a8\"],[0.3333333333333333,\"#9c179e\"],[0.4444444444444444,\"#bd3786\"],[0.5555555555555556,\"#d8576b\"],[0.6666666666666666,\"#ed7953\"],[0.7777777777777778,\"#fb9f3a\"],[0.8888888888888888,\"#fdca26\"],[1.0,\"#f0f921\"]]}],\"heatmapgl\":[{\"type\":\"heatmapgl\",\"colorbar\":{\"outlinewidth\":0,\"ticks\":\"\"},\"colorscale\":[[0.0,\"#0d0887\"],[0.1111111111111111,\"#46039f\"],[0.2222222222222222,\"#7201a8\"],[0.3333333333333333,\"#9c179e\"],[0.4444444444444444,\"#bd3786\"],[0.5555555555555556,\"#d8576b\"],[0.6666666666666666,\"#ed7953\"],[0.7777777777777778,\"#fb9f3a\"],[0.8888888888888888,\"#fdca26\"],[1.0,\"#f0f921\"]]}],\"contourcarpet\":[{\"type\":\"contourcarpet\",\"colorbar\":{\"outlinewidth\":0,\"ticks\":\"\"}}],\"contour\":[{\"type\":\"contour\",\"colorbar\":{\"outlinewidth\":0,\"ticks\":\"\"},\"colorscale\":[[0.0,\"#0d0887\"],[0.1111111111111111,\"#46039f\"],[0.2222222222222222,\"#7201a8\"],[0.3333333333333333,\"#9c179e\"],[0.4444444444444444,\"#bd3786\"],[0.5555555555555556,\"#d8576b\"],[0.6666666666666666,\"#ed7953\"],[0.7777777777777778,\"#fb9f3a\"],[0.8888888888888888,\"#fdca26\"],[1.0,\"#f0f921\"]]}],\"surface\":[{\"type\":\"surface\",\"colorbar\":{\"outlinewidth\":0,\"ticks\":\"\"},\"colorscale\":[[0.0,\"#0d0887\"],[0.1111111111111111,\"#46039f\"],[0.2222222222222222,\"#7201a8\"],[0.3333333333333333,\"#9c179e\"],[0.4444444444444444,\"#bd3786\"],[0.5555555555555556,\"#d8576b\"],[0.6666666666666666,\"#ed7953\"],[0.7777777777777778,\"#fb9f3a\"],[0.8888888888888888,\"#fdca26\"],[1.0,\"#f0f921\"]]}],\"mesh3d\":[{\"type\":\"mesh3d\",\"colorbar\":{\"outlinewidth\":0,\"ticks\":\"\"}}],\"scatter\":[{\"fillpattern\":{\"fillmode\":\"overlay\",\"size\":10,\"solidity\":0.2},\"type\":\"scatter\"}],\"parcoords\":[{\"type\":\"parcoords\",\"line\":{\"colorbar\":{\"outlinewidth\":0,\"ticks\":\"\"}}}],\"scatterpolargl\":[{\"type\":\"scatterpolargl\",\"marker\":{\"colorbar\":{\"outlinewidth\":0,\"ticks\":\"\"}}}],\"bar\":[{\"error_x\":{\"color\":\"#2a3f5f\"},\"error_y\":{\"color\":\"#2a3f5f\"},\"marker\":{\"line\":{\"color\":\"#E5ECF6\",\"width\":0.5},\"pattern\":{\"fillmode\":\"overlay\",\"size\":10,\"solidity\":0.2}},\"type\":\"bar\"}],\"scattergeo\":[{\"type\":\"scattergeo\",\"marker\":{\"colorbar\":{\"outlinewidth\":0,\"ticks\":\"\"}}}],\"scatterpolar\":[{\"type\":\"scatterpolar\",\"marker\":{\"colorbar\":{\"outlinewidth\":0,\"ticks\":\"\"}}}],\"histogram\":[{\"marker\":{\"pattern\":{\"fillmode\":\"overlay\",\"size\":10,\"solidity\":0.2}},\"type\":\"histogram\"}],\"scattergl\":[{\"type\":\"scattergl\",\"marker\":{\"colorbar\":{\"outlinewidth\":0,\"ticks\":\"\"}}}],\"scatter3d\":[{\"type\":\"scatter3d\",\"line\":{\"colorbar\":{\"outlinewidth\":0,\"ticks\":\"\"}},\"marker\":{\"colorbar\":{\"outlinewidth\":0,\"ticks\":\"\"}}}],\"scattermapbox\":[{\"type\":\"scattermapbox\",\"marker\":{\"colorbar\":{\"outlinewidth\":0,\"ticks\":\"\"}}}],\"scatterternary\":[{\"type\":\"scatterternary\",\"marker\":{\"colorbar\":{\"outlinewidth\":0,\"ticks\":\"\"}}}],\"scattercarpet\":[{\"type\":\"scattercarpet\",\"marker\":{\"colorbar\":{\"outlinewidth\":0,\"ticks\":\"\"}}}],\"carpet\":[{\"aaxis\":{\"endlinecolor\":\"#2a3f5f\",\"gridcolor\":\"white\",\"linecolor\":\"white\",\"minorgridcolor\":\"white\",\"startlinecolor\":\"#2a3f5f\"},\"baxis\":{\"endlinecolor\":\"#2a3f5f\",\"gridcolor\":\"white\",\"linecolor\":\"white\",\"minorgridcolor\":\"white\",\"startlinecolor\":\"#2a3f5f\"},\"type\":\"carpet\"}],\"table\":[{\"cells\":{\"fill\":{\"color\":\"#EBF0F8\"},\"line\":{\"color\":\"white\"}},\"header\":{\"fill\":{\"color\":\"#C8D4E3\"},\"line\":{\"color\":\"white\"}},\"type\":\"table\"}],\"barpolar\":[{\"marker\":{\"line\":{\"color\":\"#E5ECF6\",\"width\":0.5},\"pattern\":{\"fillmode\":\"overlay\",\"size\":10,\"solidity\":0.2}},\"type\":\"barpolar\"}],\"pie\":[{\"automargin\":true,\"type\":\"pie\"}]},\"layout\":{\"autotypenumbers\":\"strict\",\"colorway\":[\"#636efa\",\"#EF553B\",\"#00cc96\",\"#ab63fa\",\"#FFA15A\",\"#19d3f3\",\"#FF6692\",\"#B6E880\",\"#FF97FF\",\"#FECB52\"],\"font\":{\"color\":\"#2a3f5f\"},\"hovermode\":\"closest\",\"hoverlabel\":{\"align\":\"left\"},\"paper_bgcolor\":\"white\",\"plot_bgcolor\":\"#E5ECF6\",\"polar\":{\"bgcolor\":\"#E5ECF6\",\"angularaxis\":{\"gridcolor\":\"white\",\"linecolor\":\"white\",\"ticks\":\"\"},\"radialaxis\":{\"gridcolor\":\"white\",\"linecolor\":\"white\",\"ticks\":\"\"}},\"ternary\":{\"bgcolor\":\"#E5ECF6\",\"aaxis\":{\"gridcolor\":\"white\",\"linecolor\":\"white\",\"ticks\":\"\"},\"baxis\":{\"gridcolor\":\"white\",\"linecolor\":\"white\",\"ticks\":\"\"},\"caxis\":{\"gridcolor\":\"white\",\"linecolor\":\"white\",\"ticks\":\"\"}},\"coloraxis\":{\"colorbar\":{\"outlinewidth\":0,\"ticks\":\"\"}},\"colorscale\":{\"sequential\":[[0.0,\"#0d0887\"],[0.1111111111111111,\"#46039f\"],[0.2222222222222222,\"#7201a8\"],[0.3333333333333333,\"#9c179e\"],[0.4444444444444444,\"#bd3786\"],[0.5555555555555556,\"#d8576b\"],[0.6666666666666666,\"#ed7953\"],[0.7777777777777778,\"#fb9f3a\"],[0.8888888888888888,\"#fdca26\"],[1.0,\"#f0f921\"]],\"sequentialminus\":[[0.0,\"#0d0887\"],[0.1111111111111111,\"#46039f\"],[0.2222222222222222,\"#7201a8\"],[0.3333333333333333,\"#9c179e\"],[0.4444444444444444,\"#bd3786\"],[0.5555555555555556,\"#d8576b\"],[0.6666666666666666,\"#ed7953\"],[0.7777777777777778,\"#fb9f3a\"],[0.8888888888888888,\"#fdca26\"],[1.0,\"#f0f921\"]],\"diverging\":[[0,\"#8e0152\"],[0.1,\"#c51b7d\"],[0.2,\"#de77ae\"],[0.3,\"#f1b6da\"],[0.4,\"#fde0ef\"],[0.5,\"#f7f7f7\"],[0.6,\"#e6f5d0\"],[0.7,\"#b8e186\"],[0.8,\"#7fbc41\"],[0.9,\"#4d9221\"],[1,\"#276419\"]]},\"xaxis\":{\"gridcolor\":\"white\",\"linecolor\":\"white\",\"ticks\":\"\",\"title\":{\"standoff\":15},\"zerolinecolor\":\"white\",\"automargin\":true,\"zerolinewidth\":2},\"yaxis\":{\"gridcolor\":\"white\",\"linecolor\":\"white\",\"ticks\":\"\",\"title\":{\"standoff\":15},\"zerolinecolor\":\"white\",\"automargin\":true,\"zerolinewidth\":2},\"scene\":{\"xaxis\":{\"backgroundcolor\":\"#E5ECF6\",\"gridcolor\":\"white\",\"linecolor\":\"white\",\"showbackground\":true,\"ticks\":\"\",\"zerolinecolor\":\"white\",\"gridwidth\":2},\"yaxis\":{\"backgroundcolor\":\"#E5ECF6\",\"gridcolor\":\"white\",\"linecolor\":\"white\",\"showbackground\":true,\"ticks\":\"\",\"zerolinecolor\":\"white\",\"gridwidth\":2},\"zaxis\":{\"backgroundcolor\":\"#E5ECF6\",\"gridcolor\":\"white\",\"linecolor\":\"white\",\"showbackground\":true,\"ticks\":\"\",\"zerolinecolor\":\"white\",\"gridwidth\":2}},\"shapedefaults\":{\"line\":{\"color\":\"#2a3f5f\"}},\"annotationdefaults\":{\"arrowcolor\":\"#2a3f5f\",\"arrowhead\":0,\"arrowwidth\":1},\"geo\":{\"bgcolor\":\"white\",\"landcolor\":\"#E5ECF6\",\"subunitcolor\":\"white\",\"showland\":true,\"showlakes\":true,\"lakecolor\":\"white\"},\"title\":{\"x\":0.05},\"mapbox\":{\"style\":\"light\"}}},\"xaxis\":{\"anchor\":\"y\",\"domain\":[0.0,1.0],\"scaleanchor\":\"y\",\"constrain\":\"domain\",\"title\":{\"text\":\"Head\"}},\"yaxis\":{\"anchor\":\"x\",\"domain\":[0.0,1.0],\"autorange\":\"reversed\",\"constrain\":\"domain\",\"title\":{\"text\":\"Layer\"}},\"coloraxis\":{\"colorscale\":[[0.0,\"rgb(103,0,31)\"],[0.1,\"rgb(178,24,43)\"],[0.2,\"rgb(214,96,77)\"],[0.3,\"rgb(244,165,130)\"],[0.4,\"rgb(253,219,199)\"],[0.5,\"rgb(247,247,247)\"],[0.6,\"rgb(209,229,240)\"],[0.7,\"rgb(146,197,222)\"],[0.8,\"rgb(67,147,195)\"],[0.9,\"rgb(33,102,172)\"],[1.0,\"rgb(5,48,97)\"]],\"cmid\":0.0},\"title\":{\"text\":\"attn_head_out Activation Patching (All Pos)\"}},                        {\"responsive\": true}                    ).then(function(){\n",
              "                            \n",
              "var gd = document.getElementById('ded74411-b209-46a8-8384-8be5e8aadea6');\n",
              "var x = new MutationObserver(function (mutations, observer) {{\n",
              "        var display = window.getComputedStyle(gd).display;\n",
              "        if (!display || display === 'none') {{\n",
              "            console.log([gd, 'removed!']);\n",
              "            Plotly.purge(gd);\n",
              "            observer.disconnect();\n",
              "        }}\n",
              "}});\n",
              "\n",
              "// Listen for the removal of the full notebook cells\n",
              "var notebookContainer = gd.closest('#notebook-container');\n",
              "if (notebookContainer) {{\n",
              "    x.observe(notebookContainer, {childList: true});\n",
              "}}\n",
              "\n",
              "// Listen for the clearing of the current output cell\n",
              "var outputEl = gd.closest('.output');\n",
              "if (outputEl) {{\n",
              "    x.observe(outputEl, {childList: true});\n",
              "}}\n",
              "\n",
              "                        })                };                            </script>        </div>\n",
              "</body>\n",
              "</html>"
            ]
          },
          "metadata": {}
        }
      ]
    },
    {
      "cell_type": "markdown",
      "source": [
        "From this graphs I have two observations:\n",
        "\n",
        "*   The name \"Bob\" seems to be taken into account later, as expected.\n",
        "*   The transition around layer 8 from token \"Bob\" to the last token doesnt seem as clean as other examples I have seen before, but I dont know why.\n",
        "\n"
      ],
      "metadata": {
        "id": "xx2BgUboWfmm"
      }
    },
    {
      "cell_type": "code",
      "source": [
        "text_a = \"In public-key cryptography, if Alice wants to send a secure message to\"\n",
        "text_b = \"In the Garden of Eden, if Alice wants to send a secure message to\"\n",
        "answer_token_indices = torch.tensor([gpt2_small.to_single_token(x) for x in [\"Bob\", \"Adam\"]], device=device)"
      ],
      "metadata": {
        "id": "EQyt2A7ykfM5"
      },
      "execution_count": null,
      "outputs": []
    },
    {
      "cell_type": "code",
      "source": [
        "tokens_a, cache_b, ioi_metric = pre_patcher(text_a, text_b, answer_token_indices=answer_token_indices)\n",
        "resid_pre_act_patch_results = patching.get_act_patch_resid_pre(gpt2_small, tokens_a, cache_b, ioi_metric)"
      ],
      "metadata": {
        "id": "8fWrsqDalwJj",
        "colab": {
          "base_uri": "https://localhost:8080/",
          "height": 49,
          "referenced_widgets": [
            "3dfd2f5fbd124500a6aba6a120b8c0de",
            "254f2abe83064b2e87ded7bf28346283",
            "adfaa53b50834e88abfcbb8e604eab2a",
            "6b317eb7276a43ae980425ce00189aaa",
            "c62c9366a0664cbca1e9cffe4a4ee21b",
            "916f0e58eaea47d2993300b9c83ad2b0",
            "ba92ccd643c142bf90c778c156bcdca5",
            "48d07f627a1948ebacadeb6cad95b4f7",
            "7bd45a8301474165b390ac8200f04a83",
            "ce761ec719aa4bafa7e3cb2f530d5961",
            "1a9765571e504e5da9970c08a59ea559"
          ]
        },
        "outputId": "21a39167-78e5-4775-b0d4-ebb8adb9cc4a"
      },
      "execution_count": null,
      "outputs": [
        {
          "output_type": "display_data",
          "data": {
            "text/plain": [
              "  0%|          | 0/192 [00:00<?, ?it/s]"
            ],
            "application/vnd.jupyter.widget-view+json": {
              "version_major": 2,
              "version_minor": 0,
              "model_id": "3dfd2f5fbd124500a6aba6a120b8c0de"
            }
          },
          "metadata": {}
        }
      ]
    },
    {
      "cell_type": "code",
      "source": [
        "imshow(resid_pre_act_patch_results ,\n",
        "       yaxis=\"Layer\",\n",
        "       xaxis=\"Position\",\n",
        "       x=[f\"{tok} {i}\" for i, tok in enumerate(gpt2_small.to_str_tokens(tokens_a))],\n",
        "       title=\"resid_pre Activation Patching\")"
      ],
      "metadata": {
        "colab": {
          "base_uri": "https://localhost:8080/",
          "height": 542
        },
        "id": "Id1jSn9zMw1C",
        "outputId": "7f7e68cd-724b-4e01-d509-21147392baa9"
      },
      "execution_count": null,
      "outputs": [
        {
          "output_type": "display_data",
          "data": {
            "text/html": [
              "<html>\n",
              "<head><meta charset=\"utf-8\" /></head>\n",
              "<body>\n",
              "    <div>            <script src=\"https://cdnjs.cloudflare.com/ajax/libs/mathjax/2.7.5/MathJax.js?config=TeX-AMS-MML_SVG\"></script><script type=\"text/javascript\">if (window.MathJax && window.MathJax.Hub && window.MathJax.Hub.Config) {window.MathJax.Hub.Config({SVG: {font: \"STIX-Web\"}});}</script>                <script type=\"text/javascript\">window.PlotlyConfig = {MathJaxConfig: 'local'};</script>\n",
              "        <script src=\"https://cdn.plot.ly/plotly-2.18.2.min.js\"></script>                <div id=\"8d37004a-b7bc-419a-927b-f1ff58d28dd9\" class=\"plotly-graph-div\" style=\"height:525px; width:100%;\"></div>            <script type=\"text/javascript\">                                    window.PLOTLYENV=window.PLOTLYENV || {};                                    if (document.getElementById(\"8d37004a-b7bc-419a-927b-f1ff58d28dd9\")) {                    Plotly.newPlot(                        \"8d37004a-b7bc-419a-927b-f1ff58d28dd9\",                        [{\"coloraxis\":\"coloraxis\",\"name\":\"0\",\"x\":[\"<|endoftext|> 0\",\"In 1\",\" the 2\",\" Garden 3\",\" of 4\",\" Eden 5\",\", 6\",\" if 7\",\" Alice 8\",\" wants 9\",\" to 10\",\" send 11\",\" a 12\",\" secure 13\",\" message 14\",\" to 15\"],\"z\":[[0.0,0.0,0.3175302743911743,0.05475262925028801,0.6141964197158813,0.909297525882721,0.0,0.0,0.0,0.0,0.0,0.0,0.0,0.0,0.0,0.0],[0.0,0.0,0.24648165702819824,-0.0231982059776783,0.5602078437805176,0.9017078280448914,0.0025190277956426144,0.01805720292031765,0.1995827853679657,0.0034585187677294016,0.0021841335110366344,0.053974591195583344,0.002765731420367956,0.07317544519901276,0.0781288892030716,0.0064272042363882065],[0.0,0.0,0.16261401772499084,-0.0807022675871849,0.5237114429473877,0.894608199596405,0.003565097227692604,0.01863136515021324,0.2914358377456665,0.00451657734811306,0.005805488210171461,0.11708908528089523,0.0027030757628381252,-0.008737513795495033,0.14949780702590942,0.06106610596179962],[0.0,0.0,0.07853052765130997,-0.06838519126176834,0.2500695288181305,0.7029470801353455,0.0015944659244269133,0.04668669030070305,0.2839221954345703,0.006224826909601688,0.010631194338202477,0.06682559847831726,0.00828422512859106,-0.05047105252742767,0.16997915506362915,0.1097094789147377],[0.0,0.0,0.0633263885974884,0.00303514557890594,0.18376857042312622,0.7198346257209778,0.03558093681931496,0.053629666566848755,0.2514706552028656,0.0044610691256821156,0.0084084989503026,0.045565977692604065,0.013704671524465084,-0.0596051961183548,0.163644477725029,0.1451830267906189],[0.0,0.0,0.03573397547006607,-0.01989675872027874,0.11013475805521011,0.7351600527763367,0.05846275016665459,0.06522853672504425,0.2497319132089615,0.002987649291753769,0.004968367982655764,0.04230799153447151,0.008310624398291111,-0.059225570410490036,0.12996292114257812,0.1640220731496811],[0.0,0.0,0.03122454509139061,-0.022918934002518654,0.11691195517778397,0.7027908563613892,0.07465313374996185,0.03696852922439575,0.20666737854480743,0.0030479419510811567,0.008249755948781967,0.031537190079689026,0.015551663003861904,-0.05117214098572731,0.07096036523580551,0.19305038452148438],[0.0,0.0,0.019481569528579712,-0.02029159851372242,0.06641317903995514,0.5846922993659973,0.0353504903614521,0.049338292330503464,0.19414688646793365,0.012944155372679234,0.007318219169974327,0.03206517919898033,0.01564844138920307,-0.01398705504834652,0.05107507482171059,0.2671578824520111],[0.0,0.0,0.019176822155714035,-0.019518516957759857,0.041868533939123154,0.5710789561271667,0.0385613813996315,0.03664914146065712,0.19264084100723267,0.012484065257012844,0.009215185418725014,0.017217431217432022,0.011207892559468746,-0.011887711472809315,0.031038133427500725,0.3217650353908539],[0.0,0.0,-0.00022260962578002363,-0.0016401176108047366,0.01755555346608162,0.43273356556892395,0.04814443364739418,0.030264994129538536,0.02626413106918335,0.005633487366139889,0.011426467448472977,0.009539473801851273,0.009360728785395622,-0.002795992884784937,0.02097914181649685,0.5416523814201355],[0.0,0.0,0.001788312685675919,0.006332096643745899,0.012298345565795898,0.2146153301000595,0.05110510438680649,0.023418163880705833,0.034083422273397446,0.004017348401248455,0.0036236026789993048,0.00044614149373956025,0.005702598951756954,0.002054153010249138,0.005404594819992781,0.6295727491378784],[0.0,0.0,0.0005664383061230183,-0.0001693493250058964,0.006613788194954395,0.03510770574212074,0.04589533805847168,0.02173037640750408,0.014424492605030537,0.003576567629352212,0.0037454557605087757,-0.002630102215334773,0.0032586774323135614,0.00041749392403289676,0.00541007099673152,0.8462987542152405]],\"type\":\"heatmap\",\"xaxis\":\"x\",\"yaxis\":\"y\",\"hovertemplate\":\"Position: %{x}<br>Layer: %{y}<br>color: %{z}<extra></extra>\"}],                        {\"template\":{\"data\":{\"histogram2dcontour\":[{\"type\":\"histogram2dcontour\",\"colorbar\":{\"outlinewidth\":0,\"ticks\":\"\"},\"colorscale\":[[0.0,\"#0d0887\"],[0.1111111111111111,\"#46039f\"],[0.2222222222222222,\"#7201a8\"],[0.3333333333333333,\"#9c179e\"],[0.4444444444444444,\"#bd3786\"],[0.5555555555555556,\"#d8576b\"],[0.6666666666666666,\"#ed7953\"],[0.7777777777777778,\"#fb9f3a\"],[0.8888888888888888,\"#fdca26\"],[1.0,\"#f0f921\"]]}],\"choropleth\":[{\"type\":\"choropleth\",\"colorbar\":{\"outlinewidth\":0,\"ticks\":\"\"}}],\"histogram2d\":[{\"type\":\"histogram2d\",\"colorbar\":{\"outlinewidth\":0,\"ticks\":\"\"},\"colorscale\":[[0.0,\"#0d0887\"],[0.1111111111111111,\"#46039f\"],[0.2222222222222222,\"#7201a8\"],[0.3333333333333333,\"#9c179e\"],[0.4444444444444444,\"#bd3786\"],[0.5555555555555556,\"#d8576b\"],[0.6666666666666666,\"#ed7953\"],[0.7777777777777778,\"#fb9f3a\"],[0.8888888888888888,\"#fdca26\"],[1.0,\"#f0f921\"]]}],\"heatmap\":[{\"type\":\"heatmap\",\"colorbar\":{\"outlinewidth\":0,\"ticks\":\"\"},\"colorscale\":[[0.0,\"#0d0887\"],[0.1111111111111111,\"#46039f\"],[0.2222222222222222,\"#7201a8\"],[0.3333333333333333,\"#9c179e\"],[0.4444444444444444,\"#bd3786\"],[0.5555555555555556,\"#d8576b\"],[0.6666666666666666,\"#ed7953\"],[0.7777777777777778,\"#fb9f3a\"],[0.8888888888888888,\"#fdca26\"],[1.0,\"#f0f921\"]]}],\"heatmapgl\":[{\"type\":\"heatmapgl\",\"colorbar\":{\"outlinewidth\":0,\"ticks\":\"\"},\"colorscale\":[[0.0,\"#0d0887\"],[0.1111111111111111,\"#46039f\"],[0.2222222222222222,\"#7201a8\"],[0.3333333333333333,\"#9c179e\"],[0.4444444444444444,\"#bd3786\"],[0.5555555555555556,\"#d8576b\"],[0.6666666666666666,\"#ed7953\"],[0.7777777777777778,\"#fb9f3a\"],[0.8888888888888888,\"#fdca26\"],[1.0,\"#f0f921\"]]}],\"contourcarpet\":[{\"type\":\"contourcarpet\",\"colorbar\":{\"outlinewidth\":0,\"ticks\":\"\"}}],\"contour\":[{\"type\":\"contour\",\"colorbar\":{\"outlinewidth\":0,\"ticks\":\"\"},\"colorscale\":[[0.0,\"#0d0887\"],[0.1111111111111111,\"#46039f\"],[0.2222222222222222,\"#7201a8\"],[0.3333333333333333,\"#9c179e\"],[0.4444444444444444,\"#bd3786\"],[0.5555555555555556,\"#d8576b\"],[0.6666666666666666,\"#ed7953\"],[0.7777777777777778,\"#fb9f3a\"],[0.8888888888888888,\"#fdca26\"],[1.0,\"#f0f921\"]]}],\"surface\":[{\"type\":\"surface\",\"colorbar\":{\"outlinewidth\":0,\"ticks\":\"\"},\"colorscale\":[[0.0,\"#0d0887\"],[0.1111111111111111,\"#46039f\"],[0.2222222222222222,\"#7201a8\"],[0.3333333333333333,\"#9c179e\"],[0.4444444444444444,\"#bd3786\"],[0.5555555555555556,\"#d8576b\"],[0.6666666666666666,\"#ed7953\"],[0.7777777777777778,\"#fb9f3a\"],[0.8888888888888888,\"#fdca26\"],[1.0,\"#f0f921\"]]}],\"mesh3d\":[{\"type\":\"mesh3d\",\"colorbar\":{\"outlinewidth\":0,\"ticks\":\"\"}}],\"scatter\":[{\"fillpattern\":{\"fillmode\":\"overlay\",\"size\":10,\"solidity\":0.2},\"type\":\"scatter\"}],\"parcoords\":[{\"type\":\"parcoords\",\"line\":{\"colorbar\":{\"outlinewidth\":0,\"ticks\":\"\"}}}],\"scatterpolargl\":[{\"type\":\"scatterpolargl\",\"marker\":{\"colorbar\":{\"outlinewidth\":0,\"ticks\":\"\"}}}],\"bar\":[{\"error_x\":{\"color\":\"#2a3f5f\"},\"error_y\":{\"color\":\"#2a3f5f\"},\"marker\":{\"line\":{\"color\":\"#E5ECF6\",\"width\":0.5},\"pattern\":{\"fillmode\":\"overlay\",\"size\":10,\"solidity\":0.2}},\"type\":\"bar\"}],\"scattergeo\":[{\"type\":\"scattergeo\",\"marker\":{\"colorbar\":{\"outlinewidth\":0,\"ticks\":\"\"}}}],\"scatterpolar\":[{\"type\":\"scatterpolar\",\"marker\":{\"colorbar\":{\"outlinewidth\":0,\"ticks\":\"\"}}}],\"histogram\":[{\"marker\":{\"pattern\":{\"fillmode\":\"overlay\",\"size\":10,\"solidity\":0.2}},\"type\":\"histogram\"}],\"scattergl\":[{\"type\":\"scattergl\",\"marker\":{\"colorbar\":{\"outlinewidth\":0,\"ticks\":\"\"}}}],\"scatter3d\":[{\"type\":\"scatter3d\",\"line\":{\"colorbar\":{\"outlinewidth\":0,\"ticks\":\"\"}},\"marker\":{\"colorbar\":{\"outlinewidth\":0,\"ticks\":\"\"}}}],\"scattermapbox\":[{\"type\":\"scattermapbox\",\"marker\":{\"colorbar\":{\"outlinewidth\":0,\"ticks\":\"\"}}}],\"scatterternary\":[{\"type\":\"scatterternary\",\"marker\":{\"colorbar\":{\"outlinewidth\":0,\"ticks\":\"\"}}}],\"scattercarpet\":[{\"type\":\"scattercarpet\",\"marker\":{\"colorbar\":{\"outlinewidth\":0,\"ticks\":\"\"}}}],\"carpet\":[{\"aaxis\":{\"endlinecolor\":\"#2a3f5f\",\"gridcolor\":\"white\",\"linecolor\":\"white\",\"minorgridcolor\":\"white\",\"startlinecolor\":\"#2a3f5f\"},\"baxis\":{\"endlinecolor\":\"#2a3f5f\",\"gridcolor\":\"white\",\"linecolor\":\"white\",\"minorgridcolor\":\"white\",\"startlinecolor\":\"#2a3f5f\"},\"type\":\"carpet\"}],\"table\":[{\"cells\":{\"fill\":{\"color\":\"#EBF0F8\"},\"line\":{\"color\":\"white\"}},\"header\":{\"fill\":{\"color\":\"#C8D4E3\"},\"line\":{\"color\":\"white\"}},\"type\":\"table\"}],\"barpolar\":[{\"marker\":{\"line\":{\"color\":\"#E5ECF6\",\"width\":0.5},\"pattern\":{\"fillmode\":\"overlay\",\"size\":10,\"solidity\":0.2}},\"type\":\"barpolar\"}],\"pie\":[{\"automargin\":true,\"type\":\"pie\"}]},\"layout\":{\"autotypenumbers\":\"strict\",\"colorway\":[\"#636efa\",\"#EF553B\",\"#00cc96\",\"#ab63fa\",\"#FFA15A\",\"#19d3f3\",\"#FF6692\",\"#B6E880\",\"#FF97FF\",\"#FECB52\"],\"font\":{\"color\":\"#2a3f5f\"},\"hovermode\":\"closest\",\"hoverlabel\":{\"align\":\"left\"},\"paper_bgcolor\":\"white\",\"plot_bgcolor\":\"#E5ECF6\",\"polar\":{\"bgcolor\":\"#E5ECF6\",\"angularaxis\":{\"gridcolor\":\"white\",\"linecolor\":\"white\",\"ticks\":\"\"},\"radialaxis\":{\"gridcolor\":\"white\",\"linecolor\":\"white\",\"ticks\":\"\"}},\"ternary\":{\"bgcolor\":\"#E5ECF6\",\"aaxis\":{\"gridcolor\":\"white\",\"linecolor\":\"white\",\"ticks\":\"\"},\"baxis\":{\"gridcolor\":\"white\",\"linecolor\":\"white\",\"ticks\":\"\"},\"caxis\":{\"gridcolor\":\"white\",\"linecolor\":\"white\",\"ticks\":\"\"}},\"coloraxis\":{\"colorbar\":{\"outlinewidth\":0,\"ticks\":\"\"}},\"colorscale\":{\"sequential\":[[0.0,\"#0d0887\"],[0.1111111111111111,\"#46039f\"],[0.2222222222222222,\"#7201a8\"],[0.3333333333333333,\"#9c179e\"],[0.4444444444444444,\"#bd3786\"],[0.5555555555555556,\"#d8576b\"],[0.6666666666666666,\"#ed7953\"],[0.7777777777777778,\"#fb9f3a\"],[0.8888888888888888,\"#fdca26\"],[1.0,\"#f0f921\"]],\"sequentialminus\":[[0.0,\"#0d0887\"],[0.1111111111111111,\"#46039f\"],[0.2222222222222222,\"#7201a8\"],[0.3333333333333333,\"#9c179e\"],[0.4444444444444444,\"#bd3786\"],[0.5555555555555556,\"#d8576b\"],[0.6666666666666666,\"#ed7953\"],[0.7777777777777778,\"#fb9f3a\"],[0.8888888888888888,\"#fdca26\"],[1.0,\"#f0f921\"]],\"diverging\":[[0,\"#8e0152\"],[0.1,\"#c51b7d\"],[0.2,\"#de77ae\"],[0.3,\"#f1b6da\"],[0.4,\"#fde0ef\"],[0.5,\"#f7f7f7\"],[0.6,\"#e6f5d0\"],[0.7,\"#b8e186\"],[0.8,\"#7fbc41\"],[0.9,\"#4d9221\"],[1,\"#276419\"]]},\"xaxis\":{\"gridcolor\":\"white\",\"linecolor\":\"white\",\"ticks\":\"\",\"title\":{\"standoff\":15},\"zerolinecolor\":\"white\",\"automargin\":true,\"zerolinewidth\":2},\"yaxis\":{\"gridcolor\":\"white\",\"linecolor\":\"white\",\"ticks\":\"\",\"title\":{\"standoff\":15},\"zerolinecolor\":\"white\",\"automargin\":true,\"zerolinewidth\":2},\"scene\":{\"xaxis\":{\"backgroundcolor\":\"#E5ECF6\",\"gridcolor\":\"white\",\"linecolor\":\"white\",\"showbackground\":true,\"ticks\":\"\",\"zerolinecolor\":\"white\",\"gridwidth\":2},\"yaxis\":{\"backgroundcolor\":\"#E5ECF6\",\"gridcolor\":\"white\",\"linecolor\":\"white\",\"showbackground\":true,\"ticks\":\"\",\"zerolinecolor\":\"white\",\"gridwidth\":2},\"zaxis\":{\"backgroundcolor\":\"#E5ECF6\",\"gridcolor\":\"white\",\"linecolor\":\"white\",\"showbackground\":true,\"ticks\":\"\",\"zerolinecolor\":\"white\",\"gridwidth\":2}},\"shapedefaults\":{\"line\":{\"color\":\"#2a3f5f\"}},\"annotationdefaults\":{\"arrowcolor\":\"#2a3f5f\",\"arrowhead\":0,\"arrowwidth\":1},\"geo\":{\"bgcolor\":\"white\",\"landcolor\":\"#E5ECF6\",\"subunitcolor\":\"white\",\"showland\":true,\"showlakes\":true,\"lakecolor\":\"white\"},\"title\":{\"x\":0.05},\"mapbox\":{\"style\":\"light\"}}},\"xaxis\":{\"anchor\":\"y\",\"domain\":[0.0,1.0],\"scaleanchor\":\"y\",\"constrain\":\"domain\",\"title\":{\"text\":\"Position\"}},\"yaxis\":{\"anchor\":\"x\",\"domain\":[0.0,1.0],\"autorange\":\"reversed\",\"constrain\":\"domain\",\"title\":{\"text\":\"Layer\"}},\"coloraxis\":{\"colorscale\":[[0.0,\"rgb(103,0,31)\"],[0.1,\"rgb(178,24,43)\"],[0.2,\"rgb(214,96,77)\"],[0.3,\"rgb(244,165,130)\"],[0.4,\"rgb(253,219,199)\"],[0.5,\"rgb(247,247,247)\"],[0.6,\"rgb(209,229,240)\"],[0.7,\"rgb(146,197,222)\"],[0.8,\"rgb(67,147,195)\"],[0.9,\"rgb(33,102,172)\"],[1.0,\"rgb(5,48,97)\"]],\"cmid\":0.0},\"title\":{\"text\":\"resid_pre Activation Patching\"}},                        {\"responsive\": true}                    ).then(function(){\n",
              "                            \n",
              "var gd = document.getElementById('8d37004a-b7bc-419a-927b-f1ff58d28dd9');\n",
              "var x = new MutationObserver(function (mutations, observer) {{\n",
              "        var display = window.getComputedStyle(gd).display;\n",
              "        if (!display || display === 'none') {{\n",
              "            console.log([gd, 'removed!']);\n",
              "            Plotly.purge(gd);\n",
              "            observer.disconnect();\n",
              "        }}\n",
              "}});\n",
              "\n",
              "// Listen for the removal of the full notebook cells\n",
              "var notebookContainer = gd.closest('#notebook-container');\n",
              "if (notebookContainer) {{\n",
              "    x.observe(notebookContainer, {childList: true});\n",
              "}}\n",
              "\n",
              "// Listen for the clearing of the current output cell\n",
              "var outputEl = gd.closest('.output');\n",
              "if (outputEl) {{\n",
              "    x.observe(outputEl, {childList: true});\n",
              "}}\n",
              "\n",
              "                        })                };                            </script>        </div>\n",
              "</body>\n",
              "</html>"
            ]
          },
          "metadata": {}
        }
      ]
    },
    {
      "cell_type": "code",
      "source": [
        "attn_head_out_all_pos_act_patch_results = patching.get_act_patch_attn_head_out_all_pos(gpt2_small, tokens_a, cache_b, ioi_metric)"
      ],
      "metadata": {
        "colab": {
          "base_uri": "https://localhost:8080/",
          "height": 49,
          "referenced_widgets": [
            "625a90d6f65a410eb33125e714eb66c3",
            "d88f23e9b0a847f495d2c055a3bca8ea",
            "ad2d86f7c7b043baaa1b72b374e68aaa",
            "94dc32f0b2324eb2800abab7af03d0dd",
            "aad26d765ca045ad923e0929abe7494f",
            "1cd5a2ed1cf74451a7debdcd01ef30b2",
            "9e218fa8e7114a7189556f9c0c450d36",
            "5e64611dd40d412197ce8b45ca1b37f2",
            "854188e1bf8141fdbce0f371100c462c",
            "5de2a4c80e8c42d2b7d783dcfdea283f",
            "84785ccb660b4a24a7997d778fbd5c2a"
          ]
        },
        "id": "pvwP40CDM0yQ",
        "outputId": "2725f4fc-4a92-460c-aa13-7baa4e3a199b"
      },
      "execution_count": null,
      "outputs": [
        {
          "output_type": "display_data",
          "data": {
            "text/plain": [
              "  0%|          | 0/144 [00:00<?, ?it/s]"
            ],
            "application/vnd.jupyter.widget-view+json": {
              "version_major": 2,
              "version_minor": 0,
              "model_id": "625a90d6f65a410eb33125e714eb66c3"
            }
          },
          "metadata": {}
        }
      ]
    },
    {
      "cell_type": "code",
      "source": [
        "imshow(attn_head_out_all_pos_act_patch_results,\n",
        "       yaxis=\"Layer\",\n",
        "       xaxis=\"Head\",\n",
        "       title=\"attn_head_out Activation Patching (All Pos)\")"
      ],
      "metadata": {
        "colab": {
          "base_uri": "https://localhost:8080/",
          "height": 542
        },
        "id": "MgNOhxU6OrBG",
        "outputId": "56b22df8-9ba1-49e1-8b1d-c89d73d43fc7"
      },
      "execution_count": null,
      "outputs": [
        {
          "output_type": "display_data",
          "data": {
            "text/html": [
              "<html>\n",
              "<head><meta charset=\"utf-8\" /></head>\n",
              "<body>\n",
              "    <div>            <script src=\"https://cdnjs.cloudflare.com/ajax/libs/mathjax/2.7.5/MathJax.js?config=TeX-AMS-MML_SVG\"></script><script type=\"text/javascript\">if (window.MathJax && window.MathJax.Hub && window.MathJax.Hub.Config) {window.MathJax.Hub.Config({SVG: {font: \"STIX-Web\"}});}</script>                <script type=\"text/javascript\">window.PlotlyConfig = {MathJaxConfig: 'local'};</script>\n",
              "        <script src=\"https://cdn.plot.ly/plotly-2.18.2.min.js\"></script>                <div id=\"11b027db-7254-43a1-868f-ac72c0de0e64\" class=\"plotly-graph-div\" style=\"height:525px; width:100%;\"></div>            <script type=\"text/javascript\">                                    window.PLOTLYENV=window.PLOTLYENV || {};                                    if (document.getElementById(\"11b027db-7254-43a1-868f-ac72c0de0e64\")) {                    Plotly.newPlot(                        \"11b027db-7254-43a1-868f-ac72c0de0e64\",                        [{\"coloraxis\":\"coloraxis\",\"name\":\"0\",\"z\":[[0.2930727005004883,-0.04617558792233467,0.04436047002673149,-0.009917713701725006,0.06256800144910812,0.030778229236602783,0.23054662346839905,0.14558963477611542,0.04028473421931267,-0.07415073364973068,0.001241241698153317,0.018425701186060905],[0.0008357947808690369,0.05438799038529396,-0.0029643625020980835,-0.028462501242756844,0.023831160739064217,0.019440587610006332,0.16689398884773254,0.28809916973114014,-0.023446407169103622,-0.003219712059944868,0.002670393092557788,-0.06868861615657806],[-0.02899245359003544,0.20304574072360992,-0.0263972245156765,0.016514210030436516,-0.03675185516476631,0.03261876478791237,-0.029783403500914574,-0.007025460712611675,0.04426928237080574,0.00031714088981971145,0.05016382783651352,-0.014225688762962818],[-0.01859072782099247,0.020065126940608025,0.003505150554701686,-0.025305215269327164,-0.04074949398636818,0.06770750880241394,0.02999529242515564,0.009608757682144642,-0.012894930317997932,0.029790205880999565,0.018000023439526558,0.028350908309221268],[0.0180056132376194,0.008173727430403233,0.03989986330270767,0.017463384196162224,0.046972014009952545,-0.006215892266482115,0.030720127746462822,-0.06105872988700867,0.005064052063971758,0.010500580072402954,-0.01839238591492176,0.06359637528657913],[-0.0002691259142011404,-0.00016318172856699675,-0.0028564007952809334,0.04111049696803093,0.01255340687930584,0.0015105406055226922,0.010660188272595406,0.045856256037950516,-0.0014339933404698968,-0.03174147009849548,0.2164335548877716,-0.10981132835149765],[-0.02630678564310074,0.0021564082708209753,-0.027987655252218246,0.00958927534520626,0.28520211577415466,-0.0017118806717917323,-0.056679800152778625,0.02941957302391529,0.04100651293992996,0.00020768059766851366,-0.003915958106517792,0.04317917674779892],[0.024913199245929718,-0.0010614017955958843,0.00011516676022438332,0.043896693736314774,0.016369184479117393,0.07353968173265457,-0.03055584989488125,-0.00554264523088932,0.0009178179898299277,-0.0014501328114420176,0.000817753141745925,0.004700452089309692],[0.006772358901798725,0.00014456367352977395,0.02465444803237915,0.041276849806308746,0.02280641905963421,0.03392491117119789,0.07586878538131714,0.011570051312446594,0.1720731407403946,0.005055059678852558,-0.03569333627820015,0.05741783604025841],[0.06350455433130264,0.0004400315519887954,0.10533510148525238,0.04148372262716293,-0.0012444120366126299,-0.05773751065135002,5.7929224567487836e-05,-0.040405143052339554,0.1016201376914978,0.005796842277050018,0.010933233425021172,-0.006177849136292934],[0.11741816252470016,0.0024835211224853992,0.00433247210457921,0.01166175864636898,0.02092784084379673,0.00027419833349995315,0.06464751809835434,0.03444650396704674,0.0015547513030469418,0.002639209385961294,0.02815723419189453,0.006872769445180893],[0.005640808027237654,0.12182591110467911,-0.02026410400867462,0.09331464767456055,-0.0077583082020282745,-0.0004040058993268758,0.008691055700182915,-0.00471019372344017,0.0027233653236180544,0.005417967680841684,-0.009482408873736858,0.016221221536397934]],\"type\":\"heatmap\",\"xaxis\":\"x\",\"yaxis\":\"y\",\"hovertemplate\":\"Head: %{x}<br>Layer: %{y}<br>color: %{z}<extra></extra>\"}],                        {\"template\":{\"data\":{\"histogram2dcontour\":[{\"type\":\"histogram2dcontour\",\"colorbar\":{\"outlinewidth\":0,\"ticks\":\"\"},\"colorscale\":[[0.0,\"#0d0887\"],[0.1111111111111111,\"#46039f\"],[0.2222222222222222,\"#7201a8\"],[0.3333333333333333,\"#9c179e\"],[0.4444444444444444,\"#bd3786\"],[0.5555555555555556,\"#d8576b\"],[0.6666666666666666,\"#ed7953\"],[0.7777777777777778,\"#fb9f3a\"],[0.8888888888888888,\"#fdca26\"],[1.0,\"#f0f921\"]]}],\"choropleth\":[{\"type\":\"choropleth\",\"colorbar\":{\"outlinewidth\":0,\"ticks\":\"\"}}],\"histogram2d\":[{\"type\":\"histogram2d\",\"colorbar\":{\"outlinewidth\":0,\"ticks\":\"\"},\"colorscale\":[[0.0,\"#0d0887\"],[0.1111111111111111,\"#46039f\"],[0.2222222222222222,\"#7201a8\"],[0.3333333333333333,\"#9c179e\"],[0.4444444444444444,\"#bd3786\"],[0.5555555555555556,\"#d8576b\"],[0.6666666666666666,\"#ed7953\"],[0.7777777777777778,\"#fb9f3a\"],[0.8888888888888888,\"#fdca26\"],[1.0,\"#f0f921\"]]}],\"heatmap\":[{\"type\":\"heatmap\",\"colorbar\":{\"outlinewidth\":0,\"ticks\":\"\"},\"colorscale\":[[0.0,\"#0d0887\"],[0.1111111111111111,\"#46039f\"],[0.2222222222222222,\"#7201a8\"],[0.3333333333333333,\"#9c179e\"],[0.4444444444444444,\"#bd3786\"],[0.5555555555555556,\"#d8576b\"],[0.6666666666666666,\"#ed7953\"],[0.7777777777777778,\"#fb9f3a\"],[0.8888888888888888,\"#fdca26\"],[1.0,\"#f0f921\"]]}],\"heatmapgl\":[{\"type\":\"heatmapgl\",\"colorbar\":{\"outlinewidth\":0,\"ticks\":\"\"},\"colorscale\":[[0.0,\"#0d0887\"],[0.1111111111111111,\"#46039f\"],[0.2222222222222222,\"#7201a8\"],[0.3333333333333333,\"#9c179e\"],[0.4444444444444444,\"#bd3786\"],[0.5555555555555556,\"#d8576b\"],[0.6666666666666666,\"#ed7953\"],[0.7777777777777778,\"#fb9f3a\"],[0.8888888888888888,\"#fdca26\"],[1.0,\"#f0f921\"]]}],\"contourcarpet\":[{\"type\":\"contourcarpet\",\"colorbar\":{\"outlinewidth\":0,\"ticks\":\"\"}}],\"contour\":[{\"type\":\"contour\",\"colorbar\":{\"outlinewidth\":0,\"ticks\":\"\"},\"colorscale\":[[0.0,\"#0d0887\"],[0.1111111111111111,\"#46039f\"],[0.2222222222222222,\"#7201a8\"],[0.3333333333333333,\"#9c179e\"],[0.4444444444444444,\"#bd3786\"],[0.5555555555555556,\"#d8576b\"],[0.6666666666666666,\"#ed7953\"],[0.7777777777777778,\"#fb9f3a\"],[0.8888888888888888,\"#fdca26\"],[1.0,\"#f0f921\"]]}],\"surface\":[{\"type\":\"surface\",\"colorbar\":{\"outlinewidth\":0,\"ticks\":\"\"},\"colorscale\":[[0.0,\"#0d0887\"],[0.1111111111111111,\"#46039f\"],[0.2222222222222222,\"#7201a8\"],[0.3333333333333333,\"#9c179e\"],[0.4444444444444444,\"#bd3786\"],[0.5555555555555556,\"#d8576b\"],[0.6666666666666666,\"#ed7953\"],[0.7777777777777778,\"#fb9f3a\"],[0.8888888888888888,\"#fdca26\"],[1.0,\"#f0f921\"]]}],\"mesh3d\":[{\"type\":\"mesh3d\",\"colorbar\":{\"outlinewidth\":0,\"ticks\":\"\"}}],\"scatter\":[{\"fillpattern\":{\"fillmode\":\"overlay\",\"size\":10,\"solidity\":0.2},\"type\":\"scatter\"}],\"parcoords\":[{\"type\":\"parcoords\",\"line\":{\"colorbar\":{\"outlinewidth\":0,\"ticks\":\"\"}}}],\"scatterpolargl\":[{\"type\":\"scatterpolargl\",\"marker\":{\"colorbar\":{\"outlinewidth\":0,\"ticks\":\"\"}}}],\"bar\":[{\"error_x\":{\"color\":\"#2a3f5f\"},\"error_y\":{\"color\":\"#2a3f5f\"},\"marker\":{\"line\":{\"color\":\"#E5ECF6\",\"width\":0.5},\"pattern\":{\"fillmode\":\"overlay\",\"size\":10,\"solidity\":0.2}},\"type\":\"bar\"}],\"scattergeo\":[{\"type\":\"scattergeo\",\"marker\":{\"colorbar\":{\"outlinewidth\":0,\"ticks\":\"\"}}}],\"scatterpolar\":[{\"type\":\"scatterpolar\",\"marker\":{\"colorbar\":{\"outlinewidth\":0,\"ticks\":\"\"}}}],\"histogram\":[{\"marker\":{\"pattern\":{\"fillmode\":\"overlay\",\"size\":10,\"solidity\":0.2}},\"type\":\"histogram\"}],\"scattergl\":[{\"type\":\"scattergl\",\"marker\":{\"colorbar\":{\"outlinewidth\":0,\"ticks\":\"\"}}}],\"scatter3d\":[{\"type\":\"scatter3d\",\"line\":{\"colorbar\":{\"outlinewidth\":0,\"ticks\":\"\"}},\"marker\":{\"colorbar\":{\"outlinewidth\":0,\"ticks\":\"\"}}}],\"scattermapbox\":[{\"type\":\"scattermapbox\",\"marker\":{\"colorbar\":{\"outlinewidth\":0,\"ticks\":\"\"}}}],\"scatterternary\":[{\"type\":\"scatterternary\",\"marker\":{\"colorbar\":{\"outlinewidth\":0,\"ticks\":\"\"}}}],\"scattercarpet\":[{\"type\":\"scattercarpet\",\"marker\":{\"colorbar\":{\"outlinewidth\":0,\"ticks\":\"\"}}}],\"carpet\":[{\"aaxis\":{\"endlinecolor\":\"#2a3f5f\",\"gridcolor\":\"white\",\"linecolor\":\"white\",\"minorgridcolor\":\"white\",\"startlinecolor\":\"#2a3f5f\"},\"baxis\":{\"endlinecolor\":\"#2a3f5f\",\"gridcolor\":\"white\",\"linecolor\":\"white\",\"minorgridcolor\":\"white\",\"startlinecolor\":\"#2a3f5f\"},\"type\":\"carpet\"}],\"table\":[{\"cells\":{\"fill\":{\"color\":\"#EBF0F8\"},\"line\":{\"color\":\"white\"}},\"header\":{\"fill\":{\"color\":\"#C8D4E3\"},\"line\":{\"color\":\"white\"}},\"type\":\"table\"}],\"barpolar\":[{\"marker\":{\"line\":{\"color\":\"#E5ECF6\",\"width\":0.5},\"pattern\":{\"fillmode\":\"overlay\",\"size\":10,\"solidity\":0.2}},\"type\":\"barpolar\"}],\"pie\":[{\"automargin\":true,\"type\":\"pie\"}]},\"layout\":{\"autotypenumbers\":\"strict\",\"colorway\":[\"#636efa\",\"#EF553B\",\"#00cc96\",\"#ab63fa\",\"#FFA15A\",\"#19d3f3\",\"#FF6692\",\"#B6E880\",\"#FF97FF\",\"#FECB52\"],\"font\":{\"color\":\"#2a3f5f\"},\"hovermode\":\"closest\",\"hoverlabel\":{\"align\":\"left\"},\"paper_bgcolor\":\"white\",\"plot_bgcolor\":\"#E5ECF6\",\"polar\":{\"bgcolor\":\"#E5ECF6\",\"angularaxis\":{\"gridcolor\":\"white\",\"linecolor\":\"white\",\"ticks\":\"\"},\"radialaxis\":{\"gridcolor\":\"white\",\"linecolor\":\"white\",\"ticks\":\"\"}},\"ternary\":{\"bgcolor\":\"#E5ECF6\",\"aaxis\":{\"gridcolor\":\"white\",\"linecolor\":\"white\",\"ticks\":\"\"},\"baxis\":{\"gridcolor\":\"white\",\"linecolor\":\"white\",\"ticks\":\"\"},\"caxis\":{\"gridcolor\":\"white\",\"linecolor\":\"white\",\"ticks\":\"\"}},\"coloraxis\":{\"colorbar\":{\"outlinewidth\":0,\"ticks\":\"\"}},\"colorscale\":{\"sequential\":[[0.0,\"#0d0887\"],[0.1111111111111111,\"#46039f\"],[0.2222222222222222,\"#7201a8\"],[0.3333333333333333,\"#9c179e\"],[0.4444444444444444,\"#bd3786\"],[0.5555555555555556,\"#d8576b\"],[0.6666666666666666,\"#ed7953\"],[0.7777777777777778,\"#fb9f3a\"],[0.8888888888888888,\"#fdca26\"],[1.0,\"#f0f921\"]],\"sequentialminus\":[[0.0,\"#0d0887\"],[0.1111111111111111,\"#46039f\"],[0.2222222222222222,\"#7201a8\"],[0.3333333333333333,\"#9c179e\"],[0.4444444444444444,\"#bd3786\"],[0.5555555555555556,\"#d8576b\"],[0.6666666666666666,\"#ed7953\"],[0.7777777777777778,\"#fb9f3a\"],[0.8888888888888888,\"#fdca26\"],[1.0,\"#f0f921\"]],\"diverging\":[[0,\"#8e0152\"],[0.1,\"#c51b7d\"],[0.2,\"#de77ae\"],[0.3,\"#f1b6da\"],[0.4,\"#fde0ef\"],[0.5,\"#f7f7f7\"],[0.6,\"#e6f5d0\"],[0.7,\"#b8e186\"],[0.8,\"#7fbc41\"],[0.9,\"#4d9221\"],[1,\"#276419\"]]},\"xaxis\":{\"gridcolor\":\"white\",\"linecolor\":\"white\",\"ticks\":\"\",\"title\":{\"standoff\":15},\"zerolinecolor\":\"white\",\"automargin\":true,\"zerolinewidth\":2},\"yaxis\":{\"gridcolor\":\"white\",\"linecolor\":\"white\",\"ticks\":\"\",\"title\":{\"standoff\":15},\"zerolinecolor\":\"white\",\"automargin\":true,\"zerolinewidth\":2},\"scene\":{\"xaxis\":{\"backgroundcolor\":\"#E5ECF6\",\"gridcolor\":\"white\",\"linecolor\":\"white\",\"showbackground\":true,\"ticks\":\"\",\"zerolinecolor\":\"white\",\"gridwidth\":2},\"yaxis\":{\"backgroundcolor\":\"#E5ECF6\",\"gridcolor\":\"white\",\"linecolor\":\"white\",\"showbackground\":true,\"ticks\":\"\",\"zerolinecolor\":\"white\",\"gridwidth\":2},\"zaxis\":{\"backgroundcolor\":\"#E5ECF6\",\"gridcolor\":\"white\",\"linecolor\":\"white\",\"showbackground\":true,\"ticks\":\"\",\"zerolinecolor\":\"white\",\"gridwidth\":2}},\"shapedefaults\":{\"line\":{\"color\":\"#2a3f5f\"}},\"annotationdefaults\":{\"arrowcolor\":\"#2a3f5f\",\"arrowhead\":0,\"arrowwidth\":1},\"geo\":{\"bgcolor\":\"white\",\"landcolor\":\"#E5ECF6\",\"subunitcolor\":\"white\",\"showland\":true,\"showlakes\":true,\"lakecolor\":\"white\"},\"title\":{\"x\":0.05},\"mapbox\":{\"style\":\"light\"}}},\"xaxis\":{\"anchor\":\"y\",\"domain\":[0.0,1.0],\"scaleanchor\":\"y\",\"constrain\":\"domain\",\"title\":{\"text\":\"Head\"}},\"yaxis\":{\"anchor\":\"x\",\"domain\":[0.0,1.0],\"autorange\":\"reversed\",\"constrain\":\"domain\",\"title\":{\"text\":\"Layer\"}},\"coloraxis\":{\"colorscale\":[[0.0,\"rgb(103,0,31)\"],[0.1,\"rgb(178,24,43)\"],[0.2,\"rgb(214,96,77)\"],[0.3,\"rgb(244,165,130)\"],[0.4,\"rgb(253,219,199)\"],[0.5,\"rgb(247,247,247)\"],[0.6,\"rgb(209,229,240)\"],[0.7,\"rgb(146,197,222)\"],[0.8,\"rgb(67,147,195)\"],[0.9,\"rgb(33,102,172)\"],[1.0,\"rgb(5,48,97)\"]],\"cmid\":0.0},\"title\":{\"text\":\"attn_head_out Activation Patching (All Pos)\"}},                        {\"responsive\": true}                    ).then(function(){\n",
              "                            \n",
              "var gd = document.getElementById('11b027db-7254-43a1-868f-ac72c0de0e64');\n",
              "var x = new MutationObserver(function (mutations, observer) {{\n",
              "        var display = window.getComputedStyle(gd).display;\n",
              "        if (!display || display === 'none') {{\n",
              "            console.log([gd, 'removed!']);\n",
              "            Plotly.purge(gd);\n",
              "            observer.disconnect();\n",
              "        }}\n",
              "}});\n",
              "\n",
              "// Listen for the removal of the full notebook cells\n",
              "var notebookContainer = gd.closest('#notebook-container');\n",
              "if (notebookContainer) {{\n",
              "    x.observe(notebookContainer, {childList: true});\n",
              "}}\n",
              "\n",
              "// Listen for the clearing of the current output cell\n",
              "var outputEl = gd.closest('.output');\n",
              "if (outputEl) {{\n",
              "    x.observe(outputEl, {childList: true});\n",
              "}}\n",
              "\n",
              "                        })                };                            </script>        </div>\n",
              "</body>\n",
              "</html>"
            ]
          },
          "metadata": {}
        }
      ]
    },
    {
      "cell_type": "markdown",
      "source": [
        "This two graphs look more confusing and I dont know what most of it means. But it does look a bit as if the context change has an effect earlier.\n",
        "\n",
        "Here concludes my exploration of this problem, as its been already more than 10 hours. Its been lots of fun.\n",
        "\n",
        "I am still not sure if there is an easily understandable circuit underneath, but there are many things to try. If I continue with it, what I would do is to gain a better understanding of the IOI paper, and try the same approach.\n",
        "\n"
      ],
      "metadata": {
        "id": "mCevRW3EYlUY"
      }
    },
    {
      "cell_type": "code",
      "source": [],
      "metadata": {
        "id": "KKjmi8BtZvmF"
      },
      "execution_count": null,
      "outputs": []
    }
  ]
}